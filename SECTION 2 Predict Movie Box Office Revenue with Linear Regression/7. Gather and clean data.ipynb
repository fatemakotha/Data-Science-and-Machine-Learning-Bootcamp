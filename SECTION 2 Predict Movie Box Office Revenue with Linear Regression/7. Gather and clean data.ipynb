{
 "cells": [
  {
   "cell_type": "code",
   "execution_count": 73,
   "metadata": {
    "collapsed": true,
    "ExecuteTime": {
     "end_time": "2023-05-07T04:25:55.520972800Z",
     "start_time": "2023-05-07T04:25:55.497951400Z"
    }
   },
   "outputs": [],
   "source": [
    "import pandas as pd\n",
    "import matplotlib.pyplot as plt"
   ]
  },
  {
   "cell_type": "code",
   "execution_count": 74,
   "outputs": [
    {
     "data": {
      "text/plain": "      Rank Release Date                     Movie Title Production Budget ($)  \\\n0     5293     8/2/1915           The Birth of a Nation              $110,000   \n1     5140     5/9/1916                     Intolerance              $385,907   \n2     5230   12/24/1916    20,000 Leagues Under the Sea              $200,000   \n3     5299    9/17/1920  Over the Hill to the Poorhouse              $100,000   \n4     5222     1/1/1925                  The Big Parade              $245,000   \n...    ...          ...                             ...                   ...   \n5386  2950    10/8/2018                             Meg           $15,000,000   \n5387   126   12/18/2018                         Aquaman          $160,000,000   \n5388    96   12/31/2020                     Singularity          $175,000,000   \n5389  1119   12/31/2020          Hannibal the Conqueror           $50,000,000   \n5390  2517   12/31/2020  Story of Bonnie and Clyde, The           $20,000,000   \n\n     Worldwide Gross ($) Domestic Gross ($)  \n0            $11,000,000        $10,000,000  \n1                     $0                 $0  \n2             $8,000,000         $8,000,000  \n3             $3,000,000         $3,000,000  \n4            $22,000,000        $11,000,000  \n...                  ...                ...  \n5386                  $0                 $0  \n5387                  $0                 $0  \n5388                  $0                 $0  \n5389                  $0                 $0  \n5390                  $0                 $0  \n\n[5391 rows x 6 columns]",
      "text/html": "<div>\n<style scoped>\n    .dataframe tbody tr th:only-of-type {\n        vertical-align: middle;\n    }\n\n    .dataframe tbody tr th {\n        vertical-align: top;\n    }\n\n    .dataframe thead th {\n        text-align: right;\n    }\n</style>\n<table border=\"1\" class=\"dataframe\">\n  <thead>\n    <tr style=\"text-align: right;\">\n      <th></th>\n      <th>Rank</th>\n      <th>Release Date</th>\n      <th>Movie Title</th>\n      <th>Production Budget ($)</th>\n      <th>Worldwide Gross ($)</th>\n      <th>Domestic Gross ($)</th>\n    </tr>\n  </thead>\n  <tbody>\n    <tr>\n      <th>0</th>\n      <td>5293</td>\n      <td>8/2/1915</td>\n      <td>The Birth of a Nation</td>\n      <td>$110,000</td>\n      <td>$11,000,000</td>\n      <td>$10,000,000</td>\n    </tr>\n    <tr>\n      <th>1</th>\n      <td>5140</td>\n      <td>5/9/1916</td>\n      <td>Intolerance</td>\n      <td>$385,907</td>\n      <td>$0</td>\n      <td>$0</td>\n    </tr>\n    <tr>\n      <th>2</th>\n      <td>5230</td>\n      <td>12/24/1916</td>\n      <td>20,000 Leagues Under the Sea</td>\n      <td>$200,000</td>\n      <td>$8,000,000</td>\n      <td>$8,000,000</td>\n    </tr>\n    <tr>\n      <th>3</th>\n      <td>5299</td>\n      <td>9/17/1920</td>\n      <td>Over the Hill to the Poorhouse</td>\n      <td>$100,000</td>\n      <td>$3,000,000</td>\n      <td>$3,000,000</td>\n    </tr>\n    <tr>\n      <th>4</th>\n      <td>5222</td>\n      <td>1/1/1925</td>\n      <td>The Big Parade</td>\n      <td>$245,000</td>\n      <td>$22,000,000</td>\n      <td>$11,000,000</td>\n    </tr>\n    <tr>\n      <th>...</th>\n      <td>...</td>\n      <td>...</td>\n      <td>...</td>\n      <td>...</td>\n      <td>...</td>\n      <td>...</td>\n    </tr>\n    <tr>\n      <th>5386</th>\n      <td>2950</td>\n      <td>10/8/2018</td>\n      <td>Meg</td>\n      <td>$15,000,000</td>\n      <td>$0</td>\n      <td>$0</td>\n    </tr>\n    <tr>\n      <th>5387</th>\n      <td>126</td>\n      <td>12/18/2018</td>\n      <td>Aquaman</td>\n      <td>$160,000,000</td>\n      <td>$0</td>\n      <td>$0</td>\n    </tr>\n    <tr>\n      <th>5388</th>\n      <td>96</td>\n      <td>12/31/2020</td>\n      <td>Singularity</td>\n      <td>$175,000,000</td>\n      <td>$0</td>\n      <td>$0</td>\n    </tr>\n    <tr>\n      <th>5389</th>\n      <td>1119</td>\n      <td>12/31/2020</td>\n      <td>Hannibal the Conqueror</td>\n      <td>$50,000,000</td>\n      <td>$0</td>\n      <td>$0</td>\n    </tr>\n    <tr>\n      <th>5390</th>\n      <td>2517</td>\n      <td>12/31/2020</td>\n      <td>Story of Bonnie and Clyde, The</td>\n      <td>$20,000,000</td>\n      <td>$0</td>\n      <td>$0</td>\n    </tr>\n  </tbody>\n</table>\n<p>5391 rows × 6 columns</p>\n</div>"
     },
     "execution_count": 74,
     "metadata": {},
     "output_type": "execute_result"
    }
   ],
   "source": [
    "#Read the csv file\n",
    "data = pd.read_csv(\"cost_revenue_dirty.csv\")\n",
    "data"
   ],
   "metadata": {
    "collapsed": false,
    "ExecuteTime": {
     "end_time": "2023-05-07T04:25:56.160554Z",
     "start_time": "2023-05-07T04:25:56.126523500Z"
    }
   }
  },
  {
   "cell_type": "code",
   "execution_count": 75,
   "outputs": [
    {
     "data": {
      "text/plain": "Index(['Rank', 'Release Date', 'Movie Title', 'Production Budget ($)',\n       'Worldwide Gross ($)', 'Domestic Gross ($)'],\n      dtype='object')"
     },
     "execution_count": 75,
     "metadata": {},
     "output_type": "execute_result"
    }
   ],
   "source": [
    "#Print the column names\n",
    "data.columns"
   ],
   "metadata": {
    "collapsed": false,
    "ExecuteTime": {
     "end_time": "2023-05-07T04:25:56.815150800Z",
     "start_time": "2023-05-07T04:25:56.808144300Z"
    }
   }
  },
  {
   "cell_type": "code",
   "execution_count": 76,
   "outputs": [],
   "source": [
    "#Drop unnecessary data columns\n",
    "data = data.drop('Rank', axis=1) #Axis 1 is for columns\n",
    "data = data.drop('Release Date', axis=1)\n",
    "data = data.drop('Domestic Gross ($)', axis=1)\n",
    "data = data.drop('Movie Title', axis=1)"
   ],
   "metadata": {
    "collapsed": false,
    "ExecuteTime": {
     "end_time": "2023-05-07T04:25:57.437716800Z",
     "start_time": "2023-05-07T04:25:57.414697400Z"
    }
   }
  },
  {
   "cell_type": "code",
   "execution_count": 77,
   "outputs": [
    {
     "data": {
      "text/plain": "<bound method NDFrame.head of      Production Budget ($) Worldwide Gross ($)\n0                 $110,000         $11,000,000\n1                 $385,907                  $0\n2                 $200,000          $8,000,000\n3                 $100,000          $3,000,000\n4                 $245,000         $22,000,000\n...                    ...                 ...\n5386           $15,000,000                  $0\n5387          $160,000,000                  $0\n5388          $175,000,000                  $0\n5389           $50,000,000                  $0\n5390           $20,000,000                  $0\n\n[5391 rows x 2 columns]>"
     },
     "execution_count": 77,
     "metadata": {},
     "output_type": "execute_result"
    }
   ],
   "source": [
    "#Print data head\n",
    "data.head"
   ],
   "metadata": {
    "collapsed": false,
    "ExecuteTime": {
     "end_time": "2023-05-07T04:25:57.791037800Z",
     "start_time": "2023-05-07T04:25:57.777025200Z"
    }
   }
  },
  {
   "cell_type": "code",
   "execution_count": 78,
   "outputs": [
    {
     "data": {
      "text/plain": "       Production Budget ($) Worldwide Gross ($)\ncount                   5391                5391\nunique                   484                4969\ntop              $20,000,000                  $0\nfreq                     216                 357",
      "text/html": "<div>\n<style scoped>\n    .dataframe tbody tr th:only-of-type {\n        vertical-align: middle;\n    }\n\n    .dataframe tbody tr th {\n        vertical-align: top;\n    }\n\n    .dataframe thead th {\n        text-align: right;\n    }\n</style>\n<table border=\"1\" class=\"dataframe\">\n  <thead>\n    <tr style=\"text-align: right;\">\n      <th></th>\n      <th>Production Budget ($)</th>\n      <th>Worldwide Gross ($)</th>\n    </tr>\n  </thead>\n  <tbody>\n    <tr>\n      <th>count</th>\n      <td>5391</td>\n      <td>5391</td>\n    </tr>\n    <tr>\n      <th>unique</th>\n      <td>484</td>\n      <td>4969</td>\n    </tr>\n    <tr>\n      <th>top</th>\n      <td>$20,000,000</td>\n      <td>$0</td>\n    </tr>\n    <tr>\n      <th>freq</th>\n      <td>216</td>\n      <td>357</td>\n    </tr>\n  </tbody>\n</table>\n</div>"
     },
     "execution_count": 78,
     "metadata": {},
     "output_type": "execute_result"
    }
   ],
   "source": [
    "#Print description of data\n",
    "##Shows how many rows, columns, entries, unique entries etc a dataframe has\n",
    "data.describe(include='all')"
   ],
   "metadata": {
    "collapsed": false,
    "ExecuteTime": {
     "end_time": "2023-05-07T04:25:58.209417900Z",
     "start_time": "2023-05-07T04:25:58.180392600Z"
    }
   }
  },
  {
   "cell_type": "code",
   "execution_count": 79,
   "outputs": [],
   "source": [
    "#Rename data columns\n",
    "data.rename(columns={\"Production Budget ($)\":\"production_budget_usd\"}, inplace=True)\n",
    "data.rename(columns={\"Worldwide Gross ($)\":\"worldwide_gross_usd\"}, inplace=True)"
   ],
   "metadata": {
    "collapsed": false,
    "ExecuteTime": {
     "end_time": "2023-05-07T04:25:58.590765900Z",
     "start_time": "2023-05-07T04:25:58.571748700Z"
    }
   }
  },
  {
   "cell_type": "code",
   "execution_count": 80,
   "outputs": [
    {
     "data": {
      "text/plain": "  production_budget_usd worldwide_gross_usd\n0              $110,000         $11,000,000\n1              $385,907                  $0\n2              $200,000          $8,000,000\n3              $100,000          $3,000,000\n4              $245,000         $22,000,000",
      "text/html": "<div>\n<style scoped>\n    .dataframe tbody tr th:only-of-type {\n        vertical-align: middle;\n    }\n\n    .dataframe tbody tr th {\n        vertical-align: top;\n    }\n\n    .dataframe thead th {\n        text-align: right;\n    }\n</style>\n<table border=\"1\" class=\"dataframe\">\n  <thead>\n    <tr style=\"text-align: right;\">\n      <th></th>\n      <th>production_budget_usd</th>\n      <th>worldwide_gross_usd</th>\n    </tr>\n  </thead>\n  <tbody>\n    <tr>\n      <th>0</th>\n      <td>$110,000</td>\n      <td>$11,000,000</td>\n    </tr>\n    <tr>\n      <th>1</th>\n      <td>$385,907</td>\n      <td>$0</td>\n    </tr>\n    <tr>\n      <th>2</th>\n      <td>$200,000</td>\n      <td>$8,000,000</td>\n    </tr>\n    <tr>\n      <th>3</th>\n      <td>$100,000</td>\n      <td>$3,000,000</td>\n    </tr>\n    <tr>\n      <th>4</th>\n      <td>$245,000</td>\n      <td>$22,000,000</td>\n    </tr>\n  </tbody>\n</table>\n</div>"
     },
     "execution_count": 80,
     "metadata": {},
     "output_type": "execute_result"
    }
   ],
   "source": [
    "data.head()"
   ],
   "metadata": {
    "collapsed": false,
    "ExecuteTime": {
     "end_time": "2023-05-07T04:25:59.122248700Z",
     "start_time": "2023-05-07T04:25:59.108237200Z"
    }
   }
  },
  {
   "cell_type": "markdown",
   "source": [],
   "metadata": {
    "collapsed": false
   }
  },
  {
   "cell_type": "markdown",
   "source": [
    "***CONVERT SERIES TO DATAFRAME***"
   ],
   "metadata": {
    "collapsed": false
   }
  },
  {
   "cell_type": "code",
   "execution_count": 81,
   "outputs": [],
   "source": [
    "y = data.worldwide_gross_usd\n",
    "y = y.to_frame()"
   ],
   "metadata": {
    "collapsed": false,
    "ExecuteTime": {
     "end_time": "2023-05-07T04:26:00.231257400Z",
     "start_time": "2023-05-07T04:26:00.223249700Z"
    }
   }
  },
  {
   "cell_type": "code",
   "execution_count": 82,
   "outputs": [
    {
     "data": {
      "text/plain": "pandas.core.frame.DataFrame"
     },
     "execution_count": 82,
     "metadata": {},
     "output_type": "execute_result"
    }
   ],
   "source": [
    "#Check type of data\n",
    "type(X)"
   ],
   "metadata": {
    "collapsed": false,
    "ExecuteTime": {
     "end_time": "2023-05-07T04:26:00.631621500Z",
     "start_time": "2023-05-07T04:26:00.619612300Z"
    }
   }
  },
  {
   "cell_type": "code",
   "execution_count": 83,
   "outputs": [
    {
     "data": {
      "text/plain": "pandas.core.frame.DataFrame"
     },
     "execution_count": 83,
     "metadata": {},
     "output_type": "execute_result"
    }
   ],
   "source": [
    "type(y)"
   ],
   "metadata": {
    "collapsed": false,
    "ExecuteTime": {
     "end_time": "2023-05-07T04:26:01.045998300Z",
     "start_time": "2023-05-07T04:26:01.041994700Z"
    }
   }
  },
  {
   "cell_type": "markdown",
   "source": [
    "***REPLACE \"$\" FROM COLUMNS:***"
   ],
   "metadata": {
    "collapsed": false
   }
  },
  {
   "cell_type": "code",
   "execution_count": 84,
   "outputs": [],
   "source": [
    "#Second, if regex=True then all of the strings in both lists will be interpreted as regexs otherwise they will match directly\n",
    "data[\"production_budget_usd\"] = data['production_budget_usd'].str.replace('\\$|,','', regex=True)"
   ],
   "metadata": {
    "collapsed": false,
    "ExecuteTime": {
     "end_time": "2023-05-07T04:26:01.989858600Z",
     "start_time": "2023-05-07T04:26:01.975846Z"
    }
   }
  },
  {
   "cell_type": "code",
   "execution_count": 85,
   "outputs": [],
   "source": [
    "data['worldwide_gross_usd'] = data['worldwide_gross_usd'].str.replace('\\$|,','', regex=True)"
   ],
   "metadata": {
    "collapsed": false,
    "ExecuteTime": {
     "end_time": "2023-05-07T04:26:02.453278700Z",
     "start_time": "2023-05-07T04:26:02.441267800Z"
    }
   }
  },
  {
   "cell_type": "code",
   "execution_count": 86,
   "outputs": [
    {
     "data": {
      "text/plain": "     production_budget_usd worldwide_gross_usd\n0                   110000            11000000\n1                   385907                   0\n2                   200000             8000000\n3                   100000             3000000\n4                   245000            22000000\n...                    ...                 ...\n5386              15000000                   0\n5387             160000000                   0\n5388             175000000                   0\n5389              50000000                   0\n5390              20000000                   0\n\n[5391 rows x 2 columns]",
      "text/html": "<div>\n<style scoped>\n    .dataframe tbody tr th:only-of-type {\n        vertical-align: middle;\n    }\n\n    .dataframe tbody tr th {\n        vertical-align: top;\n    }\n\n    .dataframe thead th {\n        text-align: right;\n    }\n</style>\n<table border=\"1\" class=\"dataframe\">\n  <thead>\n    <tr style=\"text-align: right;\">\n      <th></th>\n      <th>production_budget_usd</th>\n      <th>worldwide_gross_usd</th>\n    </tr>\n  </thead>\n  <tbody>\n    <tr>\n      <th>0</th>\n      <td>110000</td>\n      <td>11000000</td>\n    </tr>\n    <tr>\n      <th>1</th>\n      <td>385907</td>\n      <td>0</td>\n    </tr>\n    <tr>\n      <th>2</th>\n      <td>200000</td>\n      <td>8000000</td>\n    </tr>\n    <tr>\n      <th>3</th>\n      <td>100000</td>\n      <td>3000000</td>\n    </tr>\n    <tr>\n      <th>4</th>\n      <td>245000</td>\n      <td>22000000</td>\n    </tr>\n    <tr>\n      <th>...</th>\n      <td>...</td>\n      <td>...</td>\n    </tr>\n    <tr>\n      <th>5386</th>\n      <td>15000000</td>\n      <td>0</td>\n    </tr>\n    <tr>\n      <th>5387</th>\n      <td>160000000</td>\n      <td>0</td>\n    </tr>\n    <tr>\n      <th>5388</th>\n      <td>175000000</td>\n      <td>0</td>\n    </tr>\n    <tr>\n      <th>5389</th>\n      <td>50000000</td>\n      <td>0</td>\n    </tr>\n    <tr>\n      <th>5390</th>\n      <td>20000000</td>\n      <td>0</td>\n    </tr>\n  </tbody>\n</table>\n<p>5391 rows × 2 columns</p>\n</div>"
     },
     "execution_count": 86,
     "metadata": {},
     "output_type": "execute_result"
    }
   ],
   "source": [
    "data"
   ],
   "metadata": {
    "collapsed": false,
    "ExecuteTime": {
     "end_time": "2023-05-07T04:26:02.955735800Z",
     "start_time": "2023-05-07T04:26:02.924708Z"
    }
   }
  },
  {
   "cell_type": "code",
   "execution_count": 87,
   "outputs": [
    {
     "data": {
      "text/plain": "str"
     },
     "execution_count": 87,
     "metadata": {},
     "output_type": "execute_result"
    }
   ],
   "source": [
    "type(data['worldwide_gross_usd'][0])"
   ],
   "metadata": {
    "collapsed": false,
    "ExecuteTime": {
     "end_time": "2023-05-07T04:26:03.361105700Z",
     "start_time": "2023-05-07T04:26:03.346092400Z"
    }
   }
  },
  {
   "cell_type": "markdown",
   "source": [
    "***CONVERT ALL ENTRIES IN THE COLUMNS TO INTEGERS:***"
   ],
   "metadata": {
    "collapsed": false
   }
  },
  {
   "cell_type": "code",
   "execution_count": 88,
   "outputs": [],
   "source": [
    "#Convert to int\n",
    "data[\"production_budget_usd\"] = data[\"production_budget_usd\"].astype(int)"
   ],
   "metadata": {
    "collapsed": false,
    "ExecuteTime": {
     "end_time": "2023-05-07T04:26:04.155827800Z",
     "start_time": "2023-05-07T04:26:04.144817600Z"
    }
   }
  },
  {
   "cell_type": "code",
   "execution_count": 89,
   "outputs": [],
   "source": [
    "data[\"worldwide_gross_usd\"] = pd.to_numeric(data[\"worldwide_gross_usd\"])"
   ],
   "metadata": {
    "collapsed": false,
    "ExecuteTime": {
     "end_time": "2023-05-07T04:26:04.521159900Z",
     "start_time": "2023-05-07T04:26:04.492133700Z"
    }
   }
  },
  {
   "cell_type": "code",
   "execution_count": 90,
   "outputs": [
    {
     "data": {
      "text/plain": "production_budget_usd    int32\nworldwide_gross_usd      int64\ndtype: object"
     },
     "execution_count": 90,
     "metadata": {},
     "output_type": "execute_result"
    }
   ],
   "source": [
    "#Check the datatypes\n",
    "data.dtypes"
   ],
   "metadata": {
    "collapsed": false,
    "ExecuteTime": {
     "end_time": "2023-05-07T04:26:04.847457600Z",
     "start_time": "2023-05-07T04:26:04.840451900Z"
    }
   }
  },
  {
   "cell_type": "code",
   "execution_count": 91,
   "outputs": [
    {
     "data": {
      "text/plain": "      production_budget_usd  worldwide_gross_usd\n0                    110000             11000000\n1                    385907                    0\n2                    200000              8000000\n3                    100000              3000000\n4                    245000             22000000\n...                     ...                  ...\n5386               15000000                    0\n5387              160000000                    0\n5388              175000000                    0\n5389               50000000                    0\n5390               20000000                    0\n\n[5391 rows x 2 columns]",
      "text/html": "<div>\n<style scoped>\n    .dataframe tbody tr th:only-of-type {\n        vertical-align: middle;\n    }\n\n    .dataframe tbody tr th {\n        vertical-align: top;\n    }\n\n    .dataframe thead th {\n        text-align: right;\n    }\n</style>\n<table border=\"1\" class=\"dataframe\">\n  <thead>\n    <tr style=\"text-align: right;\">\n      <th></th>\n      <th>production_budget_usd</th>\n      <th>worldwide_gross_usd</th>\n    </tr>\n  </thead>\n  <tbody>\n    <tr>\n      <th>0</th>\n      <td>110000</td>\n      <td>11000000</td>\n    </tr>\n    <tr>\n      <th>1</th>\n      <td>385907</td>\n      <td>0</td>\n    </tr>\n    <tr>\n      <th>2</th>\n      <td>200000</td>\n      <td>8000000</td>\n    </tr>\n    <tr>\n      <th>3</th>\n      <td>100000</td>\n      <td>3000000</td>\n    </tr>\n    <tr>\n      <th>4</th>\n      <td>245000</td>\n      <td>22000000</td>\n    </tr>\n    <tr>\n      <th>...</th>\n      <td>...</td>\n      <td>...</td>\n    </tr>\n    <tr>\n      <th>5386</th>\n      <td>15000000</td>\n      <td>0</td>\n    </tr>\n    <tr>\n      <th>5387</th>\n      <td>160000000</td>\n      <td>0</td>\n    </tr>\n    <tr>\n      <th>5388</th>\n      <td>175000000</td>\n      <td>0</td>\n    </tr>\n    <tr>\n      <th>5389</th>\n      <td>50000000</td>\n      <td>0</td>\n    </tr>\n    <tr>\n      <th>5390</th>\n      <td>20000000</td>\n      <td>0</td>\n    </tr>\n  </tbody>\n</table>\n<p>5391 rows × 2 columns</p>\n</div>"
     },
     "execution_count": 91,
     "metadata": {},
     "output_type": "execute_result"
    }
   ],
   "source": [
    "data"
   ],
   "metadata": {
    "collapsed": false,
    "ExecuteTime": {
     "end_time": "2023-05-07T04:26:05.322889600Z",
     "start_time": "2023-05-07T04:26:05.311879100Z"
    }
   }
  },
  {
   "cell_type": "markdown",
   "source": [
    "***CREATE A SCATTER PLOT USING MATPLOTLIB***"
   ],
   "metadata": {
    "collapsed": false
   }
  },
  {
   "cell_type": "code",
   "execution_count": 92,
   "outputs": [
    {
     "data": {
      "text/plain": "<Figure size 432x288 with 1 Axes>",
      "image/png": "[encoded data removed]"
     },
     "metadata": {
      "needs_background": "light"
     },
     "output_type": "display_data"
    }
   ],
   "source": [
    "#Putting X, y inside the bracket does not work\n",
    "plt.scatter(data[\"production_budget_usd\"], data[\"worldwide_gross_usd\"])\n",
    "plt.show()"
   ],
   "metadata": {
    "collapsed": false,
    "ExecuteTime": {
     "end_time": "2023-05-07T04:26:06.487950200Z",
     "start_time": "2023-05-07T04:26:06.322801100Z"
    }
   }
  },
  {
   "cell_type": "code",
   "execution_count": 92,
   "outputs": [],
   "source": [],
   "metadata": {
    "collapsed": false,
    "ExecuteTime": {
     "end_time": "2023-05-07T04:26:07.020434200Z",
     "start_time": "2023-05-07T04:26:07.004420300Z"
    }
   }
  },
  {
   "cell_type": "code",
   "execution_count": null,
   "outputs": [],
   "source": [],
   "metadata": {
    "collapsed": false
   }
  }
 ],
 "metadata": {
  "kernelspec": {
   "display_name": "Python 3",
   "language": "python",
   "name": "python3"
  },
  "language_info": {
   "codemirror_mode": {
    "name": "ipython",
    "version": 2
   },
   "file_extension": ".py",
   "mimetype": "text/x-python",
   "name": "python",
   "nbconvert_exporter": "python",
   "pygments_lexer": "ipython2",
   "version": "2.7.6"
  }
 },
 "nbformat": 4,
 "nbformat_minor": 0
}
