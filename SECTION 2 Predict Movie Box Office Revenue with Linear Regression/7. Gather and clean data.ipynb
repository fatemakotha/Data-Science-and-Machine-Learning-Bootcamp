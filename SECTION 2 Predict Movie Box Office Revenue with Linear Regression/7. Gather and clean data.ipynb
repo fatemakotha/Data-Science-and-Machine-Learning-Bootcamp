{
 "cells": [
  {
   "cell_type": "code",
   "execution_count": 53,
   "metadata": {
    "collapsed": true,
    "ExecuteTime": {
     "end_time": "2023-05-05T14:20:25.853567Z",
     "start_time": "2023-05-05T14:20:25.840555200Z"
    }
   },
   "outputs": [],
   "source": [
    "import pandas as pd\n",
    "import matplotlib.pyplot as plt"
   ]
  },
  {
   "cell_type": "code",
   "execution_count": 54,
   "outputs": [
    {
     "data": {
      "text/plain": "      Rank Release Date                     Movie Title Production Budget ($)  \\\n0     5293     8/2/1915           The Birth of a Nation              $110,000   \n1     5140     5/9/1916                     Intolerance              $385,907   \n2     5230   12/24/1916    20,000 Leagues Under the Sea              $200,000   \n3     5299    9/17/1920  Over the Hill to the Poorhouse              $100,000   \n4     5222     1/1/1925                  The Big Parade              $245,000   \n...    ...          ...                             ...                   ...   \n5386  2950    10/8/2018                             Meg           $15,000,000   \n5387   126   12/18/2018                         Aquaman          $160,000,000   \n5388    96   12/31/2020                     Singularity          $175,000,000   \n5389  1119   12/31/2020          Hannibal the Conqueror           $50,000,000   \n5390  2517   12/31/2020  Story of Bonnie and Clyde, The           $20,000,000   \n\n     Worldwide Gross ($) Domestic Gross ($)  \n0            $11,000,000        $10,000,000  \n1                     $0                 $0  \n2             $8,000,000         $8,000,000  \n3             $3,000,000         $3,000,000  \n4            $22,000,000        $11,000,000  \n...                  ...                ...  \n5386                  $0                 $0  \n5387                  $0                 $0  \n5388                  $0                 $0  \n5389                  $0                 $0  \n5390                  $0                 $0  \n\n[5391 rows x 6 columns]",
      "text/html": "<div>\n<style scoped>\n    .dataframe tbody tr th:only-of-type {\n        vertical-align: middle;\n    }\n\n    .dataframe tbody tr th {\n        vertical-align: top;\n    }\n\n    .dataframe thead th {\n        text-align: right;\n    }\n</style>\n<table border=\"1\" class=\"dataframe\">\n  <thead>\n    <tr style=\"text-align: right;\">\n      <th></th>\n      <th>Rank</th>\n      <th>Release Date</th>\n      <th>Movie Title</th>\n      <th>Production Budget ($)</th>\n      <th>Worldwide Gross ($)</th>\n      <th>Domestic Gross ($)</th>\n    </tr>\n  </thead>\n  <tbody>\n    <tr>\n      <th>0</th>\n      <td>5293</td>\n      <td>8/2/1915</td>\n      <td>The Birth of a Nation</td>\n      <td>$110,000</td>\n      <td>$11,000,000</td>\n      <td>$10,000,000</td>\n    </tr>\n    <tr>\n      <th>1</th>\n      <td>5140</td>\n      <td>5/9/1916</td>\n      <td>Intolerance</td>\n      <td>$385,907</td>\n      <td>$0</td>\n      <td>$0</td>\n    </tr>\n    <tr>\n      <th>2</th>\n      <td>5230</td>\n      <td>12/24/1916</td>\n      <td>20,000 Leagues Under the Sea</td>\n      <td>$200,000</td>\n      <td>$8,000,000</td>\n      <td>$8,000,000</td>\n    </tr>\n    <tr>\n      <th>3</th>\n      <td>5299</td>\n      <td>9/17/1920</td>\n      <td>Over the Hill to the Poorhouse</td>\n      <td>$100,000</td>\n      <td>$3,000,000</td>\n      <td>$3,000,000</td>\n    </tr>\n    <tr>\n      <th>4</th>\n      <td>5222</td>\n      <td>1/1/1925</td>\n      <td>The Big Parade</td>\n      <td>$245,000</td>\n      <td>$22,000,000</td>\n      <td>$11,000,000</td>\n    </tr>\n    <tr>\n      <th>...</th>\n      <td>...</td>\n      <td>...</td>\n      <td>...</td>\n      <td>...</td>\n      <td>...</td>\n      <td>...</td>\n    </tr>\n    <tr>\n      <th>5386</th>\n      <td>2950</td>\n      <td>10/8/2018</td>\n      <td>Meg</td>\n      <td>$15,000,000</td>\n      <td>$0</td>\n      <td>$0</td>\n    </tr>\n    <tr>\n      <th>5387</th>\n      <td>126</td>\n      <td>12/18/2018</td>\n      <td>Aquaman</td>\n      <td>$160,000,000</td>\n      <td>$0</td>\n      <td>$0</td>\n    </tr>\n    <tr>\n      <th>5388</th>\n      <td>96</td>\n      <td>12/31/2020</td>\n      <td>Singularity</td>\n      <td>$175,000,000</td>\n      <td>$0</td>\n      <td>$0</td>\n    </tr>\n    <tr>\n      <th>5389</th>\n      <td>1119</td>\n      <td>12/31/2020</td>\n      <td>Hannibal the Conqueror</td>\n      <td>$50,000,000</td>\n      <td>$0</td>\n      <td>$0</td>\n    </tr>\n    <tr>\n      <th>5390</th>\n      <td>2517</td>\n      <td>12/31/2020</td>\n      <td>Story of Bonnie and Clyde, The</td>\n      <td>$20,000,000</td>\n      <td>$0</td>\n      <td>$0</td>\n    </tr>\n  </tbody>\n</table>\n<p>5391 rows × 6 columns</p>\n</div>"
     },
     "execution_count": 54,
     "metadata": {},
     "output_type": "execute_result"
    }
   ],
   "source": [
    "data = pd.read_csv(\"cost_revenue_dirty.csv\")\n",
    "data"
   ],
   "metadata": {
    "collapsed": false,
    "ExecuteTime": {
     "end_time": "2023-05-05T14:20:26.383048300Z",
     "start_time": "2023-05-05T14:20:26.352021300Z"
    }
   }
  },
  {
   "cell_type": "code",
   "execution_count": 55,
   "outputs": [
    {
     "data": {
      "text/plain": "Index(['Rank', 'Release Date', 'Movie Title', 'Production Budget ($)',\n       'Worldwide Gross ($)', 'Domestic Gross ($)'],\n      dtype='object')"
     },
     "execution_count": 55,
     "metadata": {},
     "output_type": "execute_result"
    }
   ],
   "source": [
    "data.columns"
   ],
   "metadata": {
    "collapsed": false,
    "ExecuteTime": {
     "end_time": "2023-05-05T14:20:27.289872600Z",
     "start_time": "2023-05-05T14:20:27.279863800Z"
    }
   }
  },
  {
   "cell_type": "code",
   "execution_count": 56,
   "outputs": [],
   "source": [
    "data = data.drop('Rank', axis=1) #Axis 1 is for columns\n",
    "data = data.drop('Release Date', axis=1)\n",
    "data = data.drop('Domestic Gross ($)', axis=1)\n",
    "data = data.drop('Movie Title', axis=1)"
   ],
   "metadata": {
    "collapsed": false,
    "ExecuteTime": {
     "end_time": "2023-05-05T14:20:28.176678600Z",
     "start_time": "2023-05-05T14:20:28.160664700Z"
    }
   }
  },
  {
   "cell_type": "code",
   "execution_count": 58,
   "outputs": [
    {
     "data": {
      "text/plain": "<bound method NDFrame.head of      Production Budget ($) Worldwide Gross ($)\n0                 $110,000         $11,000,000\n1                 $385,907                  $0\n2                 $200,000          $8,000,000\n3                 $100,000          $3,000,000\n4                 $245,000         $22,000,000\n...                    ...                 ...\n5386           $15,000,000                  $0\n5387          $160,000,000                  $0\n5388          $175,000,000                  $0\n5389           $50,000,000                  $0\n5390           $20,000,000                  $0\n\n[5391 rows x 2 columns]>"
     },
     "execution_count": 58,
     "metadata": {},
     "output_type": "execute_result"
    }
   ],
   "source": [
    "data.head"
   ],
   "metadata": {
    "collapsed": false,
    "ExecuteTime": {
     "end_time": "2023-05-05T14:20:51.214442400Z",
     "start_time": "2023-05-05T14:20:51.167401100Z"
    }
   }
  },
  {
   "cell_type": "code",
   "execution_count": null,
   "outputs": [],
   "source": [],
   "metadata": {
    "collapsed": false
   }
  }
 ],
 "metadata": {
  "kernelspec": {
   "display_name": "Python 3",
   "language": "python",
   "name": "python3"
  },
  "language_info": {
   "codemirror_mode": {
    "name": "ipython",
    "version": 2
   },
   "file_extension": ".py",
   "mimetype": "text/x-python",
   "name": "python",
   "nbconvert_exporter": "python",
   "pygments_lexer": "ipython2",
   "version": "2.7.6"
  }
 },
 "nbformat": 4,
 "nbformat_minor": 0
}
