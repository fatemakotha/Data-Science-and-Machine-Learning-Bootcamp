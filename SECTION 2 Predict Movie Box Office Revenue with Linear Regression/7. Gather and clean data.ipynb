{
 "cells": [
  {
   "cell_type": "code",
   "execution_count": 1,
   "metadata": {
    "collapsed": true,
    "ExecuteTime": {
     "end_time": "2023-05-08T09:31:12.934868400Z",
     "start_time": "2023-05-08T09:31:10.903510700Z"
    }
   },
   "outputs": [],
   "source": [
    "import pandas as pd\n",
    "import matplotlib.pyplot as plt"
   ]
  },
  {
   "cell_type": "code",
   "execution_count": 2,
   "outputs": [
    {
     "data": {
      "text/plain": "      Rank Release Date                     Movie Title Production Budget ($)  \\\n0     5293     8/2/1915           The Birth of a Nation              $110,000   \n1     5140     5/9/1916                     Intolerance              $385,907   \n2     5230   12/24/1916    20,000 Leagues Under the Sea              $200,000   \n3     5299    9/17/1920  Over the Hill to the Poorhouse              $100,000   \n4     5222     1/1/1925                  The Big Parade              $245,000   \n...    ...          ...                             ...                   ...   \n5386  2950    10/8/2018                             Meg           $15,000,000   \n5387   126   12/18/2018                         Aquaman          $160,000,000   \n5388    96   12/31/2020                     Singularity          $175,000,000   \n5389  1119   12/31/2020          Hannibal the Conqueror           $50,000,000   \n5390  2517   12/31/2020  Story of Bonnie and Clyde, The           $20,000,000   \n\n     Worldwide Gross ($) Domestic Gross ($)  \n0            $11,000,000        $10,000,000  \n1                     $0                 $0  \n2             $8,000,000         $8,000,000  \n3             $3,000,000         $3,000,000  \n4            $22,000,000        $11,000,000  \n...                  ...                ...  \n5386                  $0                 $0  \n5387                  $0                 $0  \n5388                  $0                 $0  \n5389                  $0                 $0  \n5390                  $0                 $0  \n\n[5391 rows x 6 columns]",
      "text/html": "<div>\n<style scoped>\n    .dataframe tbody tr th:only-of-type {\n        vertical-align: middle;\n    }\n\n    .dataframe tbody tr th {\n        vertical-align: top;\n    }\n\n    .dataframe thead th {\n        text-align: right;\n    }\n</style>\n<table border=\"1\" class=\"dataframe\">\n  <thead>\n    <tr style=\"text-align: right;\">\n      <th></th>\n      <th>Rank</th>\n      <th>Release Date</th>\n      <th>Movie Title</th>\n      <th>Production Budget ($)</th>\n      <th>Worldwide Gross ($)</th>\n      <th>Domestic Gross ($)</th>\n    </tr>\n  </thead>\n  <tbody>\n    <tr>\n      <th>0</th>\n      <td>5293</td>\n      <td>8/2/1915</td>\n      <td>The Birth of a Nation</td>\n      <td>$110,000</td>\n      <td>$11,000,000</td>\n      <td>$10,000,000</td>\n    </tr>\n    <tr>\n      <th>1</th>\n      <td>5140</td>\n      <td>5/9/1916</td>\n      <td>Intolerance</td>\n      <td>$385,907</td>\n      <td>$0</td>\n      <td>$0</td>\n    </tr>\n    <tr>\n      <th>2</th>\n      <td>5230</td>\n      <td>12/24/1916</td>\n      <td>20,000 Leagues Under the Sea</td>\n      <td>$200,000</td>\n      <td>$8,000,000</td>\n      <td>$8,000,000</td>\n    </tr>\n    <tr>\n      <th>3</th>\n      <td>5299</td>\n      <td>9/17/1920</td>\n      <td>Over the Hill to the Poorhouse</td>\n      <td>$100,000</td>\n      <td>$3,000,000</td>\n      <td>$3,000,000</td>\n    </tr>\n    <tr>\n      <th>4</th>\n      <td>5222</td>\n      <td>1/1/1925</td>\n      <td>The Big Parade</td>\n      <td>$245,000</td>\n      <td>$22,000,000</td>\n      <td>$11,000,000</td>\n    </tr>\n    <tr>\n      <th>...</th>\n      <td>...</td>\n      <td>...</td>\n      <td>...</td>\n      <td>...</td>\n      <td>...</td>\n      <td>...</td>\n    </tr>\n    <tr>\n      <th>5386</th>\n      <td>2950</td>\n      <td>10/8/2018</td>\n      <td>Meg</td>\n      <td>$15,000,000</td>\n      <td>$0</td>\n      <td>$0</td>\n    </tr>\n    <tr>\n      <th>5387</th>\n      <td>126</td>\n      <td>12/18/2018</td>\n      <td>Aquaman</td>\n      <td>$160,000,000</td>\n      <td>$0</td>\n      <td>$0</td>\n    </tr>\n    <tr>\n      <th>5388</th>\n      <td>96</td>\n      <td>12/31/2020</td>\n      <td>Singularity</td>\n      <td>$175,000,000</td>\n      <td>$0</td>\n      <td>$0</td>\n    </tr>\n    <tr>\n      <th>5389</th>\n      <td>1119</td>\n      <td>12/31/2020</td>\n      <td>Hannibal the Conqueror</td>\n      <td>$50,000,000</td>\n      <td>$0</td>\n      <td>$0</td>\n    </tr>\n    <tr>\n      <th>5390</th>\n      <td>2517</td>\n      <td>12/31/2020</td>\n      <td>Story of Bonnie and Clyde, The</td>\n      <td>$20,000,000</td>\n      <td>$0</td>\n      <td>$0</td>\n    </tr>\n  </tbody>\n</table>\n<p>5391 rows × 6 columns</p>\n</div>"
     },
     "execution_count": 2,
     "metadata": {},
     "output_type": "execute_result"
    }
   ],
   "source": [
    "#Read the csv file\n",
    "data = pd.read_csv(\"cost_revenue_dirty.csv\")\n",
    "data"
   ],
   "metadata": {
    "collapsed": false,
    "ExecuteTime": {
     "end_time": "2023-05-08T09:31:15.105842900Z",
     "start_time": "2023-05-08T09:31:14.962711500Z"
    }
   }
  },
  {
   "cell_type": "code",
   "execution_count": 3,
   "outputs": [
    {
     "data": {
      "text/plain": "Index(['Rank', 'Release Date', 'Movie Title', 'Production Budget ($)',\n       'Worldwide Gross ($)', 'Domestic Gross ($)'],\n      dtype='object')"
     },
     "execution_count": 3,
     "metadata": {},
     "output_type": "execute_result"
    }
   ],
   "source": [
    "#Print the column names\n",
    "data.columns"
   ],
   "metadata": {
    "collapsed": false,
    "ExecuteTime": {
     "end_time": "2023-05-08T09:31:16.344969200Z",
     "start_time": "2023-05-08T09:31:16.264896200Z"
    }
   }
  },
  {
   "cell_type": "code",
   "execution_count": 4,
   "outputs": [],
   "source": [
    "#Drop unnecessary data columns\n",
    "data = data.drop('Rank', axis=1) #Axis 1 is for columns\n",
    "data = data.drop('Release Date', axis=1)\n",
    "data = data.drop('Domestic Gross ($)', axis=1)\n",
    "data = data.drop('Movie Title', axis=1)"
   ],
   "metadata": {
    "collapsed": false,
    "ExecuteTime": {
     "end_time": "2023-05-08T09:31:16.664258700Z",
     "start_time": "2023-05-08T09:31:16.641237600Z"
    }
   }
  },
  {
   "cell_type": "code",
   "execution_count": 5,
   "outputs": [
    {
     "data": {
      "text/plain": "<bound method NDFrame.head of      Production Budget ($) Worldwide Gross ($)\n0                 $110,000         $11,000,000\n1                 $385,907                  $0\n2                 $200,000          $8,000,000\n3                 $100,000          $3,000,000\n4                 $245,000         $22,000,000\n...                    ...                 ...\n5386           $15,000,000                  $0\n5387          $160,000,000                  $0\n5388          $175,000,000                  $0\n5389           $50,000,000                  $0\n5390           $20,000,000                  $0\n\n[5391 rows x 2 columns]>"
     },
     "execution_count": 5,
     "metadata": {},
     "output_type": "execute_result"
    }
   ],
   "source": [
    "#Print data head\n",
    "data.head"
   ],
   "metadata": {
    "collapsed": false,
    "ExecuteTime": {
     "end_time": "2023-05-08T09:31:16.952521100Z",
     "start_time": "2023-05-08T09:31:16.853429800Z"
    }
   }
  },
  {
   "cell_type": "code",
   "execution_count": 6,
   "outputs": [
    {
     "data": {
      "text/plain": "       Production Budget ($) Worldwide Gross ($)\ncount                   5391                5391\nunique                   484                4969\ntop              $20,000,000                  $0\nfreq                     216                 357",
      "text/html": "<div>\n<style scoped>\n    .dataframe tbody tr th:only-of-type {\n        vertical-align: middle;\n    }\n\n    .dataframe tbody tr th {\n        vertical-align: top;\n    }\n\n    .dataframe thead th {\n        text-align: right;\n    }\n</style>\n<table border=\"1\" class=\"dataframe\">\n  <thead>\n    <tr style=\"text-align: right;\">\n      <th></th>\n      <th>Production Budget ($)</th>\n      <th>Worldwide Gross ($)</th>\n    </tr>\n  </thead>\n  <tbody>\n    <tr>\n      <th>count</th>\n      <td>5391</td>\n      <td>5391</td>\n    </tr>\n    <tr>\n      <th>unique</th>\n      <td>484</td>\n      <td>4969</td>\n    </tr>\n    <tr>\n      <th>top</th>\n      <td>$20,000,000</td>\n      <td>$0</td>\n    </tr>\n    <tr>\n      <th>freq</th>\n      <td>216</td>\n      <td>357</td>\n    </tr>\n  </tbody>\n</table>\n</div>"
     },
     "execution_count": 6,
     "metadata": {},
     "output_type": "execute_result"
    }
   ],
   "source": [
    "#Print description of data\n",
    "##Shows how many rows, columns, entries, unique entries etc a dataframe has\n",
    "data.describe(include='all')"
   ],
   "metadata": {
    "collapsed": false,
    "ExecuteTime": {
     "end_time": "2023-05-08T09:31:17.147698600Z",
     "start_time": "2023-05-08T09:31:17.063621800Z"
    }
   }
  },
  {
   "cell_type": "code",
   "execution_count": 7,
   "outputs": [],
   "source": [
    "#Rename data columns\n",
    "data.rename(columns={\"Production Budget ($)\":\"production_budget_usd\"}, inplace=True)\n",
    "data.rename(columns={\"Worldwide Gross ($)\":\"worldwide_gross_usd\"}, inplace=True)"
   ],
   "metadata": {
    "collapsed": false,
    "ExecuteTime": {
     "end_time": "2023-05-08T09:31:17.439962900Z",
     "start_time": "2023-05-08T09:31:17.314848900Z"
    }
   }
  },
  {
   "cell_type": "code",
   "execution_count": 8,
   "outputs": [
    {
     "data": {
      "text/plain": "  production_budget_usd worldwide_gross_usd\n0              $110,000         $11,000,000\n1              $385,907                  $0\n2              $200,000          $8,000,000\n3              $100,000          $3,000,000\n4              $245,000         $22,000,000",
      "text/html": "<div>\n<style scoped>\n    .dataframe tbody tr th:only-of-type {\n        vertical-align: middle;\n    }\n\n    .dataframe tbody tr th {\n        vertical-align: top;\n    }\n\n    .dataframe thead th {\n        text-align: right;\n    }\n</style>\n<table border=\"1\" class=\"dataframe\">\n  <thead>\n    <tr style=\"text-align: right;\">\n      <th></th>\n      <th>production_budget_usd</th>\n      <th>worldwide_gross_usd</th>\n    </tr>\n  </thead>\n  <tbody>\n    <tr>\n      <th>0</th>\n      <td>$110,000</td>\n      <td>$11,000,000</td>\n    </tr>\n    <tr>\n      <th>1</th>\n      <td>$385,907</td>\n      <td>$0</td>\n    </tr>\n    <tr>\n      <th>2</th>\n      <td>$200,000</td>\n      <td>$8,000,000</td>\n    </tr>\n    <tr>\n      <th>3</th>\n      <td>$100,000</td>\n      <td>$3,000,000</td>\n    </tr>\n    <tr>\n      <th>4</th>\n      <td>$245,000</td>\n      <td>$22,000,000</td>\n    </tr>\n  </tbody>\n</table>\n</div>"
     },
     "execution_count": 8,
     "metadata": {},
     "output_type": "execute_result"
    }
   ],
   "source": [
    "data.head()"
   ],
   "metadata": {
    "collapsed": false,
    "ExecuteTime": {
     "end_time": "2023-05-08T09:31:17.575086600Z",
     "start_time": "2023-05-08T09:31:17.485004100Z"
    }
   }
  },
  {
   "cell_type": "markdown",
   "source": [],
   "metadata": {
    "collapsed": false
   }
  },
  {
   "cell_type": "markdown",
   "source": [
    "***CONVERT SERIES TO DATAFRAME***"
   ],
   "metadata": {
    "collapsed": false
   }
  },
  {
   "cell_type": "code",
   "execution_count": 9,
   "outputs": [],
   "source": [
    "y = data.worldwide_gross_usd\n",
    "y = y.to_frame()"
   ],
   "metadata": {
    "collapsed": false,
    "ExecuteTime": {
     "end_time": "2023-05-08T09:31:18.108570500Z",
     "start_time": "2023-05-08T09:31:18.083548800Z"
    }
   }
  },
  {
   "cell_type": "code",
   "execution_count": 10,
   "outputs": [
    {
     "ename": "NameError",
     "evalue": "name 'X' is not defined",
     "output_type": "error",
     "traceback": [
      "\u001B[1;31m---------------------------------------------------------------------------\u001B[0m",
      "\u001B[1;31mNameError\u001B[0m                                 Traceback (most recent call last)",
      "\u001B[1;32m~\\AppData\\Local\\Temp/ipykernel_123464/192693277.py\u001B[0m in \u001B[0;36m<module>\u001B[1;34m\u001B[0m\n\u001B[0;32m      1\u001B[0m \u001B[1;31m#Check type of data\u001B[0m\u001B[1;33m\u001B[0m\u001B[1;33m\u001B[0m\u001B[1;33m\u001B[0m\u001B[0m\n\u001B[1;32m----> 2\u001B[1;33m \u001B[0mtype\u001B[0m\u001B[1;33m(\u001B[0m\u001B[0mX\u001B[0m\u001B[1;33m)\u001B[0m\u001B[1;33m\u001B[0m\u001B[1;33m\u001B[0m\u001B[0m\n\u001B[0m",
      "\u001B[1;31mNameError\u001B[0m: name 'X' is not defined"
     ]
    }
   ],
   "source": [
    "#Check type of data\n",
    "type(X)"
   ],
   "metadata": {
    "collapsed": false,
    "ExecuteTime": {
     "end_time": "2023-05-08T09:31:18.606022700Z",
     "start_time": "2023-05-08T09:31:18.271719200Z"
    }
   }
  },
  {
   "cell_type": "code",
   "execution_count": null,
   "outputs": [],
   "source": [
    "type(y)"
   ],
   "metadata": {
    "collapsed": false
   }
  },
  {
   "cell_type": "markdown",
   "source": [
    "***REPLACE \"$\" FROM COLUMNS:***"
   ],
   "metadata": {
    "collapsed": false
   }
  },
  {
   "cell_type": "code",
   "execution_count": 11,
   "outputs": [],
   "source": [
    "#Second, if regex=True then all of the strings in both lists will be interpreted as regexs otherwise they will match directly\n",
    "data[\"production_budget_usd\"] = data['production_budget_usd'].str.replace('\\$|,','', regex=True)"
   ],
   "metadata": {
    "collapsed": false,
    "ExecuteTime": {
     "end_time": "2023-05-08T09:31:19.008388600Z",
     "start_time": "2023-05-08T09:31:18.987369400Z"
    }
   }
  },
  {
   "cell_type": "code",
   "execution_count": 12,
   "outputs": [],
   "source": [
    "data['worldwide_gross_usd'] = data['worldwide_gross_usd'].str.replace('\\$|,','', regex=True)"
   ],
   "metadata": {
    "collapsed": false,
    "ExecuteTime": {
     "end_time": "2023-05-08T09:31:19.233593900Z",
     "start_time": "2023-05-08T09:31:19.174540100Z"
    }
   }
  },
  {
   "cell_type": "code",
   "execution_count": 13,
   "outputs": [
    {
     "data": {
      "text/plain": "     production_budget_usd worldwide_gross_usd\n0                   110000            11000000\n1                   385907                   0\n2                   200000             8000000\n3                   100000             3000000\n4                   245000            22000000\n...                    ...                 ...\n5386              15000000                   0\n5387             160000000                   0\n5388             175000000                   0\n5389              50000000                   0\n5390              20000000                   0\n\n[5391 rows x 2 columns]",
      "text/html": "<div>\n<style scoped>\n    .dataframe tbody tr th:only-of-type {\n        vertical-align: middle;\n    }\n\n    .dataframe tbody tr th {\n        vertical-align: top;\n    }\n\n    .dataframe thead th {\n        text-align: right;\n    }\n</style>\n<table border=\"1\" class=\"dataframe\">\n  <thead>\n    <tr style=\"text-align: right;\">\n      <th></th>\n      <th>production_budget_usd</th>\n      <th>worldwide_gross_usd</th>\n    </tr>\n  </thead>\n  <tbody>\n    <tr>\n      <th>0</th>\n      <td>110000</td>\n      <td>11000000</td>\n    </tr>\n    <tr>\n      <th>1</th>\n      <td>385907</td>\n      <td>0</td>\n    </tr>\n    <tr>\n      <th>2</th>\n      <td>200000</td>\n      <td>8000000</td>\n    </tr>\n    <tr>\n      <th>3</th>\n      <td>100000</td>\n      <td>3000000</td>\n    </tr>\n    <tr>\n      <th>4</th>\n      <td>245000</td>\n      <td>22000000</td>\n    </tr>\n    <tr>\n      <th>...</th>\n      <td>...</td>\n      <td>...</td>\n    </tr>\n    <tr>\n      <th>5386</th>\n      <td>15000000</td>\n      <td>0</td>\n    </tr>\n    <tr>\n      <th>5387</th>\n      <td>160000000</td>\n      <td>0</td>\n    </tr>\n    <tr>\n      <th>5388</th>\n      <td>175000000</td>\n      <td>0</td>\n    </tr>\n    <tr>\n      <th>5389</th>\n      <td>50000000</td>\n      <td>0</td>\n    </tr>\n    <tr>\n      <th>5390</th>\n      <td>20000000</td>\n      <td>0</td>\n    </tr>\n  </tbody>\n</table>\n<p>5391 rows × 2 columns</p>\n</div>"
     },
     "execution_count": 13,
     "metadata": {},
     "output_type": "execute_result"
    }
   ],
   "source": [
    "data"
   ],
   "metadata": {
    "collapsed": false,
    "ExecuteTime": {
     "end_time": "2023-05-08T09:31:19.489826200Z",
     "start_time": "2023-05-08T09:31:19.419762400Z"
    }
   }
  },
  {
   "cell_type": "code",
   "execution_count": 14,
   "outputs": [
    {
     "data": {
      "text/plain": "str"
     },
     "execution_count": 14,
     "metadata": {},
     "output_type": "execute_result"
    }
   ],
   "source": [
    "type(data['worldwide_gross_usd'][0])"
   ],
   "metadata": {
    "collapsed": false,
    "ExecuteTime": {
     "end_time": "2023-05-08T09:31:19.744057300Z",
     "start_time": "2023-05-08T09:31:19.628953700Z"
    }
   }
  },
  {
   "cell_type": "markdown",
   "source": [
    "***CONVERT ALL ENTRIES IN THE COLUMNS TO INTEGERS:***"
   ],
   "metadata": {
    "collapsed": false
   }
  },
  {
   "cell_type": "code",
   "execution_count": 15,
   "outputs": [],
   "source": [
    "#Convert to int\n",
    "data[\"production_budget_usd\"] = data[\"production_budget_usd\"].astype(int)"
   ],
   "metadata": {
    "collapsed": false,
    "ExecuteTime": {
     "end_time": "2023-05-08T09:31:20.013302400Z",
     "start_time": "2023-05-08T09:31:19.994285500Z"
    }
   }
  },
  {
   "cell_type": "code",
   "execution_count": 16,
   "outputs": [],
   "source": [
    "data[\"worldwide_gross_usd\"] = pd.to_numeric(data[\"worldwide_gross_usd\"])"
   ],
   "metadata": {
    "collapsed": false,
    "ExecuteTime": {
     "end_time": "2023-05-08T09:31:20.210482100Z",
     "start_time": "2023-05-08T09:31:20.183456300Z"
    }
   }
  },
  {
   "cell_type": "code",
   "execution_count": 17,
   "outputs": [
    {
     "data": {
      "text/plain": "production_budget_usd    int32\nworldwide_gross_usd      int64\ndtype: object"
     },
     "execution_count": 17,
     "metadata": {},
     "output_type": "execute_result"
    }
   ],
   "source": [
    "#Check the datatypes\n",
    "data.dtypes"
   ],
   "metadata": {
    "collapsed": false,
    "ExecuteTime": {
     "end_time": "2023-05-08T09:31:20.454703100Z",
     "start_time": "2023-05-08T09:31:20.361618400Z"
    }
   }
  },
  {
   "cell_type": "code",
   "execution_count": 18,
   "outputs": [
    {
     "data": {
      "text/plain": "      production_budget_usd  worldwide_gross_usd\n0                    110000             11000000\n1                    385907                    0\n2                    200000              8000000\n3                    100000              3000000\n4                    245000             22000000\n...                     ...                  ...\n5386               15000000                    0\n5387              160000000                    0\n5388              175000000                    0\n5389               50000000                    0\n5390               20000000                    0\n\n[5391 rows x 2 columns]",
      "text/html": "<div>\n<style scoped>\n    .dataframe tbody tr th:only-of-type {\n        vertical-align: middle;\n    }\n\n    .dataframe tbody tr th {\n        vertical-align: top;\n    }\n\n    .dataframe thead th {\n        text-align: right;\n    }\n</style>\n<table border=\"1\" class=\"dataframe\">\n  <thead>\n    <tr style=\"text-align: right;\">\n      <th></th>\n      <th>production_budget_usd</th>\n      <th>worldwide_gross_usd</th>\n    </tr>\n  </thead>\n  <tbody>\n    <tr>\n      <th>0</th>\n      <td>110000</td>\n      <td>11000000</td>\n    </tr>\n    <tr>\n      <th>1</th>\n      <td>385907</td>\n      <td>0</td>\n    </tr>\n    <tr>\n      <th>2</th>\n      <td>200000</td>\n      <td>8000000</td>\n    </tr>\n    <tr>\n      <th>3</th>\n      <td>100000</td>\n      <td>3000000</td>\n    </tr>\n    <tr>\n      <th>4</th>\n      <td>245000</td>\n      <td>22000000</td>\n    </tr>\n    <tr>\n      <th>...</th>\n      <td>...</td>\n      <td>...</td>\n    </tr>\n    <tr>\n      <th>5386</th>\n      <td>15000000</td>\n      <td>0</td>\n    </tr>\n    <tr>\n      <th>5387</th>\n      <td>160000000</td>\n      <td>0</td>\n    </tr>\n    <tr>\n      <th>5388</th>\n      <td>175000000</td>\n      <td>0</td>\n    </tr>\n    <tr>\n      <th>5389</th>\n      <td>50000000</td>\n      <td>0</td>\n    </tr>\n    <tr>\n      <th>5390</th>\n      <td>20000000</td>\n      <td>0</td>\n    </tr>\n  </tbody>\n</table>\n<p>5391 rows × 2 columns</p>\n</div>"
     },
     "execution_count": 18,
     "metadata": {},
     "output_type": "execute_result"
    }
   ],
   "source": [
    "data"
   ],
   "metadata": {
    "collapsed": false,
    "ExecuteTime": {
     "end_time": "2023-05-08T09:31:20.771991800Z",
     "start_time": "2023-05-08T09:31:20.660892500Z"
    }
   }
  },
  {
   "cell_type": "markdown",
   "source": [
    "***CREATE A SCATTER PLOT USING MATPLOTLIB(plt)***"
   ],
   "metadata": {
    "collapsed": false
   }
  },
  {
   "cell_type": "code",
   "execution_count": 22,
   "outputs": [
    {
     "data": {
      "text/plain": "<Figure size 720x432 with 1 Axes>",
      "image/png": "[encoded data removed]"
     },
     "metadata": {
      "needs_background": "light"
     },
     "output_type": "display_data"
    }
   ],
   "source": [
    "#Make the size of the chart larger:\n",
    "plt.figure(figsize=(10,6)) #Width=10, Height=6\n",
    "\n",
    "#Putting X, y inside the bracket does not work\n",
    "plt.scatter(data[\"production_budget_usd\"], data[\"worldwide_gross_usd\"])\n",
    "plt.title(\"Film cost vs Global Revenue\") #Add a title\n",
    "plt.xlabel(\"Production Budget $\") #Label x axis\n",
    "plt.ylabel(\"Worlwide Gross $\") #Label y axis\n",
    "\n",
    "#To make the xaxis and yaxis start from 0:\n",
    "#We set a range for both the axes:\n",
    "plt.ylim(0,3000000000) #Start=0, End=3billion\n",
    "plt.xlim(0, 45000000)\n",
    "\n",
    "plt.show()"
   ],
   "metadata": {
    "collapsed": false,
    "ExecuteTime": {
     "end_time": "2023-05-08T09:38:43.547186800Z",
     "start_time": "2023-05-08T09:38:43.208877800Z"
    }
   }
  },
  {
   "cell_type": "code",
   "execution_count": null,
   "outputs": [],
   "source": [],
   "metadata": {
    "collapsed": false
   }
  }
 ],
 "metadata": {
  "kernelspec": {
   "display_name": "Python 3",
   "language": "python",
   "name": "python3"
  },
  "language_info": {
   "codemirror_mode": {
    "name": "ipython",
    "version": 2
   },
   "file_extension": ".py",
   "mimetype": "text/x-python",
   "name": "python",
   "nbconvert_exporter": "python",
   "pygments_lexer": "ipython2",
   "version": "2.7.6"
  }
 },
 "nbformat": 4,
 "nbformat_minor": 0
}
