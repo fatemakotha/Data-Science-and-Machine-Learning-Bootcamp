{
  "nbformat": 4,
  "nbformat_minor": 0,
  "metadata": {
    "colab": {
      "provenance": [],
      "gpuType": "T4",
      "include_colab_link": true
    },
    "kernelspec": {
      "name": "python3",
      "display_name": "Python 3"
    },
    "language_info": {
      "name": "python"
    },
    "widgets": {
      "application/vnd.jupyter.widget-state+json": {
        "87ce30c0b97b447896f4ceb42a9659c9": {
          "model_module": "@jupyter-widgets/controls",
          "model_name": "HBoxModel",
          "model_module_version": "1.5.0",
          "state": {
            "_dom_classes": [],
            "_model_module": "@jupyter-widgets/controls",
            "_model_module_version": "1.5.0",
            "_model_name": "HBoxModel",
            "_view_count": null,
            "_view_module": "@jupyter-widgets/controls",
            "_view_module_version": "1.5.0",
            "_view_name": "HBoxView",
            "box_style": "",
            "children": [
              "IPY_MODEL_5a9eac9510ec4b2e871766ee17099187",
              "IPY_MODEL_3cfe790c769b42cea4cb510c22b46059",
              "IPY_MODEL_1bb995b3c31d40e1acd158a81e50e7ea"
            ],
            "layout": "IPY_MODEL_0024423394804f73a7da3042cd08ff69"
          }
        },
        "5a9eac9510ec4b2e871766ee17099187": {
          "model_module": "@jupyter-widgets/controls",
          "model_name": "HTMLModel",
          "model_module_version": "1.5.0",
          "state": {
            "_dom_classes": [],
            "_model_module": "@jupyter-widgets/controls",
            "_model_module_version": "1.5.0",
            "_model_name": "HTMLModel",
            "_view_count": null,
            "_view_module": "@jupyter-widgets/controls",
            "_view_module_version": "1.5.0",
            "_view_name": "HTMLView",
            "description": "",
            "description_tooltip": null,
            "layout": "IPY_MODEL_364918b62fed45b3943192d07a520be5",
            "placeholder": "​",
            "style": "IPY_MODEL_63ee6b34d48f4e8d913aaf0f3e77914d",
            "value": "vocab.json: 100%"
          }
        },
        "3cfe790c769b42cea4cb510c22b46059": {
          "model_module": "@jupyter-widgets/controls",
          "model_name": "FloatProgressModel",
          "model_module_version": "1.5.0",
          "state": {
            "_dom_classes": [],
            "_model_module": "@jupyter-widgets/controls",
            "_model_module_version": "1.5.0",
            "_model_name": "FloatProgressModel",
            "_view_count": null,
            "_view_module": "@jupyter-widgets/controls",
            "_view_module_version": "1.5.0",
            "_view_name": "ProgressView",
            "bar_style": "success",
            "description": "",
            "description_tooltip": null,
            "layout": "IPY_MODEL_c59b43855a2047f99d94a4620c102fc4",
            "max": 898823,
            "min": 0,
            "orientation": "horizontal",
            "style": "IPY_MODEL_79ef813a958a4912803eda104d429c61",
            "value": 898823
          }
        },
        "1bb995b3c31d40e1acd158a81e50e7ea": {
          "model_module": "@jupyter-widgets/controls",
          "model_name": "HTMLModel",
          "model_module_version": "1.5.0",
          "state": {
            "_dom_classes": [],
            "_model_module": "@jupyter-widgets/controls",
            "_model_module_version": "1.5.0",
            "_model_name": "HTMLModel",
            "_view_count": null,
            "_view_module": "@jupyter-widgets/controls",
            "_view_module_version": "1.5.0",
            "_view_name": "HTMLView",
            "description": "",
            "description_tooltip": null,
            "layout": "IPY_MODEL_d1330f1b808547b4b1b715e379cd83e9",
            "placeholder": "​",
            "style": "IPY_MODEL_ed443e61e7c04d9195a76f5514e7e13f",
            "value": " 899k/899k [00:00&lt;00:00, 3.43MB/s]"
          }
        },
        "0024423394804f73a7da3042cd08ff69": {
          "model_module": "@jupyter-widgets/base",
          "model_name": "LayoutModel",
          "model_module_version": "1.2.0",
          "state": {
            "_model_module": "@jupyter-widgets/base",
            "_model_module_version": "1.2.0",
            "_model_name": "LayoutModel",
            "_view_count": null,
            "_view_module": "@jupyter-widgets/base",
            "_view_module_version": "1.2.0",
            "_view_name": "LayoutView",
            "align_content": null,
            "align_items": null,
            "align_self": null,
            "border": null,
            "bottom": null,
            "display": null,
            "flex": null,
            "flex_flow": null,
            "grid_area": null,
            "grid_auto_columns": null,
            "grid_auto_flow": null,
            "grid_auto_rows": null,
            "grid_column": null,
            "grid_gap": null,
            "grid_row": null,
            "grid_template_areas": null,
            "grid_template_columns": null,
            "grid_template_rows": null,
            "height": null,
            "justify_content": null,
            "justify_items": null,
            "left": null,
            "margin": null,
            "max_height": null,
            "max_width": null,
            "min_height": null,
            "min_width": null,
            "object_fit": null,
            "object_position": null,
            "order": null,
            "overflow": null,
            "overflow_x": null,
            "overflow_y": null,
            "padding": null,
            "right": null,
            "top": null,
            "visibility": null,
            "width": null
          }
        },
        "364918b62fed45b3943192d07a520be5": {
          "model_module": "@jupyter-widgets/base",
          "model_name": "LayoutModel",
          "model_module_version": "1.2.0",
          "state": {
            "_model_module": "@jupyter-widgets/base",
            "_model_module_version": "1.2.0",
            "_model_name": "LayoutModel",
            "_view_count": null,
            "_view_module": "@jupyter-widgets/base",
            "_view_module_version": "1.2.0",
            "_view_name": "LayoutView",
            "align_content": null,
            "align_items": null,
            "align_self": null,
            "border": null,
            "bottom": null,
            "display": null,
            "flex": null,
            "flex_flow": null,
            "grid_area": null,
            "grid_auto_columns": null,
            "grid_auto_flow": null,
            "grid_auto_rows": null,
            "grid_column": null,
            "grid_gap": null,
            "grid_row": null,
            "grid_template_areas": null,
            "grid_template_columns": null,
            "grid_template_rows": null,
            "height": null,
            "justify_content": null,
            "justify_items": null,
            "left": null,
            "margin": null,
            "max_height": null,
            "max_width": null,
            "min_height": null,
            "min_width": null,
            "object_fit": null,
            "object_position": null,
            "order": null,
            "overflow": null,
            "overflow_x": null,
            "overflow_y": null,
            "padding": null,
            "right": null,
            "top": null,
            "visibility": null,
            "width": null
          }
        },
        "63ee6b34d48f4e8d913aaf0f3e77914d": {
          "model_module": "@jupyter-widgets/controls",
          "model_name": "DescriptionStyleModel",
          "model_module_version": "1.5.0",
          "state": {
            "_model_module": "@jupyter-widgets/controls",
            "_model_module_version": "1.5.0",
            "_model_name": "DescriptionStyleModel",
            "_view_count": null,
            "_view_module": "@jupyter-widgets/base",
            "_view_module_version": "1.2.0",
            "_view_name": "StyleView",
            "description_width": ""
          }
        },
        "c59b43855a2047f99d94a4620c102fc4": {
          "model_module": "@jupyter-widgets/base",
          "model_name": "LayoutModel",
          "model_module_version": "1.2.0",
          "state": {
            "_model_module": "@jupyter-widgets/base",
            "_model_module_version": "1.2.0",
            "_model_name": "LayoutModel",
            "_view_count": null,
            "_view_module": "@jupyter-widgets/base",
            "_view_module_version": "1.2.0",
            "_view_name": "LayoutView",
            "align_content": null,
            "align_items": null,
            "align_self": null,
            "border": null,
            "bottom": null,
            "display": null,
            "flex": null,
            "flex_flow": null,
            "grid_area": null,
            "grid_auto_columns": null,
            "grid_auto_flow": null,
            "grid_auto_rows": null,
            "grid_column": null,
            "grid_gap": null,
            "grid_row": null,
            "grid_template_areas": null,
            "grid_template_columns": null,
            "grid_template_rows": null,
            "height": null,
            "justify_content": null,
            "justify_items": null,
            "left": null,
            "margin": null,
            "max_height": null,
            "max_width": null,
            "min_height": null,
            "min_width": null,
            "object_fit": null,
            "object_position": null,
            "order": null,
            "overflow": null,
            "overflow_x": null,
            "overflow_y": null,
            "padding": null,
            "right": null,
            "top": null,
            "visibility": null,
            "width": null
          }
        },
        "79ef813a958a4912803eda104d429c61": {
          "model_module": "@jupyter-widgets/controls",
          "model_name": "ProgressStyleModel",
          "model_module_version": "1.5.0",
          "state": {
            "_model_module": "@jupyter-widgets/controls",
            "_model_module_version": "1.5.0",
            "_model_name": "ProgressStyleModel",
            "_view_count": null,
            "_view_module": "@jupyter-widgets/base",
            "_view_module_version": "1.2.0",
            "_view_name": "StyleView",
            "bar_color": null,
            "description_width": ""
          }
        },
        "d1330f1b808547b4b1b715e379cd83e9": {
          "model_module": "@jupyter-widgets/base",
          "model_name": "LayoutModel",
          "model_module_version": "1.2.0",
          "state": {
            "_model_module": "@jupyter-widgets/base",
            "_model_module_version": "1.2.0",
            "_model_name": "LayoutModel",
            "_view_count": null,
            "_view_module": "@jupyter-widgets/base",
            "_view_module_version": "1.2.0",
            "_view_name": "LayoutView",
            "align_content": null,
            "align_items": null,
            "align_self": null,
            "border": null,
            "bottom": null,
            "display": null,
            "flex": null,
            "flex_flow": null,
            "grid_area": null,
            "grid_auto_columns": null,
            "grid_auto_flow": null,
            "grid_auto_rows": null,
            "grid_column": null,
            "grid_gap": null,
            "grid_row": null,
            "grid_template_areas": null,
            "grid_template_columns": null,
            "grid_template_rows": null,
            "height": null,
            "justify_content": null,
            "justify_items": null,
            "left": null,
            "margin": null,
            "max_height": null,
            "max_width": null,
            "min_height": null,
            "min_width": null,
            "object_fit": null,
            "object_position": null,
            "order": null,
            "overflow": null,
            "overflow_x": null,
            "overflow_y": null,
            "padding": null,
            "right": null,
            "top": null,
            "visibility": null,
            "width": null
          }
        },
        "ed443e61e7c04d9195a76f5514e7e13f": {
          "model_module": "@jupyter-widgets/controls",
          "model_name": "DescriptionStyleModel",
          "model_module_version": "1.5.0",
          "state": {
            "_model_module": "@jupyter-widgets/controls",
            "_model_module_version": "1.5.0",
            "_model_name": "DescriptionStyleModel",
            "_view_count": null,
            "_view_module": "@jupyter-widgets/base",
            "_view_module_version": "1.2.0",
            "_view_name": "StyleView",
            "description_width": ""
          }
        },
        "7c948a6d9830437c98eddafe14bf8dcd": {
          "model_module": "@jupyter-widgets/controls",
          "model_name": "HBoxModel",
          "model_module_version": "1.5.0",
          "state": {
            "_dom_classes": [],
            "_model_module": "@jupyter-widgets/controls",
            "_model_module_version": "1.5.0",
            "_model_name": "HBoxModel",
            "_view_count": null,
            "_view_module": "@jupyter-widgets/controls",
            "_view_module_version": "1.5.0",
            "_view_name": "HBoxView",
            "box_style": "",
            "children": [
              "IPY_MODEL_52ed644e6f794c46b2c104abe7576c04",
              "IPY_MODEL_87baa5dbb02a450e8ac9a5a827e57b15",
              "IPY_MODEL_3ef3a56b073d4a14b9438e621b8737ef"
            ],
            "layout": "IPY_MODEL_555e4cfe78584977a998b02fff6366f7"
          }
        },
        "52ed644e6f794c46b2c104abe7576c04": {
          "model_module": "@jupyter-widgets/controls",
          "model_name": "HTMLModel",
          "model_module_version": "1.5.0",
          "state": {
            "_dom_classes": [],
            "_model_module": "@jupyter-widgets/controls",
            "_model_module_version": "1.5.0",
            "_model_name": "HTMLModel",
            "_view_count": null,
            "_view_module": "@jupyter-widgets/controls",
            "_view_module_version": "1.5.0",
            "_view_name": "HTMLView",
            "description": "",
            "description_tooltip": null,
            "layout": "IPY_MODEL_67dc9f546235466d934f2818bc8daa23",
            "placeholder": "​",
            "style": "IPY_MODEL_b301dd1734094f9a8e9919fc45f6c4e9",
            "value": "merges.txt: 100%"
          }
        },
        "87baa5dbb02a450e8ac9a5a827e57b15": {
          "model_module": "@jupyter-widgets/controls",
          "model_name": "FloatProgressModel",
          "model_module_version": "1.5.0",
          "state": {
            "_dom_classes": [],
            "_model_module": "@jupyter-widgets/controls",
            "_model_module_version": "1.5.0",
            "_model_name": "FloatProgressModel",
            "_view_count": null,
            "_view_module": "@jupyter-widgets/controls",
            "_view_module_version": "1.5.0",
            "_view_name": "ProgressView",
            "bar_style": "success",
            "description": "",
            "description_tooltip": null,
            "layout": "IPY_MODEL_84d0adb74856468dade4127143f0e2e1",
            "max": 456318,
            "min": 0,
            "orientation": "horizontal",
            "style": "IPY_MODEL_b40bae87718f492e9c4839ccd77f8f1b",
            "value": 456318
          }
        },
        "3ef3a56b073d4a14b9438e621b8737ef": {
          "model_module": "@jupyter-widgets/controls",
          "model_name": "HTMLModel",
          "model_module_version": "1.5.0",
          "state": {
            "_dom_classes": [],
            "_model_module": "@jupyter-widgets/controls",
            "_model_module_version": "1.5.0",
            "_model_name": "HTMLModel",
            "_view_count": null,
            "_view_module": "@jupyter-widgets/controls",
            "_view_module_version": "1.5.0",
            "_view_name": "HTMLView",
            "description": "",
            "description_tooltip": null,
            "layout": "IPY_MODEL_8f8de28ae6b14c62a2aa86119b57e926",
            "placeholder": "​",
            "style": "IPY_MODEL_95f861c6160a4b65b4015d4016700301",
            "value": " 456k/456k [00:00&lt;00:00, 2.33MB/s]"
          }
        },
        "555e4cfe78584977a998b02fff6366f7": {
          "model_module": "@jupyter-widgets/base",
          "model_name": "LayoutModel",
          "model_module_version": "1.2.0",
          "state": {
            "_model_module": "@jupyter-widgets/base",
            "_model_module_version": "1.2.0",
            "_model_name": "LayoutModel",
            "_view_count": null,
            "_view_module": "@jupyter-widgets/base",
            "_view_module_version": "1.2.0",
            "_view_name": "LayoutView",
            "align_content": null,
            "align_items": null,
            "align_self": null,
            "border": null,
            "bottom": null,
            "display": null,
            "flex": null,
            "flex_flow": null,
            "grid_area": null,
            "grid_auto_columns": null,
            "grid_auto_flow": null,
            "grid_auto_rows": null,
            "grid_column": null,
            "grid_gap": null,
            "grid_row": null,
            "grid_template_areas": null,
            "grid_template_columns": null,
            "grid_template_rows": null,
            "height": null,
            "justify_content": null,
            "justify_items": null,
            "left": null,
            "margin": null,
            "max_height": null,
            "max_width": null,
            "min_height": null,
            "min_width": null,
            "object_fit": null,
            "object_position": null,
            "order": null,
            "overflow": null,
            "overflow_x": null,
            "overflow_y": null,
            "padding": null,
            "right": null,
            "top": null,
            "visibility": null,
            "width": null
          }
        },
        "67dc9f546235466d934f2818bc8daa23": {
          "model_module": "@jupyter-widgets/base",
          "model_name": "LayoutModel",
          "model_module_version": "1.2.0",
          "state": {
            "_model_module": "@jupyter-widgets/base",
            "_model_module_version": "1.2.0",
            "_model_name": "LayoutModel",
            "_view_count": null,
            "_view_module": "@jupyter-widgets/base",
            "_view_module_version": "1.2.0",
            "_view_name": "LayoutView",
            "align_content": null,
            "align_items": null,
            "align_self": null,
            "border": null,
            "bottom": null,
            "display": null,
            "flex": null,
            "flex_flow": null,
            "grid_area": null,
            "grid_auto_columns": null,
            "grid_auto_flow": null,
            "grid_auto_rows": null,
            "grid_column": null,
            "grid_gap": null,
            "grid_row": null,
            "grid_template_areas": null,
            "grid_template_columns": null,
            "grid_template_rows": null,
            "height": null,
            "justify_content": null,
            "justify_items": null,
            "left": null,
            "margin": null,
            "max_height": null,
            "max_width": null,
            "min_height": null,
            "min_width": null,
            "object_fit": null,
            "object_position": null,
            "order": null,
            "overflow": null,
            "overflow_x": null,
            "overflow_y": null,
            "padding": null,
            "right": null,
            "top": null,
            "visibility": null,
            "width": null
          }
        },
        "b301dd1734094f9a8e9919fc45f6c4e9": {
          "model_module": "@jupyter-widgets/controls",
          "model_name": "DescriptionStyleModel",
          "model_module_version": "1.5.0",
          "state": {
            "_model_module": "@jupyter-widgets/controls",
            "_model_module_version": "1.5.0",
            "_model_name": "DescriptionStyleModel",
            "_view_count": null,
            "_view_module": "@jupyter-widgets/base",
            "_view_module_version": "1.2.0",
            "_view_name": "StyleView",
            "description_width": ""
          }
        },
        "84d0adb74856468dade4127143f0e2e1": {
          "model_module": "@jupyter-widgets/base",
          "model_name": "LayoutModel",
          "model_module_version": "1.2.0",
          "state": {
            "_model_module": "@jupyter-widgets/base",
            "_model_module_version": "1.2.0",
            "_model_name": "LayoutModel",
            "_view_count": null,
            "_view_module": "@jupyter-widgets/base",
            "_view_module_version": "1.2.0",
            "_view_name": "LayoutView",
            "align_content": null,
            "align_items": null,
            "align_self": null,
            "border": null,
            "bottom": null,
            "display": null,
            "flex": null,
            "flex_flow": null,
            "grid_area": null,
            "grid_auto_columns": null,
            "grid_auto_flow": null,
            "grid_auto_rows": null,
            "grid_column": null,
            "grid_gap": null,
            "grid_row": null,
            "grid_template_areas": null,
            "grid_template_columns": null,
            "grid_template_rows": null,
            "height": null,
            "justify_content": null,
            "justify_items": null,
            "left": null,
            "margin": null,
            "max_height": null,
            "max_width": null,
            "min_height": null,
            "min_width": null,
            "object_fit": null,
            "object_position": null,
            "order": null,
            "overflow": null,
            "overflow_x": null,
            "overflow_y": null,
            "padding": null,
            "right": null,
            "top": null,
            "visibility": null,
            "width": null
          }
        },
        "b40bae87718f492e9c4839ccd77f8f1b": {
          "model_module": "@jupyter-widgets/controls",
          "model_name": "ProgressStyleModel",
          "model_module_version": "1.5.0",
          "state": {
            "_model_module": "@jupyter-widgets/controls",
            "_model_module_version": "1.5.0",
            "_model_name": "ProgressStyleModel",
            "_view_count": null,
            "_view_module": "@jupyter-widgets/base",
            "_view_module_version": "1.2.0",
            "_view_name": "StyleView",
            "bar_color": null,
            "description_width": ""
          }
        },
        "8f8de28ae6b14c62a2aa86119b57e926": {
          "model_module": "@jupyter-widgets/base",
          "model_name": "LayoutModel",
          "model_module_version": "1.2.0",
          "state": {
            "_model_module": "@jupyter-widgets/base",
            "_model_module_version": "1.2.0",
            "_model_name": "LayoutModel",
            "_view_count": null,
            "_view_module": "@jupyter-widgets/base",
            "_view_module_version": "1.2.0",
            "_view_name": "LayoutView",
            "align_content": null,
            "align_items": null,
            "align_self": null,
            "border": null,
            "bottom": null,
            "display": null,
            "flex": null,
            "flex_flow": null,
            "grid_area": null,
            "grid_auto_columns": null,
            "grid_auto_flow": null,
            "grid_auto_rows": null,
            "grid_column": null,
            "grid_gap": null,
            "grid_row": null,
            "grid_template_areas": null,
            "grid_template_columns": null,
            "grid_template_rows": null,
            "height": null,
            "justify_content": null,
            "justify_items": null,
            "left": null,
            "margin": null,
            "max_height": null,
            "max_width": null,
            "min_height": null,
            "min_width": null,
            "object_fit": null,
            "object_position": null,
            "order": null,
            "overflow": null,
            "overflow_x": null,
            "overflow_y": null,
            "padding": null,
            "right": null,
            "top": null,
            "visibility": null,
            "width": null
          }
        },
        "95f861c6160a4b65b4015d4016700301": {
          "model_module": "@jupyter-widgets/controls",
          "model_name": "DescriptionStyleModel",
          "model_module_version": "1.5.0",
          "state": {
            "_model_module": "@jupyter-widgets/controls",
            "_model_module_version": "1.5.0",
            "_model_name": "DescriptionStyleModel",
            "_view_count": null,
            "_view_module": "@jupyter-widgets/base",
            "_view_module_version": "1.2.0",
            "_view_name": "StyleView",
            "description_width": ""
          }
        },
        "5be23f5cb9134b8c85ab96753f036b79": {
          "model_module": "@jupyter-widgets/controls",
          "model_name": "HBoxModel",
          "model_module_version": "1.5.0",
          "state": {
            "_dom_classes": [],
            "_model_module": "@jupyter-widgets/controls",
            "_model_module_version": "1.5.0",
            "_model_name": "HBoxModel",
            "_view_count": null,
            "_view_module": "@jupyter-widgets/controls",
            "_view_module_version": "1.5.0",
            "_view_name": "HBoxView",
            "box_style": "",
            "children": [
              "IPY_MODEL_64681fdfba794b3ca205d58bdac946db",
              "IPY_MODEL_fcae2b43e69745a39708d3051b5a9c26",
              "IPY_MODEL_33a85376823741de86737f52478d9c5e"
            ],
            "layout": "IPY_MODEL_eaf0107c77644ee68de22689bd6c7be4"
          }
        },
        "64681fdfba794b3ca205d58bdac946db": {
          "model_module": "@jupyter-widgets/controls",
          "model_name": "HTMLModel",
          "model_module_version": "1.5.0",
          "state": {
            "_dom_classes": [],
            "_model_module": "@jupyter-widgets/controls",
            "_model_module_version": "1.5.0",
            "_model_name": "HTMLModel",
            "_view_count": null,
            "_view_module": "@jupyter-widgets/controls",
            "_view_module_version": "1.5.0",
            "_view_name": "HTMLView",
            "description": "",
            "description_tooltip": null,
            "layout": "IPY_MODEL_c23cd9fc6bd140f5b3e1b6cc53447198",
            "placeholder": "​",
            "style": "IPY_MODEL_281964e3f3f14f3b8cb2febdfa776592",
            "value": "tokenizer.json: 100%"
          }
        },
        "fcae2b43e69745a39708d3051b5a9c26": {
          "model_module": "@jupyter-widgets/controls",
          "model_name": "FloatProgressModel",
          "model_module_version": "1.5.0",
          "state": {
            "_dom_classes": [],
            "_model_module": "@jupyter-widgets/controls",
            "_model_module_version": "1.5.0",
            "_model_name": "FloatProgressModel",
            "_view_count": null,
            "_view_module": "@jupyter-widgets/controls",
            "_view_module_version": "1.5.0",
            "_view_name": "ProgressView",
            "bar_style": "success",
            "description": "",
            "description_tooltip": null,
            "layout": "IPY_MODEL_1e8009a564da48149d13aa00a6ba37d5",
            "max": 1355863,
            "min": 0,
            "orientation": "horizontal",
            "style": "IPY_MODEL_d02bbf1562884160ae62e6e83751baa6",
            "value": 1355863
          }
        },
        "33a85376823741de86737f52478d9c5e": {
          "model_module": "@jupyter-widgets/controls",
          "model_name": "HTMLModel",
          "model_module_version": "1.5.0",
          "state": {
            "_dom_classes": [],
            "_model_module": "@jupyter-widgets/controls",
            "_model_module_version": "1.5.0",
            "_model_name": "HTMLModel",
            "_view_count": null,
            "_view_module": "@jupyter-widgets/controls",
            "_view_module_version": "1.5.0",
            "_view_name": "HTMLView",
            "description": "",
            "description_tooltip": null,
            "layout": "IPY_MODEL_dcd07cea22b945c5ab7eefb12bf442e5",
            "placeholder": "​",
            "style": "IPY_MODEL_7e3e1ad7d6734a0486bc0f27f5154bdf",
            "value": " 1.36M/1.36M [00:00&lt;00:00, 6.73MB/s]"
          }
        },
        "eaf0107c77644ee68de22689bd6c7be4": {
          "model_module": "@jupyter-widgets/base",
          "model_name": "LayoutModel",
          "model_module_version": "1.2.0",
          "state": {
            "_model_module": "@jupyter-widgets/base",
            "_model_module_version": "1.2.0",
            "_model_name": "LayoutModel",
            "_view_count": null,
            "_view_module": "@jupyter-widgets/base",
            "_view_module_version": "1.2.0",
            "_view_name": "LayoutView",
            "align_content": null,
            "align_items": null,
            "align_self": null,
            "border": null,
            "bottom": null,
            "display": null,
            "flex": null,
            "flex_flow": null,
            "grid_area": null,
            "grid_auto_columns": null,
            "grid_auto_flow": null,
            "grid_auto_rows": null,
            "grid_column": null,
            "grid_gap": null,
            "grid_row": null,
            "grid_template_areas": null,
            "grid_template_columns": null,
            "grid_template_rows": null,
            "height": null,
            "justify_content": null,
            "justify_items": null,
            "left": null,
            "margin": null,
            "max_height": null,
            "max_width": null,
            "min_height": null,
            "min_width": null,
            "object_fit": null,
            "object_position": null,
            "order": null,
            "overflow": null,
            "overflow_x": null,
            "overflow_y": null,
            "padding": null,
            "right": null,
            "top": null,
            "visibility": null,
            "width": null
          }
        },
        "c23cd9fc6bd140f5b3e1b6cc53447198": {
          "model_module": "@jupyter-widgets/base",
          "model_name": "LayoutModel",
          "model_module_version": "1.2.0",
          "state": {
            "_model_module": "@jupyter-widgets/base",
            "_model_module_version": "1.2.0",
            "_model_name": "LayoutModel",
            "_view_count": null,
            "_view_module": "@jupyter-widgets/base",
            "_view_module_version": "1.2.0",
            "_view_name": "LayoutView",
            "align_content": null,
            "align_items": null,
            "align_self": null,
            "border": null,
            "bottom": null,
            "display": null,
            "flex": null,
            "flex_flow": null,
            "grid_area": null,
            "grid_auto_columns": null,
            "grid_auto_flow": null,
            "grid_auto_rows": null,
            "grid_column": null,
            "grid_gap": null,
            "grid_row": null,
            "grid_template_areas": null,
            "grid_template_columns": null,
            "grid_template_rows": null,
            "height": null,
            "justify_content": null,
            "justify_items": null,
            "left": null,
            "margin": null,
            "max_height": null,
            "max_width": null,
            "min_height": null,
            "min_width": null,
            "object_fit": null,
            "object_position": null,
            "order": null,
            "overflow": null,
            "overflow_x": null,
            "overflow_y": null,
            "padding": null,
            "right": null,
            "top": null,
            "visibility": null,
            "width": null
          }
        },
        "281964e3f3f14f3b8cb2febdfa776592": {
          "model_module": "@jupyter-widgets/controls",
          "model_name": "DescriptionStyleModel",
          "model_module_version": "1.5.0",
          "state": {
            "_model_module": "@jupyter-widgets/controls",
            "_model_module_version": "1.5.0",
            "_model_name": "DescriptionStyleModel",
            "_view_count": null,
            "_view_module": "@jupyter-widgets/base",
            "_view_module_version": "1.2.0",
            "_view_name": "StyleView",
            "description_width": ""
          }
        },
        "1e8009a564da48149d13aa00a6ba37d5": {
          "model_module": "@jupyter-widgets/base",
          "model_name": "LayoutModel",
          "model_module_version": "1.2.0",
          "state": {
            "_model_module": "@jupyter-widgets/base",
            "_model_module_version": "1.2.0",
            "_model_name": "LayoutModel",
            "_view_count": null,
            "_view_module": "@jupyter-widgets/base",
            "_view_module_version": "1.2.0",
            "_view_name": "LayoutView",
            "align_content": null,
            "align_items": null,
            "align_self": null,
            "border": null,
            "bottom": null,
            "display": null,
            "flex": null,
            "flex_flow": null,
            "grid_area": null,
            "grid_auto_columns": null,
            "grid_auto_flow": null,
            "grid_auto_rows": null,
            "grid_column": null,
            "grid_gap": null,
            "grid_row": null,
            "grid_template_areas": null,
            "grid_template_columns": null,
            "grid_template_rows": null,
            "height": null,
            "justify_content": null,
            "justify_items": null,
            "left": null,
            "margin": null,
            "max_height": null,
            "max_width": null,
            "min_height": null,
            "min_width": null,
            "object_fit": null,
            "object_position": null,
            "order": null,
            "overflow": null,
            "overflow_x": null,
            "overflow_y": null,
            "padding": null,
            "right": null,
            "top": null,
            "visibility": null,
            "width": null
          }
        },
        "d02bbf1562884160ae62e6e83751baa6": {
          "model_module": "@jupyter-widgets/controls",
          "model_name": "ProgressStyleModel",
          "model_module_version": "1.5.0",
          "state": {
            "_model_module": "@jupyter-widgets/controls",
            "_model_module_version": "1.5.0",
            "_model_name": "ProgressStyleModel",
            "_view_count": null,
            "_view_module": "@jupyter-widgets/base",
            "_view_module_version": "1.2.0",
            "_view_name": "StyleView",
            "bar_color": null,
            "description_width": ""
          }
        },
        "dcd07cea22b945c5ab7eefb12bf442e5": {
          "model_module": "@jupyter-widgets/base",
          "model_name": "LayoutModel",
          "model_module_version": "1.2.0",
          "state": {
            "_model_module": "@jupyter-widgets/base",
            "_model_module_version": "1.2.0",
            "_model_name": "LayoutModel",
            "_view_count": null,
            "_view_module": "@jupyter-widgets/base",
            "_view_module_version": "1.2.0",
            "_view_name": "LayoutView",
            "align_content": null,
            "align_items": null,
            "align_self": null,
            "border": null,
            "bottom": null,
            "display": null,
            "flex": null,
            "flex_flow": null,
            "grid_area": null,
            "grid_auto_columns": null,
            "grid_auto_flow": null,
            "grid_auto_rows": null,
            "grid_column": null,
            "grid_gap": null,
            "grid_row": null,
            "grid_template_areas": null,
            "grid_template_columns": null,
            "grid_template_rows": null,
            "height": null,
            "justify_content": null,
            "justify_items": null,
            "left": null,
            "margin": null,
            "max_height": null,
            "max_width": null,
            "min_height": null,
            "min_width": null,
            "object_fit": null,
            "object_position": null,
            "order": null,
            "overflow": null,
            "overflow_x": null,
            "overflow_y": null,
            "padding": null,
            "right": null,
            "top": null,
            "visibility": null,
            "width": null
          }
        },
        "7e3e1ad7d6734a0486bc0f27f5154bdf": {
          "model_module": "@jupyter-widgets/controls",
          "model_name": "DescriptionStyleModel",
          "model_module_version": "1.5.0",
          "state": {
            "_model_module": "@jupyter-widgets/controls",
            "_model_module_version": "1.5.0",
            "_model_name": "DescriptionStyleModel",
            "_view_count": null,
            "_view_module": "@jupyter-widgets/base",
            "_view_module_version": "1.2.0",
            "_view_name": "StyleView",
            "description_width": ""
          }
        },
        "8a945d83929f454a99946fd6ad00edd2": {
          "model_module": "@jupyter-widgets/controls",
          "model_name": "HBoxModel",
          "model_module_version": "1.5.0",
          "state": {
            "_dom_classes": [],
            "_model_module": "@jupyter-widgets/controls",
            "_model_module_version": "1.5.0",
            "_model_name": "HBoxModel",
            "_view_count": null,
            "_view_module": "@jupyter-widgets/controls",
            "_view_module_version": "1.5.0",
            "_view_name": "HBoxView",
            "box_style": "",
            "children": [
              "IPY_MODEL_7847aa610c5642de8abb38fd54c5ba00",
              "IPY_MODEL_9c3b19f0ea9a4f1c845752b58ad97197",
              "IPY_MODEL_58e8a31038554e1a844880e76ede7cad"
            ],
            "layout": "IPY_MODEL_38cdcfd61b1c4165992af19bbeabebc4"
          }
        },
        "7847aa610c5642de8abb38fd54c5ba00": {
          "model_module": "@jupyter-widgets/controls",
          "model_name": "HTMLModel",
          "model_module_version": "1.5.0",
          "state": {
            "_dom_classes": [],
            "_model_module": "@jupyter-widgets/controls",
            "_model_module_version": "1.5.0",
            "_model_name": "HTMLModel",
            "_view_count": null,
            "_view_module": "@jupyter-widgets/controls",
            "_view_module_version": "1.5.0",
            "_view_name": "HTMLView",
            "description": "",
            "description_tooltip": null,
            "layout": "IPY_MODEL_557595d71e3f4229b60b8b7dc8304931",
            "placeholder": "​",
            "style": "IPY_MODEL_9aa2a04a1d824b4ca0bf2c69c23fe524",
            "value": "config.json: 100%"
          }
        },
        "9c3b19f0ea9a4f1c845752b58ad97197": {
          "model_module": "@jupyter-widgets/controls",
          "model_name": "FloatProgressModel",
          "model_module_version": "1.5.0",
          "state": {
            "_dom_classes": [],
            "_model_module": "@jupyter-widgets/controls",
            "_model_module_version": "1.5.0",
            "_model_name": "FloatProgressModel",
            "_view_count": null,
            "_view_module": "@jupyter-widgets/controls",
            "_view_module_version": "1.5.0",
            "_view_name": "ProgressView",
            "bar_style": "success",
            "description": "",
            "description_tooltip": null,
            "layout": "IPY_MODEL_1430ca38e5a64c63ad22374af2e8b298",
            "max": 481,
            "min": 0,
            "orientation": "horizontal",
            "style": "IPY_MODEL_c4acc078ae4748f38de54dc73726a27f",
            "value": 481
          }
        },
        "58e8a31038554e1a844880e76ede7cad": {
          "model_module": "@jupyter-widgets/controls",
          "model_name": "HTMLModel",
          "model_module_version": "1.5.0",
          "state": {
            "_dom_classes": [],
            "_model_module": "@jupyter-widgets/controls",
            "_model_module_version": "1.5.0",
            "_model_name": "HTMLModel",
            "_view_count": null,
            "_view_module": "@jupyter-widgets/controls",
            "_view_module_version": "1.5.0",
            "_view_name": "HTMLView",
            "description": "",
            "description_tooltip": null,
            "layout": "IPY_MODEL_3712604ffdf64bd7aa85d02eb7c55ee8",
            "placeholder": "​",
            "style": "IPY_MODEL_96b36d2e590943669be1dd6b3a8a0976",
            "value": " 481/481 [00:00&lt;00:00, 37.9kB/s]"
          }
        },
        "38cdcfd61b1c4165992af19bbeabebc4": {
          "model_module": "@jupyter-widgets/base",
          "model_name": "LayoutModel",
          "model_module_version": "1.2.0",
          "state": {
            "_model_module": "@jupyter-widgets/base",
            "_model_module_version": "1.2.0",
            "_model_name": "LayoutModel",
            "_view_count": null,
            "_view_module": "@jupyter-widgets/base",
            "_view_module_version": "1.2.0",
            "_view_name": "LayoutView",
            "align_content": null,
            "align_items": null,
            "align_self": null,
            "border": null,
            "bottom": null,
            "display": null,
            "flex": null,
            "flex_flow": null,
            "grid_area": null,
            "grid_auto_columns": null,
            "grid_auto_flow": null,
            "grid_auto_rows": null,
            "grid_column": null,
            "grid_gap": null,
            "grid_row": null,
            "grid_template_areas": null,
            "grid_template_columns": null,
            "grid_template_rows": null,
            "height": null,
            "justify_content": null,
            "justify_items": null,
            "left": null,
            "margin": null,
            "max_height": null,
            "max_width": null,
            "min_height": null,
            "min_width": null,
            "object_fit": null,
            "object_position": null,
            "order": null,
            "overflow": null,
            "overflow_x": null,
            "overflow_y": null,
            "padding": null,
            "right": null,
            "top": null,
            "visibility": null,
            "width": null
          }
        },
        "557595d71e3f4229b60b8b7dc8304931": {
          "model_module": "@jupyter-widgets/base",
          "model_name": "LayoutModel",
          "model_module_version": "1.2.0",
          "state": {
            "_model_module": "@jupyter-widgets/base",
            "_model_module_version": "1.2.0",
            "_model_name": "LayoutModel",
            "_view_count": null,
            "_view_module": "@jupyter-widgets/base",
            "_view_module_version": "1.2.0",
            "_view_name": "LayoutView",
            "align_content": null,
            "align_items": null,
            "align_self": null,
            "border": null,
            "bottom": null,
            "display": null,
            "flex": null,
            "flex_flow": null,
            "grid_area": null,
            "grid_auto_columns": null,
            "grid_auto_flow": null,
            "grid_auto_rows": null,
            "grid_column": null,
            "grid_gap": null,
            "grid_row": null,
            "grid_template_areas": null,
            "grid_template_columns": null,
            "grid_template_rows": null,
            "height": null,
            "justify_content": null,
            "justify_items": null,
            "left": null,
            "margin": null,
            "max_height": null,
            "max_width": null,
            "min_height": null,
            "min_width": null,
            "object_fit": null,
            "object_position": null,
            "order": null,
            "overflow": null,
            "overflow_x": null,
            "overflow_y": null,
            "padding": null,
            "right": null,
            "top": null,
            "visibility": null,
            "width": null
          }
        },
        "9aa2a04a1d824b4ca0bf2c69c23fe524": {
          "model_module": "@jupyter-widgets/controls",
          "model_name": "DescriptionStyleModel",
          "model_module_version": "1.5.0",
          "state": {
            "_model_module": "@jupyter-widgets/controls",
            "_model_module_version": "1.5.0",
            "_model_name": "DescriptionStyleModel",
            "_view_count": null,
            "_view_module": "@jupyter-widgets/base",
            "_view_module_version": "1.2.0",
            "_view_name": "StyleView",
            "description_width": ""
          }
        },
        "1430ca38e5a64c63ad22374af2e8b298": {
          "model_module": "@jupyter-widgets/base",
          "model_name": "LayoutModel",
          "model_module_version": "1.2.0",
          "state": {
            "_model_module": "@jupyter-widgets/base",
            "_model_module_version": "1.2.0",
            "_model_name": "LayoutModel",
            "_view_count": null,
            "_view_module": "@jupyter-widgets/base",
            "_view_module_version": "1.2.0",
            "_view_name": "LayoutView",
            "align_content": null,
            "align_items": null,
            "align_self": null,
            "border": null,
            "bottom": null,
            "display": null,
            "flex": null,
            "flex_flow": null,
            "grid_area": null,
            "grid_auto_columns": null,
            "grid_auto_flow": null,
            "grid_auto_rows": null,
            "grid_column": null,
            "grid_gap": null,
            "grid_row": null,
            "grid_template_areas": null,
            "grid_template_columns": null,
            "grid_template_rows": null,
            "height": null,
            "justify_content": null,
            "justify_items": null,
            "left": null,
            "margin": null,
            "max_height": null,
            "max_width": null,
            "min_height": null,
            "min_width": null,
            "object_fit": null,
            "object_position": null,
            "order": null,
            "overflow": null,
            "overflow_x": null,
            "overflow_y": null,
            "padding": null,
            "right": null,
            "top": null,
            "visibility": null,
            "width": null
          }
        },
        "c4acc078ae4748f38de54dc73726a27f": {
          "model_module": "@jupyter-widgets/controls",
          "model_name": "ProgressStyleModel",
          "model_module_version": "1.5.0",
          "state": {
            "_model_module": "@jupyter-widgets/controls",
            "_model_module_version": "1.5.0",
            "_model_name": "ProgressStyleModel",
            "_view_count": null,
            "_view_module": "@jupyter-widgets/base",
            "_view_module_version": "1.2.0",
            "_view_name": "StyleView",
            "bar_color": null,
            "description_width": ""
          }
        },
        "3712604ffdf64bd7aa85d02eb7c55ee8": {
          "model_module": "@jupyter-widgets/base",
          "model_name": "LayoutModel",
          "model_module_version": "1.2.0",
          "state": {
            "_model_module": "@jupyter-widgets/base",
            "_model_module_version": "1.2.0",
            "_model_name": "LayoutModel",
            "_view_count": null,
            "_view_module": "@jupyter-widgets/base",
            "_view_module_version": "1.2.0",
            "_view_name": "LayoutView",
            "align_content": null,
            "align_items": null,
            "align_self": null,
            "border": null,
            "bottom": null,
            "display": null,
            "flex": null,
            "flex_flow": null,
            "grid_area": null,
            "grid_auto_columns": null,
            "grid_auto_flow": null,
            "grid_auto_rows": null,
            "grid_column": null,
            "grid_gap": null,
            "grid_row": null,
            "grid_template_areas": null,
            "grid_template_columns": null,
            "grid_template_rows": null,
            "height": null,
            "justify_content": null,
            "justify_items": null,
            "left": null,
            "margin": null,
            "max_height": null,
            "max_width": null,
            "min_height": null,
            "min_width": null,
            "object_fit": null,
            "object_position": null,
            "order": null,
            "overflow": null,
            "overflow_x": null,
            "overflow_y": null,
            "padding": null,
            "right": null,
            "top": null,
            "visibility": null,
            "width": null
          }
        },
        "96b36d2e590943669be1dd6b3a8a0976": {
          "model_module": "@jupyter-widgets/controls",
          "model_name": "DescriptionStyleModel",
          "model_module_version": "1.5.0",
          "state": {
            "_model_module": "@jupyter-widgets/controls",
            "_model_module_version": "1.5.0",
            "_model_name": "DescriptionStyleModel",
            "_view_count": null,
            "_view_module": "@jupyter-widgets/base",
            "_view_module_version": "1.2.0",
            "_view_name": "StyleView",
            "description_width": ""
          }
        },
        "30a94164c693447fb97cf061b68354fc": {
          "model_module": "@jupyter-widgets/controls",
          "model_name": "HBoxModel",
          "model_module_version": "1.5.0",
          "state": {
            "_dom_classes": [],
            "_model_module": "@jupyter-widgets/controls",
            "_model_module_version": "1.5.0",
            "_model_name": "HBoxModel",
            "_view_count": null,
            "_view_module": "@jupyter-widgets/controls",
            "_view_module_version": "1.5.0",
            "_view_name": "HBoxView",
            "box_style": "",
            "children": [
              "IPY_MODEL_d294b2b4432f40949973c24add256d57",
              "IPY_MODEL_2ee0e3f0991e434e9d0d348923542526",
              "IPY_MODEL_315c1d13bd9949e4904f8ffce6e38da1"
            ],
            "layout": "IPY_MODEL_c14c7cc3c8a54fae8ff414c616739c90"
          }
        },
        "d294b2b4432f40949973c24add256d57": {
          "model_module": "@jupyter-widgets/controls",
          "model_name": "HTMLModel",
          "model_module_version": "1.5.0",
          "state": {
            "_dom_classes": [],
            "_model_module": "@jupyter-widgets/controls",
            "_model_module_version": "1.5.0",
            "_model_name": "HTMLModel",
            "_view_count": null,
            "_view_module": "@jupyter-widgets/controls",
            "_view_module_version": "1.5.0",
            "_view_name": "HTMLView",
            "description": "",
            "description_tooltip": null,
            "layout": "IPY_MODEL_8cf06b5817a04555bc56849a343e8294",
            "placeholder": "​",
            "style": "IPY_MODEL_33f6688f11334135b1e6f203dc3601dc",
            "value": "model.safetensors: 100%"
          }
        },
        "2ee0e3f0991e434e9d0d348923542526": {
          "model_module": "@jupyter-widgets/controls",
          "model_name": "FloatProgressModel",
          "model_module_version": "1.5.0",
          "state": {
            "_dom_classes": [],
            "_model_module": "@jupyter-widgets/controls",
            "_model_module_version": "1.5.0",
            "_model_name": "FloatProgressModel",
            "_view_count": null,
            "_view_module": "@jupyter-widgets/controls",
            "_view_module_version": "1.5.0",
            "_view_name": "ProgressView",
            "bar_style": "success",
            "description": "",
            "description_tooltip": null,
            "layout": "IPY_MODEL_bb8fb14552e6457ca1a099af02b28538",
            "max": 498818054,
            "min": 0,
            "orientation": "horizontal",
            "style": "IPY_MODEL_301370efe40c46c7b89cf778856b1434",
            "value": 498818054
          }
        },
        "315c1d13bd9949e4904f8ffce6e38da1": {
          "model_module": "@jupyter-widgets/controls",
          "model_name": "HTMLModel",
          "model_module_version": "1.5.0",
          "state": {
            "_dom_classes": [],
            "_model_module": "@jupyter-widgets/controls",
            "_model_module_version": "1.5.0",
            "_model_name": "HTMLModel",
            "_view_count": null,
            "_view_module": "@jupyter-widgets/controls",
            "_view_module_version": "1.5.0",
            "_view_name": "HTMLView",
            "description": "",
            "description_tooltip": null,
            "layout": "IPY_MODEL_29963b260e6c4e14b0483a4f0484d62e",
            "placeholder": "​",
            "style": "IPY_MODEL_51be46b45b9b46fba7666087b76788e2",
            "value": " 499M/499M [00:03&lt;00:00, 147MB/s]"
          }
        },
        "c14c7cc3c8a54fae8ff414c616739c90": {
          "model_module": "@jupyter-widgets/base",
          "model_name": "LayoutModel",
          "model_module_version": "1.2.0",
          "state": {
            "_model_module": "@jupyter-widgets/base",
            "_model_module_version": "1.2.0",
            "_model_name": "LayoutModel",
            "_view_count": null,
            "_view_module": "@jupyter-widgets/base",
            "_view_module_version": "1.2.0",
            "_view_name": "LayoutView",
            "align_content": null,
            "align_items": null,
            "align_self": null,
            "border": null,
            "bottom": null,
            "display": null,
            "flex": null,
            "flex_flow": null,
            "grid_area": null,
            "grid_auto_columns": null,
            "grid_auto_flow": null,
            "grid_auto_rows": null,
            "grid_column": null,
            "grid_gap": null,
            "grid_row": null,
            "grid_template_areas": null,
            "grid_template_columns": null,
            "grid_template_rows": null,
            "height": null,
            "justify_content": null,
            "justify_items": null,
            "left": null,
            "margin": null,
            "max_height": null,
            "max_width": null,
            "min_height": null,
            "min_width": null,
            "object_fit": null,
            "object_position": null,
            "order": null,
            "overflow": null,
            "overflow_x": null,
            "overflow_y": null,
            "padding": null,
            "right": null,
            "top": null,
            "visibility": null,
            "width": null
          }
        },
        "8cf06b5817a04555bc56849a343e8294": {
          "model_module": "@jupyter-widgets/base",
          "model_name": "LayoutModel",
          "model_module_version": "1.2.0",
          "state": {
            "_model_module": "@jupyter-widgets/base",
            "_model_module_version": "1.2.0",
            "_model_name": "LayoutModel",
            "_view_count": null,
            "_view_module": "@jupyter-widgets/base",
            "_view_module_version": "1.2.0",
            "_view_name": "LayoutView",
            "align_content": null,
            "align_items": null,
            "align_self": null,
            "border": null,
            "bottom": null,
            "display": null,
            "flex": null,
            "flex_flow": null,
            "grid_area": null,
            "grid_auto_columns": null,
            "grid_auto_flow": null,
            "grid_auto_rows": null,
            "grid_column": null,
            "grid_gap": null,
            "grid_row": null,
            "grid_template_areas": null,
            "grid_template_columns": null,
            "grid_template_rows": null,
            "height": null,
            "justify_content": null,
            "justify_items": null,
            "left": null,
            "margin": null,
            "max_height": null,
            "max_width": null,
            "min_height": null,
            "min_width": null,
            "object_fit": null,
            "object_position": null,
            "order": null,
            "overflow": null,
            "overflow_x": null,
            "overflow_y": null,
            "padding": null,
            "right": null,
            "top": null,
            "visibility": null,
            "width": null
          }
        },
        "33f6688f11334135b1e6f203dc3601dc": {
          "model_module": "@jupyter-widgets/controls",
          "model_name": "DescriptionStyleModel",
          "model_module_version": "1.5.0",
          "state": {
            "_model_module": "@jupyter-widgets/controls",
            "_model_module_version": "1.5.0",
            "_model_name": "DescriptionStyleModel",
            "_view_count": null,
            "_view_module": "@jupyter-widgets/base",
            "_view_module_version": "1.2.0",
            "_view_name": "StyleView",
            "description_width": ""
          }
        },
        "bb8fb14552e6457ca1a099af02b28538": {
          "model_module": "@jupyter-widgets/base",
          "model_name": "LayoutModel",
          "model_module_version": "1.2.0",
          "state": {
            "_model_module": "@jupyter-widgets/base",
            "_model_module_version": "1.2.0",
            "_model_name": "LayoutModel",
            "_view_count": null,
            "_view_module": "@jupyter-widgets/base",
            "_view_module_version": "1.2.0",
            "_view_name": "LayoutView",
            "align_content": null,
            "align_items": null,
            "align_self": null,
            "border": null,
            "bottom": null,
            "display": null,
            "flex": null,
            "flex_flow": null,
            "grid_area": null,
            "grid_auto_columns": null,
            "grid_auto_flow": null,
            "grid_auto_rows": null,
            "grid_column": null,
            "grid_gap": null,
            "grid_row": null,
            "grid_template_areas": null,
            "grid_template_columns": null,
            "grid_template_rows": null,
            "height": null,
            "justify_content": null,
            "justify_items": null,
            "left": null,
            "margin": null,
            "max_height": null,
            "max_width": null,
            "min_height": null,
            "min_width": null,
            "object_fit": null,
            "object_position": null,
            "order": null,
            "overflow": null,
            "overflow_x": null,
            "overflow_y": null,
            "padding": null,
            "right": null,
            "top": null,
            "visibility": null,
            "width": null
          }
        },
        "301370efe40c46c7b89cf778856b1434": {
          "model_module": "@jupyter-widgets/controls",
          "model_name": "ProgressStyleModel",
          "model_module_version": "1.5.0",
          "state": {
            "_model_module": "@jupyter-widgets/controls",
            "_model_module_version": "1.5.0",
            "_model_name": "ProgressStyleModel",
            "_view_count": null,
            "_view_module": "@jupyter-widgets/base",
            "_view_module_version": "1.2.0",
            "_view_name": "StyleView",
            "bar_color": null,
            "description_width": ""
          }
        },
        "29963b260e6c4e14b0483a4f0484d62e": {
          "model_module": "@jupyter-widgets/base",
          "model_name": "LayoutModel",
          "model_module_version": "1.2.0",
          "state": {
            "_model_module": "@jupyter-widgets/base",
            "_model_module_version": "1.2.0",
            "_model_name": "LayoutModel",
            "_view_count": null,
            "_view_module": "@jupyter-widgets/base",
            "_view_module_version": "1.2.0",
            "_view_name": "LayoutView",
            "align_content": null,
            "align_items": null,
            "align_self": null,
            "border": null,
            "bottom": null,
            "display": null,
            "flex": null,
            "flex_flow": null,
            "grid_area": null,
            "grid_auto_columns": null,
            "grid_auto_flow": null,
            "grid_auto_rows": null,
            "grid_column": null,
            "grid_gap": null,
            "grid_row": null,
            "grid_template_areas": null,
            "grid_template_columns": null,
            "grid_template_rows": null,
            "height": null,
            "justify_content": null,
            "justify_items": null,
            "left": null,
            "margin": null,
            "max_height": null,
            "max_width": null,
            "min_height": null,
            "min_width": null,
            "object_fit": null,
            "object_position": null,
            "order": null,
            "overflow": null,
            "overflow_x": null,
            "overflow_y": null,
            "padding": null,
            "right": null,
            "top": null,
            "visibility": null,
            "width": null
          }
        },
        "51be46b45b9b46fba7666087b76788e2": {
          "model_module": "@jupyter-widgets/controls",
          "model_name": "DescriptionStyleModel",
          "model_module_version": "1.5.0",
          "state": {
            "_model_module": "@jupyter-widgets/controls",
            "_model_module_version": "1.5.0",
            "_model_name": "DescriptionStyleModel",
            "_view_count": null,
            "_view_module": "@jupyter-widgets/base",
            "_view_module_version": "1.2.0",
            "_view_name": "StyleView",
            "description_width": ""
          }
        }
      }
    },
    "accelerator": "GPU"
  },
  "cells": [
    {
      "cell_type": "markdown",
      "metadata": {
        "id": "view-in-github",
        "colab_type": "text"
      },
      "source": [
        "<a href=\"https://colab.research.google.com/github/fatemakotha/Data-Science-and-Machine-Learning-Bootcamp/blob/master/IdiomDetection_using_machine_learning.ipynb\" target=\"_parent\"><img src=\"https://colab.research.google.com/assets/colab-badge.svg\" alt=\"Open In Colab\"/></a>"
      ]
    },
    {
      "cell_type": "markdown",
      "source": [
        "# Dataset Import"
      ],
      "metadata": {
        "id": "w4tub1UDOG5R"
      }
    },
    {
      "cell_type": "code",
      "source": [
        "import pandas as pd\n",
        "import requests\n",
        "from io import StringIO #StringIO class from the io module allows you to treat strings as files, enabling reading from or writing to an in-memory string buffer as if it were a file object.\n",
        "\n",
        "# GitHub URLs for the datasets\n",
        "dataset_urls = [\n",
        "    'https://raw.githubusercontent.com/H-TayyarMadabushi/AStitchInLanguageModels/main/Dataset/Task1/SubTaskA/EN/ContextExcluded_IdiomExcluded/dev.csv',\n",
        "    'https://raw.githubusercontent.com/H-TayyarMadabushi/AStitchInLanguageModels/main/Dataset/Task1/SubTaskA/EN/ContextExcluded_IdiomExcluded/test.csv',\n",
        "    'https://raw.githubusercontent.com/H-TayyarMadabushi/AStitchInLanguageModels/main/Dataset/Task1/SubTaskA/EN/ContextExcluded_IdiomExcluded/train_few_shot.csv',\n",
        "    'https://raw.githubusercontent.com/H-TayyarMadabushi/AStitchInLanguageModels/main/Dataset/Task1/SubTaskA/EN/ContextExcluded_IdiomExcluded/train_one_shot.csv',\n",
        "    'https://raw.githubusercontent.com/H-TayyarMadabushi/AStitchInLanguageModels/main/Dataset/Task1/SubTaskA/EN/ContextExcluded_IdiomExcluded/train_zero_shot.csv'\n",
        "]"
      ],
      "metadata": {
        "id": "qcVRntYrCEDz"
      },
      "execution_count": null,
      "outputs": []
    },
    {
      "cell_type": "code",
      "source": [
        "# Function to read data from GitHub URLs\n",
        "def read_data(url):\n",
        "    response = requests.get(url)\n",
        "    content = StringIO(response.text)#StringIO(response.text) is used to create a file-like object in memory.\n",
        "                                     #It takes the text content received from the HTTP response requests.get(url) and allows it to be treated as if it were a file.\n",
        "    return pd.read_csv(content)\n",
        "\n",
        "# Read datasets into DataFrames\n",
        "dev_df = read_data(dataset_urls[0])\n",
        "test_df = read_data(dataset_urls[1])\n",
        "train_few_shot_df = read_data(dataset_urls[2])\n",
        "train_one_shot_df = read_data(dataset_urls[3])\n",
        "train_zero_shot_df = read_data(dataset_urls[4])"
      ],
      "metadata": {
        "id": "sfhHYh0SNT68"
      },
      "execution_count": null,
      "outputs": []
    },
    {
      "cell_type": "markdown",
      "source": [
        "# Dataset Properties"
      ],
      "metadata": {
        "id": "hwfZAZ3DOUZs"
      }
    },
    {
      "cell_type": "code",
      "source": [
        "\n",
        "\n",
        "print(\"Dev Dataset:\")\n",
        "print(dev_df.info())\n",
        "\n",
        "print(\"\\nTest Dataset:\")\n",
        "print(test_df.info())\n",
        "\n",
        "print(\"\\nTrain Few Shot Dataset:\")\n",
        "print(train_few_shot_df.info())\n",
        "\n",
        "print(\"\\nTrain One Shot Dataset:\")\n",
        "print(train_one_shot_df.info())\n",
        "\n",
        "print(\"\\nTrain Zero Shot Dataset:\")\n",
        "print(train_zero_shot_df.info())\n"
      ],
      "metadata": {
        "colab": {
          "base_uri": "https://localhost:8080/"
        },
        "id": "OE3PwCgpNT4c",
        "outputId": "406baf7b-ea22-4e79-8de2-705df39bf2ea"
      },
      "execution_count": null,
      "outputs": [
        {
          "output_type": "stream",
          "name": "stdout",
          "text": [
            "Dev Dataset:\n",
            "<class 'pandas.core.frame.DataFrame'>\n",
            "RangeIndex: 466 entries, 0 to 465\n",
            "Data columns (total 2 columns):\n",
            " #   Column     Non-Null Count  Dtype \n",
            "---  ------     --------------  ----- \n",
            " 0   label      466 non-null    int64 \n",
            " 1   sentence1  466 non-null    object\n",
            "dtypes: int64(1), object(1)\n",
            "memory usage: 7.4+ KB\n",
            "None\n",
            "\n",
            "Test Dataset:\n",
            "<class 'pandas.core.frame.DataFrame'>\n",
            "RangeIndex: 483 entries, 0 to 482\n",
            "Data columns (total 2 columns):\n",
            " #   Column     Non-Null Count  Dtype \n",
            "---  ------     --------------  ----- \n",
            " 0   label      483 non-null    int64 \n",
            " 1   sentence1  483 non-null    object\n",
            "dtypes: int64(1), object(1)\n",
            "memory usage: 7.7+ KB\n",
            "None\n",
            "\n",
            "Train Few Shot Dataset:\n",
            "<class 'pandas.core.frame.DataFrame'>\n",
            "RangeIndex: 282 entries, 0 to 281\n",
            "Data columns (total 2 columns):\n",
            " #   Column     Non-Null Count  Dtype \n",
            "---  ------     --------------  ----- \n",
            " 0   label      282 non-null    int64 \n",
            " 1   sentence1  282 non-null    object\n",
            "dtypes: int64(1), object(1)\n",
            "memory usage: 4.5+ KB\n",
            "None\n",
            "\n",
            "Train One Shot Dataset:\n",
            "<class 'pandas.core.frame.DataFrame'>\n",
            "RangeIndex: 87 entries, 0 to 86\n",
            "Data columns (total 2 columns):\n",
            " #   Column     Non-Null Count  Dtype \n",
            "---  ------     --------------  ----- \n",
            " 0   label      87 non-null     int64 \n",
            " 1   sentence1  87 non-null     object\n",
            "dtypes: int64(1), object(1)\n",
            "memory usage: 1.5+ KB\n",
            "None\n",
            "\n",
            "Train Zero Shot Dataset:\n",
            "<class 'pandas.core.frame.DataFrame'>\n",
            "RangeIndex: 3327 entries, 0 to 3326\n",
            "Data columns (total 2 columns):\n",
            " #   Column     Non-Null Count  Dtype \n",
            "---  ------     --------------  ----- \n",
            " 0   label      3327 non-null   int64 \n",
            " 1   sentence1  3327 non-null   object\n",
            "dtypes: int64(1), object(1)\n",
            "memory usage: 52.1+ KB\n",
            "None\n"
          ]
        }
      ]
    },
    {
      "cell_type": "markdown",
      "source": [
        "#----------------------------------------------------------------------------------------------------------------------------------------"
      ],
      "metadata": {
        "id": "GMm2m5vnzopD"
      }
    },
    {
      "cell_type": "code",
      "source": [
        "print(\"Head of dev_df:\")\n",
        "print(dev_df.head())"
      ],
      "metadata": {
        "colab": {
          "base_uri": "https://localhost:8080/"
        },
        "id": "_JVnYp4ONT11",
        "outputId": "2f35693b-01fd-40a5-9d77-ca1a898a7497"
      },
      "execution_count": null,
      "outputs": [
        {
          "output_type": "stream",
          "name": "stdout",
          "text": [
            "Head of dev_df:\n",
            "   label                                          sentence1\n",
            "0      1  Are these interruptions of the good life a nec...\n",
            "1      1  But for Australian fashion designer Abby Kheir...\n",
            "2      1  With that, I will be enjoying the pleasures of...\n",
            "3      1  Fendi offered swaddling, belted coats resembli...\n",
            "4      1  Rick Ross and Diddy exemplify the high life, t...\n"
          ]
        }
      ]
    },
    {
      "cell_type": "markdown",
      "source": [
        "**There are no null values in dev_df**"
      ],
      "metadata": {
        "id": "Bgsk4QNXysDM"
      }
    },
    {
      "cell_type": "code",
      "source": [
        "print(\"Null Values in dev_df:\")\n",
        "print(dev_df.isnull().sum())"
      ],
      "metadata": {
        "colab": {
          "base_uri": "https://localhost:8080/"
        },
        "id": "WInaOLbKNTzF",
        "outputId": "11fb8167-4e8a-43fb-9e6b-dafbaaf1c76a"
      },
      "execution_count": null,
      "outputs": [
        {
          "output_type": "stream",
          "name": "stdout",
          "text": [
            "Null Values in dev_df:\n",
            "label        0\n",
            "sentence1    0\n",
            "dtype: int64\n"
          ]
        }
      ]
    },
    {
      "cell_type": "code",
      "source": [
        "print(\"Head of test_df:\")\n",
        "print(test_df.head())"
      ],
      "metadata": {
        "colab": {
          "base_uri": "https://localhost:8080/"
        },
        "id": "g_ID7Yx8NTsn",
        "outputId": "09ae43de-1a4d-4834-ec5d-2845439c4c73"
      },
      "execution_count": null,
      "outputs": [
        {
          "output_type": "stream",
          "name": "stdout",
          "text": [
            "Head of test_df:\n",
            "   label                                          sentence1\n",
            "0      1  The Secretary of State’s office became aware o...\n",
            "1      1  Organizations and individuals may rent the AAF...\n",
            "2      1  TDHCA will be providing updates on how to appl...\n",
            "3      1  All major Linux distributions also received th...\n",
            "4      1  Larger and active mailing lists (e.g., more th...\n"
          ]
        }
      ]
    },
    {
      "cell_type": "markdown",
      "source": [
        "**There are no null values in test_df**"
      ],
      "metadata": {
        "id": "nhPXz9sWyzsg"
      }
    },
    {
      "cell_type": "code",
      "source": [
        "print(\"Null Values in test_df:\")\n",
        "print(test_df.isnull().sum())"
      ],
      "metadata": {
        "colab": {
          "base_uri": "https://localhost:8080/"
        },
        "id": "A4_nukkQNTnH",
        "outputId": "8e015fe7-489a-4217-b3d2-063b81f6e589"
      },
      "execution_count": null,
      "outputs": [
        {
          "output_type": "stream",
          "name": "stdout",
          "text": [
            "Null Values in test_df:\n",
            "label        0\n",
            "sentence1    0\n",
            "dtype: int64\n"
          ]
        }
      ]
    },
    {
      "cell_type": "code",
      "source": [
        "print(\"Head of train_few_shot_df:\")\n",
        "print(train_few_shot_df.head())"
      ],
      "metadata": {
        "colab": {
          "base_uri": "https://localhost:8080/"
        },
        "id": "eNYI7PR_NTQz",
        "outputId": "29df87e8-e338-4cfd-f9f9-9ad18a6b7031"
      },
      "execution_count": null,
      "outputs": [
        {
          "output_type": "stream",
          "name": "stdout",
          "text": [
            "Head of train_few_shot_df:\n",
            "   label                                          sentence1\n",
            "0      1                              Living the high life!\n",
            "1      1  My life is less of this,” he says as scenes ro...\n",
            "2      1  Back in 1876, no one could work out how Belkna...\n",
            "3      1  Despite having the riches to afford the high l...\n",
            "4      1  We encourage you to invest carefully and read ...\n"
          ]
        }
      ]
    },
    {
      "cell_type": "markdown",
      "source": [
        "**There are no null values in few_shot_df**"
      ],
      "metadata": {
        "id": "b8d4lT6Hy3Mo"
      }
    },
    {
      "cell_type": "code",
      "source": [
        "print(\"Null Values in train_few_shot_df:\")\n",
        "print(train_few_shot_df.isnull().sum())"
      ],
      "metadata": {
        "colab": {
          "base_uri": "https://localhost:8080/"
        },
        "id": "KyMizEHUOdeY",
        "outputId": "b6d10dee-437c-4e00-a088-8a9288774652"
      },
      "execution_count": null,
      "outputs": [
        {
          "output_type": "stream",
          "name": "stdout",
          "text": [
            "Null Values in train_few_shot_df:\n",
            "label        0\n",
            "sentence1    0\n",
            "dtype: int64\n"
          ]
        }
      ]
    },
    {
      "cell_type": "code",
      "source": [
        "print(\"Head of train_one_shot_df:\")\n",
        "print(train_one_shot_df.head())"
      ],
      "metadata": {
        "colab": {
          "base_uri": "https://localhost:8080/"
        },
        "id": "7PZ_Pvi6OeCS",
        "outputId": "79d074e4-5b6b-4f89-9b5d-ccac9391cd84"
      },
      "execution_count": null,
      "outputs": [
        {
          "output_type": "stream",
          "name": "stdout",
          "text": [
            "Head of train_one_shot_df:\n",
            "   label                                          sentence1\n",
            "0      1  Despite having the riches to afford the high l...\n",
            "1      1  Minister of Family and Social Policy Marlena M...\n",
            "2      0  So Aaron faced the same brutal racism other Bl...\n",
            "3      0  Program leaders said the scholarship defines p...\n",
            "4      1  In the ensuing years, Wennberg might not have ...\n"
          ]
        }
      ]
    },
    {
      "cell_type": "markdown",
      "source": [
        "**There are no null values in train_one_shot_df**"
      ],
      "metadata": {
        "id": "ZvrfIxZEy7ox"
      }
    },
    {
      "cell_type": "code",
      "source": [
        "print(\"Null Values in train_one_shot_df:\")\n",
        "print(train_one_shot_df.isnull().sum())"
      ],
      "metadata": {
        "colab": {
          "base_uri": "https://localhost:8080/"
        },
        "id": "xWez8Z4jOfPa",
        "outputId": "39b24aef-5e1e-46ec-f688-65abfec688e1"
      },
      "execution_count": null,
      "outputs": [
        {
          "output_type": "stream",
          "name": "stdout",
          "text": [
            "Null Values in train_one_shot_df:\n",
            "label        0\n",
            "sentence1    0\n",
            "dtype: int64\n"
          ]
        }
      ]
    },
    {
      "cell_type": "code",
      "source": [
        "print(\"Head of train_zero_shot_df:\")\n",
        "print(train_zero_shot_df.head())"
      ],
      "metadata": {
        "colab": {
          "base_uri": "https://localhost:8080/"
        },
        "id": "31I1x5WbOgnd",
        "outputId": "beacf8c2-df78-4c4e-db54-570bae915ba5"
      },
      "execution_count": null,
      "outputs": [
        {
          "output_type": "stream",
          "name": "stdout",
          "text": [
            "Head of train_zero_shot_df:\n",
            "   label                                          sentence1\n",
            "0      0  There are several theories behind the origin o...\n",
            "1      0  Double Dutch also derives from the same era, D...\n",
            "2      0  Since 1977 we have had a plethora of Foreign M...\n",
            "3      0  Turns out that these people were speaking doub...\n",
            "4      0           Is Flemish premier talking double Dutch?\n"
          ]
        }
      ]
    },
    {
      "cell_type": "markdown",
      "source": [
        "**There are no null values in train_zero_shot_df**"
      ],
      "metadata": {
        "id": "2W_dwauCzAW5"
      }
    },
    {
      "cell_type": "code",
      "source": [
        "print(\"Null Values in train_zero_shot_df:\")\n",
        "print(train_zero_shot_df.isnull().sum())"
      ],
      "metadata": {
        "colab": {
          "base_uri": "https://localhost:8080/"
        },
        "id": "4fs0eaT1Oh8L",
        "outputId": "c6ca7407-e0fe-4e79-fd81-02f9b06e12f9"
      },
      "execution_count": null,
      "outputs": [
        {
          "output_type": "stream",
          "name": "stdout",
          "text": [
            "Null Values in train_zero_shot_df:\n",
            "label        0\n",
            "sentence1    0\n",
            "dtype: int64\n"
          ]
        }
      ]
    },
    {
      "cell_type": "markdown",
      "source": [
        "#----------------------------------------------------------------------------------------------------------------------------------------"
      ],
      "metadata": {
        "id": "OTsvM2ptzmz9"
      }
    },
    {
      "cell_type": "markdown",
      "source": [
        "# Summary"
      ],
      "metadata": {
        "id": "8yIRYjFuOkQn"
      }
    },
    {
      "cell_type": "code",
      "source": [
        "print(\"Summary Statistics for Dev Dataset:\")\n",
        "print(dev_df.describe())"
      ],
      "metadata": {
        "colab": {
          "base_uri": "https://localhost:8080/"
        },
        "id": "e4YrM89uOl2Y",
        "outputId": "7d494405-59e1-419e-ccd4-7a86cb9629d7"
      },
      "execution_count": null,
      "outputs": [
        {
          "output_type": "stream",
          "name": "stdout",
          "text": [
            "Summary Statistics for Dev Dataset:\n",
            "            label\n",
            "count  466.000000\n",
            "mean     0.609442\n",
            "std      0.488400\n",
            "min      0.000000\n",
            "25%      0.000000\n",
            "50%      1.000000\n",
            "75%      1.000000\n",
            "max      1.000000\n"
          ]
        }
      ]
    },
    {
      "cell_type": "code",
      "source": [
        "print(\"Summary Statistics for Test Dataset:\")\n",
        "print(test_df.describe())"
      ],
      "metadata": {
        "colab": {
          "base_uri": "https://localhost:8080/"
        },
        "id": "cpogmmZ2OnDb",
        "outputId": "2a373608-99ed-4073-ed7f-510c08a7fb34"
      },
      "execution_count": null,
      "outputs": [
        {
          "output_type": "stream",
          "name": "stdout",
          "text": [
            "Summary Statistics for Test Dataset:\n",
            "            label\n",
            "count  483.000000\n",
            "mean     0.691511\n",
            "std      0.462348\n",
            "min      0.000000\n",
            "25%      0.000000\n",
            "50%      1.000000\n",
            "75%      1.000000\n",
            "max      1.000000\n"
          ]
        }
      ]
    },
    {
      "cell_type": "code",
      "source": [
        "print(\"Summary Statistics for Train Few Shot Dataset:\")\n",
        "print(train_few_shot_df.describe())\n"
      ],
      "metadata": {
        "colab": {
          "base_uri": "https://localhost:8080/"
        },
        "id": "YFmsuv7KOoZv",
        "outputId": "cb135d6a-90ea-4253-dab2-d4a5d4608b3f"
      },
      "execution_count": null,
      "outputs": [
        {
          "output_type": "stream",
          "name": "stdout",
          "text": [
            "Summary Statistics for Train Few Shot Dataset:\n",
            "            label\n",
            "count  282.000000\n",
            "mean     0.656028\n",
            "std      0.475876\n",
            "min      0.000000\n",
            "25%      0.000000\n",
            "50%      1.000000\n",
            "75%      1.000000\n",
            "max      1.000000\n"
          ]
        }
      ]
    },
    {
      "cell_type": "code",
      "source": [
        "print(\"Summary Statistics for Train One Shot Dataset:\")\n",
        "print(train_one_shot_df.describe())\n"
      ],
      "metadata": {
        "colab": {
          "base_uri": "https://localhost:8080/"
        },
        "id": "6AJCJ11tOpjK",
        "outputId": "5b495580-9918-4ce8-dfcc-af7bc2d61cbc"
      },
      "execution_count": null,
      "outputs": [
        {
          "output_type": "stream",
          "name": "stdout",
          "text": [
            "Summary Statistics for Train One Shot Dataset:\n",
            "           label\n",
            "count  87.000000\n",
            "mean    0.632184\n",
            "std     0.485006\n",
            "min     0.000000\n",
            "25%     0.000000\n",
            "50%     1.000000\n",
            "75%     1.000000\n",
            "max     1.000000\n"
          ]
        }
      ]
    },
    {
      "cell_type": "code",
      "source": [
        "print(\"Summary Statistics for Train Zero Shot Dataset:\")\n",
        "print(train_zero_shot_df.describe())"
      ],
      "metadata": {
        "colab": {
          "base_uri": "https://localhost:8080/"
        },
        "id": "j1b4lgyTOqy9",
        "outputId": "ed4cebf2-af44-46d4-df6f-dbe425c4c731"
      },
      "execution_count": null,
      "outputs": [
        {
          "output_type": "stream",
          "name": "stdout",
          "text": [
            "Summary Statistics for Train Zero Shot Dataset:\n",
            "             label\n",
            "count  3327.000000\n",
            "mean      0.470394\n",
            "std       0.499198\n",
            "min       0.000000\n",
            "25%       0.000000\n",
            "50%       0.000000\n",
            "75%       1.000000\n",
            "max       1.000000\n"
          ]
        }
      ]
    },
    {
      "cell_type": "markdown",
      "source": [
        "#----------------------------------------------------------------------------------------------------------------------------------------"
      ],
      "metadata": {
        "id": "Vbcxmen6zlNO"
      }
    },
    {
      "cell_type": "markdown",
      "source": [
        "# Unique values\n",
        "\n"
      ],
      "metadata": {
        "id": "VOrbti3AOudk"
      }
    },
    {
      "cell_type": "markdown",
      "source": [
        "**Two kinds of Labels, 0 and 1. And 466 new sentences**"
      ],
      "metadata": {
        "id": "f8UNq92hzQPj"
      }
    },
    {
      "cell_type": "code",
      "source": [
        "\n",
        "print(\"Unique Values Count for Dev Dataset:\")\n",
        "print(dev_df.nunique())\n",
        "\n"
      ],
      "metadata": {
        "colab": {
          "base_uri": "https://localhost:8080/"
        },
        "id": "cq8tF55BOsUK",
        "outputId": "b5e6e0f6-76b5-41ff-85f1-b006a96012f7"
      },
      "execution_count": null,
      "outputs": [
        {
          "output_type": "stream",
          "name": "stdout",
          "text": [
            "Unique Values Count for Dev Dataset:\n",
            "label          2\n",
            "sentence1    466\n",
            "dtype: int64\n"
          ]
        }
      ]
    },
    {
      "cell_type": "markdown",
      "source": [
        "**Two kinds of Labels, 0 and 1. And 483 new sentences**"
      ],
      "metadata": {
        "id": "SED-9wi9zt8M"
      }
    },
    {
      "cell_type": "code",
      "source": [
        "print(\"Unique Values Count for Test Dataset:\")\n",
        "print(test_df.nunique())\n"
      ],
      "metadata": {
        "colab": {
          "base_uri": "https://localhost:8080/"
        },
        "id": "yMa5AzJIOxG7",
        "outputId": "7337dc1e-ade8-4da6-a516-afb7757783fa"
      },
      "execution_count": null,
      "outputs": [
        {
          "output_type": "stream",
          "name": "stdout",
          "text": [
            "Unique Values Count for Test Dataset:\n",
            "label          2\n",
            "sentence1    483\n",
            "dtype: int64\n"
          ]
        }
      ]
    },
    {
      "cell_type": "markdown",
      "source": [
        "**Two kinds of Labels, 0 and 1. And 282 new sentences**"
      ],
      "metadata": {
        "id": "E4N3IjEyzx1y"
      }
    },
    {
      "cell_type": "code",
      "source": [
        "print(\"Unique Values Count for Train Few Shot Dataset:\")\n",
        "print(train_few_shot_df.nunique())\n"
      ],
      "metadata": {
        "colab": {
          "base_uri": "https://localhost:8080/"
        },
        "id": "NgPUJyJHOz-4",
        "outputId": "2296f8c2-a4cb-4130-f7e8-f62b7c72fa41"
      },
      "execution_count": null,
      "outputs": [
        {
          "output_type": "stream",
          "name": "stdout",
          "text": [
            "Unique Values Count for Train Few Shot Dataset:\n",
            "label          2\n",
            "sentence1    282\n",
            "dtype: int64\n"
          ]
        }
      ]
    },
    {
      "cell_type": "markdown",
      "source": [
        "**Two kinds of Labels, 0 and 1. And 87 new sentences**"
      ],
      "metadata": {
        "id": "c1ITZDfzz0wn"
      }
    },
    {
      "cell_type": "code",
      "source": [
        "print(\"Unique Values Count for Train One Shot Dataset:\")\n",
        "print(train_one_shot_df.nunique())\n"
      ],
      "metadata": {
        "colab": {
          "base_uri": "https://localhost:8080/"
        },
        "id": "BnAbfFSSOyV3",
        "outputId": "bc557f29-68c7-4d19-fc2f-a54da3aa4466"
      },
      "execution_count": null,
      "outputs": [
        {
          "output_type": "stream",
          "name": "stdout",
          "text": [
            "Unique Values Count for Train One Shot Dataset:\n",
            "label         2\n",
            "sentence1    87\n",
            "dtype: int64\n"
          ]
        }
      ]
    },
    {
      "cell_type": "markdown",
      "source": [
        "**Two kinds of Labels, 0 and 1. And 3327 new sentences**"
      ],
      "metadata": {
        "id": "4m_JzRM4z4CQ"
      }
    },
    {
      "cell_type": "code",
      "source": [
        "print(\"Unique Values Count for Train Zero Shot Dataset:\")\n",
        "print(train_zero_shot_df.nunique())\n"
      ],
      "metadata": {
        "colab": {
          "base_uri": "https://localhost:8080/"
        },
        "id": "z5s4wl_kO2yf",
        "outputId": "7d7e6ae7-5c64-4715-d8ce-4a609d7aa179"
      },
      "execution_count": null,
      "outputs": [
        {
          "output_type": "stream",
          "name": "stdout",
          "text": [
            "Unique Values Count for Train Zero Shot Dataset:\n",
            "label           2\n",
            "sentence1    3327\n",
            "dtype: int64\n"
          ]
        }
      ]
    },
    {
      "cell_type": "markdown",
      "source": [
        "#----------------------------------------------------------------------------------------------------------------------------------------"
      ],
      "metadata": {
        "id": "7Nx5CH8F0AF1"
      }
    },
    {
      "cell_type": "markdown",
      "source": [
        "# **Visualizations**"
      ],
      "metadata": {
        "id": "GdwRtr71O7I5"
      }
    },
    {
      "cell_type": "code",
      "source": [
        "import seaborn as sns\n",
        "import matplotlib.pyplot as plt\n",
        "\n",
        "sns.set_style(\"whitegrid\")\n",
        "plt.figure(figsize=(18, 6))\n",
        "\n",
        "\n",
        "plt.subplot(1, 5, 1)\n",
        "sns.countplot(x=\"label\", data=dev_df)\n",
        "plt.title(\"Dev Dataset\")\n",
        "\n",
        "plt.tight_layout()\n",
        "plt.show()\n",
        "\n"
      ],
      "metadata": {
        "colab": {
          "base_uri": "https://localhost:8080/",
          "height": 607
        },
        "id": "o94WToX-PBDc",
        "outputId": "a6eca406-1a8b-44b0-86c9-b9425efad354"
      },
      "execution_count": null,
      "outputs": [
        {
          "output_type": "display_data",
          "data": {
            "text/plain": [
              "<Figure size 1800x600 with 1 Axes>"
            ],
            "image/png": "[encoded data removed]"
          },
          "metadata": {}
        }
      ]
    },
    {
      "cell_type": "code",
      "source": [
        "sns.set_style(\"whitegrid\")\n",
        "plt.figure(figsize=(18, 6))\n",
        "\n",
        "plt.subplot(1, 5, 2)\n",
        "sns.countplot(x=\"label\", data=test_df)\n",
        "plt.title(\"Test Dataset\")\n",
        "\n",
        "plt.tight_layout()\n",
        "plt.show()"
      ],
      "metadata": {
        "colab": {
          "base_uri": "https://localhost:8080/",
          "height": 607
        },
        "id": "jdnZO3Q5PGuk",
        "outputId": "b8b8a9df-9fc7-48ce-8591-48dd7127c28c"
      },
      "execution_count": null,
      "outputs": [
        {
          "output_type": "display_data",
          "data": {
            "text/plain": [
              "<Figure size 1800x600 with 1 Axes>"
            ],
            "image/png": "[encoded data removed]"
          },
          "metadata": {}
        }
      ]
    },
    {
      "cell_type": "code",
      "source": [
        "sns.set_style(\"whitegrid\")\n",
        "plt.figure(figsize=(18, 6))\n",
        "\n",
        "\n",
        "plt.subplot(1, 5, 3)\n",
        "sns.countplot(x=\"label\", data=train_few_shot_df)\n",
        "plt.title(\"Train Few Shot Dataset\")\n",
        "\n",
        "plt.tight_layout()\n",
        "plt.show()"
      ],
      "metadata": {
        "colab": {
          "base_uri": "https://localhost:8080/",
          "height": 607
        },
        "id": "yoUOjPo2PCMl",
        "outputId": "a7bb0842-d672-401d-94b5-e87aaaa1596c"
      },
      "execution_count": null,
      "outputs": [
        {
          "output_type": "display_data",
          "data": {
            "text/plain": [
              "<Figure size 1800x600 with 1 Axes>"
            ],
            "image/png": "[encoded data removed]"
          },
          "metadata": {}
        }
      ]
    },
    {
      "cell_type": "code",
      "source": [
        "sns.set_style(\"whitegrid\")\n",
        "plt.figure(figsize=(18, 6))\n",
        "\n",
        "\n",
        "plt.subplot(1, 5, 4)\n",
        "sns.countplot(x=\"label\", data=train_one_shot_df)\n",
        "plt.title(\"Train One Shot Dataset\")\n",
        "\n",
        "plt.tight_layout()\n",
        "plt.show()"
      ],
      "metadata": {
        "colab": {
          "base_uri": "https://localhost:8080/",
          "height": 607
        },
        "id": "gG4DEB0_PLHb",
        "outputId": "8f440052-b01f-4284-885d-6e8134a3c983"
      },
      "execution_count": null,
      "outputs": [
        {
          "output_type": "display_data",
          "data": {
            "text/plain": [
              "<Figure size 1800x600 with 1 Axes>"
            ],
            "image/png": "[encoded data removed]"
          },
          "metadata": {}
        }
      ]
    },
    {
      "cell_type": "code",
      "source": [
        "sns.set_style(\"whitegrid\")\n",
        "plt.figure(figsize=(18, 6))\n",
        "\n",
        "\n",
        "plt.subplot(1, 5, 5)\n",
        "sns.countplot(x=\"label\", data=train_zero_shot_df)\n",
        "plt.title(\"Train Zero Shot Dataset\")\n",
        "\n",
        "plt.tight_layout()\n",
        "plt.show()"
      ],
      "metadata": {
        "colab": {
          "base_uri": "https://localhost:8080/",
          "height": 607
        },
        "id": "6igZ0-6YPM7B",
        "outputId": "cefce0b9-c4af-4088-e02c-a6e27d07afc5"
      },
      "execution_count": null,
      "outputs": [
        {
          "output_type": "display_data",
          "data": {
            "text/plain": [
              "<Figure size 1800x600 with 1 Axes>"
            ],
            "image/png": "[encoded data removed]"
          },
          "metadata": {}
        }
      ]
    },
    {
      "cell_type": "markdown",
      "source": [
        "#----------------------------------------------------------------------------------------------------------------------------------------"
      ],
      "metadata": {
        "id": "KsN9Uzhr0CXd"
      }
    },
    {
      "cell_type": "markdown",
      "source": [
        "# **Descriptive statistics for sentence lengths**"
      ],
      "metadata": {
        "id": "qJxiVuFzQX81"
      }
    },
    {
      "cell_type": "markdown",
      "source": [
        "`.apply(lambda x: len(x.split()))`: Applies a function to each element in the \"sentence1\" column.\n",
        "\n",
        "Here, a **lambda** function is used.\n",
        "`lambda x: len(x.split())`: This lambda function takes each sentence (denoted as x) in the \"**sentence1**\" column, splits it into words using `split()`, and calculates the length of the resulting list of words using `len()`"
      ],
      "metadata": {
        "id": "rCaAQWgF0e-P"
      }
    },
    {
      "cell_type": "code",
      "source": [
        "import pandas as pd\n",
        "import requests\n",
        "from io import StringIO\n",
        "import matplotlib.pyplot as plt\n",
        "import seaborn as sns\n",
        "\n",
        "# Function to read data from GitHub URLs\n",
        "def read_data(url):\n",
        "    response = requests.get(url)\n",
        "    content = StringIO(response.text)\n",
        "    return pd.read_csv(content)\n",
        "\n",
        "# Calculate sentence lengths\n",
        "sentence_lengths = dev_df[\"sentence1\"].apply(lambda x: len(x.split()))\n",
        "\n",
        "# Display numerical output\n",
        "print(\"Descriptive statistics for sentence lengths:\")\n",
        "print(sentence_lengths.describe())\n",
        "\n",
        "# Plot the histogram\n",
        "plt.figure(figsize=(10, 6))\n",
        "sns.histplot(sentence_lengths, bins=20, kde=True) #Bins is the width of the bars in the graph\n",
        "                                                  #kde=True: Setting kde=True in the sns.histplot() function means that in addition to the histogram, a KDE curve will be overlaid on the histogram bars.\n",
        "plt.title(\"Dev Dataset - Sentence Lengths\")\n",
        "plt.xlabel(\"Sentence Length\")\n",
        "plt.ylabel(\"Frequency\")\n",
        "plt.show()\n"
      ],
      "metadata": {
        "colab": {
          "base_uri": "https://localhost:8080/",
          "height": 738
        },
        "id": "Jk2dfSx6POWc",
        "outputId": "df257789-4ff4-48cc-d431-d29ba3f1d787"
      },
      "execution_count": null,
      "outputs": [
        {
          "output_type": "stream",
          "name": "stdout",
          "text": [
            "Descriptive statistics for sentence lengths:\n",
            "count    466.000000\n",
            "mean      24.510730\n",
            "std       11.262885\n",
            "min        5.000000\n",
            "25%       17.000000\n",
            "50%       23.000000\n",
            "75%       30.000000\n",
            "max       74.000000\n",
            "Name: sentence1, dtype: float64\n"
          ]
        },
        {
          "output_type": "display_data",
          "data": {
            "text/plain": [
              "<Figure size 1000x600 with 1 Axes>"
            ],
            "image/png": "[encoded data removed]"
          },
          "metadata": {}
        }
      ]
    },
    {
      "cell_type": "code",
      "source": [
        "import pandas as pd\n",
        "import requests\n",
        "from io import StringIO\n",
        "import matplotlib.pyplot as plt\n",
        "import seaborn as sns\n",
        "\n",
        "# Function to read data from GitHub URLs\n",
        "def read_data(url):\n",
        "    response = requests.get(url)\n",
        "    content = StringIO(response.text)\n",
        "    return pd.read_csv(content)\n",
        "\n",
        "# Calculate sentence lengths\n",
        "sentence_lengths = test_df[\"sentence1\"].apply(lambda x: len(x.split()))\n",
        "\n",
        "# Display numerical output\n",
        "print(\"Descriptive statistics for sentence lengths:\")\n",
        "print(sentence_lengths.describe())\n",
        "\n",
        "# Plot the histogram\n",
        "plt.figure(figsize=(10, 6))\n",
        "sns.histplot(sentence_lengths, bins=20, kde=True)\n",
        "plt.title(\"Test Dataset - Sentence Lengths\")\n",
        "plt.xlabel(\"Sentence Length\")\n",
        "plt.ylabel(\"Frequency\")\n",
        "plt.show()\n"
      ],
      "metadata": {
        "colab": {
          "base_uri": "https://localhost:8080/",
          "height": 738
        },
        "id": "lk0XTWXZP8bB",
        "outputId": "2ac8d5b8-a565-463d-e183-04c8ac778302"
      },
      "execution_count": null,
      "outputs": [
        {
          "output_type": "stream",
          "name": "stdout",
          "text": [
            "Descriptive statistics for sentence lengths:\n",
            "count    483.000000\n",
            "mean      24.946170\n",
            "std       10.431818\n",
            "min        4.000000\n",
            "25%       17.000000\n",
            "50%       24.000000\n",
            "75%       32.000000\n",
            "max       67.000000\n",
            "Name: sentence1, dtype: float64\n"
          ]
        },
        {
          "output_type": "display_data",
          "data": {
            "text/plain": [
              "<Figure size 1000x600 with 1 Axes>"
            ],
            "image/png": "[encoded data removed]"
          },
          "metadata": {}
        }
      ]
    },
    {
      "cell_type": "code",
      "source": [
        "import pandas as pd\n",
        "import requests\n",
        "from io import StringIO\n",
        "import matplotlib.pyplot as plt\n",
        "import seaborn as sns\n",
        "\n",
        "# Function to read data from GitHub URLs\n",
        "def read_data(url):\n",
        "    response = requests.get(url)\n",
        "    content = StringIO(response.text)\n",
        "    return pd.read_csv(content)\n",
        "\n",
        "# Calculate sentence lengths\n",
        "sentence_lengths = train_few_shot_df[\"sentence1\"].apply(lambda x: len(x.split()))\n",
        "\n",
        "# Display numerical output\n",
        "print(\"Descriptive statistics for sentence lengths:\")\n",
        "print(sentence_lengths.describe())\n",
        "\n",
        "# Plot the histogram\n",
        "plt.figure(figsize=(10, 6))\n",
        "sns.histplot(sentence_lengths, bins=20, kde=True)\n",
        "plt.title(\"Train Few Shot - Sentence Lengths\")\n",
        "plt.xlabel(\"Sentence Length\")\n",
        "plt.ylabel(\"Frequency\")\n",
        "plt.show()\n"
      ],
      "metadata": {
        "colab": {
          "base_uri": "https://localhost:8080/",
          "height": 738
        },
        "id": "aXjA-GtMQlAm",
        "outputId": "8f104147-211f-4689-92fd-fdbed5962bbc"
      },
      "execution_count": null,
      "outputs": [
        {
          "output_type": "stream",
          "name": "stdout",
          "text": [
            "Descriptive statistics for sentence lengths:\n",
            "count    282.000000\n",
            "mean      31.156028\n",
            "std       13.997094\n",
            "min        4.000000\n",
            "25%       22.000000\n",
            "50%       29.000000\n",
            "75%       39.000000\n",
            "max       86.000000\n",
            "Name: sentence1, dtype: float64\n"
          ]
        },
        {
          "output_type": "display_data",
          "data": {
            "text/plain": [
              "<Figure size 1000x600 with 1 Axes>"
            ],
            "image/png": "[encoded data removed]"
          },
          "metadata": {}
        }
      ]
    },
    {
      "cell_type": "code",
      "source": [
        "import pandas as pd\n",
        "import requests\n",
        "from io import StringIO\n",
        "import matplotlib.pyplot as plt\n",
        "import seaborn as sns\n",
        "\n",
        "# Function to read data from GitHub URLs\n",
        "def read_data(url):\n",
        "    response = requests.get(url)\n",
        "    content = StringIO(response.text)\n",
        "    return pd.read_csv(content)\n",
        "\n",
        "# Calculate sentence lengths\n",
        "sentence_lengths = train_one_shot_df[\"sentence1\"].apply(lambda x: len(x.split()))\n",
        "\n",
        "# Display numerical output\n",
        "print(\"Descriptive statistics for sentence lengths:\")\n",
        "print(sentence_lengths.describe())\n",
        "\n",
        "# Plot the histogram\n",
        "plt.figure(figsize=(10, 6))\n",
        "sns.histplot(sentence_lengths, bins=20, kde=True)\n",
        "plt.title(\"Train One Shot - Sentence Lengths\")\n",
        "plt.xlabel(\"Sentence Length\")\n",
        "plt.ylabel(\"Frequency\")\n",
        "plt.show()\n"
      ],
      "metadata": {
        "colab": {
          "base_uri": "https://localhost:8080/",
          "height": 738
        },
        "id": "b5z3Tgq4QqYz",
        "outputId": "16a323bd-3e65-4e00-fa15-c18e01062bd3"
      },
      "execution_count": null,
      "outputs": [
        {
          "output_type": "stream",
          "name": "stdout",
          "text": [
            "Descriptive statistics for sentence lengths:\n",
            "count    87.000000\n",
            "mean     31.068966\n",
            "std      15.203880\n",
            "min       6.000000\n",
            "25%      19.500000\n",
            "50%      28.000000\n",
            "75%      40.000000\n",
            "max      86.000000\n",
            "Name: sentence1, dtype: float64\n"
          ]
        },
        {
          "output_type": "display_data",
          "data": {
            "text/plain": [
              "<Figure size 1000x600 with 1 Axes>"
            ],
            "image/png": "[encoded data removed]"
          },
          "metadata": {}
        }
      ]
    },
    {
      "cell_type": "code",
      "source": [
        "import pandas as pd\n",
        "import requests\n",
        "from io import StringIO\n",
        "import matplotlib.pyplot as plt\n",
        "import seaborn as sns\n",
        "\n",
        "# Function to read data from GitHub URLs\n",
        "def read_data(url):\n",
        "    response = requests.get(url)\n",
        "    content = StringIO(response.text)\n",
        "    return pd.read_csv(content)\n",
        "\n",
        "# Calculate sentence lengths\n",
        "sentence_lengths = train_zero_shot_df[\"sentence1\"].apply(lambda x: len(x.split()))\n",
        "\n",
        "# Display numerical output\n",
        "print(\"Descriptive statistics for sentence lengths:\")\n",
        "print(sentence_lengths.describe())\n",
        "\n",
        "# Plot the histogram\n",
        "plt.figure(figsize=(10, 6))\n",
        "sns.histplot(sentence_lengths, bins=20, kde=True)\n",
        "plt.title(\"Train Zero Shot - Sentence Lengths\")\n",
        "plt.xlabel(\"Sentence Length\")\n",
        "plt.ylabel(\"Frequency\")\n",
        "plt.show()\n"
      ],
      "metadata": {
        "colab": {
          "base_uri": "https://localhost:8080/",
          "height": 738
        },
        "id": "8zrRuvp4Q9nn",
        "outputId": "5bb035b9-d629-43e1-cd7a-af8e052207fa"
      },
      "execution_count": null,
      "outputs": [
        {
          "output_type": "stream",
          "name": "stdout",
          "text": [
            "Descriptive statistics for sentence lengths:\n",
            "count    3327.000000\n",
            "mean       26.433724\n",
            "std        11.253531\n",
            "min         4.000000\n",
            "25%        18.000000\n",
            "50%        25.000000\n",
            "75%        33.000000\n",
            "max        98.000000\n",
            "Name: sentence1, dtype: float64\n"
          ]
        },
        {
          "output_type": "display_data",
          "data": {
            "text/plain": [
              "<Figure size 1000x600 with 1 Axes>"
            ],
            "image/png": "[encoded data removed]"
          },
          "metadata": {}
        }
      ]
    },
    {
      "cell_type": "markdown",
      "source": [
        "##**################---------------PREPROCCESSING -----------------###################**\n"
      ],
      "metadata": {
        "id": "BGuZVzWSYEFD"
      }
    },
    {
      "cell_type": "code",
      "execution_count": null,
      "metadata": {
        "colab": {
          "base_uri": "https://localhost:8080/"
        },
        "id": "S-H9LGhHB3yP",
        "outputId": "f542bf60-948c-4c52-a914-c50237048b86"
      },
      "outputs": [
        {
          "output_type": "stream",
          "name": "stderr",
          "text": [
            "[nltk_data] Downloading package stopwords to /root/nltk_data...\n",
            "[nltk_data]   Unzipping corpora/stopwords.zip.\n"
          ]
        }
      ],
      "source": [
        "import pandas as pd\n",
        "import re\n",
        "import nltk\n",
        "import requests\n",
        "nltk.download('stopwords')\n",
        "from nltk.tokenize import word_tokenize #imports the word_tokenize function from the nltk.tokenize module in Python's NLTK (Natural Language Toolkit) library.\n",
        "                                        #Tokenization is the process of breaking down a text or a sentence into smaller units, such as words or sentences.\n",
        "                                        #Example: \"I am a mess\" to \"I\" \"am\" \"a\" \"mess\"\n",
        "from nltk.corpus import stopwords\n",
        "from io import StringIO"
      ]
    },
    {
      "cell_type": "code",
      "source": [
        "# Download the 'punkt' tokenizer data\n",
        "#The 'punkt' tokenizer is a pre-trained, unsupervised machine learning tokenizer available within NLTK. It is used for tokenizing text into individual words or sentences.\n",
        "#Tokenization is the process of breaking down a text into smaller linguistic units called tokens, which can be words, punctuation, or other meaningful elements.\n",
        "nltk.download('punkt')"
      ],
      "metadata": {
        "colab": {
          "base_uri": "https://localhost:8080/"
        },
        "id": "cGN81jT7B8m_",
        "outputId": "b30e10c4-9f1c-43bb-d16e-2c3027bad46d"
      },
      "execution_count": null,
      "outputs": [
        {
          "output_type": "stream",
          "name": "stderr",
          "text": [
            "[nltk_data] Downloading package punkt to /root/nltk_data...\n",
            "[nltk_data]   Unzipping tokenizers/punkt.zip.\n"
          ]
        },
        {
          "output_type": "execute_result",
          "data": {
            "text/plain": [
              "True"
            ]
          },
          "metadata": {},
          "execution_count": 36
        }
      ]
    },
    {
      "cell_type": "markdown",
      "source": [
        "* **re.sub():** This function is used for replacing substrings within a string that match a specified pattern with a replacement string.\n",
        "\n",
        "* **r'[^a-zA-Z0-9\\s]':** This is the regular expression pattern used in this context.\n",
        "\n",
        "* **[^a-zA-Z0-9\\s]:**\n",
        "^ inside square brackets [] negates the character set, matching any character not included in the set.\n",
        "\n",
        "* **a-zA-Z0-9** matches any alphanumeric character (letters from a to z, both lowercase and uppercase, along with digits).\n",
        "\n",
        "* **\\s** matches any whitespace character (such as space, tab, newline).\n",
        "\n",
        "* Therefore, [^a-zA-Z0-9\\s] matches any character that is not alphanumeric or whitespace."
      ],
      "metadata": {
        "id": "QDhi4QEDV25x"
      }
    },
    {
      "cell_type": "code",
      "source": [
        "# Define a function for preprocessing a sentence\n",
        "def preprocess_sentence(sentence):\n",
        "    # Remove all characters that are not letters, numbers, or whitespace\n",
        "    sentence = re.sub(r'[^a-zA-Z0-9\\s]', '', sentence)\n",
        "    # Convert the sentence to lowercase\n",
        "    sentence = sentence.lower()\n",
        "    # Tokenize the sentence into words\n",
        "    words = word_tokenize(sentence)\n",
        "    # Remove stopwords from the list of words\n",
        "    #If a word in list of words does not belong to stopwords, keep******\n",
        "    words = [word for word in words if word not in stopwords.words('english')]\n",
        "    # Join the processed words back into a sentence\n",
        "    processed_sentence = ' '.join(words)\n",
        "    return processed_sentence"
      ],
      "metadata": {
        "id": "kHlAHC2yCBPF"
      },
      "execution_count": null,
      "outputs": []
    },
    {
      "cell_type": "markdown",
      "source": [
        "#creates a csv for each URL"
      ],
      "metadata": {
        "id": "mAda8p51-DtM"
      }
    },
    {
      "cell_type": "markdown",
      "source": [
        "* **requests** to perform an HTTP GET request to a specified URL (dataset_url)\n",
        "\n",
        "\n",
        "\n",
        "*   Learned this while learning how to scrape websites using python\n",
        "*   List item\n",
        "\n"
      ],
      "metadata": {
        "id": "MM-7KvBkcInT"
      }
    },
    {
      "cell_type": "code",
      "source": [
        "# Loop through each dataset URL\n",
        "for dataset_url in dataset_urls:\n",
        "    # Download the dataset CSV file from the GitHub URL\n",
        "    response = requests.get(dataset_url)\n",
        "    if response.status_code == 200: #HTTP status code 200 corresponds to \"OK\"\n",
        "        # Read the CSV content into a DataFrame\n",
        "        df = pd.read_csv(StringIO(response.text))\n",
        "\n",
        "        # Apply the preprocess_sentence function to the 'sentence1' column of the DataFrame\n",
        "        df['sentence1'] = df['sentence1'].apply(preprocess_sentence)\n",
        "\n",
        "        # Save the preprocessed DataFrame to a new CSV file with a specific name\n",
        "        filename = dataset_url.split('/')[-1]  # Extract the filename from the URL\n",
        "        df.to_csv(f'preprocessed_no_stopwords_{filename}', index=False)\n",
        "    else:\n",
        "        print(f\"Failed to download dataset from {dataset_url}\")\n",
        "\n",
        "# Print a message to indicate that preprocessing is completed for all datasets\n",
        "print(\"Preprocessing for all datasets has been completed.\")\n"
      ],
      "metadata": {
        "colab": {
          "base_uri": "https://localhost:8080/"
        },
        "id": "6pzggtZsCHH7",
        "outputId": "e67aa3c2-5d42-4735-bfaa-34b5bc49185a"
      },
      "execution_count": null,
      "outputs": [
        {
          "output_type": "stream",
          "name": "stdout",
          "text": [
            "Preprocessing for all datasets has been completed.\n"
          ]
        }
      ]
    },
    {
      "cell_type": "markdown",
      "source": [
        "# 3.2 SVM Classifier"
      ],
      "metadata": {
        "id": "upa4PE6yypkf"
      }
    },
    {
      "cell_type": "markdown",
      "source": [
        "##**################---------------SVM 1 -----------------###################**\n"
      ],
      "metadata": {
        "id": "FlwcR0KzCsjR"
      }
    },
    {
      "cell_type": "markdown",
      "source": [
        "\n",
        "\n",
        "*   .4f specifies the format as a floating-point number (f), rounded to four decimal places\n",
        "*   THE \"class_weights\" are NOT BALANCED\n",
        "* SVM is used"
      ],
      "metadata": {
        "id": "3d_d80yTqKR5"
      }
    },
    {
      "cell_type": "code",
      "source": [
        "import pandas as pd\n",
        "from sklearn.model_selection import train_test_split\n",
        "from sklearn.feature_extraction.text import TfidfVectorizer\n",
        "from sklearn.svm import SVC\n",
        "from sklearn.metrics import f1_score"
      ],
      "metadata": {
        "id": "6uKjmtFJCJw2"
      },
      "execution_count": null,
      "outputs": []
    },
    {
      "cell_type": "code",
      "source": [
        "# Function to train and evaluate an SVM classifier\n",
        "def train_and_evaluate(X_train, y_train, X_test, y_test, dataset_name):\n",
        "    print(f\"Dataset: {dataset_name}\")\n",
        "\n",
        "    # Create a TF-IDF vectorizer with a maximum of 10,000 features\n",
        "    tfidf_vectorizer = TfidfVectorizer(max_features=10000)\n",
        "\n",
        "    # Fit and transform the TF-IDF vectorizer on the training data\n",
        "    X_train_tfidf = tfidf_vectorizer.fit_transform(X_train)\n",
        "\n",
        "    # Transform the test data using the same vectorizer\n",
        "    X_test_tfidf = tfidf_vectorizer.transform(X_test)\n",
        "\n",
        "    # Train an SVM model with a linear kernel and C=1.0\n",
        "    #In a typical scenario where the dataset is imbalanced (i.e., one class has significantly more samples than another), SVM might bias its decision boundary towards the majority class\n",
        "    #C=1.0: This parameter controls the regularization strength in SVM. It's the penalty parameter of the error term.\n",
        "    #A smaller C value leads to a larger margin and allows more misclassifications. On the other hand, a larger C value penalizes misclassifications more heavily and aims for better classification performance on the training data.\n",
        "    #In this case, C is set to 1.0, which represents the default regularization strength.\n",
        "    svm_classifier = SVC(kernel='linear', C=1.0) #HERE THE \"class_weights\" are NOT BALANCED*******\n",
        "    svm_classifier.fit(X_train_tfidf, y_train)\n",
        "\n",
        "    # Make predictions on the test data\n",
        "    y_pred = svm_classifier.predict(X_test_tfidf)\n",
        "\n",
        "    # Calculate the macro F1 score\n",
        "    #The 'macro' parameter specifies the averaging method for computing the F1 score in the multi-class setting.\n",
        "    #In this context, 'macro' calculates the F1 score for each class individually and then computes the unweighted mean of these scores.\n",
        "    #Each class contributes equally to the final score, regardless of class imbalance.\n",
        "    f1 = f1_score(y_test, y_pred, average='macro')\n",
        "\n",
        "    # Print the F1 score for the dataset\n",
        "    print(f\"F1 Score for {dataset_name}: {f1:.4f}\") #decimal places"
      ],
      "metadata": {
        "id": "G7yc-uldC7qZ"
      },
      "execution_count": null,
      "outputs": []
    },
    {
      "cell_type": "code",
      "source": [
        "# Read the preprocessed CSV files into DataFrames\n",
        "train_data_few_shot = pd.read_csv('preprocessed_no_stopwords_train_few_shot.csv')\n",
        "train_data_zero_shot = pd.read_csv('preprocessed_no_stopwords_train_zero_shot.csv')\n",
        "train_data_one_shot = pd.read_csv('preprocessed_no_stopwords_train_one_shot.csv')\n",
        "dev_data = pd.read_csv('preprocessed_no_stopwords_dev.csv')\n",
        "test_data = pd.read_csv('preprocessed_no_stopwords_test.csv')"
      ],
      "metadata": {
        "id": "TmxaoGgNC_Io"
      },
      "execution_count": null,
      "outputs": []
    },
    {
      "cell_type": "code",
      "source": [
        "# Extract the test data and labels\n",
        "X_test = test_data['sentence1']\n",
        "y_test = test_data['label']"
      ],
      "metadata": {
        "id": "0L7wEyvoDBVZ"
      },
      "execution_count": null,
      "outputs": []
    },
    {
      "cell_type": "code",
      "source": [
        "# Train and evaluate the SVM classifier for different datasets\n",
        "train_and_evaluate(train_data_few_shot['sentence1'], train_data_few_shot['label'], X_test, y_test, 'Few-Shot Dataset')\n",
        "train_and_evaluate(train_data_zero_shot['sentence1'], train_data_zero_shot['label'], X_test, y_test, 'Zero-Shot Dataset')\n",
        "train_and_evaluate(train_data_one_shot['sentence1'], train_data_one_shot['label'], X_test, y_test, 'One-Shot Dataset')\n",
        "train_and_evaluate(dev_data['sentence1'], dev_data['label'], X_test, y_test, 'Dev Dataset')"
      ],
      "metadata": {
        "colab": {
          "base_uri": "https://localhost:8080/"
        },
        "id": "PMA8aQERDDSm",
        "outputId": "4539cbe4-f5f7-448c-9a7d-3893cec13e8a"
      },
      "execution_count": null,
      "outputs": [
        {
          "output_type": "stream",
          "name": "stdout",
          "text": [
            "Dataset: Few-Shot Dataset\n",
            "F1 Score for Few-Shot Dataset: 0.7441\n",
            "Dataset: Zero-Shot Dataset\n",
            "F1 Score for Zero-Shot Dataset: 0.5222\n",
            "Dataset: One-Shot Dataset\n",
            "F1 Score for One-Shot Dataset: 0.4965\n",
            "Dataset: Dev Dataset\n",
            "F1 Score for Dev Dataset: 0.5779\n"
          ]
        }
      ]
    },
    {
      "cell_type": "markdown",
      "source": [
        "# 3.3\tSVM Classifier (2nd Approach Uni gram):"
      ],
      "metadata": {
        "id": "0bTS9dtbyuRJ"
      }
    },
    {
      "cell_type": "markdown",
      "source": [
        "##**################---------------SVM 2 -----------------###################**\n"
      ],
      "metadata": {
        "id": "wwOpc3GdDPrX"
      }
    },
    {
      "cell_type": "markdown",
      "source": [
        "\n",
        "\n",
        "*   THE \"class_weights\" are BALANCED\n",
        "\n"
      ],
      "metadata": {
        "id": "eP_TCd5TQEj-"
      }
    },
    {
      "cell_type": "code",
      "source": [
        "import pandas as pd\n",
        "from sklearn.model_selection import train_test_split\n",
        "from sklearn.feature_extraction.text import TfidfVectorizer\n",
        "from sklearn.svm import SVC\n",
        "from sklearn.metrics import f1_score"
      ],
      "metadata": {
        "id": "IAuC1r1lDFjH"
      },
      "execution_count": null,
      "outputs": []
    },
    {
      "cell_type": "code",
      "source": [
        "# Function to train and evaluate an SVM classifier\n",
        "def train_and_evaluate(X_train, y_train, X_test, y_test, dataset_name):\n",
        "    print(f\"Dataset: {dataset_name}\")\n",
        "\n",
        "    # Create a TF-IDF vectorizer with a maximum of 10,000 features\n",
        "    tfidf_vectorizer = TfidfVectorizer(max_features=10000)\n",
        "\n",
        "    # Fit and transform the TF-IDF vectorizer on the training data\n",
        "    X_train_tfidf = tfidf_vectorizer.fit_transform(X_train)\n",
        "\n",
        "    # Transform the test data using the same vectorizer\n",
        "    X_test_tfidf = tfidf_vectorizer.transform(X_test)\n",
        "\n",
        "    # Train an SVM model with a linear kernel, C=1.0, and balanced class weights\n",
        "    svm_classifier = SVC(kernel='linear', C=1.0, class_weight='balanced')\n",
        "    svm_classifier.fit(X_train_tfidf, y_train)\n",
        "\n",
        "    # Make predictions on the test data\n",
        "    y_pred = svm_classifier.predict(X_test_tfidf)\n",
        "\n",
        "    # Calculate the macro F1 score\n",
        "    f1 = f1_score(y_test, y_pred, average='macro')\n",
        "\n",
        "    # Print the F1 score for the dataset\n",
        "    print(f\"F1 Score for {dataset_name}: {f1:.4f}\")"
      ],
      "metadata": {
        "id": "9IkJzPZvDUaZ"
      },
      "execution_count": null,
      "outputs": []
    },
    {
      "cell_type": "code",
      "source": [
        "# Read the preprocessed CSV files into DataFrames\n",
        "train_data_few_shot = pd.read_csv('preprocessed_no_stopwords_train_few_shot.csv')\n",
        "train_data_zero_shot = pd.read_csv('preprocessed_no_stopwords_train_zero_shot.csv')\n",
        "train_data_one_shot = pd.read_csv('preprocessed_no_stopwords_train_one_shot.csv')\n",
        "dev_data = pd.read_csv('preprocessed_no_stopwords_dev.csv')\n",
        "test_data = pd.read_csv('preprocessed_no_stopwords_test.csv')"
      ],
      "metadata": {
        "id": "wJqzGr10DW-V"
      },
      "execution_count": null,
      "outputs": []
    },
    {
      "cell_type": "code",
      "source": [
        "# Extract the test data and labels\n",
        "X_test = test_data['sentence1']\n",
        "y_test = test_data['label']"
      ],
      "metadata": {
        "id": "nT7oghw-DaZY"
      },
      "execution_count": null,
      "outputs": []
    },
    {
      "cell_type": "code",
      "source": [
        "# Train and evaluate the SVM classifier for different datasets\n",
        "train_and_evaluate(train_data_few_shot['sentence1'], train_data_few_shot['label'], X_test, y_test, 'Few-Shot Dataset')\n",
        "train_and_evaluate(train_data_zero_shot['sentence1'], train_data_zero_shot['label'], X_test, y_test, 'Zero-Shot Dataset')\n",
        "train_and_evaluate(train_data_one_shot['sentence1'], train_data_one_shot['label'], X_test, y_test, 'One-Shot Dataset')\n",
        "train_and_evaluate(dev_data['sentence1'], dev_data['label'], X_test, y_test, 'Dev Dataset')"
      ],
      "metadata": {
        "colab": {
          "base_uri": "https://localhost:8080/"
        },
        "id": "2qMAJfpyDbtW",
        "outputId": "9bfa998a-ff75-464e-bb09-3605810a67b6"
      },
      "execution_count": null,
      "outputs": [
        {
          "output_type": "stream",
          "name": "stdout",
          "text": [
            "Dataset: Few-Shot Dataset\n",
            "F1 Score for Few-Shot Dataset: 0.8457\n",
            "Dataset: Zero-Shot Dataset\n",
            "F1 Score for Zero-Shot Dataset: 0.5216\n",
            "Dataset: One-Shot Dataset\n",
            "F1 Score for One-Shot Dataset: 0.6282\n",
            "Dataset: Dev Dataset\n",
            "F1 Score for Dev Dataset: 0.5482\n"
          ]
        }
      ]
    },
    {
      "cell_type": "markdown",
      "source": [
        "# 3.4\tSVM Classifier (Hyper Parameters):"
      ],
      "metadata": {
        "id": "W0Ru3ZDzzCHD"
      }
    },
    {
      "cell_type": "markdown",
      "source": [
        "##**############################## Hyper parameters / pre process SVM2 / stemmer##########################**"
      ],
      "metadata": {
        "id": "tv9jKtHgUrfw"
      }
    },
    {
      "cell_type": "markdown",
      "source": [
        "Which are the hyper parameters???"
      ],
      "metadata": {
        "id": "WLxyXEdqVTsO"
      }
    },
    {
      "cell_type": "code",
      "source": [
        "import pandas as pd\n",
        "from sklearn.model_selection import train_test_split\n",
        "from sklearn.feature_extraction.text import TfidfVectorizer\n",
        "from sklearn.svm import SVC\n",
        "from sklearn.metrics import f1_score\n",
        "from nltk.stem import PorterStemmer\n",
        "from nltk.corpus import stopwords\n",
        "import string\n",
        "from sklearn.pipeline import Pipeline\n",
        "from sklearn.preprocessing import FunctionTransformer\n",
        "\n",
        "\n",
        "# Function to preprocess the text data\n",
        "def preprocess_text(text):\n",
        "    if isinstance(text, str):  # Check if the text is a string\n",
        "        # Lowercase the text\n",
        "        text = text.lower()\n",
        "\n",
        "        # Remove punctuation\n",
        "        text = ''.join([char for char in text if char not in string.punctuation])\n",
        "\n",
        "        # Tokenize the text (split into words)\n",
        "        tokens = text.split()\n",
        "\n",
        "        # Remove stopwords\n",
        "        tokens = [word for word in tokens if word not in stopwords.words('english')]\n",
        "\n",
        "        # Stem the words\n",
        "        #Original: running -> Stemmed: run\n",
        "        #Original: ran -> Stemmed: ran\n",
        "        #Original: runs -> Stemmed: run\n",
        "        stemmer = PorterStemmer()\n",
        "        tokens = [stemmer.stem(word) for word in tokens]\n",
        "\n",
        "        # Join the tokens back into a single string\n",
        "        text = ' '.join(tokens)\n",
        "\n",
        "    return text\n",
        "\n",
        "\n",
        "# Function to train and evaluate an SVM classifier\n",
        "def train_and_evaluate(X_train, y_train, X_test, y_test, dataset_name):\n",
        "    print(f\"Dataset: {dataset_name}\")\n",
        "\n",
        "\n",
        "    tfidf_vectorizer = TfidfVectorizer(max_features=1000)\n",
        "#creating a data preprocessing pipeline using scikit-learn's Pipeline class,****\n",
        "#which allows chaining together multiple processing steps into a unified workflow. ****\n",
        "#The pipeline will perform a sequence of operations on the input data before applying a TF-IDF vectorization process.****\n",
        "#validate=False is an argument indicating whether to validate the input (which is set to False here)*****\n",
        "    # Create a preprocessing pipeline\n",
        "    preprocessing_pipeline = Pipeline([\n",
        "        ('preprocess', FunctionTransformer(func=preprocess_text, validate=False)), #we put in the preprocess function here\n",
        "        ('tfidf', tfidf_vectorizer)\n",
        "    ])\n",
        "\n",
        "    # Fit and transform the preprocessing pipeline on the training data\n",
        "    X_train_preprocessed = preprocessing_pipeline.fit_transform(X_train)\n",
        "\n",
        "    # Transform the test data using the same pipeline\n",
        "    X_test_preprocessed = preprocessing_pipeline.transform(X_test)\n",
        "\n",
        "    # Train an SVM model with a linear kernel, C=1.0, and balanced class weights\n",
        "    svm_classifier = SVC(kernel='linear', C=1.0, class_weight='balanced')\n",
        "    svm_classifier.fit(X_train_preprocessed, y_train)\n",
        "\n",
        "    # Make predictions on the test data\n",
        "    y_pred = svm_classifier.predict(X_test_preprocessed)\n",
        "\n",
        "    # Calculate the macro F1 score\n",
        "    f1 = f1_score(y_test, y_pred, average='macro')\n",
        "\n",
        "    # Print the F1 score for the dataset\n",
        "    print(f\"F1 Score for {dataset_name}: {f1:.4f}\")\n",
        "\n",
        "# Read the preprocessed CSV files into DataFrames\n",
        "train_data_few_shot = pd.read_csv('preprocessed_no_stopwords_train_few_shot.csv')\n",
        "train_data_zero_shot = pd.read_csv('preprocessed_no_stopwords_train_zero_shot.csv')\n",
        "train_data_one_shot = pd.read_csv('preprocessed_no_stopwords_train_one_shot.csv')\n",
        "dev_data = pd.read_csv('preprocessed_no_stopwords_dev.csv')\n",
        "test_data = pd.read_csv('preprocessed_no_stopwords_test.csv')\n",
        "\n",
        "# Extract the test data and labels\n",
        "X_test = test_data['sentence1']\n",
        "y_test = test_data['label']\n",
        "\n",
        "# Train and evaluate the SVM classifier for different datasets\n",
        "train_and_evaluate(train_data_few_shot['sentence1'], train_data_few_shot['label'], X_test, y_test, 'Few-Shot Dataset')\n",
        "train_and_evaluate(train_data_zero_shot['sentence1'], train_data_zero_shot['label'], X_test, y_test, 'Zero-Shot Dataset')\n",
        "train_and_evaluate(train_data_one_shot['sentence1'], train_data_one_shot['label'], X_test, y_test, 'One-Shot Dataset')\n",
        "train_and_evaluate(dev_data['sentence1'], dev_data['label'], X_test, y_test, 'Dev Dataset')"
      ],
      "metadata": {
        "colab": {
          "base_uri": "https://localhost:8080/"
        },
        "id": "K5_bCRfjDdCe",
        "outputId": "83665941-9091-4528-efa6-31652cab3528"
      },
      "execution_count": null,
      "outputs": [
        {
          "output_type": "stream",
          "name": "stdout",
          "text": [
            "Dataset: Few-Shot Dataset\n",
            "F1 Score for Few-Shot Dataset: 0.8384\n",
            "Dataset: Zero-Shot Dataset\n",
            "F1 Score for Zero-Shot Dataset: 0.5399\n",
            "Dataset: One-Shot Dataset\n",
            "F1 Score for One-Shot Dataset: 0.6119\n",
            "Dataset: Dev Dataset\n",
            "F1 Score for Dev Dataset: 0.5407\n"
          ]
        }
      ]
    },
    {
      "cell_type": "markdown",
      "source": [
        "# 3.5\tSVM Classifier (with Bigrams):"
      ],
      "metadata": {
        "id": "EvFXrgfazZWg"
      }
    },
    {
      "cell_type": "markdown",
      "source": [
        "##**############################## / BI GRAMS SVM2 ##########################**"
      ],
      "metadata": {
        "id": "RkvZaoImfZiH"
      }
    },
    {
      "cell_type": "markdown",
      "source": [
        "**ngram_range=(2, 2)**"
      ],
      "metadata": {
        "id": "ZDqrNn-ygGbM"
      }
    },
    {
      "cell_type": "code",
      "source": [
        "import pandas as pd\n",
        "from sklearn.model_selection import train_test_split\n",
        "from sklearn.feature_extraction.text import TfidfVectorizer\n",
        "from sklearn.svm import SVC\n",
        "from sklearn.metrics import f1_score\n",
        "from nltk.stem import PorterStemmer\n",
        "\n",
        "# Function to train and evaluate an SVM classifier with bigrams\n",
        "def train_and_evaluate(X_train, y_train, X_test, y_test, dataset_name):\n",
        "    print(f\"Dataset: {dataset_name}\")\n",
        "\n",
        "    # Create a TF-IDF vectorizer with bigrams and a maximum of 10,000 features\n",
        "    tfidf_vectorizer = TfidfVectorizer(ngram_range=(2, 2), max_features=10000) #ngram_range=(2, 2)***********\n",
        "\n",
        "    # Fit and transform the TF-IDF vectorizer on the training data\n",
        "    X_train_tfidf = tfidf_vectorizer.fit_transform(X_train)\n",
        "\n",
        "    # Transform the test data using the same vectorizer\n",
        "    X_test_tfidf = tfidf_vectorizer.transform(X_test)\n",
        "\n",
        "    # Train an SVM model with a linear kernel, C=1.0, and balanced class weights\n",
        "    svm_classifier = SVC(kernel='linear', C=1.0, class_weight='balanced')\n",
        "    svm_classifier.fit(X_train_tfidf, y_train)\n",
        "\n",
        "    # Make predictions on the test data\n",
        "    y_pred = svm_classifier.predict(X_test_tfidf)\n",
        "\n",
        "    # Calculate the macro F1 score\n",
        "    f1 = f1_score(y_test, y_pred, average='macro')\n",
        "\n",
        "    # Print the F1 score for the dataset\n",
        "    print(f\"F1 Score for {dataset_name}: {f1:.4f}\")\n",
        "\n",
        "# Read the preprocessed CSV files into DataFrames\n",
        "train_data_few_shot = pd.read_csv('preprocessed_no_stopwords_train_few_shot.csv')\n",
        "train_data_zero_shot = pd.read_csv('preprocessed_no_stopwords_train_zero_shot.csv')\n",
        "train_data_one_shot = pd.read_csv('preprocessed_no_stopwords_train_one_shot.csv')\n",
        "dev_data = pd.read_csv('preprocessed_no_stopwords_dev.csv')\n",
        "test_data = pd.read_csv('preprocessed_no_stopwords_test.csv')\n",
        "\n",
        "# Extract the test data and labels\n",
        "X_test = test_data['sentence1']\n",
        "y_test = test_data['label']\n",
        "\n",
        "# Train and evaluate the SVM classifier for different datasets using bigrams\n",
        "train_and_evaluate(train_data_few_shot['sentence1'], train_data_few_shot['label'], X_test, y_test, 'Few-Shot Dataset')\n",
        "train_and_evaluate(train_data_zero_shot['sentence1'], train_data_zero_shot['label'], X_test, y_test, 'Zero-Shot Dataset')\n",
        "train_and_evaluate(train_data_one_shot['sentence1'], train_data_one_shot['label'], X_test, y_test, 'One-Shot Dataset')\n",
        "train_and_evaluate(dev_data['sentence1'], dev_data['label'], X_test, y_test, 'Dev Dataset')"
      ],
      "metadata": {
        "colab": {
          "base_uri": "https://localhost:8080/"
        },
        "id": "UkyTwhBfUznj",
        "outputId": "38add71c-3f95-481c-fad1-d39939047752"
      },
      "execution_count": null,
      "outputs": [
        {
          "output_type": "stream",
          "name": "stdout",
          "text": [
            "Dataset: Few-Shot Dataset\n",
            "F1 Score for Few-Shot Dataset: 0.8550\n",
            "Dataset: Zero-Shot Dataset\n",
            "F1 Score for Zero-Shot Dataset: 0.3505\n",
            "Dataset: One-Shot Dataset\n",
            "F1 Score for One-Shot Dataset: 0.5249\n",
            "Dataset: Dev Dataset\n",
            "F1 Score for Dev Dataset: 0.4271\n"
          ]
        }
      ]
    },
    {
      "cell_type": "markdown",
      "source": [
        "# 3.6\tLogistic Regression Classifier with Unigrams:"
      ],
      "metadata": {
        "id": "VvaaSs9E0Gbi"
      }
    },
    {
      "cell_type": "markdown",
      "source": [
        "##**####################LOGISTIC REGRESSION########################**"
      ],
      "metadata": {
        "id": "Iup_aU6Kqgfq"
      }
    },
    {
      "cell_type": "code",
      "source": [
        "from sklearn.linear_model import LogisticRegression\n",
        "from sklearn.metrics import accuracy_score, f1_score\n",
        "\n",
        "# Function to train and evaluate a Logistic Regression classifier\n",
        "def train_and_evaluate_logistic_regression(X_train, y_train, X_test, y_test, dataset_name):\n",
        "    print(f\"Dataset: {dataset_name}\")\n",
        "\n",
        "    # Create TF-IDF vectors for the text data with a maximum of 50,000 features\n",
        "    tfidf_vectorizer = TfidfVectorizer(max_features=50000)\n",
        "    X_train_tfidf = tfidf_vectorizer.fit_transform(X_train)\n",
        "    X_test_tfidf = tfidf_vectorizer.transform(X_test)\n",
        "\n",
        "    # Create a Logistic Regression classifier with balanced class weights\n",
        "    #max_iter value (in this case, 1000) ensures that the optimization algorithm has sufficient iterations to converge and find the optimal solution\n",
        "    #class_weight='balanced': Imbalanced class distribution in the dataset occurs when one class has significantly fewer samples than the others.\n",
        "    #In such cases, the classifier might become biased towards the majority class.\n",
        "    #random_state=42: This parameter sets the seed for the random number generator.\n",
        "    #Using a fixed random_state value (in this case, 42) ensures reproducibility of results across different runs.\n",
        "    #This is important in machine learning experiments to obtain consistent results each time the code is run\n",
        "    logistic_regression = LogisticRegression(max_iter=1000, class_weight='balanced', random_state=42)\n",
        "    logistic_regression.fit(X_train_tfidf, y_train)\n",
        "\n",
        "    # Make predictions on the test set\n",
        "    y_pred = logistic_regression.predict(X_test_tfidf)\n",
        "\n",
        "    # Calculate and print accuracy\n",
        "    accuracy = accuracy_score(y_test, y_pred)\n",
        "    print(f\"Accuracy for {dataset_name}: {accuracy:.4f}\")\n",
        "\n",
        "    # Calculate and print the macro F1 score\n",
        "    f1 = f1_score(y_test, y_pred, average='macro')\n",
        "    print(f\"F1 Score for {dataset_name}: {f1:.4f}\")\n",
        "\n",
        "# Train and evaluate the Logistic Regression classifier for different datasets\n",
        "train_and_evaluate_logistic_regression(train_data_few_shot['sentence1'], train_data_few_shot['label'], X_test, y_test, 'Few-Shot Dataset')\n",
        "train_and_evaluate_logistic_regression(train_data_zero_shot['sentence1'], train_data_zero_shot['label'], X_test, y_test, 'Zero-Shot Dataset')\n",
        "train_and_evaluate_logistic_regression(train_data_one_shot['sentence1'], train_data_one_shot['label'], X_test, y_test, 'One-Shot Dataset')\n",
        "train_and_evaluate_logistic_regression(dev_data['sentence1'], dev_data['label'], X_test, y_test, 'Dev Dataset')\n"
      ],
      "metadata": {
        "colab": {
          "base_uri": "https://localhost:8080/"
        },
        "id": "HALeozjWqPNg",
        "outputId": "1b60a6c8-8e6a-4861-cf4e-40d283af4050"
      },
      "execution_count": null,
      "outputs": [
        {
          "output_type": "stream",
          "name": "stdout",
          "text": [
            "Dataset: Few-Shot Dataset\n",
            "Accuracy for Few-Shot Dataset: 0.8509\n",
            "F1 Score for Few-Shot Dataset: 0.8233\n",
            "Dataset: Zero-Shot Dataset\n",
            "Accuracy for Zero-Shot Dataset: 0.5424\n",
            "F1 Score for Zero-Shot Dataset: 0.5348\n",
            "Dataset: One-Shot Dataset\n",
            "Accuracy for One-Shot Dataset: 0.7164\n",
            "F1 Score for One-Shot Dataset: 0.6148\n",
            "Dataset: Dev Dataset\n",
            "Accuracy for Dev Dataset: 0.6439\n",
            "F1 Score for Dev Dataset: 0.5872\n"
          ]
        }
      ]
    },
    {
      "cell_type": "markdown",
      "source": [
        "# 3.7\tLogistic Regression Classifier (Using Stemmer):"
      ],
      "metadata": {
        "id": "L7dY4gLF0LIE"
      }
    },
    {
      "cell_type": "code",
      "source": [
        "from sklearn.linear_model import LogisticRegression\n",
        "from sklearn.model_selection import GridSearchCV\n",
        "from sklearn.pipeline import Pipeline\n",
        "\n",
        "# Function to train and evaluate a Logistic Regression classifier with hyperparameter tuning\n",
        "def train_and_evaluate_logistic_regression(X_train, y_train, X_test, y_test, dataset_name):\n",
        "    print(f\"Dataset: {dataset_name}\")\n",
        "\n",
        "    # Create a pipeline that includes TF-IDF vectorization and Logistic Regression\n",
        "    #This pipeline consists of two main components: a TfidfVectorizer and a LogisticRegression classifier, each configured with specific parameters.\n",
        "    #solver='lbfgs': This parameter specifies the optimization algorithm to be used by the logistic regression model.\n",
        "    #'lbfgs' is one of the solvers available in scikit-learn that works well for large datasets.\n",
        "    pipeline = Pipeline([\n",
        "        ('tfidf', TfidfVectorizer(max_features=50000)),\n",
        "        ('clf', LogisticRegression(solver='lbfgs', max_iter=1000, class_weight='balanced', random_state=42)) #RANDOM STATE MOSTLY FIXED******Thats a standard #We gave the name clf\n",
        "    ])\n",
        "\n",
        "    # Define a parameter grid for hyperparameter tuning\n",
        "    #'clf__C': Refers to the regularization parameter 'C' specifically for the LogisticRegression classifier within the pipeline.\n",
        "    #[0.001, 0.01, 0.1, 1, 10]: Represents a list of values for the 'C' parameter that will be tested during hyperparameter tuning.\n",
        "    #These values represent different levels of regularization strength for the logistic regression model.\n",
        "    #Smaller values of 'C' indicate stronger regularization, which might simplify the decision boundary but could lead to underfitting, while larger values of 'C' might increase model complexity and potentially lead to overfitting.\n",
        "    param_grid = {\n",
        "        'clf__C': [0.001, 0.01, 0.1, 1, 10],\n",
        "    }\n",
        "\n",
        "    # Create a GridSearchCV object with 5-fold cross-validation and F1-macro scoring\n",
        "    #cv=5: Specifies the number of folds for cross-validation. In this case, cv=5 indicates 5-fold cross-validation.\n",
        "    #The dataset will be divided into 5 equal parts, and the model will be trained and validated 5 times, using each part as a validation set once.\n",
        "    #scoring='f1_macro': This parameter determines the scoring metric to evaluate the performance of the model.\n",
        "    #In this case, 'f1_macro' is used, indicating the F1 score calculated for each class individually and then averaged, giving each class equal weight (macro-average).\n",
        "    #verbose=1 means that progress messages will be printed to the console during the search.\n",
        "    #n_jobs=-1: Specifies the number of CPU cores to use during the grid search.\n",
        "    #Setting n_jobs=-1 utilizes all available CPU cores, which can speed up the computation for grid search by running tasks in parallel.\n",
        "    #GridSearchCV function combines cross-validation with an exhaustive search over the specified parameter grid, evaluating each combination of hyperparameters using the provided scoring metric.\n",
        "    grid_search = GridSearchCV(pipeline, param_grid, cv=5, scoring='f1_macro', verbose=1, n_jobs=-1)\n",
        "\n",
        "    # Fit the grid search to the training data to find the best hyperparameters\n",
        "    grid_search.fit(X_train, y_train)\n",
        "\n",
        "    # Get the best model with the optimal hyperparameters\n",
        "    best_model = grid_search.best_estimator_\n",
        "\n",
        "    # Make predictions on the test data using the best model\n",
        "    y_pred = best_model.predict(X_test)\n",
        "\n",
        "    # Calculate and print accuracy\n",
        "    accuracy = accuracy_score(y_test, y_pred)\n",
        "    print(f\"Accuracy for {dataset_name}: {accuracy:.4f}\")\n",
        "\n",
        "    # Calculate and print the macro F1 score\n",
        "    f1 = f1_score(y_test, y_pred, average='macro')\n",
        "    print(f\"F1 Score for {dataset_name}: {f1:.4f}\")\n",
        "\n",
        "# Train and evaluate the Logistic Regression classifier with hyperparameter tuning for different datasets\n",
        "train_and_evaluate_logistic_regression(train_data_few_shot['sentence1'], train_data_few_shot['label'], X_test, y_test, 'Few-Shot Dataset')\n",
        "train_and_evaluate_logistic_regression(train_data_zero_shot['sentence1'], train_data_zero_shot['label'], X_test, y_test, 'Zero-Shot Dataset')\n",
        "train_and_evaluate_logistic_regression(train_data_one_shot['sentence1'], train_data_one_shot['label'], X_test, y_test, 'One-Shot Dataset')\n",
        "train_and_evaluate_logistic_regression(dev_data['sentence1'], dev_data['label'], X_test, y_test, 'Dev Dataset')\n"
      ],
      "metadata": {
        "colab": {
          "base_uri": "https://localhost:8080/"
        },
        "id": "Gy4sW0OcqhdO",
        "outputId": "68c49b7a-2300-45f7-c037-b9e3ecf2ae82"
      },
      "execution_count": null,
      "outputs": [
        {
          "output_type": "stream",
          "name": "stdout",
          "text": [
            "Dataset: Few-Shot Dataset\n",
            "Fitting 5 folds for each of 5 candidates, totalling 25 fits\n",
            "Accuracy for Few-Shot Dataset: 0.8468\n",
            "F1 Score for Few-Shot Dataset: 0.8139\n",
            "Dataset: Zero-Shot Dataset\n",
            "Fitting 5 folds for each of 5 candidates, totalling 25 fits\n",
            "Accuracy for Zero-Shot Dataset: 0.5404\n",
            "F1 Score for Zero-Shot Dataset: 0.5343\n",
            "Dataset: One-Shot Dataset\n",
            "Fitting 5 folds for each of 5 candidates, totalling 25 fits\n",
            "Accuracy for One-Shot Dataset: 0.6708\n",
            "F1 Score for One-Shot Dataset: 0.6514\n",
            "Dataset: Dev Dataset\n",
            "Fitting 5 folds for each of 5 candidates, totalling 25 fits\n",
            "Accuracy for Dev Dataset: 0.6439\n",
            "F1 Score for Dev Dataset: 0.5872\n"
          ]
        }
      ]
    },
    {
      "cell_type": "markdown",
      "source": [
        "# 3.8\tLogistic Regression Classifier with Bigrams:"
      ],
      "metadata": {
        "id": "c03mgNGg1WRF"
      }
    },
    {
      "cell_type": "markdown",
      "source": [
        "##**####################LOGISTIC REGRESSION BIGRAMS########################**"
      ],
      "metadata": {
        "id": "SMV2vJjQr3Lo"
      }
    },
    {
      "cell_type": "code",
      "source": [
        "from sklearn.linear_model import LogisticRegression\n",
        "from sklearn.feature_extraction.text import TfidfVectorizer\n",
        "from sklearn.metrics import accuracy_score, f1_score\n",
        "\n",
        "# Function to train and evaluate a Logistic Regression classifier with bigrams\n",
        "def train_and_evaluate_logistic_regression(X_train, y_train, X_test, y_test, dataset_name):\n",
        "    print(f\"Dataset: {dataset_name}\")\n",
        "\n",
        "    # Create a TF-IDF vectorizer with bigrams and a maximum of 50,000 features\n",
        "    tfidf_vectorizer = TfidfVectorizer(ngram_range=(2, 2), max_features=50000) #bigrams\n",
        "    X_train_tfidf = tfidf_vectorizer.fit_transform(X_train)\n",
        "    X_test_tfidf = tfidf_vectorizer.transform(X_test)\n",
        "\n",
        "    # Create a Logistic Regression classifier with balanced class weights\n",
        "    logistic_regression = LogisticRegression(max_iter=1000, class_weight='balanced', random_state=42)\n",
        "    logistic_regression.fit(X_train_tfidf, y_train)\n",
        "\n",
        "    # Make predictions on the test set\n",
        "    y_pred = logistic_regression.predict(X_test_tfidf)\n",
        "\n",
        "    # Calculate and print accuracy\n",
        "    accuracy = accuracy_score(y_test, y_pred)\n",
        "    print(f\"Accuracy for {dataset_name}: {accuracy:.4f}\")\n",
        "\n",
        "    # Calculate and print the macro F1 score\n",
        "    f1 = f1_score(y_test, y_pred, average='macro')\n",
        "    print(f\"F1 Score for {dataset_name}: {f1:.4f}\")\n",
        "\n",
        "# Train and evaluate the Logistic Regression classifier with bigrams for different datasets\n",
        "train_and_evaluate_logistic_regression(train_data_few_shot['sentence1'], train_data_few_shot['label'], X_test, y_test, 'Few-Shot Dataset')\n",
        "train_and_evaluate_logistic_regression(train_data_zero_shot['sentence1'], train_data_zero_shot['label'], X_test, y_test, 'Zero-Shot Dataset')\n",
        "train_and_evaluate_logistic_regression(train_data_one_shot['sentence1'], train_data_one_shot['label'], X_test, y_test, 'One-Shot Dataset')\n",
        "train_and_evaluate_logistic_regression(dev_data['sentence1'], dev_data['label'], X_test, y_test, 'Dev Dataset')\n"
      ],
      "metadata": {
        "colab": {
          "base_uri": "https://localhost:8080/"
        },
        "id": "MCDx2OIirxaP",
        "outputId": "07999b90-e72c-42d8-eeef-206b62a54eca"
      },
      "execution_count": null,
      "outputs": [
        {
          "output_type": "stream",
          "name": "stdout",
          "text": [
            "Dataset: Few-Shot Dataset\n",
            "Accuracy for Few-Shot Dataset: 0.8716\n",
            "F1 Score for Few-Shot Dataset: 0.8501\n",
            "Dataset: Zero-Shot Dataset\n",
            "Accuracy for Zero-Shot Dataset: 0.4182\n",
            "F1 Score for Zero-Shot Dataset: 0.4114\n",
            "Dataset: One-Shot Dataset\n",
            "Accuracy for One-Shot Dataset: 0.6915\n",
            "F1 Score for One-Shot Dataset: 0.5249\n",
            "Dataset: Dev Dataset\n",
            "Accuracy for Dev Dataset: 0.6667\n",
            "F1 Score for Dev Dataset: 0.4227\n"
          ]
        }
      ]
    },
    {
      "cell_type": "markdown",
      "source": [
        "# 3.9\tMultinomial Naive Bayes Classifier (unigrams)"
      ],
      "metadata": {
        "id": "8vo6Yr892Mqg"
      }
    },
    {
      "cell_type": "markdown",
      "source": [
        "##**####################NAIVE BAYES########################**"
      ],
      "metadata": {
        "id": "3KFQ10bKr-t4"
      }
    },
    {
      "cell_type": "code",
      "source": [
        "from sklearn.naive_bayes import MultinomialNB\n",
        "\n",
        "# Function to train and evaluate a Multinomial Naive Bayes classifier\n",
        "def train_and_evaluate_naive_bayes(X_train, y_train, X_test, y_test, dataset_name):\n",
        "    print(f\"Dataset: {dataset_name}\")\n",
        "\n",
        "    # Create TF-IDF vectors for the text data with a maximum of 50,000 features\n",
        "    tfidf_vectorizer = TfidfVectorizer(max_features=50000)\n",
        "    X_train_tfidf = tfidf_vectorizer.fit_transform(X_train)\n",
        "    X_test_tfidf = tfidf_vectorizer.transform(X_test)\n",
        "\n",
        "    # Create a Multinomial Naive Bayes classifier\n",
        "    naive_bayes = MultinomialNB()\n",
        "    naive_bayes.fit(X_train_tfidf, y_train)\n",
        "\n",
        "    # Make predictions on the test set\n",
        "    y_pred = naive_bayes.predict(X_test_tfidf)\n",
        "\n",
        "    # Calculate and print accuracy\n",
        "    accuracy = accuracy_score(y_test, y_pred)\n",
        "    print(f\"Accuracy for {dataset_name}: {accuracy:.4f}\")\n",
        "\n",
        "    # Calculate and print the macro F1 score\n",
        "    f1 = f1_score(y_test, y_pred, average='macro')\n",
        "    print(f\"F1 Score for {dataset_name}: {f1:.4f}\")\n",
        "\n",
        "# Train and evaluate the Multinomial Naive Bayes classifier for different datasets\n",
        "train_and_evaluate_naive_bayes(train_data_few_shot['sentence1'], train_data_few_shot['label'], X_test, y_test, 'Few-Shot Dataset')\n",
        "train_and_evaluate_naive_bayes(train_data_zero_shot['sentence1'], train_data_zero_shot['label'], X_test, y_test, 'Zero-Shot Dataset')\n",
        "train_and_evaluate_naive_bayes(train_data_one_shot['sentence1'], train_data_one_shot['label'], X_test, y_test, 'One-Shot Dataset')\n",
        "train_and_evaluate_naive_bayes(dev_data['sentence1'], dev_data['label'], X_test, y_test, 'Dev Dataset')\n"
      ],
      "metadata": {
        "colab": {
          "base_uri": "https://localhost:8080/"
        },
        "id": "3kDjrY8Xr64Q",
        "outputId": "c582a586-e0db-44ea-b6f7-ac210d3fbca3"
      },
      "execution_count": null,
      "outputs": [
        {
          "output_type": "stream",
          "name": "stdout",
          "text": [
            "Dataset: Few-Shot Dataset\n",
            "Accuracy for Few-Shot Dataset: 0.7081\n",
            "F1 Score for Few-Shot Dataset: 0.4692\n",
            "Dataset: Zero-Shot Dataset\n",
            "Accuracy for Zero-Shot Dataset: 0.5259\n",
            "F1 Score for Zero-Shot Dataset: 0.5235\n",
            "Dataset: One-Shot Dataset\n",
            "Accuracy for One-Shot Dataset: 0.6998\n",
            "F1 Score for One-Shot Dataset: 0.4429\n",
            "Dataset: Dev Dataset\n",
            "Accuracy for Dev Dataset: 0.6957\n",
            "F1 Score for Dev Dataset: 0.5348\n"
          ]
        }
      ]
    },
    {
      "cell_type": "markdown",
      "source": [
        "# 3.10\tMultinomial Naive Bayes Classifier (Bigrams)"
      ],
      "metadata": {
        "id": "2ApVM13a2l4f"
      }
    },
    {
      "cell_type": "code",
      "source": [
        "from sklearn.naive_bayes import MultinomialNB\n",
        "\n",
        "# Function to train and evaluate a Multinomial Naive Bayes classifier\n",
        "def train_and_evaluate_naive_bayes(X_train, y_train, X_test, y_test, dataset_name):\n",
        "    print(f\"Dataset: {dataset_name}\")\n",
        "\n",
        "    # Create TF-IDF vectors for the text data with a maximum of 50,000 features\n",
        "    tfidf_vectorizer = TfidfVectorizer(ngram_range=(2, 2), max_features=50000) #max_features=50000 implies that only the top 50,000 most frequent words\n",
        "                                                                              #or features from the entire corpus will be considered\n",
        "    X_train_tfidf = tfidf_vectorizer.fit_transform(X_train)\n",
        "    X_test_tfidf = tfidf_vectorizer.transform(X_test)\n",
        "\n",
        "    # Create a Multinomial Naive Bayes classifier\n",
        "    naive_bayes = MultinomialNB()\n",
        "    naive_bayes.fit(X_train_tfidf, y_train)\n",
        "\n",
        "    # Make predictions on the test set\n",
        "    y_pred = naive_bayes.predict(X_test_tfidf)\n",
        "\n",
        "    # Calculate and print accuracy\n",
        "    accuracy = accuracy_score(y_test, y_pred)\n",
        "    print(f\"Accuracy for {dataset_name}: {accuracy:.4f}\")\n",
        "\n",
        "    # Calculate and print the macro F1 score\n",
        "    f1 = f1_score(y_test, y_pred, average='macro')\n",
        "    print(f\"F1 Score for {dataset_name}: {f1:.4f}\")\n",
        "\n",
        "# Train and evaluate the Multinomial Naive Bayes classifier for different datasets\n",
        "train_and_evaluate_naive_bayes(train_data_few_shot['sentence1'], train_data_few_shot['label'], X_test, y_test, 'Few-Shot Dataset')\n",
        "train_and_evaluate_naive_bayes(train_data_zero_shot['sentence1'], train_data_zero_shot['label'], X_test, y_test, 'Zero-Shot Dataset')\n",
        "train_and_evaluate_naive_bayes(train_data_one_shot['sentence1'], train_data_one_shot['label'], X_test, y_test, 'One-Shot Dataset')\n",
        "train_and_evaluate_naive_bayes(dev_data['sentence1'], dev_data['label'], X_test, y_test, 'Dev Dataset')\n"
      ],
      "metadata": {
        "colab": {
          "base_uri": "https://localhost:8080/"
        },
        "id": "tvlw7M942fJ9",
        "outputId": "6e309cdd-efd3-4546-d780-1634f3c9bdc9"
      },
      "execution_count": null,
      "outputs": [
        {
          "output_type": "stream",
          "name": "stdout",
          "text": [
            "Dataset: Few-Shot Dataset\n",
            "Accuracy for Few-Shot Dataset: 0.7205\n",
            "F1 Score for Few-Shot Dataset: 0.5066\n",
            "Dataset: Zero-Shot Dataset\n",
            "Accuracy for Zero-Shot Dataset: 0.4058\n",
            "F1 Score for Zero-Shot Dataset: 0.3945\n",
            "Dataset: One-Shot Dataset\n",
            "Accuracy for One-Shot Dataset: 0.6915\n",
            "F1 Score for One-Shot Dataset: 0.4088\n",
            "Dataset: Dev Dataset\n",
            "Accuracy for Dev Dataset: 0.6894\n",
            "F1 Score for Dev Dataset: 0.4144\n"
          ]
        }
      ]
    },
    {
      "cell_type": "markdown",
      "source": [
        "# 3.11\tMultinomial Naive Bayes Classifier with Lemmatization:"
      ],
      "metadata": {
        "id": "uDNyRJZx3wHL"
      }
    },
    {
      "cell_type": "markdown",
      "source": [
        "##**####################NAIVE BAYES HYPER PARAM USING LEMMETIZER########################**"
      ],
      "metadata": {
        "id": "5-LgAwDisHi7"
      }
    },
    {
      "cell_type": "code",
      "source": [
        "from sklearn.naive_bayes import MultinomialNB\n",
        "from sklearn.feature_extraction.text import CountVectorizer\n",
        "from sklearn.metrics import accuracy_score, f1_score\n",
        "from nltk.stem import WordNetLemmatizer\n",
        "import string\n",
        "from nltk.corpus import stopwords\n",
        "\n",
        "# Function to preprocess the text data with lemmatization\n",
        "def preprocess_text_with_lemmatization(text):\n",
        "    if isinstance(text, str):\n",
        "        # Lowercase the text\n",
        "        text = text.lower()\n",
        "\n",
        "        # Remove punctuation\n",
        "        text = ''.join([char for char in text if char not in string.punctuation])\n",
        "\n",
        "        # Tokenize the text (split into words)\n",
        "        tokens = text.split()\n",
        "\n",
        "        # Remove stopwords\n",
        "        tokens = [word for word in tokens if word not in stopwords.words('english')]\n",
        "\n",
        "        # Lemmatize the words\n",
        "        #Original: ran -> Lemmatized: ran\n",
        "        #Original: runs -> Lemmatized: run\n",
        "        lemmatizer = WordNetLemmatizer()\n",
        "        tokens = [lemmatizer.lemmatize(word) for word in tokens]\n",
        "\n",
        "        # Join the tokens back into a single string\n",
        "        text = ' '.join(tokens)\n",
        "\n",
        "    return text\n"
      ],
      "metadata": {
        "id": "aLxXWTcisCll"
      },
      "execution_count": null,
      "outputs": []
    },
    {
      "cell_type": "code",
      "source": [
        "# Function to train and evaluate a Multinomial Naive Bayes classifier with lemmatization\n",
        "def train_and_evaluate_naive_bayes_with_lemmatization(X_train, y_train, X_test, y_test, dataset_name):\n",
        "    print(f\"Dataset: {dataset_name}\")\n",
        "\n",
        "    # Create Bag of Words vectors for the text data with a maximum of 50,000 features\n",
        "    count_vectorizer = CountVectorizer(max_features=50000)\n",
        "\n",
        "    # Create a preprocessing pipeline\n",
        "    preprocessing_pipeline = Pipeline([\n",
        "        ('preprocess', FunctionTransformer(func=preprocess_text_with_lemmatization, validate=False)),\n",
        "        ('count_vectorizer', count_vectorizer)\n",
        "    ])\n",
        "\n",
        "    X_train_preprocessed = preprocessing_pipeline.fit_transform(X_train)\n",
        "    X_test_preprocessed = preprocessing_pipeline.transform(X_test)\n",
        "\n",
        "    # Create a Multinomial Naive Bayes classifier\n",
        "    naive_bayes = MultinomialNB()\n",
        "    naive_bayes.fit(X_train_preprocessed, y_train)\n",
        "\n",
        "    # Make predictions on the test set\n",
        "    y_pred = naive_bayes.predict(X_test_preprocessed)\n",
        "\n",
        "    # Calculate and print accuracy\n",
        "    accuracy = accuracy_score(y_test, y_pred)\n",
        "    print(f\"Accuracy for {dataset_name}: {accuracy:.4f}\")\n",
        "\n",
        "    # Calculate and print the macro F1 score\n",
        "    f1 = f1_score(y_test, y_pred, average='macro')\n",
        "    print(f\"F1 Score for {dataset_name}: {f1:.4f}\")\n",
        "\n",
        "# Train and evaluate the Multinomial Naive Bayes classifier with lemmatization for different datasets\n",
        "train_and_evaluate_naive_bayes_with_lemmatization(train_data_few_shot['sentence1'], train_data_few_shot['label'], X_test, y_test, 'Few-Shot Dataset')\n",
        "train_and_evaluate_naive_bayes_with_lemmatization(train_data_zero_shot['sentence1'], train_data_zero_shot['label'], X_test, y_test, 'Zero-Shot Dataset')\n",
        "train_and_evaluate_naive_bayes_with_lemmatization(train_data_one_shot['sentence1'], train_data_one_shot['label'], X_test, y_test, 'One-Shot Dataset')\n",
        "train_and_evaluate_naive_bayes_with_lemmatization(dev_data['sentence1'], dev_data['label'], X_test, y_test, 'Dev Dataset')"
      ],
      "metadata": {
        "colab": {
          "base_uri": "https://localhost:8080/"
        },
        "id": "HXy19hUEsMfO",
        "outputId": "37b555ef-365e-427d-9c91-566d2525d609"
      },
      "execution_count": null,
      "outputs": [
        {
          "output_type": "stream",
          "name": "stdout",
          "text": [
            "Dataset: Few-Shot Dataset\n",
            "Accuracy for Few-Shot Dataset: 0.8406\n",
            "F1 Score for Few-Shot Dataset: 0.8043\n",
            "Dataset: Zero-Shot Dataset\n",
            "Accuracy for Zero-Shot Dataset: 0.5383\n",
            "F1 Score for Zero-Shot Dataset: 0.5284\n",
            "Dataset: One-Shot Dataset\n",
            "Accuracy for One-Shot Dataset: 0.7474\n",
            "F1 Score for One-Shot Dataset: 0.6958\n",
            "Dataset: Dev Dataset\n",
            "Accuracy for Dev Dataset: 0.5714\n",
            "F1 Score for Dev Dataset: 0.5345\n"
          ]
        }
      ]
    },
    {
      "cell_type": "markdown",
      "source": [
        "# 3.12\tLSTM Model:"
      ],
      "metadata": {
        "id": "9FNAyWir4jz_"
      }
    },
    {
      "cell_type": "code",
      "source": [
        "import pandas as pd\n",
        "import numpy as np\n",
        "from sklearn.model_selection import train_test_split\n",
        "from sklearn.preprocessing import LabelEncoder\n",
        "from tensorflow.keras.preprocessing.text import Tokenizer\n",
        "from tensorflow.keras.preprocessing.sequence import pad_sequences\n",
        "from tensorflow.keras.models import Sequential\n",
        "from tensorflow.keras.layers import Embedding, LSTM, Dense\n",
        "from tensorflow.keras.utils import to_categorical\n",
        "from sklearn.metrics import f1_score\n",
        "\n",
        "# Function to train and evaluate an LSTM model\n",
        "def train_and_evaluate_lstm(X_train, y_train, X_test, y_test, dataset_name):\n",
        "    print(f\"Dataset: {dataset_name}\")\n",
        "\n",
        "    # Define the maximum number of words and sequence length\n",
        "    max_words = 5000 #max_words = 5000: This variable sets the maximum number of unique words to consider in the text corpus.\n",
        "    sequence_length = 100 #sequence_length = 100: This variable defines the maximum length of a sequence or a text input.\n",
        "                          #In tasks like text classification or sequence modeling (e.g., recurrent neural networks like LSTMs), sequences of words or tokens are fed into the model as inputs.\n",
        "                          #sequence_length = 100 specifies that the maximum length of any sequence or text input will be 100 tokens or words.\n",
        "                          #If a sequence exceeds this length, it might be truncated (if longer) or padded (if shorter) to match this length before feeding it into the model.\n",
        "\n",
        "    # Tokenize the text data and convert it to sequences\n",
        "    tokenizer = Tokenizer(num_words=max_words, oov_token=\"<OOV>\") #Tokenizer: This is a class in Keras (a high-level neural networks API running on top of TensorFlow) used for tokenizing text data,\n",
        "                                                                  #converting words into numerical tokens suitable for neural network input.\n",
        "                                                                  #num_words=max_words: The num_words parameter specifies the maximum number of words to keep based on their frequency.\n",
        "                                                                  #In this case, it's set to max_words, which, as previously mentioned, is a variable that defines the maximum number of unique words\n",
        "                                                                  #to consider in the text corpus.\n",
        "                                                                  #Only the top max_words most frequent words will be retained during tokenization.\n",
        "                                                                  #oov_token=\"<OOV>\": This parameter sets the token to be used for out-of-vocabulary (OOV) words.\n",
        "                                                                  #During tokenization, if the tokenizer encounters a word not present in the vocabulary (because it's less frequent\n",
        "                                                                  #or wasn't included due to num_words limit),\n",
        "                                                                  #it will be replaced by the specified <OOV> token. This helps handle words that are not part of the vocabulary seen during training.\n",
        "    tokenizer.fit_on_texts(X_train)\n",
        "    X_train_seq = tokenizer.texts_to_sequences(X_train)\n",
        "    X_test_seq = tokenizer.texts_to_sequences(X_test)\n",
        "\n",
        "    # Pad the sequences to have a fixed length\n",
        "    X_train_padded = pad_sequences(X_train_seq, maxlen=sequence_length, padding='post') #In this example, when padding='post' is used, zeros will be added after the content of each sequence\n",
        "                                                                                        #to make all sequences in the sequences list have the same length as the longest sequence.\n",
        "                                                                                        #The resulting padded_sequences will have uniform length, as the padding is added at the end ('post') of each sequence.\n",
        "    X_test_padded = pad_sequences(X_test_seq, maxlen=sequence_length, padding='post')\n",
        "\n",
        "    # Encode the labels and convert them to categorical\n",
        "    label_encoder = LabelEncoder()\n",
        "    y_train_encoded = label_encoder.fit_transform(y_train)\n",
        "    y_test_encoded = label_encoder.transform(y_test)\n",
        "    y_train_categorical = to_categorical(y_train_encoded)\n",
        "    y_test_categorical = to_categorical(y_test_encoded)\n",
        "\n",
        "\n",
        "\n",
        "\n",
        "    # Build the LSTM model\n",
        "    model = Sequential() #The Sequential() function creates an empty Sequential model. This model is a linear stack of layers, where you can add layers one by one in sequence.\n",
        "    model.add(Embedding(max_words, 128, input_length=sequence_length)) #adds an Embedding layer to a Keras Sequential model\n",
        "                                                                       #128 specifies the number of LSTM units or cells in the layer.\n",
        "                                                                       #input_length=sequence_length: This parameter specifies the length of input sequences that will be fed into this Embedding layer.\n",
        "                                                                       #It indicates the length of each input sequence.\n",
        "    model.add(LSTM(128, return_sequences=True)) #adds an LSTM (Long Short-Term Memory) layer to a Keras Sequential model\n",
        "                                                #128 specifies the number of LSTM units or cells in the layer.\n",
        "                                                #This parameter determines the dimensionality of the output space or the number of memory units in the LSTM layer\n",
        "                                                #return_sequences=True indicates that the LSTM layer should return the full sequence of outputs for each input sequence.\n",
        "                                                #When return_sequences=True, the LSTM layer will produce an output for each timestep in the input sequence,\n",
        "                                                #allowing subsequent layers to also receive sequences as inputs.\n",
        "    model.add(LSTM(64)) #model.add(LSTM(64)) line adds an LSTM layer with 64 units to the model.\n",
        "                        #This layer is often used for capturing complex patterns in sequential data and is suitable for tasks such as sequence prediction,\n",
        "                        #time series analysis, and natural language processing.\n",
        "    model.add(Dense(64, activation='relu')) #Dense(64, activation='relu'): This line adds a fully connected Dense layer to the neural network model.\n",
        "                                            #64 specifies the number of units/neurons in the Dense layer. This parameter determines the dimensionality of the output space.\n",
        "                                            #activation='relu' sets the activation function for the neurons in this layer.\n",
        "                                            #'ReLU' (Rectified Linear Unit) is a widely used activation function in deep learning models.\n",
        "                                            #It introduces non-linearity by outputting the input directly if it is positive, and zero otherwise, helping the network learn complex patterns.\n",
        "    model.add(Dense(len(label_encoder.classes_), activation='softmax')) #adds a Dense layer with a 'softmax' activation function to a Keras Sequential model.\n",
        "                                                                        #len(label_encoder.classes_) specifies the number of units/neurons in the Dense layer.\n",
        "                                                                        #In this case, it appears to be dynamically determined based on the number of classes in the label encoder.\n",
        "                                                                        #activation='softmax' sets the activation function for the neurons in this layer.\n",
        "                                                                        #'Softmax' is a commonly used activation function, especially in multi-class classification tasks.\n",
        "                                                                        #It converts the raw predictions into a probability distribution over multiple classes.\n",
        "                                                                        #The output values are in the range (0, 1) and sum up to 1, representing the probabilities of each class.\n",
        "\n",
        "\n",
        "\n",
        "\n",
        "    # Compile the model\n",
        "    #loss='categorical_crossentropy'This parameter specifies the loss function to be used during training. In this case, 'categorical_crossentropy' is a common choice for multi-class classification problems.\n",
        "    #It measures the difference between the predicted probability distribution and the true distribution of the classes.\n",
        "    #optimizer='adam': This parameter specifies the optimizer to be used during training. 'adam' refers to the Adam optimizer, which is an adaptive learning rate optimization algorithm widely used\n",
        "    #in deep learning models.\n",
        "    #Adam adjusts the learning rates for each parameter during training, allowing better performance in many cases.\n",
        "    #metrics=['accuracy']: This parameter specifies the evaluation metric(s) to be monitored during training.\n",
        "    #In this case, 'accuracy' is specified, which measures the accuracy of the model's predictions on the validation data.\n",
        "    #It calculates the ratio of correctly predicted samples to the total number of samples.\n",
        "    model.compile(loss='categorical_crossentropy', optimizer='adam', metrics=['accuracy'])\n",
        "\n",
        "    # Train the model\n",
        "    #The model will undergo 100 epochs of training in batches of size 64, and the validation split will allow monitoring of the model's performance on a portion of the training data reserved for validation.\n",
        "    #The training process aims to optimize the model's parameters to minimize the specified loss function (categorical cross-entropy) and improve its accuracy on the training data.\n",
        "    model.fit(X_train_padded, y_train_categorical, epochs=100, batch_size=64, validation_split=0.2)\n",
        "\n",
        "    # Make predictions on the test set\n",
        "    y_pred = model.predict(X_test_padded)\n",
        "    y_pred_classes = np.argmax(y_pred, axis=1)\n",
        "    y_true = y_test_encoded\n",
        "\n",
        "    # Calculate and print the macro F1 score\n",
        "    f1 = f1_score(y_true, y_pred_classes, average='macro')\n",
        "    print(f\"F1 Score for {dataset_name}: {f1:.4f}\")\n",
        "\n",
        "# Load the data\n",
        "train_data_few_shot = pd.read_csv('preprocessed_no_stopwords_train_few_shot.csv')\n",
        "train_data_zero_shot = pd.read_csv('preprocessed_no_stopwords_train_zero_shot.csv')\n",
        "train_data_one_shot = pd.read_csv('preprocessed_no_stopwords_train_one_shot.csv')\n",
        "dev_data = pd.read_csv('preprocessed_no_stopwords_dev.csv')\n",
        "test_data = pd.read_csv('preprocessed_no_stopwords_test.csv')\n",
        "\n",
        "# Extract test data and labels\n",
        "X_test = test_data['sentence1']\n",
        "y_test = test_data['label']\n",
        "\n",
        "# Train and evaluate the LSTM model on each dataset\n",
        "train_and_evaluate_lstm(train_data_few_shot['sentence1'], train_data_few_shot['label'], X_test, y_test, 'Few-Shot Dataset')\n",
        "train_and_evaluate_lstm(train_data_zero_shot['sentence1'], train_data_zero_shot['label'], X_test, y_test, 'Zero-Shot Dataset')\n",
        "train_and_evaluate_lstm(train_data_one_shot['sentence1'], train_data_one_shot['label'], X_test, y_test, 'One-Shot Dataset')\n",
        "train_and_evaluate_lstm(dev_data['sentence1'], dev_data['label'], X_test, y_test, 'Dev Dataset')\n"
      ],
      "metadata": {
        "colab": {
          "base_uri": "https://localhost:8080/"
        },
        "id": "DTCDhbf5s4sj",
        "outputId": "591e392a-7dc4-4c20-e872-afc1c678c497"
      },
      "execution_count": null,
      "outputs": [
        {
          "output_type": "stream",
          "name": "stdout",
          "text": [
            "Dataset: Few-Shot Dataset\n",
            "Epoch 1/100\n",
            "4/4 [==============================] - 7s 672ms/step - loss: 0.6792 - accuracy: 0.5911 - val_loss: 0.4890 - val_accuracy: 0.9123\n",
            "Epoch 2/100\n",
            "4/4 [==============================] - 2s 588ms/step - loss: 0.6795 - accuracy: 0.5911 - val_loss: 0.5853 - val_accuracy: 0.9123\n",
            "Epoch 3/100\n",
            "4/4 [==============================] - 2s 543ms/step - loss: 0.6775 - accuracy: 0.5911 - val_loss: 0.5876 - val_accuracy: 0.9123\n",
            "Epoch 4/100\n",
            "4/4 [==============================] - 1s 347ms/step - loss: 0.6779 - accuracy: 0.5911 - val_loss: 0.5576 - val_accuracy: 0.9123\n",
            "Epoch 5/100\n",
            "4/4 [==============================] - 1s 350ms/step - loss: 0.6773 - accuracy: 0.5911 - val_loss: 0.5508 - val_accuracy: 0.9123\n",
            "Epoch 6/100\n",
            "4/4 [==============================] - 1s 340ms/step - loss: 0.6784 - accuracy: 0.5911 - val_loss: 0.5827 - val_accuracy: 0.9123\n",
            "Epoch 7/100\n",
            "4/4 [==============================] - 1s 360ms/step - loss: 0.6776 - accuracy: 0.5911 - val_loss: 0.5832 - val_accuracy: 0.9123\n",
            "Epoch 8/100\n",
            "4/4 [==============================] - 1s 355ms/step - loss: 0.6771 - accuracy: 0.5911 - val_loss: 0.5749 - val_accuracy: 0.9123\n",
            "Epoch 9/100\n",
            "4/4 [==============================] - 1s 332ms/step - loss: 0.6772 - accuracy: 0.5911 - val_loss: 0.5520 - val_accuracy: 0.9123\n",
            "Epoch 10/100\n",
            "4/4 [==============================] - 1s 354ms/step - loss: 0.6766 - accuracy: 0.5911 - val_loss: 0.5534 - val_accuracy: 0.9123\n",
            "Epoch 11/100\n",
            "4/4 [==============================] - 2s 655ms/step - loss: 0.6767 - accuracy: 0.5911 - val_loss: 0.5615 - val_accuracy: 0.9123\n",
            "Epoch 12/100\n",
            "4/4 [==============================] - 2s 535ms/step - loss: 0.6771 - accuracy: 0.5911 - val_loss: 0.5701 - val_accuracy: 0.9123\n",
            "Epoch 13/100\n",
            "4/4 [==============================] - 1s 361ms/step - loss: 0.6763 - accuracy: 0.5911 - val_loss: 0.5558 - val_accuracy: 0.9123\n",
            "Epoch 14/100\n",
            "4/4 [==============================] - 1s 367ms/step - loss: 0.6770 - accuracy: 0.5911 - val_loss: 0.5331 - val_accuracy: 0.9123\n",
            "Epoch 15/100\n",
            "4/4 [==============================] - 1s 350ms/step - loss: 0.6776 - accuracy: 0.5911 - val_loss: 0.5278 - val_accuracy: 0.9123\n",
            "Epoch 16/100\n",
            "4/4 [==============================] - 1s 346ms/step - loss: 0.6791 - accuracy: 0.5911 - val_loss: 0.5592 - val_accuracy: 0.9123\n",
            "Epoch 17/100\n",
            "4/4 [==============================] - 1s 350ms/step - loss: 0.6764 - accuracy: 0.5911 - val_loss: 0.5658 - val_accuracy: 0.9123\n",
            "Epoch 18/100\n",
            "4/4 [==============================] - 1s 330ms/step - loss: 0.6768 - accuracy: 0.5911 - val_loss: 0.5713 - val_accuracy: 0.9123\n",
            "Epoch 19/100\n",
            "4/4 [==============================] - 1s 337ms/step - loss: 0.6768 - accuracy: 0.5911 - val_loss: 0.5607 - val_accuracy: 0.9123\n",
            "Epoch 20/100\n",
            "4/4 [==============================] - 2s 606ms/step - loss: 0.6768 - accuracy: 0.5911 - val_loss: 0.5598 - val_accuracy: 0.9123\n",
            "Epoch 21/100\n",
            "4/4 [==============================] - 2s 594ms/step - loss: 0.6766 - accuracy: 0.5911 - val_loss: 0.5663 - val_accuracy: 0.9123\n",
            "Epoch 22/100\n",
            "4/4 [==============================] - 1s 345ms/step - loss: 0.6766 - accuracy: 0.5911 - val_loss: 0.5676 - val_accuracy: 0.9123\n",
            "Epoch 23/100\n",
            "4/4 [==============================] - 1s 342ms/step - loss: 0.6766 - accuracy: 0.5911 - val_loss: 0.5613 - val_accuracy: 0.9123\n",
            "Epoch 24/100\n",
            "4/4 [==============================] - 1s 339ms/step - loss: 0.6764 - accuracy: 0.5911 - val_loss: 0.5525 - val_accuracy: 0.9123\n",
            "Epoch 25/100\n",
            "4/4 [==============================] - 1s 345ms/step - loss: 0.6764 - accuracy: 0.5911 - val_loss: 0.5331 - val_accuracy: 0.9123\n",
            "Epoch 26/100\n",
            "4/4 [==============================] - 1s 334ms/step - loss: 0.6790 - accuracy: 0.5911 - val_loss: 0.5194 - val_accuracy: 0.9123\n",
            "Epoch 27/100\n",
            "4/4 [==============================] - 1s 363ms/step - loss: 0.6784 - accuracy: 0.5911 - val_loss: 0.5345 - val_accuracy: 0.9123\n",
            "Epoch 28/100\n",
            "4/4 [==============================] - 1s 349ms/step - loss: 0.6762 - accuracy: 0.5911 - val_loss: 0.5699 - val_accuracy: 0.9123\n",
            "Epoch 29/100\n",
            "4/4 [==============================] - 2s 606ms/step - loss: 0.6766 - accuracy: 0.5911 - val_loss: 0.5895 - val_accuracy: 0.9123\n",
            "Epoch 30/100\n",
            "4/4 [==============================] - 2s 604ms/step - loss: 0.6776 - accuracy: 0.5911 - val_loss: 0.5846 - val_accuracy: 0.9123\n",
            "Epoch 31/100\n",
            "4/4 [==============================] - 1s 335ms/step - loss: 0.6773 - accuracy: 0.5911 - val_loss: 0.5773 - val_accuracy: 0.9123\n",
            "Epoch 32/100\n",
            "4/4 [==============================] - 1s 339ms/step - loss: 0.6775 - accuracy: 0.5911 - val_loss: 0.5640 - val_accuracy: 0.9123\n",
            "Epoch 33/100\n",
            "4/4 [==============================] - 1s 353ms/step - loss: 0.6768 - accuracy: 0.5911 - val_loss: 0.5612 - val_accuracy: 0.9123\n",
            "Epoch 34/100\n",
            "4/4 [==============================] - 1s 333ms/step - loss: 0.6766 - accuracy: 0.5911 - val_loss: 0.5595 - val_accuracy: 0.9123\n",
            "Epoch 35/100\n",
            "4/4 [==============================] - 1s 337ms/step - loss: 0.6768 - accuracy: 0.5911 - val_loss: 0.5601 - val_accuracy: 0.9123\n",
            "Epoch 36/100\n",
            "4/4 [==============================] - 1s 333ms/step - loss: 0.6774 - accuracy: 0.5911 - val_loss: 0.5520 - val_accuracy: 0.9123\n",
            "Epoch 37/100\n",
            "4/4 [==============================] - 1s 333ms/step - loss: 0.6764 - accuracy: 0.5911 - val_loss: 0.5615 - val_accuracy: 0.9123\n",
            "Epoch 38/100\n",
            "4/4 [==============================] - 2s 540ms/step - loss: 0.6770 - accuracy: 0.5911 - val_loss: 0.5733 - val_accuracy: 0.9123\n",
            "Epoch 39/100\n",
            "4/4 [==============================] - 3s 651ms/step - loss: 0.6767 - accuracy: 0.5911 - val_loss: 0.5700 - val_accuracy: 0.9123\n",
            "Epoch 40/100\n",
            "4/4 [==============================] - 1s 336ms/step - loss: 0.6771 - accuracy: 0.5911 - val_loss: 0.5563 - val_accuracy: 0.9123\n",
            "Epoch 41/100\n",
            "4/4 [==============================] - 1s 351ms/step - loss: 0.6773 - accuracy: 0.5911 - val_loss: 0.5489 - val_accuracy: 0.9123\n",
            "Epoch 42/100\n",
            "4/4 [==============================] - 1s 337ms/step - loss: 0.6774 - accuracy: 0.5911 - val_loss: 0.5640 - val_accuracy: 0.9123\n",
            "Epoch 43/100\n",
            "4/4 [==============================] - 1s 347ms/step - loss: 0.6766 - accuracy: 0.5911 - val_loss: 0.5595 - val_accuracy: 0.9123\n",
            "Epoch 44/100\n",
            "4/4 [==============================] - 1s 348ms/step - loss: 0.6766 - accuracy: 0.5911 - val_loss: 0.5575 - val_accuracy: 0.9123\n",
            "Epoch 45/100\n",
            "4/4 [==============================] - 1s 341ms/step - loss: 0.6770 - accuracy: 0.5911 - val_loss: 0.5607 - val_accuracy: 0.9123\n",
            "Epoch 46/100\n",
            "4/4 [==============================] - 1s 337ms/step - loss: 0.6778 - accuracy: 0.5911 - val_loss: 0.5464 - val_accuracy: 0.9123\n",
            "Epoch 47/100\n",
            "4/4 [==============================] - 2s 533ms/step - loss: 0.6768 - accuracy: 0.5911 - val_loss: 0.5554 - val_accuracy: 0.9123\n",
            "Epoch 48/100\n",
            "4/4 [==============================] - 2s 619ms/step - loss: 0.6774 - accuracy: 0.5911 - val_loss: 0.5677 - val_accuracy: 0.9123\n",
            "Epoch 49/100\n",
            "4/4 [==============================] - 2s 331ms/step - loss: 0.6766 - accuracy: 0.5911 - val_loss: 0.5634 - val_accuracy: 0.9123\n",
            "Epoch 50/100\n",
            "4/4 [==============================] - 1s 335ms/step - loss: 0.6765 - accuracy: 0.5911 - val_loss: 0.5599 - val_accuracy: 0.9123\n",
            "Epoch 51/100\n",
            "4/4 [==============================] - 1s 351ms/step - loss: 0.6777 - accuracy: 0.5911 - val_loss: 0.5453 - val_accuracy: 0.9123\n",
            "Epoch 52/100\n",
            "4/4 [==============================] - 1s 341ms/step - loss: 0.6768 - accuracy: 0.5911 - val_loss: 0.5515 - val_accuracy: 0.9123\n",
            "Epoch 53/100\n",
            "4/4 [==============================] - 1s 354ms/step - loss: 0.6771 - accuracy: 0.5911 - val_loss: 0.5488 - val_accuracy: 0.9123\n",
            "Epoch 54/100\n",
            "4/4 [==============================] - 1s 331ms/step - loss: 0.6769 - accuracy: 0.5911 - val_loss: 0.5650 - val_accuracy: 0.9123\n",
            "Epoch 55/100\n",
            "4/4 [==============================] - 3s 1s/step - loss: 0.6769 - accuracy: 0.5911 - val_loss: 0.5730 - val_accuracy: 0.9123\n",
            "Epoch 56/100\n",
            "4/4 [==============================] - 4s 710ms/step - loss: 0.6769 - accuracy: 0.5911 - val_loss: 0.5660 - val_accuracy: 0.9123\n",
            "Epoch 57/100\n",
            "4/4 [==============================] - 1s 338ms/step - loss: 0.6766 - accuracy: 0.5911 - val_loss: 0.5640 - val_accuracy: 0.9123\n",
            "Epoch 58/100\n",
            "4/4 [==============================] - 1s 333ms/step - loss: 0.6771 - accuracy: 0.5911 - val_loss: 0.5515 - val_accuracy: 0.9123\n",
            "Epoch 59/100\n",
            "4/4 [==============================] - 1s 346ms/step - loss: 0.6768 - accuracy: 0.5911 - val_loss: 0.5457 - val_accuracy: 0.9123\n",
            "Epoch 60/100\n",
            "4/4 [==============================] - 1s 352ms/step - loss: 0.6767 - accuracy: 0.5911 - val_loss: 0.5504 - val_accuracy: 0.9123\n",
            "Epoch 61/100\n",
            "4/4 [==============================] - 1s 354ms/step - loss: 0.6765 - accuracy: 0.5911 - val_loss: 0.5563 - val_accuracy: 0.9123\n",
            "Epoch 62/100\n",
            "4/4 [==============================] - 1s 340ms/step - loss: 0.6770 - accuracy: 0.5911 - val_loss: 0.5715 - val_accuracy: 0.9123\n",
            "Epoch 63/100\n",
            "4/4 [==============================] - 1s 347ms/step - loss: 0.6767 - accuracy: 0.5911 - val_loss: 0.5727 - val_accuracy: 0.9123\n",
            "Epoch 64/100\n",
            "4/4 [==============================] - 2s 608ms/step - loss: 0.6768 - accuracy: 0.5911 - val_loss: 0.5695 - val_accuracy: 0.9123\n",
            "Epoch 65/100\n",
            "4/4 [==============================] - 2s 561ms/step - loss: 0.6767 - accuracy: 0.5911 - val_loss: 0.5656 - val_accuracy: 0.9123\n",
            "Epoch 66/100\n",
            "4/4 [==============================] - 1s 349ms/step - loss: 0.6765 - accuracy: 0.5911 - val_loss: 0.5610 - val_accuracy: 0.9123\n",
            "Epoch 67/100\n",
            "4/4 [==============================] - 1s 342ms/step - loss: 0.6764 - accuracy: 0.5911 - val_loss: 0.5518 - val_accuracy: 0.9123\n",
            "Epoch 68/100\n",
            "4/4 [==============================] - 1s 340ms/step - loss: 0.6765 - accuracy: 0.5911 - val_loss: 0.5432 - val_accuracy: 0.9123\n",
            "Epoch 69/100\n",
            "4/4 [==============================] - 1s 345ms/step - loss: 0.6778 - accuracy: 0.5911 - val_loss: 0.5373 - val_accuracy: 0.9123\n",
            "Epoch 70/100\n",
            "4/4 [==============================] - 1s 335ms/step - loss: 0.6763 - accuracy: 0.5911 - val_loss: 0.5554 - val_accuracy: 0.9123\n",
            "Epoch 71/100\n",
            "4/4 [==============================] - 1s 353ms/step - loss: 0.6769 - accuracy: 0.5911 - val_loss: 0.5723 - val_accuracy: 0.9123\n",
            "Epoch 72/100\n",
            "4/4 [==============================] - 1s 336ms/step - loss: 0.6770 - accuracy: 0.5911 - val_loss: 0.5786 - val_accuracy: 0.9123\n",
            "Epoch 73/100\n",
            "4/4 [==============================] - 2s 605ms/step - loss: 0.6770 - accuracy: 0.5911 - val_loss: 0.5795 - val_accuracy: 0.9123\n",
            "Epoch 74/100\n",
            "4/4 [==============================] - 2s 598ms/step - loss: 0.6774 - accuracy: 0.5911 - val_loss: 0.5775 - val_accuracy: 0.9123\n",
            "Epoch 75/100\n",
            "4/4 [==============================] - 1s 351ms/step - loss: 0.6766 - accuracy: 0.5911 - val_loss: 0.5602 - val_accuracy: 0.9123\n",
            "Epoch 76/100\n",
            "4/4 [==============================] - 1s 340ms/step - loss: 0.6764 - accuracy: 0.5911 - val_loss: 0.5402 - val_accuracy: 0.9123\n",
            "Epoch 77/100\n",
            "4/4 [==============================] - 1s 355ms/step - loss: 0.6771 - accuracy: 0.5911 - val_loss: 0.5354 - val_accuracy: 0.9123\n",
            "Epoch 78/100\n",
            "4/4 [==============================] - 1s 333ms/step - loss: 0.6775 - accuracy: 0.5911 - val_loss: 0.5470 - val_accuracy: 0.9123\n",
            "Epoch 79/100\n",
            "4/4 [==============================] - 1s 338ms/step - loss: 0.6770 - accuracy: 0.5911 - val_loss: 0.5536 - val_accuracy: 0.9123\n",
            "Epoch 80/100\n",
            "4/4 [==============================] - 1s 351ms/step - loss: 0.6767 - accuracy: 0.5911 - val_loss: 0.5530 - val_accuracy: 0.9123\n",
            "Epoch 81/100\n",
            "4/4 [==============================] - 1s 348ms/step - loss: 0.6775 - accuracy: 0.5911 - val_loss: 0.5464 - val_accuracy: 0.9123\n",
            "Epoch 82/100\n",
            "4/4 [==============================] - 2s 623ms/step - loss: 0.6767 - accuracy: 0.5911 - val_loss: 0.5608 - val_accuracy: 0.9123\n",
            "Epoch 83/100\n",
            "4/4 [==============================] - 2s 631ms/step - loss: 0.6766 - accuracy: 0.5911 - val_loss: 0.5725 - val_accuracy: 0.9123\n",
            "Epoch 84/100\n",
            "4/4 [==============================] - 1s 351ms/step - loss: 0.6773 - accuracy: 0.5911 - val_loss: 0.5795 - val_accuracy: 0.9123\n",
            "Epoch 85/100\n",
            "4/4 [==============================] - 1s 336ms/step - loss: 0.6769 - accuracy: 0.5911 - val_loss: 0.5695 - val_accuracy: 0.9123\n",
            "Epoch 86/100\n",
            "4/4 [==============================] - 1s 337ms/step - loss: 0.6766 - accuracy: 0.5911 - val_loss: 0.5598 - val_accuracy: 0.9123\n",
            "Epoch 87/100\n",
            "4/4 [==============================] - 1s 356ms/step - loss: 0.6774 - accuracy: 0.5911 - val_loss: 0.5526 - val_accuracy: 0.9123\n",
            "Epoch 88/100\n",
            "4/4 [==============================] - 1s 343ms/step - loss: 0.6764 - accuracy: 0.5911 - val_loss: 0.5584 - val_accuracy: 0.9123\n",
            "Epoch 89/100\n",
            "4/4 [==============================] - 1s 339ms/step - loss: 0.6769 - accuracy: 0.5911 - val_loss: 0.5693 - val_accuracy: 0.9123\n",
            "Epoch 90/100\n",
            "4/4 [==============================] - 1s 348ms/step - loss: 0.6767 - accuracy: 0.5911 - val_loss: 0.5694 - val_accuracy: 0.9123\n",
            "Epoch 91/100\n",
            "4/4 [==============================] - 2s 593ms/step - loss: 0.6767 - accuracy: 0.5911 - val_loss: 0.5672 - val_accuracy: 0.9123\n",
            "Epoch 92/100\n",
            "4/4 [==============================] - 2s 593ms/step - loss: 0.6768 - accuracy: 0.5911 - val_loss: 0.5644 - val_accuracy: 0.9123\n",
            "Epoch 93/100\n",
            "4/4 [==============================] - 2s 337ms/step - loss: 0.6767 - accuracy: 0.5911 - val_loss: 0.5706 - val_accuracy: 0.9123\n",
            "Epoch 94/100\n",
            "4/4 [==============================] - 1s 356ms/step - loss: 0.6767 - accuracy: 0.5911 - val_loss: 0.5672 - val_accuracy: 0.9123\n",
            "Epoch 95/100\n",
            "4/4 [==============================] - 1s 355ms/step - loss: 0.6766 - accuracy: 0.5911 - val_loss: 0.5633 - val_accuracy: 0.9123\n",
            "Epoch 96/100\n",
            "4/4 [==============================] - 1s 352ms/step - loss: 0.6764 - accuracy: 0.5911 - val_loss: 0.5581 - val_accuracy: 0.9123\n",
            "Epoch 97/100\n",
            "4/4 [==============================] - 1s 354ms/step - loss: 0.6766 - accuracy: 0.5911 - val_loss: 0.5556 - val_accuracy: 0.9123\n",
            "Epoch 98/100\n",
            "4/4 [==============================] - 1s 353ms/step - loss: 0.6769 - accuracy: 0.5911 - val_loss: 0.5457 - val_accuracy: 0.9123\n",
            "Epoch 99/100\n",
            "4/4 [==============================] - 1s 338ms/step - loss: 0.6771 - accuracy: 0.5911 - val_loss: 0.5465 - val_accuracy: 0.9123\n",
            "Epoch 100/100\n",
            "4/4 [==============================] - 2s 555ms/step - loss: 0.6777 - accuracy: 0.5911 - val_loss: 0.5659 - val_accuracy: 0.9123\n",
            "16/16 [==============================] - 3s 104ms/step\n",
            "F1 Score for Few-Shot Dataset: 0.4088\n",
            "Dataset: Zero-Shot Dataset\n",
            "Epoch 1/100\n",
            "42/42 [==============================] - 22s 426ms/step - loss: 0.6941 - accuracy: 0.4953 - val_loss: 0.6874 - val_accuracy: 0.5916\n",
            "Epoch 2/100\n",
            "42/42 [==============================] - 18s 440ms/step - loss: 0.6931 - accuracy: 0.5141 - val_loss: 0.6901 - val_accuracy: 0.5916\n",
            "Epoch 3/100\n",
            "42/42 [==============================] - 17s 400ms/step - loss: 0.6932 - accuracy: 0.5141 - val_loss: 0.6909 - val_accuracy: 0.5916\n",
            "Epoch 4/100\n",
            "42/42 [==============================] - 17s 403ms/step - loss: 0.6932 - accuracy: 0.5058 - val_loss: 0.6898 - val_accuracy: 0.5916\n",
            "Epoch 5/100\n",
            "42/42 [==============================] - 17s 406ms/step - loss: 0.6930 - accuracy: 0.5141 - val_loss: 0.6902 - val_accuracy: 0.5916\n",
            "Epoch 6/100\n",
            "42/42 [==============================] - 23s 559ms/step - loss: 0.6931 - accuracy: 0.5141 - val_loss: 0.6871 - val_accuracy: 0.5916\n",
            "Epoch 7/100\n",
            "42/42 [==============================] - 17s 402ms/step - loss: 0.6934 - accuracy: 0.4915 - val_loss: 0.6865 - val_accuracy: 0.5916\n",
            "Epoch 8/100\n",
            "42/42 [==============================] - 17s 401ms/step - loss: 0.6934 - accuracy: 0.5141 - val_loss: 0.6879 - val_accuracy: 0.5916\n",
            "Epoch 9/100\n",
            "42/42 [==============================] - 17s 404ms/step - loss: 0.6937 - accuracy: 0.5051 - val_loss: 0.6900 - val_accuracy: 0.5916\n",
            "Epoch 10/100\n",
            "42/42 [==============================] - 18s 438ms/step - loss: 0.6930 - accuracy: 0.5141 - val_loss: 0.6898 - val_accuracy: 0.5916\n",
            "Epoch 11/100\n",
            "42/42 [==============================] - 17s 408ms/step - loss: 0.6929 - accuracy: 0.5141 - val_loss: 0.6897 - val_accuracy: 0.5916\n",
            "Epoch 12/100\n",
            "42/42 [==============================] - 17s 417ms/step - loss: 0.6929 - accuracy: 0.5141 - val_loss: 0.6869 - val_accuracy: 0.5916\n",
            "Epoch 13/100\n",
            "42/42 [==============================] - 17s 407ms/step - loss: 0.6929 - accuracy: 0.5141 - val_loss: 0.6881 - val_accuracy: 0.5916\n",
            "Epoch 14/100\n",
            "42/42 [==============================] - 18s 429ms/step - loss: 0.6928 - accuracy: 0.5141 - val_loss: 0.6886 - val_accuracy: 0.5916\n",
            "Epoch 15/100\n",
            "42/42 [==============================] - 18s 424ms/step - loss: 0.6930 - accuracy: 0.5141 - val_loss: 0.6896 - val_accuracy: 0.5916\n",
            "Epoch 16/100\n",
            "42/42 [==============================] - 17s 410ms/step - loss: 0.6929 - accuracy: 0.5141 - val_loss: 0.6888 - val_accuracy: 0.5916\n",
            "Epoch 17/100\n",
            "42/42 [==============================] - 17s 411ms/step - loss: 0.6929 - accuracy: 0.5141 - val_loss: 0.6882 - val_accuracy: 0.5916\n",
            "Epoch 18/100\n",
            "42/42 [==============================] - 17s 411ms/step - loss: 0.6929 - accuracy: 0.5141 - val_loss: 0.6883 - val_accuracy: 0.5916\n",
            "Epoch 19/100\n",
            "42/42 [==============================] - 19s 440ms/step - loss: 0.6928 - accuracy: 0.5141 - val_loss: 0.6877 - val_accuracy: 0.5916\n",
            "Epoch 20/100\n",
            "42/42 [==============================] - 17s 403ms/step - loss: 0.6929 - accuracy: 0.5141 - val_loss: 0.6878 - val_accuracy: 0.5916\n",
            "Epoch 21/100\n",
            "42/42 [==============================] - 17s 401ms/step - loss: 0.6930 - accuracy: 0.5141 - val_loss: 0.6879 - val_accuracy: 0.5916\n",
            "Epoch 22/100\n",
            "42/42 [==============================] - 17s 407ms/step - loss: 0.6930 - accuracy: 0.5141 - val_loss: 0.6897 - val_accuracy: 0.5916\n",
            "Epoch 23/100\n",
            "42/42 [==============================] - 19s 449ms/step - loss: 0.6931 - accuracy: 0.5141 - val_loss: 0.6896 - val_accuracy: 0.5916\n",
            "Epoch 24/100\n",
            "42/42 [==============================] - 17s 409ms/step - loss: 0.6929 - accuracy: 0.5141 - val_loss: 0.6899 - val_accuracy: 0.5916\n",
            "Epoch 25/100\n",
            "42/42 [==============================] - 17s 407ms/step - loss: 0.6928 - accuracy: 0.5141 - val_loss: 0.6879 - val_accuracy: 0.5916\n",
            "Epoch 26/100\n",
            "42/42 [==============================] - 18s 419ms/step - loss: 0.6928 - accuracy: 0.5141 - val_loss: 0.6882 - val_accuracy: 0.5916\n",
            "Epoch 27/100\n",
            "42/42 [==============================] - 19s 453ms/step - loss: 0.6928 - accuracy: 0.5141 - val_loss: 0.6887 - val_accuracy: 0.5916\n",
            "Epoch 28/100\n",
            "42/42 [==============================] - 21s 491ms/step - loss: 0.6929 - accuracy: 0.5145 - val_loss: 0.6875 - val_accuracy: 0.5916\n",
            "Epoch 29/100\n",
            "42/42 [==============================] - 17s 409ms/step - loss: 0.6928 - accuracy: 0.5145 - val_loss: 0.6884 - val_accuracy: 0.5916\n",
            "Epoch 30/100\n",
            "42/42 [==============================] - 17s 410ms/step - loss: 0.6930 - accuracy: 0.5141 - val_loss: 0.6887 - val_accuracy: 0.5916\n",
            "Epoch 31/100\n",
            "42/42 [==============================] - 22s 536ms/step - loss: 0.6928 - accuracy: 0.5141 - val_loss: 0.6835 - val_accuracy: 0.5916\n",
            "Epoch 32/100\n",
            "42/42 [==============================] - 21s 486ms/step - loss: 0.6934 - accuracy: 0.5130 - val_loss: 0.6947 - val_accuracy: 0.4084\n",
            "Epoch 33/100\n",
            "42/42 [==============================] - 36s 866ms/step - loss: 0.6929 - accuracy: 0.5156 - val_loss: 0.6858 - val_accuracy: 0.5916\n",
            "Epoch 34/100\n",
            "42/42 [==============================] - 32s 764ms/step - loss: 0.6929 - accuracy: 0.5141 - val_loss: 0.6888 - val_accuracy: 0.5916\n",
            "Epoch 35/100\n",
            "42/42 [==============================] - 31s 747ms/step - loss: 0.6929 - accuracy: 0.5141 - val_loss: 0.6871 - val_accuracy: 0.5916\n",
            "Epoch 36/100\n",
            "42/42 [==============================] - 25s 588ms/step - loss: 0.6930 - accuracy: 0.5141 - val_loss: 0.6858 - val_accuracy: 0.5916\n",
            "Epoch 37/100\n",
            "42/42 [==============================] - 27s 660ms/step - loss: 0.6929 - accuracy: 0.5141 - val_loss: 0.6889 - val_accuracy: 0.5916\n",
            "Epoch 38/100\n",
            "42/42 [==============================] - 32s 758ms/step - loss: 0.6929 - accuracy: 0.5141 - val_loss: 0.6887 - val_accuracy: 0.5916\n",
            "Epoch 39/100\n",
            "42/42 [==============================] - 18s 418ms/step - loss: 0.6928 - accuracy: 0.5141 - val_loss: 0.6889 - val_accuracy: 0.5916\n",
            "Epoch 40/100\n",
            "42/42 [==============================] - 17s 404ms/step - loss: 0.6929 - accuracy: 0.5141 - val_loss: 0.6888 - val_accuracy: 0.5916\n",
            "Epoch 41/100\n",
            "42/42 [==============================] - 18s 428ms/step - loss: 0.6929 - accuracy: 0.5141 - val_loss: 0.6889 - val_accuracy: 0.5916\n",
            "Epoch 42/100\n",
            "42/42 [==============================] - 18s 416ms/step - loss: 0.6928 - accuracy: 0.5141 - val_loss: 0.6883 - val_accuracy: 0.5916\n",
            "Epoch 43/100\n",
            "42/42 [==============================] - 18s 419ms/step - loss: 0.6928 - accuracy: 0.5141 - val_loss: 0.6889 - val_accuracy: 0.5916\n",
            "Epoch 44/100\n",
            "42/42 [==============================] - 17s 408ms/step - loss: 0.6928 - accuracy: 0.5141 - val_loss: 0.6891 - val_accuracy: 0.5916\n",
            "Epoch 45/100\n",
            "42/42 [==============================] - 18s 440ms/step - loss: 0.6931 - accuracy: 0.5141 - val_loss: 0.6884 - val_accuracy: 0.5916\n",
            "Epoch 46/100\n",
            "42/42 [==============================] - 18s 416ms/step - loss: 0.6929 - accuracy: 0.5141 - val_loss: 0.6889 - val_accuracy: 0.5916\n",
            "Epoch 47/100\n",
            "42/42 [==============================] - 17s 411ms/step - loss: 0.6928 - accuracy: 0.5141 - val_loss: 0.6887 - val_accuracy: 0.5916\n",
            "Epoch 48/100\n",
            "42/42 [==============================] - 17s 408ms/step - loss: 0.6929 - accuracy: 0.5141 - val_loss: 0.6887 - val_accuracy: 0.5916\n",
            "Epoch 49/100\n",
            "42/42 [==============================] - 18s 436ms/step - loss: 0.6928 - accuracy: 0.5141 - val_loss: 0.6885 - val_accuracy: 0.5916\n",
            "Epoch 50/100\n",
            "42/42 [==============================] - 18s 412ms/step - loss: 0.6929 - accuracy: 0.5141 - val_loss: 0.6891 - val_accuracy: 0.5916\n",
            "Epoch 51/100\n",
            "42/42 [==============================] - 17s 406ms/step - loss: 0.6928 - accuracy: 0.5141 - val_loss: 0.6891 - val_accuracy: 0.5916\n",
            "Epoch 52/100\n",
            "42/42 [==============================] - 17s 404ms/step - loss: 0.6929 - accuracy: 0.5141 - val_loss: 0.6886 - val_accuracy: 0.5916\n",
            "Epoch 53/100\n",
            "42/42 [==============================] - 17s 405ms/step - loss: 0.6928 - accuracy: 0.5141 - val_loss: 0.6880 - val_accuracy: 0.5916\n",
            "Epoch 54/100\n",
            "42/42 [==============================] - 19s 454ms/step - loss: 0.6928 - accuracy: 0.5141 - val_loss: 0.6880 - val_accuracy: 0.5916\n",
            "Epoch 55/100\n",
            "42/42 [==============================] - 17s 408ms/step - loss: 0.6928 - accuracy: 0.5141 - val_loss: 0.6888 - val_accuracy: 0.5916\n",
            "Epoch 56/100\n",
            "42/42 [==============================] - 17s 405ms/step - loss: 0.6928 - accuracy: 0.5141 - val_loss: 0.6885 - val_accuracy: 0.5916\n",
            "Epoch 57/100\n",
            "42/42 [==============================] - 17s 408ms/step - loss: 0.6928 - accuracy: 0.5141 - val_loss: 0.6884 - val_accuracy: 0.5916\n",
            "Epoch 58/100\n",
            "42/42 [==============================] - 22s 514ms/step - loss: 0.6928 - accuracy: 0.5141 - val_loss: 0.6891 - val_accuracy: 0.5916\n",
            "Epoch 59/100\n",
            "42/42 [==============================] - 17s 404ms/step - loss: 0.6928 - accuracy: 0.5141 - val_loss: 0.6883 - val_accuracy: 0.5916\n",
            "Epoch 60/100\n",
            "42/42 [==============================] - 17s 414ms/step - loss: 0.6928 - accuracy: 0.5141 - val_loss: 0.6883 - val_accuracy: 0.5916\n",
            "Epoch 61/100\n",
            "42/42 [==============================] - 19s 447ms/step - loss: 0.6928 - accuracy: 0.5141 - val_loss: 0.6881 - val_accuracy: 0.5916\n",
            "Epoch 62/100\n",
            "42/42 [==============================] - 17s 408ms/step - loss: 0.6928 - accuracy: 0.5141 - val_loss: 0.6885 - val_accuracy: 0.5916\n",
            "Epoch 63/100\n",
            "42/42 [==============================] - 17s 405ms/step - loss: 0.6928 - accuracy: 0.5141 - val_loss: 0.6881 - val_accuracy: 0.5916\n",
            "Epoch 64/100\n",
            "42/42 [==============================] - 17s 410ms/step - loss: 0.6928 - accuracy: 0.5141 - val_loss: 0.6888 - val_accuracy: 0.5916\n",
            "Epoch 65/100\n",
            "42/42 [==============================] - 18s 426ms/step - loss: 0.6928 - accuracy: 0.5141 - val_loss: 0.6885 - val_accuracy: 0.5916\n",
            "Epoch 66/100\n",
            "42/42 [==============================] - 18s 424ms/step - loss: 0.6928 - accuracy: 0.5141 - val_loss: 0.6883 - val_accuracy: 0.5916\n",
            "Epoch 67/100\n",
            "42/42 [==============================] - 17s 405ms/step - loss: 0.6928 - accuracy: 0.5141 - val_loss: 0.6882 - val_accuracy: 0.5916\n",
            "Epoch 68/100\n",
            "42/42 [==============================] - 17s 407ms/step - loss: 0.6929 - accuracy: 0.5141 - val_loss: 0.6887 - val_accuracy: 0.5916\n",
            "Epoch 69/100\n",
            "42/42 [==============================] - 17s 413ms/step - loss: 0.6928 - accuracy: 0.5141 - val_loss: 0.6876 - val_accuracy: 0.5916\n",
            "Epoch 70/100\n",
            "42/42 [==============================] - 19s 446ms/step - loss: 0.6928 - accuracy: 0.5141 - val_loss: 0.6887 - val_accuracy: 0.5916\n",
            "Epoch 71/100\n",
            "42/42 [==============================] - 17s 409ms/step - loss: 0.6928 - accuracy: 0.5141 - val_loss: 0.6884 - val_accuracy: 0.5916\n",
            "Epoch 72/100\n",
            "42/42 [==============================] - 17s 404ms/step - loss: 0.6928 - accuracy: 0.5141 - val_loss: 0.6886 - val_accuracy: 0.5916\n",
            "Epoch 73/100\n",
            "42/42 [==============================] - 17s 404ms/step - loss: 0.6928 - accuracy: 0.5141 - val_loss: 0.6882 - val_accuracy: 0.5916\n",
            "Epoch 74/100\n",
            "42/42 [==============================] - 19s 462ms/step - loss: 0.6929 - accuracy: 0.5141 - val_loss: 0.6886 - val_accuracy: 0.5916\n",
            "Epoch 75/100\n",
            "42/42 [==============================] - 17s 412ms/step - loss: 0.6928 - accuracy: 0.5145 - val_loss: 0.6883 - val_accuracy: 0.5916\n",
            "Epoch 76/100\n",
            "42/42 [==============================] - 17s 409ms/step - loss: 0.6928 - accuracy: 0.5145 - val_loss: 0.6888 - val_accuracy: 0.5916\n",
            "Epoch 77/100\n",
            "42/42 [==============================] - 17s 409ms/step - loss: 0.7003 - accuracy: 0.5126 - val_loss: 0.6875 - val_accuracy: 0.5916\n",
            "Epoch 78/100\n",
            "42/42 [==============================] - 19s 460ms/step - loss: 0.6932 - accuracy: 0.5051 - val_loss: 0.6860 - val_accuracy: 0.5916\n",
            "Epoch 79/100\n",
            "42/42 [==============================] - 17s 409ms/step - loss: 0.6930 - accuracy: 0.5073 - val_loss: 0.6856 - val_accuracy: 0.5916\n",
            "Epoch 80/100\n",
            "42/42 [==============================] - 17s 415ms/step - loss: 0.6932 - accuracy: 0.5141 - val_loss: 0.6873 - val_accuracy: 0.5916\n",
            "Epoch 81/100\n",
            "42/42 [==============================] - 17s 412ms/step - loss: 0.6928 - accuracy: 0.5141 - val_loss: 0.6881 - val_accuracy: 0.5916\n",
            "Epoch 82/100\n",
            "42/42 [==============================] - 19s 467ms/step - loss: 0.6929 - accuracy: 0.5141 - val_loss: 0.6881 - val_accuracy: 0.5916\n",
            "Epoch 83/100\n",
            "42/42 [==============================] - 17s 413ms/step - loss: 0.6929 - accuracy: 0.5141 - val_loss: 0.6884 - val_accuracy: 0.5916\n",
            "Epoch 84/100\n",
            "42/42 [==============================] - 17s 407ms/step - loss: 0.6928 - accuracy: 0.5141 - val_loss: 0.6894 - val_accuracy: 0.5916\n",
            "Epoch 85/100\n",
            "42/42 [==============================] - 17s 409ms/step - loss: 0.6928 - accuracy: 0.5141 - val_loss: 0.6877 - val_accuracy: 0.5916\n",
            "Epoch 86/100\n",
            "42/42 [==============================] - 18s 443ms/step - loss: 0.6929 - accuracy: 0.5141 - val_loss: 0.6884 - val_accuracy: 0.5916\n",
            "Epoch 87/100\n",
            "42/42 [==============================] - 17s 412ms/step - loss: 0.6928 - accuracy: 0.5141 - val_loss: 0.6890 - val_accuracy: 0.5916\n",
            "Epoch 88/100\n",
            "42/42 [==============================] - 17s 406ms/step - loss: 0.6933 - accuracy: 0.5141 - val_loss: 0.6904 - val_accuracy: 0.5916\n",
            "Epoch 89/100\n",
            "42/42 [==============================] - 17s 409ms/step - loss: 0.6929 - accuracy: 0.5141 - val_loss: 0.6874 - val_accuracy: 0.5916\n",
            "Epoch 90/100\n",
            "42/42 [==============================] - 18s 424ms/step - loss: 0.6929 - accuracy: 0.5141 - val_loss: 0.6873 - val_accuracy: 0.5916\n",
            "Epoch 91/100\n",
            "42/42 [==============================] - 18s 424ms/step - loss: 0.6929 - accuracy: 0.5141 - val_loss: 0.6893 - val_accuracy: 0.5916\n",
            "Epoch 92/100\n",
            "42/42 [==============================] - 17s 402ms/step - loss: 0.6928 - accuracy: 0.5141 - val_loss: 0.6876 - val_accuracy: 0.5916\n",
            "Epoch 93/100\n",
            "42/42 [==============================] - 20s 470ms/step - loss: 0.6929 - accuracy: 0.5141 - val_loss: 0.6884 - val_accuracy: 0.5916\n",
            "Epoch 94/100\n",
            "42/42 [==============================] - 18s 438ms/step - loss: 0.6928 - accuracy: 0.5141 - val_loss: 0.6883 - val_accuracy: 0.5916\n",
            "Epoch 95/100\n",
            "42/42 [==============================] - 17s 411ms/step - loss: 0.6929 - accuracy: 0.5141 - val_loss: 0.6883 - val_accuracy: 0.5916\n",
            "Epoch 96/100\n",
            "42/42 [==============================] - 17s 405ms/step - loss: 0.6928 - accuracy: 0.5141 - val_loss: 0.6887 - val_accuracy: 0.5916\n",
            "Epoch 97/100\n",
            "42/42 [==============================] - 17s 401ms/step - loss: 0.6929 - accuracy: 0.5141 - val_loss: 0.6883 - val_accuracy: 0.5916\n",
            "Epoch 98/100\n",
            "42/42 [==============================] - 17s 413ms/step - loss: 0.6929 - accuracy: 0.5141 - val_loss: 0.6884 - val_accuracy: 0.5916\n",
            "Epoch 99/100\n",
            "42/42 [==============================] - 19s 446ms/step - loss: 0.6928 - accuracy: 0.5141 - val_loss: 0.6879 - val_accuracy: 0.5916\n",
            "Epoch 100/100\n",
            "42/42 [==============================] - 17s 405ms/step - loss: 0.6929 - accuracy: 0.5141 - val_loss: 0.6879 - val_accuracy: 0.5916\n",
            "16/16 [==============================] - 2s 71ms/step\n",
            "F1 Score for Zero-Shot Dataset: 0.2358\n",
            "Dataset: One-Shot Dataset\n",
            "Epoch 1/100\n",
            "2/2 [==============================] - 7s 2s/step - loss: 0.7007 - accuracy: 0.3768 - val_loss: 0.6878 - val_accuracy: 0.8333\n",
            "Epoch 2/100\n",
            "2/2 [==============================] - 1s 279ms/step - loss: 0.6919 - accuracy: 0.5797 - val_loss: 0.6996 - val_accuracy: 0.1667\n",
            "Epoch 3/100\n",
            "2/2 [==============================] - 1s 212ms/step - loss: 0.6947 - accuracy: 0.4203 - val_loss: 0.7074 - val_accuracy: 0.1667\n",
            "Epoch 4/100\n",
            "2/2 [==============================] - 1s 216ms/step - loss: 0.6967 - accuracy: 0.4203 - val_loss: 0.7098 - val_accuracy: 0.1667\n",
            "Epoch 5/100\n",
            "2/2 [==============================] - 1s 211ms/step - loss: 0.6973 - accuracy: 0.4203 - val_loss: 0.6994 - val_accuracy: 0.1667\n",
            "Epoch 6/100\n",
            "2/2 [==============================] - 1s 185ms/step - loss: 0.6940 - accuracy: 0.4638 - val_loss: 0.6738 - val_accuracy: 0.8333\n",
            "Epoch 7/100\n",
            "2/2 [==============================] - 1s 206ms/step - loss: 0.6886 - accuracy: 0.5797 - val_loss: 0.6488 - val_accuracy: 0.8333\n",
            "Epoch 8/100\n",
            "2/2 [==============================] - 1s 210ms/step - loss: 0.6858 - accuracy: 0.5797 - val_loss: 0.6424 - val_accuracy: 0.8333\n",
            "Epoch 9/100\n",
            "2/2 [==============================] - 1s 178ms/step - loss: 0.6836 - accuracy: 0.5797 - val_loss: 0.6527 - val_accuracy: 0.8333\n",
            "Epoch 10/100\n",
            "2/2 [==============================] - 1s 184ms/step - loss: 0.6850 - accuracy: 0.5797 - val_loss: 0.6602 - val_accuracy: 0.8333\n",
            "Epoch 11/100\n",
            "2/2 [==============================] - 1s 190ms/step - loss: 0.6866 - accuracy: 0.5797 - val_loss: 0.6563 - val_accuracy: 0.8333\n",
            "Epoch 12/100\n",
            "2/2 [==============================] - 1s 207ms/step - loss: 0.6859 - accuracy: 0.5797 - val_loss: 0.6437 - val_accuracy: 0.8333\n",
            "Epoch 13/100\n",
            "2/2 [==============================] - 1s 185ms/step - loss: 0.6838 - accuracy: 0.5797 - val_loss: 0.6410 - val_accuracy: 0.8333\n",
            "Epoch 14/100\n",
            "2/2 [==============================] - 1s 191ms/step - loss: 0.6834 - accuracy: 0.5797 - val_loss: 0.6340 - val_accuracy: 0.8333\n",
            "Epoch 15/100\n",
            "2/2 [==============================] - 1s 208ms/step - loss: 0.6817 - accuracy: 0.5797 - val_loss: 0.6084 - val_accuracy: 0.8333\n",
            "Epoch 16/100\n",
            "2/2 [==============================] - 1s 194ms/step - loss: 0.6796 - accuracy: 0.5797 - val_loss: 0.5680 - val_accuracy: 0.8333\n",
            "Epoch 17/100\n",
            "2/2 [==============================] - 1s 208ms/step - loss: 0.6812 - accuracy: 0.5797 - val_loss: 0.5183 - val_accuracy: 0.8333\n",
            "Epoch 18/100\n",
            "2/2 [==============================] - 1s 216ms/step - loss: 0.7006 - accuracy: 0.5797 - val_loss: 0.5135 - val_accuracy: 0.8333\n",
            "Epoch 19/100\n",
            "2/2 [==============================] - 1s 211ms/step - loss: 0.6992 - accuracy: 0.5797 - val_loss: 0.5558 - val_accuracy: 0.8333\n",
            "Epoch 20/100\n",
            "2/2 [==============================] - 1s 209ms/step - loss: 0.6860 - accuracy: 0.5797 - val_loss: 0.5917 - val_accuracy: 0.8333\n",
            "Epoch 21/100\n",
            "2/2 [==============================] - 1s 285ms/step - loss: 0.6811 - accuracy: 0.5797 - val_loss: 0.6056 - val_accuracy: 0.8333\n",
            "Epoch 22/100\n",
            "2/2 [==============================] - 1s 287ms/step - loss: 0.6805 - accuracy: 0.5797 - val_loss: 0.6098 - val_accuracy: 0.8333\n",
            "Epoch 23/100\n",
            "2/2 [==============================] - 1s 281ms/step - loss: 0.6805 - accuracy: 0.5797 - val_loss: 0.6150 - val_accuracy: 0.8333\n",
            "Epoch 24/100\n",
            "2/2 [==============================] - 1s 271ms/step - loss: 0.6806 - accuracy: 0.5797 - val_loss: 0.6254 - val_accuracy: 0.8333\n",
            "Epoch 25/100\n",
            "2/2 [==============================] - 1s 278ms/step - loss: 0.6820 - accuracy: 0.5797 - val_loss: 0.6342 - val_accuracy: 0.8333\n",
            "Epoch 26/100\n",
            "2/2 [==============================] - 1s 220ms/step - loss: 0.6824 - accuracy: 0.5797 - val_loss: 0.6405 - val_accuracy: 0.8333\n",
            "Epoch 27/100\n",
            "2/2 [==============================] - 1s 197ms/step - loss: 0.6833 - accuracy: 0.5797 - val_loss: 0.6474 - val_accuracy: 0.8333\n",
            "Epoch 28/100\n",
            "2/2 [==============================] - 1s 201ms/step - loss: 0.6841 - accuracy: 0.5797 - val_loss: 0.6524 - val_accuracy: 0.8333\n",
            "Epoch 29/100\n",
            "2/2 [==============================] - 1s 208ms/step - loss: 0.6850 - accuracy: 0.5797 - val_loss: 0.6559 - val_accuracy: 0.8333\n",
            "Epoch 30/100\n",
            "2/2 [==============================] - 1s 203ms/step - loss: 0.6855 - accuracy: 0.5797 - val_loss: 0.6582 - val_accuracy: 0.8333\n",
            "Epoch 31/100\n",
            "2/2 [==============================] - 1s 187ms/step - loss: 0.6859 - accuracy: 0.5797 - val_loss: 0.6594 - val_accuracy: 0.8333\n",
            "Epoch 32/100\n",
            "2/2 [==============================] - 1s 211ms/step - loss: 0.6861 - accuracy: 0.5797 - val_loss: 0.6569 - val_accuracy: 0.8333\n",
            "Epoch 33/100\n",
            "2/2 [==============================] - 1s 221ms/step - loss: 0.6857 - accuracy: 0.5797 - val_loss: 0.6514 - val_accuracy: 0.8333\n",
            "Epoch 34/100\n",
            "2/2 [==============================] - 1s 220ms/step - loss: 0.6849 - accuracy: 0.5797 - val_loss: 0.6467 - val_accuracy: 0.8333\n",
            "Epoch 35/100\n",
            "2/2 [==============================] - 1s 181ms/step - loss: 0.6843 - accuracy: 0.5797 - val_loss: 0.6457 - val_accuracy: 0.8333\n",
            "Epoch 36/100\n",
            "2/2 [==============================] - 1s 226ms/step - loss: 0.6840 - accuracy: 0.5797 - val_loss: 0.6464 - val_accuracy: 0.8333\n",
            "Epoch 37/100\n",
            "2/2 [==============================] - 1s 210ms/step - loss: 0.6840 - accuracy: 0.5797 - val_loss: 0.6440 - val_accuracy: 0.8333\n",
            "Epoch 38/100\n",
            "2/2 [==============================] - 1s 209ms/step - loss: 0.6838 - accuracy: 0.5797 - val_loss: 0.6404 - val_accuracy: 0.8333\n",
            "Epoch 39/100\n",
            "2/2 [==============================] - 1s 202ms/step - loss: 0.6834 - accuracy: 0.5797 - val_loss: 0.6405 - val_accuracy: 0.8333\n",
            "Epoch 40/100\n",
            "2/2 [==============================] - 1s 179ms/step - loss: 0.6832 - accuracy: 0.5797 - val_loss: 0.6434 - val_accuracy: 0.8333\n",
            "Epoch 41/100\n",
            "2/2 [==============================] - 1s 176ms/step - loss: 0.6837 - accuracy: 0.5797 - val_loss: 0.6456 - val_accuracy: 0.8333\n",
            "Epoch 42/100\n",
            "2/2 [==============================] - 1s 210ms/step - loss: 0.6839 - accuracy: 0.5797 - val_loss: 0.6473 - val_accuracy: 0.8333\n",
            "Epoch 43/100\n",
            "2/2 [==============================] - 1s 207ms/step - loss: 0.6842 - accuracy: 0.5797 - val_loss: 0.6496 - val_accuracy: 0.8333\n",
            "Epoch 44/100\n",
            "2/2 [==============================] - 1s 262ms/step - loss: 0.6845 - accuracy: 0.5797 - val_loss: 0.6537 - val_accuracy: 0.8333\n",
            "Epoch 45/100\n",
            "2/2 [==============================] - 1s 296ms/step - loss: 0.6853 - accuracy: 0.5797 - val_loss: 0.6567 - val_accuracy: 0.8333\n",
            "Epoch 46/100\n",
            "2/2 [==============================] - 1s 280ms/step - loss: 0.6857 - accuracy: 0.5797 - val_loss: 0.6566 - val_accuracy: 0.8333\n",
            "Epoch 47/100\n",
            "2/2 [==============================] - 1s 273ms/step - loss: 0.6856 - accuracy: 0.5797 - val_loss: 0.6539 - val_accuracy: 0.8333\n",
            "Epoch 48/100\n",
            "2/2 [==============================] - 1s 298ms/step - loss: 0.6852 - accuracy: 0.5797 - val_loss: 0.6492 - val_accuracy: 0.8333\n",
            "Epoch 49/100\n",
            "2/2 [==============================] - 1s 205ms/step - loss: 0.6844 - accuracy: 0.5797 - val_loss: 0.6439 - val_accuracy: 0.8333\n",
            "Epoch 50/100\n",
            "2/2 [==============================] - 1s 183ms/step - loss: 0.6838 - accuracy: 0.5797 - val_loss: 0.6395 - val_accuracy: 0.8333\n",
            "Epoch 51/100\n",
            "2/2 [==============================] - 1s 182ms/step - loss: 0.6830 - accuracy: 0.5797 - val_loss: 0.6343 - val_accuracy: 0.8333\n",
            "Epoch 52/100\n",
            "2/2 [==============================] - 1s 190ms/step - loss: 0.6823 - accuracy: 0.5797 - val_loss: 0.6255 - val_accuracy: 0.8333\n",
            "Epoch 53/100\n",
            "2/2 [==============================] - 1s 206ms/step - loss: 0.6821 - accuracy: 0.5797 - val_loss: 0.6192 - val_accuracy: 0.8333\n",
            "Epoch 54/100\n",
            "2/2 [==============================] - 1s 199ms/step - loss: 0.6812 - accuracy: 0.5797 - val_loss: 0.6211 - val_accuracy: 0.8333\n",
            "Epoch 55/100\n",
            "2/2 [==============================] - 1s 204ms/step - loss: 0.6813 - accuracy: 0.5797 - val_loss: 0.6250 - val_accuracy: 0.8333\n",
            "Epoch 56/100\n",
            "2/2 [==============================] - 1s 220ms/step - loss: 0.6815 - accuracy: 0.5797 - val_loss: 0.6302 - val_accuracy: 0.8333\n",
            "Epoch 57/100\n",
            "2/2 [==============================] - 1s 208ms/step - loss: 0.6821 - accuracy: 0.5797 - val_loss: 0.6361 - val_accuracy: 0.8333\n",
            "Epoch 58/100\n",
            "2/2 [==============================] - 1s 190ms/step - loss: 0.6828 - accuracy: 0.5797 - val_loss: 0.6376 - val_accuracy: 0.8333\n",
            "Epoch 59/100\n",
            "2/2 [==============================] - 1s 183ms/step - loss: 0.6830 - accuracy: 0.5797 - val_loss: 0.6388 - val_accuracy: 0.8333\n",
            "Epoch 60/100\n",
            "2/2 [==============================] - 1s 223ms/step - loss: 0.6830 - accuracy: 0.5797 - val_loss: 0.6427 - val_accuracy: 0.8333\n",
            "Epoch 61/100\n",
            "2/2 [==============================] - 1s 181ms/step - loss: 0.6835 - accuracy: 0.5797 - val_loss: 0.6473 - val_accuracy: 0.8333\n",
            "Epoch 62/100\n",
            "2/2 [==============================] - 1s 187ms/step - loss: 0.6840 - accuracy: 0.5797 - val_loss: 0.6537 - val_accuracy: 0.8333\n",
            "Epoch 63/100\n",
            "2/2 [==============================] - 1s 182ms/step - loss: 0.6849 - accuracy: 0.5797 - val_loss: 0.6628 - val_accuracy: 0.8333\n",
            "Epoch 64/100\n",
            "2/2 [==============================] - 1s 201ms/step - loss: 0.6866 - accuracy: 0.5797 - val_loss: 0.6732 - val_accuracy: 0.8333\n",
            "Epoch 65/100\n",
            "2/2 [==============================] - 1s 207ms/step - loss: 0.6888 - accuracy: 0.5797 - val_loss: 0.6797 - val_accuracy: 0.8333\n",
            "Epoch 66/100\n",
            "2/2 [==============================] - 1s 211ms/step - loss: 0.6901 - accuracy: 0.5797 - val_loss: 0.6816 - val_accuracy: 0.8333\n",
            "Epoch 67/100\n",
            "2/2 [==============================] - 1s 223ms/step - loss: 0.6905 - accuracy: 0.5797 - val_loss: 0.6800 - val_accuracy: 0.8333\n",
            "Epoch 68/100\n",
            "2/2 [==============================] - 1s 299ms/step - loss: 0.6902 - accuracy: 0.5797 - val_loss: 0.6778 - val_accuracy: 0.8333\n",
            "Epoch 69/100\n",
            "2/2 [==============================] - 1s 290ms/step - loss: 0.6897 - accuracy: 0.5797 - val_loss: 0.6766 - val_accuracy: 0.8333\n",
            "Epoch 70/100\n",
            "2/2 [==============================] - 1s 286ms/step - loss: 0.6894 - accuracy: 0.5797 - val_loss: 0.6738 - val_accuracy: 0.8333\n",
            "Epoch 71/100\n",
            "2/2 [==============================] - 1s 282ms/step - loss: 0.6889 - accuracy: 0.5797 - val_loss: 0.6698 - val_accuracy: 0.8333\n",
            "Epoch 72/100\n",
            "2/2 [==============================] - 1s 206ms/step - loss: 0.6880 - accuracy: 0.5797 - val_loss: 0.6665 - val_accuracy: 0.8333\n",
            "Epoch 73/100\n",
            "2/2 [==============================] - 1s 215ms/step - loss: 0.6874 - accuracy: 0.5797 - val_loss: 0.6626 - val_accuracy: 0.8333\n",
            "Epoch 74/100\n",
            "2/2 [==============================] - 1s 207ms/step - loss: 0.6867 - accuracy: 0.5797 - val_loss: 0.6576 - val_accuracy: 0.8333\n",
            "Epoch 75/100\n",
            "2/2 [==============================] - 1s 190ms/step - loss: 0.6858 - accuracy: 0.5797 - val_loss: 0.6517 - val_accuracy: 0.8333\n",
            "Epoch 76/100\n",
            "2/2 [==============================] - 1s 189ms/step - loss: 0.6848 - accuracy: 0.5797 - val_loss: 0.6455 - val_accuracy: 0.8333\n",
            "Epoch 77/100\n",
            "2/2 [==============================] - 1s 205ms/step - loss: 0.6840 - accuracy: 0.5797 - val_loss: 0.6403 - val_accuracy: 0.8333\n",
            "Epoch 78/100\n",
            "2/2 [==============================] - 1s 226ms/step - loss: 0.6833 - accuracy: 0.5797 - val_loss: 0.6380 - val_accuracy: 0.8333\n",
            "Epoch 79/100\n",
            "2/2 [==============================] - 1s 185ms/step - loss: 0.6829 - accuracy: 0.5797 - val_loss: 0.6362 - val_accuracy: 0.8333\n",
            "Epoch 80/100\n",
            "2/2 [==============================] - 1s 220ms/step - loss: 0.6828 - accuracy: 0.5797 - val_loss: 0.6349 - val_accuracy: 0.8333\n",
            "Epoch 81/100\n",
            "2/2 [==============================] - 1s 181ms/step - loss: 0.6826 - accuracy: 0.5797 - val_loss: 0.6341 - val_accuracy: 0.8333\n",
            "Epoch 82/100\n",
            "2/2 [==============================] - 1s 189ms/step - loss: 0.6824 - accuracy: 0.5797 - val_loss: 0.6302 - val_accuracy: 0.8333\n",
            "Epoch 83/100\n",
            "2/2 [==============================] - 1s 216ms/step - loss: 0.6822 - accuracy: 0.5797 - val_loss: 0.6254 - val_accuracy: 0.8333\n",
            "Epoch 84/100\n",
            "2/2 [==============================] - 1s 211ms/step - loss: 0.6817 - accuracy: 0.5797 - val_loss: 0.6241 - val_accuracy: 0.8333\n",
            "Epoch 85/100\n",
            "2/2 [==============================] - 1s 223ms/step - loss: 0.6815 - accuracy: 0.5797 - val_loss: 0.6238 - val_accuracy: 0.8333\n",
            "Epoch 86/100\n",
            "2/2 [==============================] - 1s 214ms/step - loss: 0.6816 - accuracy: 0.5797 - val_loss: 0.6261 - val_accuracy: 0.8333\n",
            "Epoch 87/100\n",
            "2/2 [==============================] - 1s 191ms/step - loss: 0.6818 - accuracy: 0.5797 - val_loss: 0.6288 - val_accuracy: 0.8333\n",
            "Epoch 88/100\n",
            "2/2 [==============================] - 1s 190ms/step - loss: 0.6820 - accuracy: 0.5797 - val_loss: 0.6324 - val_accuracy: 0.8333\n",
            "Epoch 89/100\n",
            "2/2 [==============================] - 1s 183ms/step - loss: 0.6823 - accuracy: 0.5797 - val_loss: 0.6385 - val_accuracy: 0.8333\n",
            "Epoch 90/100\n",
            "2/2 [==============================] - 1s 225ms/step - loss: 0.6829 - accuracy: 0.5797 - val_loss: 0.6430 - val_accuracy: 0.8333\n",
            "Epoch 91/100\n",
            "2/2 [==============================] - 1s 275ms/step - loss: 0.6837 - accuracy: 0.5797 - val_loss: 0.6452 - val_accuracy: 0.8333\n",
            "Epoch 92/100\n",
            "2/2 [==============================] - 1s 285ms/step - loss: 0.6839 - accuracy: 0.5797 - val_loss: 0.6447 - val_accuracy: 0.8333\n",
            "Epoch 93/100\n",
            "2/2 [==============================] - 1s 289ms/step - loss: 0.6838 - accuracy: 0.5797 - val_loss: 0.6431 - val_accuracy: 0.8333\n",
            "Epoch 94/100\n",
            "2/2 [==============================] - 1s 265ms/step - loss: 0.6836 - accuracy: 0.5797 - val_loss: 0.6417 - val_accuracy: 0.8333\n",
            "Epoch 95/100\n",
            "2/2 [==============================] - 1s 207ms/step - loss: 0.6834 - accuracy: 0.5797 - val_loss: 0.6406 - val_accuracy: 0.8333\n",
            "Epoch 96/100\n",
            "2/2 [==============================] - 1s 189ms/step - loss: 0.6832 - accuracy: 0.5797 - val_loss: 0.6364 - val_accuracy: 0.8333\n",
            "Epoch 97/100\n",
            "2/2 [==============================] - 1s 205ms/step - loss: 0.6827 - accuracy: 0.5797 - val_loss: 0.6299 - val_accuracy: 0.8333\n",
            "Epoch 98/100\n",
            "2/2 [==============================] - 1s 221ms/step - loss: 0.6818 - accuracy: 0.5797 - val_loss: 0.6219 - val_accuracy: 0.8333\n",
            "Epoch 99/100\n",
            "2/2 [==============================] - 1s 183ms/step - loss: 0.6813 - accuracy: 0.5797 - val_loss: 0.6120 - val_accuracy: 0.8333\n",
            "Epoch 100/100\n",
            "2/2 [==============================] - 1s 233ms/step - loss: 0.6809 - accuracy: 0.5797 - val_loss: 0.6048 - val_accuracy: 0.8333\n",
            "16/16 [==============================] - 3s 124ms/step\n",
            "F1 Score for One-Shot Dataset: 0.4088\n",
            "Dataset: Dev Dataset\n",
            "Epoch 1/100\n",
            "6/6 [==============================] - 7s 588ms/step - loss: 0.6838 - accuracy: 0.5941 - val_loss: 0.6500 - val_accuracy: 0.6702\n",
            "Epoch 2/100\n",
            "6/6 [==============================] - 2s 404ms/step - loss: 0.6775 - accuracy: 0.5941 - val_loss: 0.6597 - val_accuracy: 0.6702\n",
            "Epoch 3/100\n",
            "6/6 [==============================] - 4s 759ms/step - loss: 0.6774 - accuracy: 0.5941 - val_loss: 0.6424 - val_accuracy: 0.6702\n",
            "Epoch 4/100\n",
            "6/6 [==============================] - 3s 444ms/step - loss: 0.6761 - accuracy: 0.5941 - val_loss: 0.6458 - val_accuracy: 0.6702\n",
            "Epoch 5/100\n",
            "6/6 [==============================] - 2s 392ms/step - loss: 0.6753 - accuracy: 0.5941 - val_loss: 0.6488 - val_accuracy: 0.6702\n",
            "Epoch 6/100\n",
            "6/6 [==============================] - 2s 391ms/step - loss: 0.6768 - accuracy: 0.5941 - val_loss: 0.6503 - val_accuracy: 0.6702\n",
            "Epoch 7/100\n",
            "6/6 [==============================] - 2s 393ms/step - loss: 0.6768 - accuracy: 0.5941 - val_loss: 0.6431 - val_accuracy: 0.6702\n",
            "Epoch 8/100\n",
            "6/6 [==============================] - 4s 812ms/step - loss: 0.6774 - accuracy: 0.5941 - val_loss: 0.6494 - val_accuracy: 0.6702\n",
            "Epoch 9/100\n",
            "6/6 [==============================] - 3s 441ms/step - loss: 0.6755 - accuracy: 0.5941 - val_loss: 0.6481 - val_accuracy: 0.6702\n",
            "Epoch 10/100\n",
            "6/6 [==============================] - 2s 377ms/step - loss: 0.6754 - accuracy: 0.5941 - val_loss: 0.6445 - val_accuracy: 0.6702\n",
            "Epoch 11/100\n",
            "6/6 [==============================] - 2s 399ms/step - loss: 0.6769 - accuracy: 0.5941 - val_loss: 0.6425 - val_accuracy: 0.6702\n",
            "Epoch 12/100\n",
            "6/6 [==============================] - 2s 394ms/step - loss: 0.6755 - accuracy: 0.5941 - val_loss: 0.6473 - val_accuracy: 0.6702\n",
            "Epoch 13/100\n",
            "6/6 [==============================] - 3s 619ms/step - loss: 0.6754 - accuracy: 0.5941 - val_loss: 0.6484 - val_accuracy: 0.6702\n",
            "Epoch 14/100\n",
            "6/6 [==============================] - 3s 466ms/step - loss: 0.6759 - accuracy: 0.5941 - val_loss: 0.6506 - val_accuracy: 0.6702\n",
            "Epoch 15/100\n",
            "6/6 [==============================] - 2s 375ms/step - loss: 0.6757 - accuracy: 0.5941 - val_loss: 0.6489 - val_accuracy: 0.6702\n",
            "Epoch 16/100\n",
            "6/6 [==============================] - 2s 396ms/step - loss: 0.6755 - accuracy: 0.5941 - val_loss: 0.6459 - val_accuracy: 0.6702\n",
            "Epoch 17/100\n",
            "6/6 [==============================] - 2s 370ms/step - loss: 0.6756 - accuracy: 0.5941 - val_loss: 0.6430 - val_accuracy: 0.6702\n",
            "Epoch 18/100\n",
            "6/6 [==============================] - 2s 425ms/step - loss: 0.6760 - accuracy: 0.5941 - val_loss: 0.6438 - val_accuracy: 0.6702\n",
            "Epoch 19/100\n",
            "6/6 [==============================] - 4s 627ms/step - loss: 0.6770 - accuracy: 0.5941 - val_loss: 0.6535 - val_accuracy: 0.6702\n",
            "Epoch 20/100\n",
            "6/6 [==============================] - 2s 403ms/step - loss: 0.6762 - accuracy: 0.5941 - val_loss: 0.6518 - val_accuracy: 0.6702\n",
            "Epoch 21/100\n",
            "6/6 [==============================] - 2s 377ms/step - loss: 0.6756 - accuracy: 0.5941 - val_loss: 0.6472 - val_accuracy: 0.6702\n",
            "Epoch 22/100\n",
            "6/6 [==============================] - 2s 383ms/step - loss: 0.6761 - accuracy: 0.5941 - val_loss: 0.6440 - val_accuracy: 0.6702\n",
            "Epoch 23/100\n",
            "6/6 [==============================] - 2s 370ms/step - loss: 0.6757 - accuracy: 0.5941 - val_loss: 0.6449 - val_accuracy: 0.6702\n",
            "Epoch 24/100\n",
            "6/6 [==============================] - 4s 660ms/step - loss: 0.6759 - accuracy: 0.5941 - val_loss: 0.6478 - val_accuracy: 0.6702\n",
            "Epoch 25/100\n",
            "6/6 [==============================] - 3s 447ms/step - loss: 0.6756 - accuracy: 0.5941 - val_loss: 0.6487 - val_accuracy: 0.6702\n",
            "Epoch 26/100\n",
            "6/6 [==============================] - 2s 368ms/step - loss: 0.6763 - accuracy: 0.5941 - val_loss: 0.6482 - val_accuracy: 0.6702\n",
            "Epoch 27/100\n",
            "6/6 [==============================] - 2s 399ms/step - loss: 0.6758 - accuracy: 0.5941 - val_loss: 0.6437 - val_accuracy: 0.6702\n",
            "Epoch 28/100\n",
            "6/6 [==============================] - 2s 390ms/step - loss: 0.6756 - accuracy: 0.5941 - val_loss: 0.6453 - val_accuracy: 0.6702\n",
            "Epoch 29/100\n",
            "6/6 [==============================] - 3s 537ms/step - loss: 0.6758 - accuracy: 0.5941 - val_loss: 0.6474 - val_accuracy: 0.6702\n",
            "Epoch 30/100\n",
            "6/6 [==============================] - 3s 545ms/step - loss: 0.6757 - accuracy: 0.5941 - val_loss: 0.6446 - val_accuracy: 0.6702\n",
            "Epoch 31/100\n",
            "6/6 [==============================] - 2s 375ms/step - loss: 0.6757 - accuracy: 0.5941 - val_loss: 0.6451 - val_accuracy: 0.6702\n",
            "Epoch 32/100\n",
            "6/6 [==============================] - 2s 393ms/step - loss: 0.6755 - accuracy: 0.5941 - val_loss: 0.6468 - val_accuracy: 0.6702\n",
            "Epoch 33/100\n",
            "6/6 [==============================] - 2s 373ms/step - loss: 0.6759 - accuracy: 0.5941 - val_loss: 0.6513 - val_accuracy: 0.6702\n",
            "Epoch 34/100\n",
            "6/6 [==============================] - 2s 397ms/step - loss: 0.6758 - accuracy: 0.5941 - val_loss: 0.6490 - val_accuracy: 0.6702\n",
            "Epoch 35/100\n",
            "6/6 [==============================] - 4s 748ms/step - loss: 0.6756 - accuracy: 0.5941 - val_loss: 0.6471 - val_accuracy: 0.6702\n",
            "Epoch 36/100\n",
            "6/6 [==============================] - 2s 368ms/step - loss: 0.6754 - accuracy: 0.5941 - val_loss: 0.6441 - val_accuracy: 0.6702\n",
            "Epoch 37/100\n",
            "6/6 [==============================] - 2s 396ms/step - loss: 0.6759 - accuracy: 0.5941 - val_loss: 0.6456 - val_accuracy: 0.6702\n",
            "Epoch 38/100\n",
            "6/6 [==============================] - 2s 367ms/step - loss: 0.6770 - accuracy: 0.5941 - val_loss: 0.6496 - val_accuracy: 0.6702\n",
            "Epoch 39/100\n",
            "6/6 [==============================] - 2s 376ms/step - loss: 0.6756 - accuracy: 0.5941 - val_loss: 0.6474 - val_accuracy: 0.6702\n",
            "Epoch 40/100\n",
            "6/6 [==============================] - 3s 606ms/step - loss: 0.6757 - accuracy: 0.5941 - val_loss: 0.6433 - val_accuracy: 0.6702\n",
            "Epoch 41/100\n",
            "6/6 [==============================] - 3s 472ms/step - loss: 0.6759 - accuracy: 0.5941 - val_loss: 0.6466 - val_accuracy: 0.6702\n",
            "Epoch 42/100\n",
            "6/6 [==============================] - 2s 402ms/step - loss: 0.6754 - accuracy: 0.5941 - val_loss: 0.6460 - val_accuracy: 0.6702\n",
            "Epoch 43/100\n",
            "6/6 [==============================] - 3s 490ms/step - loss: 0.6767 - accuracy: 0.5941 - val_loss: 0.6430 - val_accuracy: 0.6702\n",
            "Epoch 44/100\n",
            "6/6 [==============================] - 2s 404ms/step - loss: 0.6776 - accuracy: 0.5941 - val_loss: 0.6506 - val_accuracy: 0.6702\n",
            "Epoch 45/100\n",
            "6/6 [==============================] - 3s 512ms/step - loss: 0.6759 - accuracy: 0.5941 - val_loss: 0.6449 - val_accuracy: 0.6702\n",
            "Epoch 46/100\n",
            "6/6 [==============================] - 5s 815ms/step - loss: 0.6761 - accuracy: 0.5941 - val_loss: 0.6462 - val_accuracy: 0.6702\n",
            "Epoch 47/100\n",
            "6/6 [==============================] - 3s 437ms/step - loss: 0.6757 - accuracy: 0.5941 - val_loss: 0.6500 - val_accuracy: 0.6702\n",
            "Epoch 48/100\n",
            "6/6 [==============================] - 2s 375ms/step - loss: 0.6757 - accuracy: 0.5941 - val_loss: 0.6493 - val_accuracy: 0.6702\n",
            "Epoch 49/100\n",
            "6/6 [==============================] - 2s 368ms/step - loss: 0.6778 - accuracy: 0.5941 - val_loss: 0.6423 - val_accuracy: 0.6702\n",
            "Epoch 50/100\n",
            "6/6 [==============================] - 3s 610ms/step - loss: 0.6757 - accuracy: 0.5941 - val_loss: 0.6474 - val_accuracy: 0.6702\n",
            "Epoch 51/100\n",
            "6/6 [==============================] - 3s 436ms/step - loss: 0.6755 - accuracy: 0.5941 - val_loss: 0.6478 - val_accuracy: 0.6702\n",
            "Epoch 52/100\n",
            "6/6 [==============================] - 2s 394ms/step - loss: 0.6762 - accuracy: 0.5941 - val_loss: 0.6506 - val_accuracy: 0.6702\n",
            "Epoch 53/100\n",
            "6/6 [==============================] - 2s 377ms/step - loss: 0.6757 - accuracy: 0.5941 - val_loss: 0.6492 - val_accuracy: 0.6702\n",
            "Epoch 54/100\n",
            "6/6 [==============================] - 2s 394ms/step - loss: 0.6763 - accuracy: 0.5941 - val_loss: 0.6443 - val_accuracy: 0.6702\n",
            "Epoch 55/100\n",
            "6/6 [==============================] - 3s 436ms/step - loss: 0.6757 - accuracy: 0.5941 - val_loss: 0.6464 - val_accuracy: 0.6702\n",
            "Epoch 56/100\n",
            "6/6 [==============================] - 4s 665ms/step - loss: 0.6758 - accuracy: 0.5941 - val_loss: 0.6445 - val_accuracy: 0.6702\n",
            "Epoch 57/100\n",
            "6/6 [==============================] - 2s 375ms/step - loss: 0.6757 - accuracy: 0.5941 - val_loss: 0.6449 - val_accuracy: 0.6702\n",
            "Epoch 58/100\n",
            "6/6 [==============================] - 2s 394ms/step - loss: 0.6755 - accuracy: 0.5941 - val_loss: 0.6487 - val_accuracy: 0.6702\n",
            "Epoch 59/100\n",
            "6/6 [==============================] - 3s 438ms/step - loss: 0.6766 - accuracy: 0.5941 - val_loss: 0.6512 - val_accuracy: 0.6702\n",
            "Epoch 60/100\n",
            "6/6 [==============================] - 2s 371ms/step - loss: 0.6755 - accuracy: 0.5941 - val_loss: 0.6478 - val_accuracy: 0.6702\n",
            "Epoch 61/100\n",
            "6/6 [==============================] - 4s 729ms/step - loss: 0.6767 - accuracy: 0.5941 - val_loss: 0.6423 - val_accuracy: 0.6702\n",
            "Epoch 62/100\n",
            "6/6 [==============================] - 2s 376ms/step - loss: 0.6761 - accuracy: 0.5941 - val_loss: 0.6433 - val_accuracy: 0.6702\n",
            "Epoch 63/100\n",
            "6/6 [==============================] - 2s 375ms/step - loss: 0.6764 - accuracy: 0.5941 - val_loss: 0.6496 - val_accuracy: 0.6702\n",
            "Epoch 64/100\n",
            "6/6 [==============================] - 2s 400ms/step - loss: 0.6763 - accuracy: 0.5941 - val_loss: 0.6515 - val_accuracy: 0.6702\n",
            "Epoch 65/100\n",
            "6/6 [==============================] - 2s 380ms/step - loss: 0.6768 - accuracy: 0.5941 - val_loss: 0.6474 - val_accuracy: 0.6702\n",
            "Epoch 66/100\n",
            "6/6 [==============================] - 5s 892ms/step - loss: 0.6756 - accuracy: 0.5941 - val_loss: 0.6456 - val_accuracy: 0.6702\n",
            "Epoch 67/100\n",
            "6/6 [==============================] - 3s 386ms/step - loss: 0.6755 - accuracy: 0.5941 - val_loss: 0.6452 - val_accuracy: 0.6702\n",
            "Epoch 68/100\n",
            "6/6 [==============================] - 2s 403ms/step - loss: 0.6760 - accuracy: 0.5941 - val_loss: 0.6483 - val_accuracy: 0.6702\n",
            "Epoch 69/100\n",
            "6/6 [==============================] - 2s 370ms/step - loss: 0.6764 - accuracy: 0.5941 - val_loss: 0.6450 - val_accuracy: 0.6702\n",
            "Epoch 70/100\n",
            "6/6 [==============================] - 2s 371ms/step - loss: 0.6755 - accuracy: 0.5941 - val_loss: 0.6467 - val_accuracy: 0.6702\n",
            "Epoch 71/100\n",
            "6/6 [==============================] - 3s 487ms/step - loss: 0.6760 - accuracy: 0.5941 - val_loss: 0.6490 - val_accuracy: 0.6702\n",
            "Epoch 72/100\n",
            "6/6 [==============================] - 4s 597ms/step - loss: 0.6756 - accuracy: 0.5941 - val_loss: 0.6481 - val_accuracy: 0.6702\n",
            "Epoch 73/100\n",
            "6/6 [==============================] - 2s 394ms/step - loss: 0.6764 - accuracy: 0.5941 - val_loss: 0.6490 - val_accuracy: 0.6702\n",
            "Epoch 74/100\n",
            "6/6 [==============================] - 2s 385ms/step - loss: 0.6771 - accuracy: 0.5941 - val_loss: 0.6435 - val_accuracy: 0.6702\n",
            "Epoch 75/100\n",
            "6/6 [==============================] - 2s 398ms/step - loss: 0.6768 - accuracy: 0.5941 - val_loss: 0.6470 - val_accuracy: 0.6702\n",
            "Epoch 76/100\n",
            "6/6 [==============================] - 3s 540ms/step - loss: 0.6755 - accuracy: 0.5941 - val_loss: 0.6468 - val_accuracy: 0.6702\n",
            "Epoch 77/100\n",
            "6/6 [==============================] - 4s 637ms/step - loss: 0.6753 - accuracy: 0.5941 - val_loss: 0.6456 - val_accuracy: 0.6702\n",
            "Epoch 78/100\n",
            "6/6 [==============================] - 2s 369ms/step - loss: 0.6754 - accuracy: 0.5941 - val_loss: 0.6454 - val_accuracy: 0.6702\n",
            "Epoch 79/100\n",
            "6/6 [==============================] - 2s 417ms/step - loss: 0.6756 - accuracy: 0.5941 - val_loss: 0.6460 - val_accuracy: 0.6702\n",
            "Epoch 80/100\n",
            "6/6 [==============================] - 2s 366ms/step - loss: 0.6755 - accuracy: 0.5941 - val_loss: 0.6447 - val_accuracy: 0.6702\n",
            "Epoch 81/100\n",
            "6/6 [==============================] - 2s 371ms/step - loss: 0.6756 - accuracy: 0.5941 - val_loss: 0.6443 - val_accuracy: 0.6702\n",
            "Epoch 82/100\n",
            "6/6 [==============================] - 4s 631ms/step - loss: 0.6756 - accuracy: 0.5941 - val_loss: 0.6469 - val_accuracy: 0.6702\n",
            "Epoch 83/100\n",
            "6/6 [==============================] - 3s 461ms/step - loss: 0.6758 - accuracy: 0.5941 - val_loss: 0.6487 - val_accuracy: 0.6702\n",
            "Epoch 84/100\n",
            "6/6 [==============================] - 2s 371ms/step - loss: 0.6757 - accuracy: 0.5941 - val_loss: 0.6487 - val_accuracy: 0.6702\n",
            "Epoch 85/100\n",
            "6/6 [==============================] - 2s 398ms/step - loss: 0.6754 - accuracy: 0.5941 - val_loss: 0.6458 - val_accuracy: 0.6702\n",
            "Epoch 86/100\n",
            "6/6 [==============================] - 2s 374ms/step - loss: 0.6754 - accuracy: 0.5941 - val_loss: 0.6440 - val_accuracy: 0.6702\n",
            "Epoch 87/100\n",
            "6/6 [==============================] - 3s 542ms/step - loss: 0.6756 - accuracy: 0.5941 - val_loss: 0.6437 - val_accuracy: 0.6702\n",
            "Epoch 88/100\n",
            "6/6 [==============================] - 4s 742ms/step - loss: 0.6760 - accuracy: 0.5941 - val_loss: 0.6470 - val_accuracy: 0.6702\n",
            "Epoch 89/100\n",
            "6/6 [==============================] - 2s 396ms/step - loss: 0.6754 - accuracy: 0.5941 - val_loss: 0.6466 - val_accuracy: 0.6702\n",
            "Epoch 90/100\n",
            "6/6 [==============================] - 2s 397ms/step - loss: 0.6757 - accuracy: 0.5941 - val_loss: 0.6476 - val_accuracy: 0.6702\n",
            "Epoch 91/100\n",
            "6/6 [==============================] - 2s 376ms/step - loss: 0.6758 - accuracy: 0.5941 - val_loss: 0.6456 - val_accuracy: 0.6702\n",
            "Epoch 92/100\n",
            "6/6 [==============================] - 3s 518ms/step - loss: 0.6755 - accuracy: 0.5941 - val_loss: 0.6463 - val_accuracy: 0.6702\n",
            "Epoch 93/100\n",
            "6/6 [==============================] - 4s 722ms/step - loss: 0.6770 - accuracy: 0.5941 - val_loss: 0.6442 - val_accuracy: 0.6702\n",
            "Epoch 94/100\n",
            "6/6 [==============================] - 5s 779ms/step - loss: 0.6759 - accuracy: 0.5941 - val_loss: 0.6478 - val_accuracy: 0.6702\n",
            "Epoch 95/100\n",
            "6/6 [==============================] - 4s 728ms/step - loss: 0.6754 - accuracy: 0.5941 - val_loss: 0.6486 - val_accuracy: 0.6702\n",
            "Epoch 96/100\n",
            "6/6 [==============================] - 5s 849ms/step - loss: 0.6755 - accuracy: 0.5941 - val_loss: 0.6485 - val_accuracy: 0.6702\n",
            "Epoch 97/100\n",
            "6/6 [==============================] - 2s 371ms/step - loss: 0.6754 - accuracy: 0.5941 - val_loss: 0.6475 - val_accuracy: 0.6702\n",
            "Epoch 98/100\n",
            "6/6 [==============================] - 2s 393ms/step - loss: 0.6754 - accuracy: 0.5941 - val_loss: 0.6464 - val_accuracy: 0.6702\n",
            "Epoch 99/100\n",
            "6/6 [==============================] - 2s 407ms/step - loss: 0.6754 - accuracy: 0.5941 - val_loss: 0.6464 - val_accuracy: 0.6702\n",
            "Epoch 100/100\n",
            "6/6 [==============================] - 2s 397ms/step - loss: 0.6756 - accuracy: 0.5941 - val_loss: 0.6452 - val_accuracy: 0.6702\n",
            "16/16 [==============================] - 2s 76ms/step\n",
            "F1 Score for Dev Dataset: 0.4088\n"
          ]
        }
      ]
    },
    {
      "cell_type": "markdown",
      "source": [
        "#3.13\tBI DIRECTIONAL LSTM"
      ],
      "metadata": {
        "id": "5WjJ1-x55oSZ"
      }
    },
    {
      "cell_type": "markdown",
      "source": [
        "#**BI DIRECTIONAL LSTM - another model of lstm **"
      ],
      "metadata": {
        "id": "FIdB1_ST4Lly"
      }
    },
    {
      "cell_type": "code",
      "source": [
        "import pandas as pd\n",
        "import numpy as np\n",
        "from sklearn.model_selection import train_test_split\n",
        "from sklearn.preprocessing import LabelEncoder\n",
        "from tensorflow.keras.preprocessing.text import Tokenizer\n",
        "from tensorflow.keras.preprocessing.sequence import pad_sequences\n",
        "from tensorflow.keras.models import Sequential\n",
        "from tensorflow.keras.layers import Embedding, LSTM, Dense, Bidirectional\n",
        "from tensorflow.keras.utils import to_categorical\n",
        "from sklearn.metrics import f1_score\n",
        "\n",
        "# Function to train and evaluate a bidirectional LSTM model\n",
        "def train_and_evaluate_bidirectional_lstm(X_train, y_train, X_test, y_test, dataset_name):\n",
        "    print(f\"Dataset: {dataset_name}\")\n",
        "\n",
        "    # Define the maximum number of words and sequence length\n",
        "    max_words = 5000\n",
        "    sequence_length = 100\n",
        "\n",
        "    # Tokenize the text data and convert it to sequences\n",
        "    tokenizer = Tokenizer(num_words=max_words, oov_token=\"<OOV>\")\n",
        "    tokenizer.fit_on_texts(X_train)\n",
        "    X_train_seq = tokenizer.texts_to_sequences(X_train)\n",
        "    X_test_seq = tokenizer.texts_to_sequences(X_test)\n",
        "\n",
        "    # Pad the sequences to have a fixed length\n",
        "    X_train_padded = pad_sequences(X_train_seq, maxlen=sequence_length, padding='post')\n",
        "    X_test_padded = pad_sequences(X_test_seq, maxlen=sequence_length, padding='post')\n",
        "\n",
        "    # Encode the labels and convert them to categorical\n",
        "    label_encoder = LabelEncoder()\n",
        "    y_train_encoded = label_encoder.fit_transform(y_train)\n",
        "    y_test_encoded = label_encoder.transform(y_test)\n",
        "    y_train_categorical = to_categorical(y_train_encoded)\n",
        "    y_test_categorical = to_categorical(y_test_encoded)\n",
        "\n",
        "    # Build the bidirectional LSTM model\n",
        "    model = Sequential()\n",
        "    model.add(Embedding(max_words, 128, input_length=sequence_length))\n",
        "    model.add(Bidirectional(LSTM(128, return_sequences=True))) #bidirectional\n",
        "    model.add(Bidirectional(LSTM(64))) #bidirectional\n",
        "    model.add(Dense(64, activation='relu'))\n",
        "    model.add(Dense(len(label_encoder.classes_), activation='softmax'))\n",
        "\n",
        "    # Compile the model\n",
        "    model.compile(loss='categorical_crossentropy', optimizer='adam', metrics=['accuracy'])\n",
        "\n",
        "    # Train the model\n",
        "    model.fit(X_train_padded, y_train_categorical, epochs=100, batch_size=64, validation_split=0.2)\n",
        "\n",
        "    # Make predictions on the test set\n",
        "    y_pred = model.predict(X_test_padded)\n",
        "    y_pred_classes = np.argmax(y_pred, axis=1)\n",
        "    y_true = y_test_encoded\n",
        "\n",
        "    # Calculate and print the macro F1 score\n",
        "    f1 = f1_score(y_true, y_pred_classes, average='macro')\n",
        "    print(f\"F1 Score for {dataset_name}: {f1:.4f}\")\n",
        "\n",
        "# Load the data\n",
        "train_data_few_shot = pd.read_csv('preprocessed_no_stopwords_train_few_shot.csv')\n",
        "train_data_zero_shot = pd.read_csv('preprocessed_no_stopwords_train_zero_shot.csv')\n",
        "train_data_one_shot = pd.read_csv('preprocessed_no_stopwords_train_one_shot.csv')\n",
        "dev_data = pd.read_csv('preprocessed_no_stopwords_dev.csv')\n",
        "test_data = pd.read_csv('preprocessed_no_stopwords_test.csv')\n",
        "\n",
        "# Extract test data and labels\n",
        "X_test = test_data['sentence1']\n",
        "y_test = test_data['label']\n",
        "\n",
        "# Train and evaluate the bidirectional LSTM model on each dataset\n",
        "train_and_evaluate_bidirectional_lstm(train_data_few_shot['sentence1'], train_data_few_shot['label'], X_test, y_test, 'Few-Shot Dataset')\n",
        "train_and_evaluate_bidirectional_lstm(train_data_zero_shot['sentence1'], train_data_zero_shot['label'], X_test, y_test, 'Zero-Shot Dataset')\n",
        "train_and_evaluate_bidirectional_lstm(train_data_one_shot['sentence1'], train_data_one_shot['label'], X_test, y_test, 'One-Shot Dataset')\n",
        "train_and_evaluate_bidirectional_lstm(dev_data['sentence1'], dev_data['label'], X_test, y_test, 'Dev Dataset')\n"
      ],
      "metadata": {
        "colab": {
          "base_uri": "https://localhost:8080/"
        },
        "id": "XZof8zGytAVN",
        "outputId": "cd974374-0bab-45bc-d044-80ac3d3576f2"
      },
      "execution_count": null,
      "outputs": [
        {
          "output_type": "stream",
          "name": "stdout",
          "text": [
            "Dataset: Few-Shot Dataset\n",
            "Epoch 1/100\n",
            "4/4 [==============================] - 8s 755ms/step - loss: 0.6890 - accuracy: 0.5689 - val_loss: 0.5718 - val_accuracy: 0.9123\n",
            "Epoch 2/100\n",
            "4/4 [==============================] - 1s 209ms/step - loss: 0.6722 - accuracy: 0.5911 - val_loss: 0.5862 - val_accuracy: 0.9123\n",
            "Epoch 3/100\n",
            "4/4 [==============================] - 1s 197ms/step - loss: 0.6566 - accuracy: 0.5911 - val_loss: 0.5298 - val_accuracy: 0.9123\n",
            "Epoch 4/100\n",
            "4/4 [==============================] - 0s 106ms/step - loss: 0.5881 - accuracy: 0.6089 - val_loss: 0.5232 - val_accuracy: 0.9123\n",
            "Epoch 5/100\n",
            "4/4 [==============================] - 0s 108ms/step - loss: 0.3819 - accuracy: 0.9200 - val_loss: 0.5912 - val_accuracy: 0.5789\n",
            "Epoch 6/100\n",
            "4/4 [==============================] - 0s 107ms/step - loss: 0.4904 - accuracy: 0.8400 - val_loss: 1.3573 - val_accuracy: 0.2456\n",
            "Epoch 7/100\n",
            "4/4 [==============================] - 1s 132ms/step - loss: 0.1305 - accuracy: 0.9556 - val_loss: 0.7206 - val_accuracy: 0.5965\n",
            "Epoch 8/100\n",
            "4/4 [==============================] - 1s 133ms/step - loss: 0.0321 - accuracy: 0.9956 - val_loss: 0.4623 - val_accuracy: 0.8421\n",
            "Epoch 9/100\n",
            "4/4 [==============================] - 1s 131ms/step - loss: 0.0109 - accuracy: 0.9956 - val_loss: 0.6134 - val_accuracy: 0.8246\n",
            "Epoch 10/100\n",
            "4/4 [==============================] - 0s 104ms/step - loss: 0.0038 - accuracy: 1.0000 - val_loss: 0.7904 - val_accuracy: 0.8070\n",
            "Epoch 11/100\n",
            "4/4 [==============================] - 0s 113ms/step - loss: 0.0011 - accuracy: 1.0000 - val_loss: 1.0172 - val_accuracy: 0.7895\n",
            "Epoch 12/100\n",
            "4/4 [==============================] - 1s 137ms/step - loss: 6.1390e-04 - accuracy: 1.0000 - val_loss: 1.1818 - val_accuracy: 0.7895\n",
            "Epoch 13/100\n",
            "4/4 [==============================] - 0s 104ms/step - loss: 3.9601e-04 - accuracy: 1.0000 - val_loss: 1.2704 - val_accuracy: 0.7895\n",
            "Epoch 14/100\n",
            "4/4 [==============================] - 0s 104ms/step - loss: 2.8321e-04 - accuracy: 1.0000 - val_loss: 1.3366 - val_accuracy: 0.7895\n",
            "Epoch 15/100\n",
            "4/4 [==============================] - 1s 133ms/step - loss: 2.2326e-04 - accuracy: 1.0000 - val_loss: 1.3884 - val_accuracy: 0.7895\n",
            "Epoch 16/100\n",
            "4/4 [==============================] - 0s 130ms/step - loss: 1.8635e-04 - accuracy: 1.0000 - val_loss: 1.4844 - val_accuracy: 0.7719\n",
            "Epoch 17/100\n",
            "4/4 [==============================] - 1s 131ms/step - loss: 1.6175e-04 - accuracy: 1.0000 - val_loss: 1.5182 - val_accuracy: 0.7719\n",
            "Epoch 18/100\n",
            "4/4 [==============================] - 0s 104ms/step - loss: 1.4493e-04 - accuracy: 1.0000 - val_loss: 1.5436 - val_accuracy: 0.7719\n",
            "Epoch 19/100\n",
            "4/4 [==============================] - 0s 105ms/step - loss: 1.3221e-04 - accuracy: 1.0000 - val_loss: 1.5635 - val_accuracy: 0.7719\n",
            "Epoch 20/100\n",
            "4/4 [==============================] - 1s 131ms/step - loss: 1.2268e-04 - accuracy: 1.0000 - val_loss: 1.5797 - val_accuracy: 0.7719\n",
            "Epoch 21/100\n",
            "4/4 [==============================] - 0s 103ms/step - loss: 1.1496e-04 - accuracy: 1.0000 - val_loss: 1.5933 - val_accuracy: 0.7719\n",
            "Epoch 22/100\n",
            "4/4 [==============================] - 1s 131ms/step - loss: 1.0853e-04 - accuracy: 1.0000 - val_loss: 1.6049 - val_accuracy: 0.7719\n",
            "Epoch 23/100\n",
            "4/4 [==============================] - 0s 76ms/step - loss: 1.0306e-04 - accuracy: 1.0000 - val_loss: 1.6153 - val_accuracy: 0.7719\n",
            "Epoch 24/100\n",
            "4/4 [==============================] - 0s 101ms/step - loss: 9.8337e-05 - accuracy: 1.0000 - val_loss: 1.6248 - val_accuracy: 0.7719\n",
            "Epoch 25/100\n",
            "4/4 [==============================] - 0s 129ms/step - loss: 9.4057e-05 - accuracy: 1.0000 - val_loss: 1.6336 - val_accuracy: 0.7719\n",
            "Epoch 26/100\n",
            "4/4 [==============================] - 1s 141ms/step - loss: 9.0191e-05 - accuracy: 1.0000 - val_loss: 1.6419 - val_accuracy: 0.7719\n",
            "Epoch 27/100\n",
            "4/4 [==============================] - 0s 51ms/step - loss: 8.6650e-05 - accuracy: 1.0000 - val_loss: 1.6499 - val_accuracy: 0.7719\n",
            "Epoch 28/100\n",
            "4/4 [==============================] - 1s 195ms/step - loss: 8.3379e-05 - accuracy: 1.0000 - val_loss: 1.6577 - val_accuracy: 0.7719\n",
            "Epoch 29/100\n",
            "4/4 [==============================] - 0s 145ms/step - loss: 8.0300e-05 - accuracy: 1.0000 - val_loss: 1.6652 - val_accuracy: 0.7719\n",
            "Epoch 30/100\n",
            "4/4 [==============================] - 0s 146ms/step - loss: 7.7411e-05 - accuracy: 1.0000 - val_loss: 1.6724 - val_accuracy: 0.7719\n",
            "Epoch 31/100\n",
            "4/4 [==============================] - 1s 167ms/step - loss: 7.4737e-05 - accuracy: 1.0000 - val_loss: 1.6794 - val_accuracy: 0.7719\n",
            "Epoch 32/100\n",
            "4/4 [==============================] - 0s 133ms/step - loss: 7.2207e-05 - accuracy: 1.0000 - val_loss: 1.6863 - val_accuracy: 0.7719\n",
            "Epoch 33/100\n",
            "4/4 [==============================] - 0s 131ms/step - loss: 6.9844e-05 - accuracy: 1.0000 - val_loss: 1.6931 - val_accuracy: 0.7719\n",
            "Epoch 34/100\n",
            "4/4 [==============================] - 0s 133ms/step - loss: 6.7525e-05 - accuracy: 1.0000 - val_loss: 1.6998 - val_accuracy: 0.7719\n",
            "Epoch 35/100\n",
            "4/4 [==============================] - 0s 102ms/step - loss: 6.5366e-05 - accuracy: 1.0000 - val_loss: 1.7063 - val_accuracy: 0.7719\n",
            "Epoch 36/100\n",
            "4/4 [==============================] - 0s 131ms/step - loss: 6.3319e-05 - accuracy: 1.0000 - val_loss: 1.7129 - val_accuracy: 0.7719\n",
            "Epoch 37/100\n",
            "4/4 [==============================] - 0s 104ms/step - loss: 6.1372e-05 - accuracy: 1.0000 - val_loss: 1.7193 - val_accuracy: 0.7719\n",
            "Epoch 38/100\n",
            "4/4 [==============================] - 0s 73ms/step - loss: 5.9485e-05 - accuracy: 1.0000 - val_loss: 1.7257 - val_accuracy: 0.7719\n",
            "Epoch 39/100\n",
            "4/4 [==============================] - 0s 74ms/step - loss: 5.7669e-05 - accuracy: 1.0000 - val_loss: 1.7319 - val_accuracy: 0.7719\n",
            "Epoch 40/100\n",
            "4/4 [==============================] - 1s 130ms/step - loss: 5.6003e-05 - accuracy: 1.0000 - val_loss: 1.7381 - val_accuracy: 0.7719\n",
            "Epoch 41/100\n",
            "4/4 [==============================] - 0s 72ms/step - loss: 5.4362e-05 - accuracy: 1.0000 - val_loss: 1.7443 - val_accuracy: 0.7719\n",
            "Epoch 42/100\n",
            "4/4 [==============================] - 0s 133ms/step - loss: 5.2780e-05 - accuracy: 1.0000 - val_loss: 1.7503 - val_accuracy: 0.7719\n",
            "Epoch 43/100\n",
            "4/4 [==============================] - 0s 70ms/step - loss: 5.1271e-05 - accuracy: 1.0000 - val_loss: 1.7561 - val_accuracy: 0.7719\n",
            "Epoch 44/100\n",
            "4/4 [==============================] - 0s 35ms/step - loss: 4.9841e-05 - accuracy: 1.0000 - val_loss: 1.7619 - val_accuracy: 0.7719\n",
            "Epoch 45/100\n",
            "4/4 [==============================] - 0s 64ms/step - loss: 4.8492e-05 - accuracy: 1.0000 - val_loss: 1.7677 - val_accuracy: 0.7719\n",
            "Epoch 46/100\n",
            "4/4 [==============================] - 0s 66ms/step - loss: 4.7164e-05 - accuracy: 1.0000 - val_loss: 1.7734 - val_accuracy: 0.7719\n",
            "Epoch 47/100\n",
            "4/4 [==============================] - 0s 127ms/step - loss: 4.5900e-05 - accuracy: 1.0000 - val_loss: 1.7790 - val_accuracy: 0.7719\n",
            "Epoch 48/100\n",
            "4/4 [==============================] - 0s 33ms/step - loss: 4.4681e-05 - accuracy: 1.0000 - val_loss: 1.7845 - val_accuracy: 0.7719\n",
            "Epoch 49/100\n",
            "4/4 [==============================] - 0s 33ms/step - loss: 4.3512e-05 - accuracy: 1.0000 - val_loss: 1.7900 - val_accuracy: 0.7719\n",
            "Epoch 50/100\n",
            "4/4 [==============================] - 0s 127ms/step - loss: 4.2387e-05 - accuracy: 1.0000 - val_loss: 1.7954 - val_accuracy: 0.7719\n",
            "Epoch 51/100\n",
            "4/4 [==============================] - 0s 34ms/step - loss: 4.1302e-05 - accuracy: 1.0000 - val_loss: 1.8008 - val_accuracy: 0.7719\n",
            "Epoch 52/100\n",
            "4/4 [==============================] - 0s 123ms/step - loss: 4.0259e-05 - accuracy: 1.0000 - val_loss: 1.8060 - val_accuracy: 0.7719\n",
            "Epoch 53/100\n",
            "4/4 [==============================] - 0s 64ms/step - loss: 3.9256e-05 - accuracy: 1.0000 - val_loss: 1.8112 - val_accuracy: 0.7719\n",
            "Epoch 54/100\n",
            "4/4 [==============================] - 0s 64ms/step - loss: 3.8288e-05 - accuracy: 1.0000 - val_loss: 1.8163 - val_accuracy: 0.7719\n",
            "Epoch 55/100\n",
            "4/4 [==============================] - 0s 61ms/step - loss: 3.7348e-05 - accuracy: 1.0000 - val_loss: 1.8214 - val_accuracy: 0.7719\n",
            "Epoch 56/100\n",
            "4/4 [==============================] - 0s 31ms/step - loss: 3.6465e-05 - accuracy: 1.0000 - val_loss: 1.8264 - val_accuracy: 0.7719\n",
            "Epoch 57/100\n",
            "4/4 [==============================] - 0s 64ms/step - loss: 3.5589e-05 - accuracy: 1.0000 - val_loss: 1.8314 - val_accuracy: 0.7719\n",
            "Epoch 58/100\n",
            "4/4 [==============================] - 0s 61ms/step - loss: 3.4769e-05 - accuracy: 1.0000 - val_loss: 1.8364 - val_accuracy: 0.7719\n",
            "Epoch 59/100\n",
            "4/4 [==============================] - 0s 91ms/step - loss: 3.3952e-05 - accuracy: 1.0000 - val_loss: 1.8412 - val_accuracy: 0.7719\n",
            "Epoch 60/100\n",
            "4/4 [==============================] - 0s 30ms/step - loss: 3.3172e-05 - accuracy: 1.0000 - val_loss: 1.8461 - val_accuracy: 0.7719\n",
            "Epoch 61/100\n",
            "4/4 [==============================] - 0s 92ms/step - loss: 3.2418e-05 - accuracy: 1.0000 - val_loss: 1.8508 - val_accuracy: 0.7719\n",
            "Epoch 62/100\n",
            "4/4 [==============================] - 0s 97ms/step - loss: 3.1680e-05 - accuracy: 1.0000 - val_loss: 1.8555 - val_accuracy: 0.7719\n",
            "Epoch 63/100\n",
            "4/4 [==============================] - 0s 91ms/step - loss: 3.0987e-05 - accuracy: 1.0000 - val_loss: 1.8601 - val_accuracy: 0.7719\n",
            "Epoch 64/100\n",
            "4/4 [==============================] - 1s 141ms/step - loss: 3.0303e-05 - accuracy: 1.0000 - val_loss: 1.8647 - val_accuracy: 0.7719\n",
            "Epoch 65/100\n",
            "4/4 [==============================] - 0s 94ms/step - loss: 2.9634e-05 - accuracy: 1.0000 - val_loss: 1.8692 - val_accuracy: 0.7719\n",
            "Epoch 66/100\n",
            "4/4 [==============================] - 0s 154ms/step - loss: 2.9007e-05 - accuracy: 1.0000 - val_loss: 1.8737 - val_accuracy: 0.7719\n",
            "Epoch 67/100\n",
            "4/4 [==============================] - 0s 147ms/step - loss: 2.8385e-05 - accuracy: 1.0000 - val_loss: 1.8782 - val_accuracy: 0.7719\n",
            "Epoch 68/100\n",
            "4/4 [==============================] - 0s 148ms/step - loss: 2.7780e-05 - accuracy: 1.0000 - val_loss: 1.8826 - val_accuracy: 0.7719\n",
            "Epoch 69/100\n",
            "4/4 [==============================] - 0s 85ms/step - loss: 2.7194e-05 - accuracy: 1.0000 - val_loss: 1.8870 - val_accuracy: 0.7719\n",
            "Epoch 70/100\n",
            "4/4 [==============================] - 0s 48ms/step - loss: 2.6641e-05 - accuracy: 1.0000 - val_loss: 1.8913 - val_accuracy: 0.7719\n",
            "Epoch 71/100\n",
            "4/4 [==============================] - 0s 102ms/step - loss: 2.6092e-05 - accuracy: 1.0000 - val_loss: 1.8955 - val_accuracy: 0.7719\n",
            "Epoch 72/100\n",
            "4/4 [==============================] - 0s 101ms/step - loss: 2.5562e-05 - accuracy: 1.0000 - val_loss: 1.8997 - val_accuracy: 0.7719\n",
            "Epoch 73/100\n",
            "4/4 [==============================] - 0s 42ms/step - loss: 2.5041e-05 - accuracy: 1.0000 - val_loss: 1.9039 - val_accuracy: 0.7719\n",
            "Epoch 74/100\n",
            "4/4 [==============================] - 0s 40ms/step - loss: 2.4547e-05 - accuracy: 1.0000 - val_loss: 1.9080 - val_accuracy: 0.7719\n",
            "Epoch 75/100\n",
            "4/4 [==============================] - 0s 67ms/step - loss: 2.4065e-05 - accuracy: 1.0000 - val_loss: 1.9122 - val_accuracy: 0.7719\n",
            "Epoch 76/100\n",
            "4/4 [==============================] - 0s 32ms/step - loss: 2.3596e-05 - accuracy: 1.0000 - val_loss: 1.9162 - val_accuracy: 0.7719\n",
            "Epoch 77/100\n",
            "4/4 [==============================] - 0s 31ms/step - loss: 2.3127e-05 - accuracy: 1.0000 - val_loss: 1.9202 - val_accuracy: 0.7719\n",
            "Epoch 78/100\n",
            "4/4 [==============================] - 0s 61ms/step - loss: 2.2691e-05 - accuracy: 1.0000 - val_loss: 1.9242 - val_accuracy: 0.7719\n",
            "Epoch 79/100\n",
            "4/4 [==============================] - 0s 29ms/step - loss: 2.2258e-05 - accuracy: 1.0000 - val_loss: 1.9281 - val_accuracy: 0.7719\n",
            "Epoch 80/100\n",
            "4/4 [==============================] - 0s 29ms/step - loss: 2.1843e-05 - accuracy: 1.0000 - val_loss: 1.9321 - val_accuracy: 0.7719\n",
            "Epoch 81/100\n",
            "4/4 [==============================] - 0s 62ms/step - loss: 2.1429e-05 - accuracy: 1.0000 - val_loss: 1.9359 - val_accuracy: 0.7719\n",
            "Epoch 82/100\n",
            "4/4 [==============================] - 0s 64ms/step - loss: 2.1045e-05 - accuracy: 1.0000 - val_loss: 1.9397 - val_accuracy: 0.7719\n",
            "Epoch 83/100\n",
            "4/4 [==============================] - 0s 30ms/step - loss: 2.0658e-05 - accuracy: 1.0000 - val_loss: 1.9435 - val_accuracy: 0.7719\n",
            "Epoch 84/100\n",
            "4/4 [==============================] - 0s 59ms/step - loss: 2.0283e-05 - accuracy: 1.0000 - val_loss: 1.9472 - val_accuracy: 0.7719\n",
            "Epoch 85/100\n",
            "4/4 [==============================] - 0s 29ms/step - loss: 1.9923e-05 - accuracy: 1.0000 - val_loss: 1.9509 - val_accuracy: 0.7719\n",
            "Epoch 86/100\n",
            "4/4 [==============================] - 0s 62ms/step - loss: 1.9570e-05 - accuracy: 1.0000 - val_loss: 1.9545 - val_accuracy: 0.7719\n",
            "Epoch 87/100\n",
            "4/4 [==============================] - 0s 30ms/step - loss: 1.9224e-05 - accuracy: 1.0000 - val_loss: 1.9581 - val_accuracy: 0.7719\n",
            "Epoch 88/100\n",
            "4/4 [==============================] - 0s 29ms/step - loss: 1.8890e-05 - accuracy: 1.0000 - val_loss: 1.9616 - val_accuracy: 0.7719\n",
            "Epoch 89/100\n",
            "4/4 [==============================] - 0s 61ms/step - loss: 1.8568e-05 - accuracy: 1.0000 - val_loss: 1.9652 - val_accuracy: 0.7719\n",
            "Epoch 90/100\n",
            "4/4 [==============================] - 0s 91ms/step - loss: 1.8253e-05 - accuracy: 1.0000 - val_loss: 1.9687 - val_accuracy: 0.7719\n",
            "Epoch 91/100\n",
            "4/4 [==============================] - 0s 32ms/step - loss: 1.7944e-05 - accuracy: 1.0000 - val_loss: 1.9722 - val_accuracy: 0.7719\n",
            "Epoch 92/100\n",
            "4/4 [==============================] - 0s 60ms/step - loss: 1.7636e-05 - accuracy: 1.0000 - val_loss: 1.9757 - val_accuracy: 0.7719\n",
            "Epoch 93/100\n",
            "4/4 [==============================] - 0s 61ms/step - loss: 1.7345e-05 - accuracy: 1.0000 - val_loss: 1.9791 - val_accuracy: 0.7719\n",
            "Epoch 94/100\n",
            "4/4 [==============================] - 0s 63ms/step - loss: 1.7053e-05 - accuracy: 1.0000 - val_loss: 1.9825 - val_accuracy: 0.7719\n",
            "Epoch 95/100\n",
            "4/4 [==============================] - 0s 93ms/step - loss: 1.6777e-05 - accuracy: 1.0000 - val_loss: 1.9859 - val_accuracy: 0.7719\n",
            "Epoch 96/100\n",
            "4/4 [==============================] - 0s 30ms/step - loss: 1.6503e-05 - accuracy: 1.0000 - val_loss: 1.9892 - val_accuracy: 0.7719\n",
            "Epoch 97/100\n",
            "4/4 [==============================] - 0s 33ms/step - loss: 1.6237e-05 - accuracy: 1.0000 - val_loss: 1.9925 - val_accuracy: 0.7719\n",
            "Epoch 98/100\n",
            "4/4 [==============================] - 0s 61ms/step - loss: 1.5978e-05 - accuracy: 1.0000 - val_loss: 1.9959 - val_accuracy: 0.7719\n",
            "Epoch 99/100\n",
            "4/4 [==============================] - 0s 60ms/step - loss: 1.5722e-05 - accuracy: 1.0000 - val_loss: 1.9991 - val_accuracy: 0.7719\n",
            "Epoch 100/100\n",
            "4/4 [==============================] - 0s 31ms/step - loss: 1.5467e-05 - accuracy: 1.0000 - val_loss: 2.0024 - val_accuracy: 0.7719\n",
            "16/16 [==============================] - 1s 12ms/step\n",
            "F1 Score for Few-Shot Dataset: 0.6027\n",
            "Dataset: Zero-Shot Dataset\n",
            "Epoch 1/100\n",
            "42/42 [==============================] - 13s 137ms/step - loss: 0.6524 - accuracy: 0.5911 - val_loss: 0.7367 - val_accuracy: 0.6276\n",
            "Epoch 2/100\n",
            "42/42 [==============================] - 5s 113ms/step - loss: 0.2248 - accuracy: 0.9121 - val_loss: 0.9772 - val_accuracy: 0.6111\n",
            "Epoch 3/100\n",
            "42/42 [==============================] - 3s 70ms/step - loss: 0.0542 - accuracy: 0.9801 - val_loss: 1.3612 - val_accuracy: 0.6201\n",
            "Epoch 4/100\n",
            "42/42 [==============================] - 2s 49ms/step - loss: 0.0154 - accuracy: 0.9944 - val_loss: 1.8345 - val_accuracy: 0.6291\n",
            "Epoch 5/100\n",
            "42/42 [==============================] - 2s 53ms/step - loss: 0.0058 - accuracy: 0.9985 - val_loss: 2.1182 - val_accuracy: 0.6066\n",
            "Epoch 6/100\n",
            "42/42 [==============================] - 2s 48ms/step - loss: 0.0088 - accuracy: 0.9974 - val_loss: 2.3206 - val_accuracy: 0.6321\n",
            "Epoch 7/100\n",
            "42/42 [==============================] - 2s 51ms/step - loss: 7.0452e-04 - accuracy: 1.0000 - val_loss: 2.5915 - val_accuracy: 0.6186\n",
            "Epoch 8/100\n",
            "42/42 [==============================] - 1s 33ms/step - loss: 2.3622e-04 - accuracy: 1.0000 - val_loss: 2.7536 - val_accuracy: 0.6216\n",
            "Epoch 9/100\n",
            "42/42 [==============================] - 1s 30ms/step - loss: 0.0014 - accuracy: 0.9996 - val_loss: 2.9447 - val_accuracy: 0.6231\n",
            "Epoch 10/100\n",
            "42/42 [==============================] - 1s 36ms/step - loss: 2.5841e-04 - accuracy: 1.0000 - val_loss: 2.9982 - val_accuracy: 0.6201\n",
            "Epoch 11/100\n",
            "42/42 [==============================] - 1s 34ms/step - loss: 2.7643e-05 - accuracy: 1.0000 - val_loss: 3.0607 - val_accuracy: 0.6201\n",
            "Epoch 12/100\n",
            "42/42 [==============================] - 1s 33ms/step - loss: 2.1280e-05 - accuracy: 1.0000 - val_loss: 3.0990 - val_accuracy: 0.6201\n",
            "Epoch 13/100\n",
            "42/42 [==============================] - 1s 27ms/step - loss: 1.8023e-05 - accuracy: 1.0000 - val_loss: 3.1324 - val_accuracy: 0.6201\n",
            "Epoch 14/100\n",
            "42/42 [==============================] - 1s 29ms/step - loss: 1.5848e-05 - accuracy: 1.0000 - val_loss: 3.1665 - val_accuracy: 0.6201\n",
            "Epoch 15/100\n",
            "42/42 [==============================] - 1s 30ms/step - loss: 1.4044e-05 - accuracy: 1.0000 - val_loss: 3.1960 - val_accuracy: 0.6201\n",
            "Epoch 16/100\n",
            "42/42 [==============================] - 2s 47ms/step - loss: 1.2604e-05 - accuracy: 1.0000 - val_loss: 3.2262 - val_accuracy: 0.6201\n",
            "Epoch 17/100\n",
            "42/42 [==============================] - 1s 33ms/step - loss: 1.1378e-05 - accuracy: 1.0000 - val_loss: 3.2538 - val_accuracy: 0.6216\n",
            "Epoch 18/100\n",
            "42/42 [==============================] - 1s 25ms/step - loss: 1.0387e-05 - accuracy: 1.0000 - val_loss: 3.2802 - val_accuracy: 0.6216\n",
            "Epoch 19/100\n",
            "42/42 [==============================] - 1s 25ms/step - loss: 9.3707e-06 - accuracy: 1.0000 - val_loss: 3.3053 - val_accuracy: 0.6216\n",
            "Epoch 20/100\n",
            "42/42 [==============================] - 1s 27ms/step - loss: 8.6025e-06 - accuracy: 1.0000 - val_loss: 3.3301 - val_accuracy: 0.6216\n",
            "Epoch 21/100\n",
            "42/42 [==============================] - 1s 27ms/step - loss: 7.8919e-06 - accuracy: 1.0000 - val_loss: 3.3530 - val_accuracy: 0.6216\n",
            "Epoch 22/100\n",
            "42/42 [==============================] - 1s 29ms/step - loss: 7.2735e-06 - accuracy: 1.0000 - val_loss: 3.3762 - val_accuracy: 0.6216\n",
            "Epoch 23/100\n",
            "42/42 [==============================] - 1s 29ms/step - loss: 6.7249e-06 - accuracy: 1.0000 - val_loss: 3.3978 - val_accuracy: 0.6186\n",
            "Epoch 24/100\n",
            "42/42 [==============================] - 1s 25ms/step - loss: 6.2447e-06 - accuracy: 1.0000 - val_loss: 3.4200 - val_accuracy: 0.6186\n",
            "Epoch 25/100\n",
            "42/42 [==============================] - 1s 26ms/step - loss: 5.8071e-06 - accuracy: 1.0000 - val_loss: 3.4405 - val_accuracy: 0.6171\n",
            "Epoch 26/100\n",
            "42/42 [==============================] - 1s 25ms/step - loss: 5.4075e-06 - accuracy: 1.0000 - val_loss: 3.4606 - val_accuracy: 0.6171\n",
            "Epoch 27/100\n",
            "42/42 [==============================] - 1s 32ms/step - loss: 5.0561e-06 - accuracy: 1.0000 - val_loss: 3.4792 - val_accuracy: 0.6156\n",
            "Epoch 28/100\n",
            "42/42 [==============================] - 1s 32ms/step - loss: 4.7331e-06 - accuracy: 1.0000 - val_loss: 3.4987 - val_accuracy: 0.6156\n",
            "Epoch 29/100\n",
            "42/42 [==============================] - 1s 22ms/step - loss: 4.4326e-06 - accuracy: 1.0000 - val_loss: 3.5167 - val_accuracy: 0.6156\n",
            "Epoch 30/100\n",
            "42/42 [==============================] - 1s 30ms/step - loss: 4.1626e-06 - accuracy: 1.0000 - val_loss: 3.5351 - val_accuracy: 0.6186\n",
            "Epoch 31/100\n",
            "42/42 [==============================] - 1s 34ms/step - loss: 3.9204e-06 - accuracy: 1.0000 - val_loss: 3.5532 - val_accuracy: 0.6186\n",
            "Epoch 32/100\n",
            "42/42 [==============================] - 1s 24ms/step - loss: 3.6946e-06 - accuracy: 1.0000 - val_loss: 3.5699 - val_accuracy: 0.6186\n",
            "Epoch 33/100\n",
            "42/42 [==============================] - 1s 24ms/step - loss: 3.4848e-06 - accuracy: 1.0000 - val_loss: 3.5868 - val_accuracy: 0.6171\n",
            "Epoch 34/100\n",
            "42/42 [==============================] - 1s 27ms/step - loss: 3.2941e-06 - accuracy: 1.0000 - val_loss: 3.6032 - val_accuracy: 0.6171\n",
            "Epoch 35/100\n",
            "42/42 [==============================] - 1s 29ms/step - loss: 3.1142e-06 - accuracy: 1.0000 - val_loss: 3.6196 - val_accuracy: 0.6186\n",
            "Epoch 36/100\n",
            "42/42 [==============================] - 1s 27ms/step - loss: 2.9479e-06 - accuracy: 1.0000 - val_loss: 3.6391 - val_accuracy: 0.6186\n",
            "Epoch 37/100\n",
            "42/42 [==============================] - 1s 28ms/step - loss: 2.4943e-06 - accuracy: 1.0000 - val_loss: 3.7449 - val_accuracy: 0.6186\n",
            "Epoch 38/100\n",
            "42/42 [==============================] - 1s 31ms/step - loss: 1.7042e-06 - accuracy: 1.0000 - val_loss: 3.8863 - val_accuracy: 0.6201\n",
            "Epoch 39/100\n",
            "42/42 [==============================] - 1s 32ms/step - loss: 1.3184e-06 - accuracy: 1.0000 - val_loss: 3.9865 - val_accuracy: 0.6201\n",
            "Epoch 40/100\n",
            "42/42 [==============================] - 1s 27ms/step - loss: 1.1273e-06 - accuracy: 1.0000 - val_loss: 4.0697 - val_accuracy: 0.6201\n",
            "Epoch 41/100\n",
            "42/42 [==============================] - 1s 29ms/step - loss: 1.0014e-06 - accuracy: 1.0000 - val_loss: 4.1362 - val_accuracy: 0.6201\n",
            "Epoch 42/100\n",
            "42/42 [==============================] - 1s 22ms/step - loss: 9.1594e-07 - accuracy: 1.0000 - val_loss: 4.1937 - val_accuracy: 0.6201\n",
            "Epoch 43/100\n",
            "42/42 [==============================] - 1s 24ms/step - loss: 8.4902e-07 - accuracy: 1.0000 - val_loss: 4.2414 - val_accuracy: 0.6201\n",
            "Epoch 44/100\n",
            "42/42 [==============================] - 1s 27ms/step - loss: 7.9338e-07 - accuracy: 1.0000 - val_loss: 4.2904 - val_accuracy: 0.6186\n",
            "Epoch 45/100\n",
            "42/42 [==============================] - 1s 29ms/step - loss: 7.4688e-07 - accuracy: 1.0000 - val_loss: 4.3268 - val_accuracy: 0.6186\n",
            "Epoch 46/100\n",
            "42/42 [==============================] - 1s 28ms/step - loss: 7.0454e-07 - accuracy: 1.0000 - val_loss: 4.3580 - val_accuracy: 0.6186\n",
            "Epoch 47/100\n",
            "42/42 [==============================] - 1s 22ms/step - loss: 6.6750e-07 - accuracy: 1.0000 - val_loss: 4.3884 - val_accuracy: 0.6186\n",
            "Epoch 48/100\n",
            "42/42 [==============================] - 1s 22ms/step - loss: 6.3376e-07 - accuracy: 1.0000 - val_loss: 4.4225 - val_accuracy: 0.6186\n",
            "Epoch 49/100\n",
            "42/42 [==============================] - 1s 34ms/step - loss: 6.0317e-07 - accuracy: 1.0000 - val_loss: 4.4518 - val_accuracy: 0.6186\n",
            "Epoch 50/100\n",
            "42/42 [==============================] - 1s 35ms/step - loss: 5.7458e-07 - accuracy: 1.0000 - val_loss: 4.4746 - val_accuracy: 0.6141\n",
            "Epoch 51/100\n",
            "42/42 [==============================] - 1s 34ms/step - loss: 5.4865e-07 - accuracy: 1.0000 - val_loss: 4.5012 - val_accuracy: 0.6141\n",
            "Epoch 52/100\n",
            "42/42 [==============================] - 1s 27ms/step - loss: 5.2549e-07 - accuracy: 1.0000 - val_loss: 4.5277 - val_accuracy: 0.6141\n",
            "Epoch 53/100\n",
            "42/42 [==============================] - 1s 22ms/step - loss: 5.0371e-07 - accuracy: 1.0000 - val_loss: 4.5488 - val_accuracy: 0.6141\n",
            "Epoch 54/100\n",
            "42/42 [==============================] - 1s 29ms/step - loss: 4.8243e-07 - accuracy: 1.0000 - val_loss: 4.5676 - val_accuracy: 0.6141\n",
            "Epoch 55/100\n",
            "42/42 [==============================] - 1s 24ms/step - loss: 4.6272e-07 - accuracy: 1.0000 - val_loss: 4.5893 - val_accuracy: 0.6126\n",
            "Epoch 56/100\n",
            "42/42 [==============================] - 1s 27ms/step - loss: 4.4498e-07 - accuracy: 1.0000 - val_loss: 4.6105 - val_accuracy: 0.6141\n",
            "Epoch 57/100\n",
            "42/42 [==============================] - 1s 23ms/step - loss: 4.2688e-07 - accuracy: 1.0000 - val_loss: 4.6313 - val_accuracy: 0.6141\n",
            "Epoch 58/100\n",
            "42/42 [==============================] - 1s 22ms/step - loss: 4.1170e-07 - accuracy: 1.0000 - val_loss: 4.6434 - val_accuracy: 0.6141\n",
            "Epoch 59/100\n",
            "42/42 [==============================] - 1s 28ms/step - loss: 3.9588e-07 - accuracy: 1.0000 - val_loss: 4.6665 - val_accuracy: 0.6141\n",
            "Epoch 60/100\n",
            "42/42 [==============================] - 1s 22ms/step - loss: 3.8204e-07 - accuracy: 1.0000 - val_loss: 4.6879 - val_accuracy: 0.6141\n",
            "Epoch 61/100\n",
            "42/42 [==============================] - 2s 40ms/step - loss: 3.6780e-07 - accuracy: 1.0000 - val_loss: 4.6972 - val_accuracy: 0.6156\n",
            "Epoch 62/100\n",
            "42/42 [==============================] - 1s 35ms/step - loss: 3.5485e-07 - accuracy: 1.0000 - val_loss: 4.7216 - val_accuracy: 0.6156\n",
            "Epoch 63/100\n",
            "42/42 [==============================] - 1s 27ms/step - loss: 3.4266e-07 - accuracy: 1.0000 - val_loss: 4.7374 - val_accuracy: 0.6156\n",
            "Epoch 64/100\n",
            "42/42 [==============================] - 1s 22ms/step - loss: 3.3043e-07 - accuracy: 1.0000 - val_loss: 4.7538 - val_accuracy: 0.6156\n",
            "Epoch 65/100\n",
            "42/42 [==============================] - 1s 24ms/step - loss: 3.1955e-07 - accuracy: 1.0000 - val_loss: 4.7713 - val_accuracy: 0.6156\n",
            "Epoch 66/100\n",
            "42/42 [==============================] - 1s 24ms/step - loss: 3.0862e-07 - accuracy: 1.0000 - val_loss: 4.7879 - val_accuracy: 0.6156\n",
            "Epoch 67/100\n",
            "42/42 [==============================] - 1s 25ms/step - loss: 2.9854e-07 - accuracy: 1.0000 - val_loss: 4.7971 - val_accuracy: 0.6171\n",
            "Epoch 68/100\n",
            "42/42 [==============================] - 1s 26ms/step - loss: 2.8783e-07 - accuracy: 1.0000 - val_loss: 4.8142 - val_accuracy: 0.6156\n",
            "Epoch 69/100\n",
            "42/42 [==============================] - 1s 26ms/step - loss: 2.7883e-07 - accuracy: 1.0000 - val_loss: 4.8314 - val_accuracy: 0.6171\n",
            "Epoch 70/100\n",
            "42/42 [==============================] - 1s 22ms/step - loss: 2.6987e-07 - accuracy: 1.0000 - val_loss: 4.8470 - val_accuracy: 0.6171\n",
            "Epoch 71/100\n",
            "42/42 [==============================] - 1s 25ms/step - loss: 2.6118e-07 - accuracy: 1.0000 - val_loss: 4.8615 - val_accuracy: 0.6171\n",
            "Epoch 72/100\n",
            "42/42 [==============================] - 1s 22ms/step - loss: 2.5257e-07 - accuracy: 1.0000 - val_loss: 4.8765 - val_accuracy: 0.6171\n",
            "Epoch 73/100\n",
            "42/42 [==============================] - 1s 29ms/step - loss: 2.4550e-07 - accuracy: 1.0000 - val_loss: 4.8916 - val_accuracy: 0.6171\n",
            "Epoch 74/100\n",
            "42/42 [==============================] - 1s 29ms/step - loss: 2.3761e-07 - accuracy: 1.0000 - val_loss: 4.9043 - val_accuracy: 0.6171\n",
            "Epoch 75/100\n",
            "42/42 [==============================] - 1s 31ms/step - loss: 2.3022e-07 - accuracy: 1.0000 - val_loss: 4.9191 - val_accuracy: 0.6171\n",
            "Epoch 76/100\n",
            "42/42 [==============================] - 1s 25ms/step - loss: 2.2341e-07 - accuracy: 1.0000 - val_loss: 4.9293 - val_accuracy: 0.6171\n",
            "Epoch 77/100\n",
            "42/42 [==============================] - 1s 24ms/step - loss: 2.1691e-07 - accuracy: 1.0000 - val_loss: 4.9464 - val_accuracy: 0.6171\n",
            "Epoch 78/100\n",
            "42/42 [==============================] - 1s 22ms/step - loss: 2.1033e-07 - accuracy: 1.0000 - val_loss: 4.9549 - val_accuracy: 0.6186\n",
            "Epoch 79/100\n",
            "42/42 [==============================] - 1s 22ms/step - loss: 2.0446e-07 - accuracy: 1.0000 - val_loss: 4.9781 - val_accuracy: 0.6171\n",
            "Epoch 80/100\n",
            "42/42 [==============================] - 1s 27ms/step - loss: 1.9837e-07 - accuracy: 1.0000 - val_loss: 4.9911 - val_accuracy: 0.6186\n",
            "Epoch 81/100\n",
            "42/42 [==============================] - 1s 22ms/step - loss: 1.9268e-07 - accuracy: 1.0000 - val_loss: 5.0032 - val_accuracy: 0.6186\n",
            "Epoch 82/100\n",
            "42/42 [==============================] - 1s 27ms/step - loss: 1.8663e-07 - accuracy: 1.0000 - val_loss: 5.0171 - val_accuracy: 0.6186\n",
            "Epoch 83/100\n",
            "42/42 [==============================] - 1s 25ms/step - loss: 1.8081e-07 - accuracy: 1.0000 - val_loss: 5.0284 - val_accuracy: 0.6201\n",
            "Epoch 84/100\n",
            "42/42 [==============================] - 1s 22ms/step - loss: 1.7548e-07 - accuracy: 1.0000 - val_loss: 5.0353 - val_accuracy: 0.6186\n",
            "Epoch 85/100\n",
            "42/42 [==============================] - 1s 31ms/step - loss: 1.7050e-07 - accuracy: 1.0000 - val_loss: 5.0488 - val_accuracy: 0.6186\n",
            "Epoch 86/100\n",
            "42/42 [==============================] - 1s 32ms/step - loss: 1.6598e-07 - accuracy: 1.0000 - val_loss: 5.0672 - val_accuracy: 0.6186\n",
            "Epoch 87/100\n",
            "42/42 [==============================] - 1s 30ms/step - loss: 1.6110e-07 - accuracy: 1.0000 - val_loss: 5.0755 - val_accuracy: 0.6186\n",
            "Epoch 88/100\n",
            "42/42 [==============================] - 1s 25ms/step - loss: 1.5585e-07 - accuracy: 1.0000 - val_loss: 5.0968 - val_accuracy: 0.6186\n",
            "Epoch 89/100\n",
            "42/42 [==============================] - 1s 24ms/step - loss: 1.5075e-07 - accuracy: 1.0000 - val_loss: 5.1088 - val_accuracy: 0.6186\n",
            "Epoch 90/100\n",
            "42/42 [==============================] - 1s 25ms/step - loss: 1.4707e-07 - accuracy: 1.0000 - val_loss: 5.1175 - val_accuracy: 0.6186\n",
            "Epoch 91/100\n",
            "42/42 [==============================] - 1s 25ms/step - loss: 1.4246e-07 - accuracy: 1.0000 - val_loss: 5.1322 - val_accuracy: 0.6186\n",
            "Epoch 92/100\n",
            "42/42 [==============================] - 1s 25ms/step - loss: 1.3865e-07 - accuracy: 1.0000 - val_loss: 5.1432 - val_accuracy: 0.6186\n",
            "Epoch 93/100\n",
            "42/42 [==============================] - 1s 22ms/step - loss: 1.3444e-07 - accuracy: 1.0000 - val_loss: 5.1556 - val_accuracy: 0.6186\n",
            "Epoch 94/100\n",
            "42/42 [==============================] - 1s 22ms/step - loss: 1.3059e-07 - accuracy: 1.0000 - val_loss: 5.1680 - val_accuracy: 0.6186\n",
            "Epoch 95/100\n",
            "42/42 [==============================] - 1s 23ms/step - loss: 1.2750e-07 - accuracy: 1.0000 - val_loss: 5.1751 - val_accuracy: 0.6186\n",
            "Epoch 96/100\n",
            "42/42 [==============================] - 1s 24ms/step - loss: 1.2400e-07 - accuracy: 1.0000 - val_loss: 5.1907 - val_accuracy: 0.6186\n",
            "Epoch 97/100\n",
            "42/42 [==============================] - 1s 25ms/step - loss: 1.2051e-07 - accuracy: 1.0000 - val_loss: 5.2003 - val_accuracy: 0.6186\n",
            "Epoch 98/100\n",
            "42/42 [==============================] - 1s 32ms/step - loss: 1.1697e-07 - accuracy: 1.0000 - val_loss: 5.2122 - val_accuracy: 0.6201\n",
            "Epoch 99/100\n",
            "42/42 [==============================] - 1s 31ms/step - loss: 1.1321e-07 - accuracy: 1.0000 - val_loss: 5.2242 - val_accuracy: 0.6201\n",
            "Epoch 100/100\n",
            "42/42 [==============================] - 1s 26ms/step - loss: 1.1052e-07 - accuracy: 1.0000 - val_loss: 5.2357 - val_accuracy: 0.6201\n",
            "16/16 [==============================] - 1s 12ms/step\n",
            "F1 Score for Zero-Shot Dataset: 0.5290\n",
            "Dataset: One-Shot Dataset\n",
            "Epoch 1/100\n",
            "2/2 [==============================] - 9s 2s/step - loss: 0.6916 - accuracy: 0.4493 - val_loss: 0.6235 - val_accuracy: 0.8333\n",
            "Epoch 2/100\n",
            "2/2 [==============================] - 0s 225ms/step - loss: 0.6797 - accuracy: 0.5797 - val_loss: 0.5962 - val_accuracy: 0.8333\n",
            "Epoch 3/100\n",
            "2/2 [==============================] - 0s 226ms/step - loss: 0.6706 - accuracy: 0.5797 - val_loss: 0.6229 - val_accuracy: 0.8333\n",
            "Epoch 4/100\n",
            "2/2 [==============================] - 0s 223ms/step - loss: 0.6637 - accuracy: 0.5797 - val_loss: 0.6413 - val_accuracy: 0.8333\n",
            "Epoch 5/100\n",
            "2/2 [==============================] - 0s 159ms/step - loss: 0.6495 - accuracy: 0.5797 - val_loss: 0.6327 - val_accuracy: 0.8333\n",
            "Epoch 6/100\n",
            "2/2 [==============================] - 0s 155ms/step - loss: 0.6154 - accuracy: 0.6232 - val_loss: 0.5902 - val_accuracy: 0.8333\n",
            "Epoch 7/100\n",
            "2/2 [==============================] - 0s 156ms/step - loss: 0.5604 - accuracy: 0.6667 - val_loss: 0.5555 - val_accuracy: 0.8333\n",
            "Epoch 8/100\n",
            "2/2 [==============================] - 0s 151ms/step - loss: 0.4778 - accuracy: 0.7391 - val_loss: 0.5376 - val_accuracy: 0.8333\n",
            "Epoch 9/100\n",
            "2/2 [==============================] - 0s 71ms/step - loss: 0.3648 - accuracy: 0.8551 - val_loss: 0.5173 - val_accuracy: 0.8333\n",
            "Epoch 10/100\n",
            "2/2 [==============================] - 0s 154ms/step - loss: 0.3004 - accuracy: 0.8841 - val_loss: 0.5336 - val_accuracy: 0.7222\n",
            "Epoch 11/100\n",
            "2/2 [==============================] - 0s 155ms/step - loss: 0.1577 - accuracy: 0.9855 - val_loss: 0.6551 - val_accuracy: 0.6667\n",
            "Epoch 12/100\n",
            "2/2 [==============================] - 0s 154ms/step - loss: 0.0798 - accuracy: 1.0000 - val_loss: 0.5574 - val_accuracy: 0.7222\n",
            "Epoch 13/100\n",
            "2/2 [==============================] - 0s 151ms/step - loss: 0.0355 - accuracy: 1.0000 - val_loss: 0.5818 - val_accuracy: 0.6667\n",
            "Epoch 14/100\n",
            "2/2 [==============================] - 0s 157ms/step - loss: 0.0542 - accuracy: 1.0000 - val_loss: 1.0180 - val_accuracy: 0.6111\n",
            "Epoch 15/100\n",
            "2/2 [==============================] - 0s 156ms/step - loss: 0.0066 - accuracy: 1.0000 - val_loss: 1.5890 - val_accuracy: 0.4444\n",
            "Epoch 16/100\n",
            "2/2 [==============================] - 0s 152ms/step - loss: 0.0043 - accuracy: 1.0000 - val_loss: 2.1125 - val_accuracy: 0.3889\n",
            "Epoch 17/100\n",
            "2/2 [==============================] - 0s 155ms/step - loss: 0.0053 - accuracy: 1.0000 - val_loss: 2.3381 - val_accuracy: 0.4444\n",
            "Epoch 18/100\n",
            "2/2 [==============================] - 0s 67ms/step - loss: 0.0041 - accuracy: 1.0000 - val_loss: 2.2890 - val_accuracy: 0.4444\n",
            "Epoch 19/100\n",
            "2/2 [==============================] - 0s 65ms/step - loss: 0.0016 - accuracy: 1.0000 - val_loss: 2.1559 - val_accuracy: 0.4444\n",
            "Epoch 20/100\n",
            "2/2 [==============================] - 0s 160ms/step - loss: 7.5519e-04 - accuracy: 1.0000 - val_loss: 2.0085 - val_accuracy: 0.6111\n",
            "Epoch 21/100\n",
            "2/2 [==============================] - 0s 149ms/step - loss: 4.6352e-04 - accuracy: 1.0000 - val_loss: 1.8764 - val_accuracy: 0.6111\n",
            "Epoch 22/100\n",
            "2/2 [==============================] - 0s 62ms/step - loss: 3.2481e-04 - accuracy: 1.0000 - val_loss: 1.7651 - val_accuracy: 0.6667\n",
            "Epoch 23/100\n",
            "2/2 [==============================] - 0s 164ms/step - loss: 2.4984e-04 - accuracy: 1.0000 - val_loss: 1.6824 - val_accuracy: 0.6667\n",
            "Epoch 24/100\n",
            "2/2 [==============================] - 0s 161ms/step - loss: 2.0470e-04 - accuracy: 1.0000 - val_loss: 1.6237 - val_accuracy: 0.6667\n",
            "Epoch 25/100\n",
            "2/2 [==============================] - 0s 60ms/step - loss: 1.7400e-04 - accuracy: 1.0000 - val_loss: 1.5805 - val_accuracy: 0.6667\n",
            "Epoch 26/100\n",
            "2/2 [==============================] - 0s 60ms/step - loss: 1.5333e-04 - accuracy: 1.0000 - val_loss: 1.5450 - val_accuracy: 0.6667\n",
            "Epoch 27/100\n",
            "2/2 [==============================] - 0s 149ms/step - loss: 1.3886e-04 - accuracy: 1.0000 - val_loss: 1.5148 - val_accuracy: 0.6667\n",
            "Epoch 28/100\n",
            "2/2 [==============================] - 0s 152ms/step - loss: 1.2882e-04 - accuracy: 1.0000 - val_loss: 1.4972 - val_accuracy: 0.6667\n",
            "Epoch 29/100\n",
            "2/2 [==============================] - 0s 150ms/step - loss: 1.1983e-04 - accuracy: 1.0000 - val_loss: 1.4908 - val_accuracy: 0.6667\n",
            "Epoch 30/100\n",
            "2/2 [==============================] - 0s 60ms/step - loss: 1.1233e-04 - accuracy: 1.0000 - val_loss: 1.4865 - val_accuracy: 0.6667\n",
            "Epoch 31/100\n",
            "2/2 [==============================] - 0s 150ms/step - loss: 1.0625e-04 - accuracy: 1.0000 - val_loss: 1.4848 - val_accuracy: 0.6667\n",
            "Epoch 32/100\n",
            "2/2 [==============================] - 0s 59ms/step - loss: 1.0120e-04 - accuracy: 1.0000 - val_loss: 1.4851 - val_accuracy: 0.6667\n",
            "Epoch 33/100\n",
            "2/2 [==============================] - 0s 152ms/step - loss: 9.6940e-05 - accuracy: 1.0000 - val_loss: 1.4872 - val_accuracy: 0.6667\n",
            "Epoch 34/100\n",
            "2/2 [==============================] - 0s 60ms/step - loss: 9.3212e-05 - accuracy: 1.0000 - val_loss: 1.4907 - val_accuracy: 0.6667\n",
            "Epoch 35/100\n",
            "2/2 [==============================] - 0s 155ms/step - loss: 8.9927e-05 - accuracy: 1.0000 - val_loss: 1.4951 - val_accuracy: 0.6667\n",
            "Epoch 36/100\n",
            "2/2 [==============================] - 0s 148ms/step - loss: 8.6989e-05 - accuracy: 1.0000 - val_loss: 1.5002 - val_accuracy: 0.6667\n",
            "Epoch 37/100\n",
            "2/2 [==============================] - 0s 148ms/step - loss: 8.4352e-05 - accuracy: 1.0000 - val_loss: 1.5058 - val_accuracy: 0.6667\n",
            "Epoch 38/100\n",
            "2/2 [==============================] - 0s 149ms/step - loss: 8.1887e-05 - accuracy: 1.0000 - val_loss: 1.5121 - val_accuracy: 0.6667\n",
            "Epoch 39/100\n",
            "2/2 [==============================] - 0s 152ms/step - loss: 7.9616e-05 - accuracy: 1.0000 - val_loss: 1.5190 - val_accuracy: 0.6667\n",
            "Epoch 40/100\n",
            "2/2 [==============================] - 0s 151ms/step - loss: 7.7523e-05 - accuracy: 1.0000 - val_loss: 1.5262 - val_accuracy: 0.6667\n",
            "Epoch 41/100\n",
            "2/2 [==============================] - 0s 56ms/step - loss: 7.5530e-05 - accuracy: 1.0000 - val_loss: 1.5337 - val_accuracy: 0.6667\n",
            "Epoch 42/100\n",
            "2/2 [==============================] - 0s 63ms/step - loss: 7.3675e-05 - accuracy: 1.0000 - val_loss: 1.5413 - val_accuracy: 0.6667\n",
            "Epoch 43/100\n",
            "2/2 [==============================] - 0s 61ms/step - loss: 7.1941e-05 - accuracy: 1.0000 - val_loss: 1.5490 - val_accuracy: 0.6667\n",
            "Epoch 44/100\n",
            "2/2 [==============================] - 0s 158ms/step - loss: 7.0304e-05 - accuracy: 1.0000 - val_loss: 1.5567 - val_accuracy: 0.6667\n",
            "Epoch 45/100\n",
            "2/2 [==============================] - 0s 151ms/step - loss: 6.8760e-05 - accuracy: 1.0000 - val_loss: 1.5648 - val_accuracy: 0.6667\n",
            "Epoch 46/100\n",
            "2/2 [==============================] - 0s 153ms/step - loss: 6.7289e-05 - accuracy: 1.0000 - val_loss: 1.5730 - val_accuracy: 0.6667\n",
            "Epoch 47/100\n",
            "2/2 [==============================] - 0s 71ms/step - loss: 6.5886e-05 - accuracy: 1.0000 - val_loss: 1.5813 - val_accuracy: 0.6667\n",
            "Epoch 48/100\n",
            "2/2 [==============================] - 0s 151ms/step - loss: 6.4551e-05 - accuracy: 1.0000 - val_loss: 1.5898 - val_accuracy: 0.6667\n",
            "Epoch 49/100\n",
            "2/2 [==============================] - 0s 58ms/step - loss: 6.3259e-05 - accuracy: 1.0000 - val_loss: 1.5982 - val_accuracy: 0.6667\n",
            "Epoch 50/100\n",
            "2/2 [==============================] - 0s 166ms/step - loss: 6.2044e-05 - accuracy: 1.0000 - val_loss: 1.6063 - val_accuracy: 0.6667\n",
            "Epoch 51/100\n",
            "2/2 [==============================] - 0s 170ms/step - loss: 6.0871e-05 - accuracy: 1.0000 - val_loss: 1.6141 - val_accuracy: 0.6667\n",
            "Epoch 52/100\n",
            "2/2 [==============================] - 0s 76ms/step - loss: 5.9743e-05 - accuracy: 1.0000 - val_loss: 1.6218 - val_accuracy: 0.6667\n",
            "Epoch 53/100\n",
            "2/2 [==============================] - 0s 230ms/step - loss: 5.8664e-05 - accuracy: 1.0000 - val_loss: 1.6294 - val_accuracy: 0.6667\n",
            "Epoch 54/100\n",
            "2/2 [==============================] - 0s 81ms/step - loss: 5.7479e-05 - accuracy: 1.0000 - val_loss: 1.6445 - val_accuracy: 0.6667\n",
            "Epoch 55/100\n",
            "2/2 [==============================] - 0s 232ms/step - loss: 5.6315e-05 - accuracy: 1.0000 - val_loss: 1.6660 - val_accuracy: 0.6667\n",
            "Epoch 56/100\n",
            "2/2 [==============================] - 0s 73ms/step - loss: 5.4887e-05 - accuracy: 1.0000 - val_loss: 1.6834 - val_accuracy: 0.6667\n",
            "Epoch 57/100\n",
            "2/2 [==============================] - 0s 82ms/step - loss: 5.3578e-05 - accuracy: 1.0000 - val_loss: 1.6978 - val_accuracy: 0.6667\n",
            "Epoch 58/100\n",
            "2/2 [==============================] - 0s 88ms/step - loss: 5.2415e-05 - accuracy: 1.0000 - val_loss: 1.7100 - val_accuracy: 0.6667\n",
            "Epoch 59/100\n",
            "2/2 [==============================] - 0s 245ms/step - loss: 5.1315e-05 - accuracy: 1.0000 - val_loss: 1.7205 - val_accuracy: 0.6667\n",
            "Epoch 60/100\n",
            "2/2 [==============================] - 0s 232ms/step - loss: 5.0298e-05 - accuracy: 1.0000 - val_loss: 1.7299 - val_accuracy: 0.6667\n",
            "Epoch 61/100\n",
            "2/2 [==============================] - 0s 242ms/step - loss: 4.9349e-05 - accuracy: 1.0000 - val_loss: 1.7383 - val_accuracy: 0.6667\n",
            "Epoch 62/100\n",
            "2/2 [==============================] - 0s 222ms/step - loss: 4.8474e-05 - accuracy: 1.0000 - val_loss: 1.7458 - val_accuracy: 0.6667\n",
            "Epoch 63/100\n",
            "2/2 [==============================] - 0s 230ms/step - loss: 4.7641e-05 - accuracy: 1.0000 - val_loss: 1.7526 - val_accuracy: 0.6667\n",
            "Epoch 64/100\n",
            "2/2 [==============================] - 0s 163ms/step - loss: 4.6843e-05 - accuracy: 1.0000 - val_loss: 1.7587 - val_accuracy: 0.6667\n",
            "Epoch 65/100\n",
            "2/2 [==============================] - 0s 63ms/step - loss: 4.6100e-05 - accuracy: 1.0000 - val_loss: 1.7641 - val_accuracy: 0.6667\n",
            "Epoch 66/100\n",
            "2/2 [==============================] - 0s 157ms/step - loss: 4.5404e-05 - accuracy: 1.0000 - val_loss: 1.7690 - val_accuracy: 0.6667\n",
            "Epoch 67/100\n",
            "2/2 [==============================] - 0s 61ms/step - loss: 4.4708e-05 - accuracy: 1.0000 - val_loss: 1.7737 - val_accuracy: 0.6667\n",
            "Epoch 68/100\n",
            "2/2 [==============================] - 0s 63ms/step - loss: 4.4048e-05 - accuracy: 1.0000 - val_loss: 1.7780 - val_accuracy: 0.6667\n",
            "Epoch 69/100\n",
            "2/2 [==============================] - 0s 159ms/step - loss: 4.3386e-05 - accuracy: 1.0000 - val_loss: 1.7810 - val_accuracy: 0.6667\n",
            "Epoch 70/100\n",
            "2/2 [==============================] - 0s 66ms/step - loss: 4.2763e-05 - accuracy: 1.0000 - val_loss: 1.7831 - val_accuracy: 0.6667\n",
            "Epoch 71/100\n",
            "2/2 [==============================] - 0s 62ms/step - loss: 4.2127e-05 - accuracy: 1.0000 - val_loss: 1.7854 - val_accuracy: 0.6667\n",
            "Epoch 72/100\n",
            "2/2 [==============================] - 0s 151ms/step - loss: 4.1527e-05 - accuracy: 1.0000 - val_loss: 1.7879 - val_accuracy: 0.6667\n",
            "Epoch 73/100\n",
            "2/2 [==============================] - 0s 153ms/step - loss: 4.0947e-05 - accuracy: 1.0000 - val_loss: 1.7904 - val_accuracy: 0.6667\n",
            "Epoch 74/100\n",
            "2/2 [==============================] - 0s 57ms/step - loss: 4.0379e-05 - accuracy: 1.0000 - val_loss: 1.7929 - val_accuracy: 0.6667\n",
            "Epoch 75/100\n",
            "2/2 [==============================] - 0s 60ms/step - loss: 3.9822e-05 - accuracy: 1.0000 - val_loss: 1.7950 - val_accuracy: 0.6667\n",
            "Epoch 76/100\n",
            "2/2 [==============================] - 0s 165ms/step - loss: 3.9289e-05 - accuracy: 1.0000 - val_loss: 1.7968 - val_accuracy: 0.6667\n",
            "Epoch 77/100\n",
            "2/2 [==============================] - 0s 58ms/step - loss: 3.8760e-05 - accuracy: 1.0000 - val_loss: 1.7990 - val_accuracy: 0.6667\n",
            "Epoch 78/100\n",
            "2/2 [==============================] - 0s 56ms/step - loss: 3.8243e-05 - accuracy: 1.0000 - val_loss: 1.8017 - val_accuracy: 0.6667\n",
            "Epoch 79/100\n",
            "2/2 [==============================] - 0s 56ms/step - loss: 3.7742e-05 - accuracy: 1.0000 - val_loss: 1.8047 - val_accuracy: 0.6667\n",
            "Epoch 80/100\n",
            "2/2 [==============================] - 0s 54ms/step - loss: 3.7254e-05 - accuracy: 1.0000 - val_loss: 1.8081 - val_accuracy: 0.6667\n",
            "Epoch 81/100\n",
            "2/2 [==============================] - 0s 154ms/step - loss: 3.6765e-05 - accuracy: 1.0000 - val_loss: 1.8118 - val_accuracy: 0.6667\n",
            "Epoch 82/100\n",
            "2/2 [==============================] - 0s 55ms/step - loss: 3.6286e-05 - accuracy: 1.0000 - val_loss: 1.8156 - val_accuracy: 0.6667\n",
            "Epoch 83/100\n",
            "2/2 [==============================] - 0s 156ms/step - loss: 3.5789e-05 - accuracy: 1.0000 - val_loss: 1.8238 - val_accuracy: 0.6667\n",
            "Epoch 84/100\n",
            "2/2 [==============================] - 0s 56ms/step - loss: 3.5276e-05 - accuracy: 1.0000 - val_loss: 1.8356 - val_accuracy: 0.6667\n",
            "Epoch 85/100\n",
            "2/2 [==============================] - 0s 153ms/step - loss: 3.4697e-05 - accuracy: 1.0000 - val_loss: 1.8457 - val_accuracy: 0.6667\n",
            "Epoch 86/100\n",
            "2/2 [==============================] - 0s 57ms/step - loss: 3.4160e-05 - accuracy: 1.0000 - val_loss: 1.8545 - val_accuracy: 0.6667\n",
            "Epoch 87/100\n",
            "2/2 [==============================] - 0s 149ms/step - loss: 3.3673e-05 - accuracy: 1.0000 - val_loss: 1.8616 - val_accuracy: 0.6667\n",
            "Epoch 88/100\n",
            "2/2 [==============================] - 0s 162ms/step - loss: 3.3218e-05 - accuracy: 1.0000 - val_loss: 1.8673 - val_accuracy: 0.6667\n",
            "Epoch 89/100\n",
            "2/2 [==============================] - 0s 53ms/step - loss: 3.2764e-05 - accuracy: 1.0000 - val_loss: 1.8729 - val_accuracy: 0.6667\n",
            "Epoch 90/100\n",
            "2/2 [==============================] - 0s 57ms/step - loss: 3.2330e-05 - accuracy: 1.0000 - val_loss: 1.8778 - val_accuracy: 0.6667\n",
            "Epoch 91/100\n",
            "2/2 [==============================] - 0s 57ms/step - loss: 3.1919e-05 - accuracy: 1.0000 - val_loss: 1.8823 - val_accuracy: 0.6667\n",
            "Epoch 92/100\n",
            "2/2 [==============================] - 0s 57ms/step - loss: 3.1508e-05 - accuracy: 1.0000 - val_loss: 1.8868 - val_accuracy: 0.6667\n",
            "Epoch 93/100\n",
            "2/2 [==============================] - 0s 57ms/step - loss: 3.1116e-05 - accuracy: 1.0000 - val_loss: 1.8911 - val_accuracy: 0.6667\n",
            "Epoch 94/100\n",
            "2/2 [==============================] - 0s 56ms/step - loss: 3.0741e-05 - accuracy: 1.0000 - val_loss: 1.8951 - val_accuracy: 0.6667\n",
            "Epoch 95/100\n",
            "2/2 [==============================] - 0s 56ms/step - loss: 3.0389e-05 - accuracy: 1.0000 - val_loss: 1.8987 - val_accuracy: 0.6667\n",
            "Epoch 96/100\n",
            "2/2 [==============================] - 0s 52ms/step - loss: 3.0036e-05 - accuracy: 1.0000 - val_loss: 1.9020 - val_accuracy: 0.6667\n",
            "Epoch 97/100\n",
            "2/2 [==============================] - 0s 51ms/step - loss: 2.9703e-05 - accuracy: 1.0000 - val_loss: 1.9053 - val_accuracy: 0.6667\n",
            "Epoch 98/100\n",
            "2/2 [==============================] - 0s 156ms/step - loss: 2.9369e-05 - accuracy: 1.0000 - val_loss: 1.9082 - val_accuracy: 0.6667\n",
            "Epoch 99/100\n",
            "2/2 [==============================] - 0s 70ms/step - loss: 2.9060e-05 - accuracy: 1.0000 - val_loss: 1.9110 - val_accuracy: 0.6667\n",
            "Epoch 100/100\n",
            "2/2 [==============================] - 0s 68ms/step - loss: 2.8740e-05 - accuracy: 1.0000 - val_loss: 1.9140 - val_accuracy: 0.6667\n",
            "16/16 [==============================] - 1s 11ms/step\n",
            "F1 Score for One-Shot Dataset: 0.5247\n",
            "Dataset: Dev Dataset\n",
            "Epoch 1/100\n",
            "6/6 [==============================] - 9s 397ms/step - loss: 0.6793 - accuracy: 0.5860 - val_loss: 0.6410 - val_accuracy: 0.6702\n",
            "Epoch 2/100\n",
            "6/6 [==============================] - 1s 135ms/step - loss: 0.6653 - accuracy: 0.5941 - val_loss: 0.6606 - val_accuracy: 0.6489\n",
            "Epoch 3/100\n",
            "6/6 [==============================] - 1s 116ms/step - loss: 0.5660 - accuracy: 0.7661 - val_loss: 0.6385 - val_accuracy: 0.6596\n",
            "Epoch 4/100\n",
            "6/6 [==============================] - 1s 113ms/step - loss: 0.2528 - accuracy: 0.9597 - val_loss: 0.9532 - val_accuracy: 0.6170\n",
            "Epoch 5/100\n",
            "6/6 [==============================] - 1s 137ms/step - loss: 0.0574 - accuracy: 0.9866 - val_loss: 1.7257 - val_accuracy: 0.6277\n",
            "Epoch 6/100\n",
            "6/6 [==============================] - 1s 97ms/step - loss: 0.0261 - accuracy: 0.9946 - val_loss: 1.8228 - val_accuracy: 0.5957\n",
            "Epoch 7/100\n",
            "6/6 [==============================] - 1s 111ms/step - loss: 0.0029 - accuracy: 1.0000 - val_loss: 2.5478 - val_accuracy: 0.5638\n",
            "Epoch 8/100\n",
            "6/6 [==============================] - 1s 95ms/step - loss: 0.0013 - accuracy: 1.0000 - val_loss: 3.0064 - val_accuracy: 0.5532\n",
            "Epoch 9/100\n",
            "6/6 [==============================] - 1s 93ms/step - loss: 4.4912e-04 - accuracy: 1.0000 - val_loss: 3.4384 - val_accuracy: 0.5532\n",
            "Epoch 10/100\n",
            "6/6 [==============================] - 1s 140ms/step - loss: 1.7933e-04 - accuracy: 1.0000 - val_loss: 3.6333 - val_accuracy: 0.5638\n",
            "Epoch 11/100\n",
            "6/6 [==============================] - 1s 194ms/step - loss: 1.0020e-04 - accuracy: 1.0000 - val_loss: 3.7427 - val_accuracy: 0.5638\n",
            "Epoch 12/100\n",
            "6/6 [==============================] - 1s 146ms/step - loss: 6.8552e-05 - accuracy: 1.0000 - val_loss: 3.8136 - val_accuracy: 0.5638\n",
            "Epoch 13/100\n",
            "6/6 [==============================] - 1s 156ms/step - loss: 5.3429e-05 - accuracy: 1.0000 - val_loss: 3.8603 - val_accuracy: 0.5638\n",
            "Epoch 14/100\n",
            "6/6 [==============================] - 1s 137ms/step - loss: 4.5434e-05 - accuracy: 1.0000 - val_loss: 3.8930 - val_accuracy: 0.5638\n",
            "Epoch 15/100\n",
            "6/6 [==============================] - 1s 130ms/step - loss: 4.0139e-05 - accuracy: 1.0000 - val_loss: 3.9172 - val_accuracy: 0.5638\n",
            "Epoch 16/100\n",
            "6/6 [==============================] - 1s 96ms/step - loss: 3.6728e-05 - accuracy: 1.0000 - val_loss: 3.9365 - val_accuracy: 0.5638\n",
            "Epoch 17/100\n",
            "6/6 [==============================] - 1s 82ms/step - loss: 3.4033e-05 - accuracy: 1.0000 - val_loss: 3.9532 - val_accuracy: 0.5638\n",
            "Epoch 18/100\n",
            "6/6 [==============================] - 1s 91ms/step - loss: 3.1987e-05 - accuracy: 1.0000 - val_loss: 3.9683 - val_accuracy: 0.5638\n",
            "Epoch 19/100\n",
            "6/6 [==============================] - 0s 71ms/step - loss: 3.0176e-05 - accuracy: 1.0000 - val_loss: 3.9825 - val_accuracy: 0.5638\n",
            "Epoch 20/100\n",
            "6/6 [==============================] - 0s 92ms/step - loss: 2.8576e-05 - accuracy: 1.0000 - val_loss: 3.9962 - val_accuracy: 0.5638\n",
            "Epoch 21/100\n",
            "6/6 [==============================] - 0s 79ms/step - loss: 2.7197e-05 - accuracy: 1.0000 - val_loss: 4.0096 - val_accuracy: 0.5638\n",
            "Epoch 22/100\n",
            "6/6 [==============================] - 1s 109ms/step - loss: 2.5923e-05 - accuracy: 1.0000 - val_loss: 4.0225 - val_accuracy: 0.5638\n",
            "Epoch 23/100\n",
            "6/6 [==============================] - 1s 112ms/step - loss: 2.4697e-05 - accuracy: 1.0000 - val_loss: 4.0356 - val_accuracy: 0.5638\n",
            "Epoch 24/100\n",
            "6/6 [==============================] - 1s 100ms/step - loss: 2.3599e-05 - accuracy: 1.0000 - val_loss: 4.0481 - val_accuracy: 0.5638\n",
            "Epoch 25/100\n",
            "6/6 [==============================] - 1s 84ms/step - loss: 2.2606e-05 - accuracy: 1.0000 - val_loss: 4.0606 - val_accuracy: 0.5638\n",
            "Epoch 26/100\n",
            "6/6 [==============================] - 0s 79ms/step - loss: 2.1612e-05 - accuracy: 1.0000 - val_loss: 4.0732 - val_accuracy: 0.5638\n",
            "Epoch 27/100\n",
            "6/6 [==============================] - 0s 58ms/step - loss: 2.0720e-05 - accuracy: 1.0000 - val_loss: 4.0854 - val_accuracy: 0.5638\n",
            "Epoch 28/100\n",
            "6/6 [==============================] - 0s 86ms/step - loss: 1.9861e-05 - accuracy: 1.0000 - val_loss: 4.0976 - val_accuracy: 0.5638\n",
            "Epoch 29/100\n",
            "6/6 [==============================] - 1s 107ms/step - loss: 1.9073e-05 - accuracy: 1.0000 - val_loss: 4.1096 - val_accuracy: 0.5638\n",
            "Epoch 30/100\n",
            "6/6 [==============================] - 0s 68ms/step - loss: 1.8321e-05 - accuracy: 1.0000 - val_loss: 4.1214 - val_accuracy: 0.5638\n",
            "Epoch 31/100\n",
            "6/6 [==============================] - 0s 29ms/step - loss: 1.7623e-05 - accuracy: 1.0000 - val_loss: 4.1331 - val_accuracy: 0.5638\n",
            "Epoch 32/100\n",
            "6/6 [==============================] - 1s 107ms/step - loss: 1.6959e-05 - accuracy: 1.0000 - val_loss: 4.1447 - val_accuracy: 0.5638\n",
            "Epoch 33/100\n",
            "6/6 [==============================] - 1s 124ms/step - loss: 1.6329e-05 - accuracy: 1.0000 - val_loss: 4.1563 - val_accuracy: 0.5638\n",
            "Epoch 34/100\n",
            "6/6 [==============================] - 1s 103ms/step - loss: 1.5732e-05 - accuracy: 1.0000 - val_loss: 4.1675 - val_accuracy: 0.5638\n",
            "Epoch 35/100\n",
            "6/6 [==============================] - 1s 108ms/step - loss: 1.5174e-05 - accuracy: 1.0000 - val_loss: 4.1788 - val_accuracy: 0.5638\n",
            "Epoch 36/100\n",
            "6/6 [==============================] - 1s 136ms/step - loss: 1.4639e-05 - accuracy: 1.0000 - val_loss: 4.1899 - val_accuracy: 0.5638\n",
            "Epoch 37/100\n",
            "6/6 [==============================] - 1s 69ms/step - loss: 1.4131e-05 - accuracy: 1.0000 - val_loss: 4.2008 - val_accuracy: 0.5638\n",
            "Epoch 38/100\n",
            "6/6 [==============================] - 0s 54ms/step - loss: 1.3653e-05 - accuracy: 1.0000 - val_loss: 4.2117 - val_accuracy: 0.5638\n",
            "Epoch 39/100\n",
            "6/6 [==============================] - 0s 67ms/step - loss: 1.3199e-05 - accuracy: 1.0000 - val_loss: 4.2226 - val_accuracy: 0.5638\n",
            "Epoch 40/100\n",
            "6/6 [==============================] - 0s 87ms/step - loss: 1.2766e-05 - accuracy: 1.0000 - val_loss: 4.2333 - val_accuracy: 0.5638\n",
            "Epoch 41/100\n",
            "6/6 [==============================] - 1s 104ms/step - loss: 1.2351e-05 - accuracy: 1.0000 - val_loss: 4.2438 - val_accuracy: 0.5638\n",
            "Epoch 42/100\n",
            "6/6 [==============================] - 0s 50ms/step - loss: 1.1961e-05 - accuracy: 1.0000 - val_loss: 4.2543 - val_accuracy: 0.5638\n",
            "Epoch 43/100\n",
            "6/6 [==============================] - 0s 49ms/step - loss: 1.1602e-05 - accuracy: 1.0000 - val_loss: 4.2647 - val_accuracy: 0.5638\n",
            "Epoch 44/100\n",
            "6/6 [==============================] - 0s 69ms/step - loss: 1.1236e-05 - accuracy: 1.0000 - val_loss: 4.2749 - val_accuracy: 0.5638\n",
            "Epoch 45/100\n",
            "6/6 [==============================] - 0s 51ms/step - loss: 1.0895e-05 - accuracy: 1.0000 - val_loss: 4.2851 - val_accuracy: 0.5638\n",
            "Epoch 46/100\n",
            "6/6 [==============================] - 0s 67ms/step - loss: 1.0575e-05 - accuracy: 1.0000 - val_loss: 4.2952 - val_accuracy: 0.5638\n",
            "Epoch 47/100\n",
            "6/6 [==============================] - 0s 49ms/step - loss: 1.0256e-05 - accuracy: 1.0000 - val_loss: 4.3051 - val_accuracy: 0.5638\n",
            "Epoch 48/100\n",
            "6/6 [==============================] - 0s 50ms/step - loss: 9.9667e-06 - accuracy: 1.0000 - val_loss: 4.3151 - val_accuracy: 0.5638\n",
            "Epoch 49/100\n",
            "6/6 [==============================] - 0s 67ms/step - loss: 9.6777e-06 - accuracy: 1.0000 - val_loss: 4.3249 - val_accuracy: 0.5638\n",
            "Epoch 50/100\n",
            "6/6 [==============================] - 0s 28ms/step - loss: 9.4062e-06 - accuracy: 1.0000 - val_loss: 4.3346 - val_accuracy: 0.5638\n",
            "Epoch 51/100\n",
            "6/6 [==============================] - 0s 68ms/step - loss: 9.1425e-06 - accuracy: 1.0000 - val_loss: 4.3443 - val_accuracy: 0.5638\n",
            "Epoch 52/100\n",
            "6/6 [==============================] - 0s 47ms/step - loss: 8.8916e-06 - accuracy: 1.0000 - val_loss: 4.3538 - val_accuracy: 0.5638\n",
            "Epoch 53/100\n",
            "6/6 [==============================] - 0s 68ms/step - loss: 8.6506e-06 - accuracy: 1.0000 - val_loss: 4.3632 - val_accuracy: 0.5638\n",
            "Epoch 54/100\n",
            "6/6 [==============================] - 0s 50ms/step - loss: 8.4234e-06 - accuracy: 1.0000 - val_loss: 4.3725 - val_accuracy: 0.5638\n",
            "Epoch 55/100\n",
            "6/6 [==============================] - 0s 47ms/step - loss: 8.1959e-06 - accuracy: 1.0000 - val_loss: 4.3817 - val_accuracy: 0.5638\n",
            "Epoch 56/100\n",
            "6/6 [==============================] - 0s 47ms/step - loss: 7.9879e-06 - accuracy: 1.0000 - val_loss: 4.3908 - val_accuracy: 0.5638\n",
            "Epoch 57/100\n",
            "6/6 [==============================] - 0s 48ms/step - loss: 7.7735e-06 - accuracy: 1.0000 - val_loss: 4.3998 - val_accuracy: 0.5638\n",
            "Epoch 58/100\n",
            "6/6 [==============================] - 0s 70ms/step - loss: 7.5790e-06 - accuracy: 1.0000 - val_loss: 4.4089 - val_accuracy: 0.5638\n",
            "Epoch 59/100\n",
            "6/6 [==============================] - 0s 28ms/step - loss: 7.3826e-06 - accuracy: 1.0000 - val_loss: 4.4180 - val_accuracy: 0.5638\n",
            "Epoch 60/100\n",
            "6/6 [==============================] - 0s 27ms/step - loss: 7.2076e-06 - accuracy: 1.0000 - val_loss: 4.4268 - val_accuracy: 0.5638\n",
            "Epoch 61/100\n",
            "6/6 [==============================] - 0s 65ms/step - loss: 7.0205e-06 - accuracy: 1.0000 - val_loss: 4.4355 - val_accuracy: 0.5638\n",
            "Epoch 62/100\n",
            "6/6 [==============================] - 0s 48ms/step - loss: 6.8599e-06 - accuracy: 1.0000 - val_loss: 4.4441 - val_accuracy: 0.5638\n",
            "Epoch 63/100\n",
            "6/6 [==============================] - 0s 27ms/step - loss: 6.6907e-06 - accuracy: 1.0000 - val_loss: 4.4528 - val_accuracy: 0.5638\n",
            "Epoch 64/100\n",
            "6/6 [==============================] - 0s 47ms/step - loss: 6.5273e-06 - accuracy: 1.0000 - val_loss: 4.4612 - val_accuracy: 0.5638\n",
            "Epoch 65/100\n",
            "6/6 [==============================] - 0s 47ms/step - loss: 6.3786e-06 - accuracy: 1.0000 - val_loss: 4.4697 - val_accuracy: 0.5638\n",
            "Epoch 66/100\n",
            "6/6 [==============================] - 0s 48ms/step - loss: 6.2264e-06 - accuracy: 1.0000 - val_loss: 4.4781 - val_accuracy: 0.5638\n",
            "Epoch 67/100\n",
            "6/6 [==============================] - 0s 67ms/step - loss: 6.0861e-06 - accuracy: 1.0000 - val_loss: 4.4864 - val_accuracy: 0.5638\n",
            "Epoch 68/100\n",
            "6/6 [==============================] - 0s 46ms/step - loss: 5.9415e-06 - accuracy: 1.0000 - val_loss: 4.4946 - val_accuracy: 0.5638\n",
            "Epoch 69/100\n",
            "6/6 [==============================] - 0s 76ms/step - loss: 5.8095e-06 - accuracy: 1.0000 - val_loss: 4.5029 - val_accuracy: 0.5638\n",
            "Epoch 70/100\n",
            "6/6 [==============================] - 0s 68ms/step - loss: 5.6800e-06 - accuracy: 1.0000 - val_loss: 4.5109 - val_accuracy: 0.5638\n",
            "Epoch 71/100\n",
            "6/6 [==============================] - 0s 65ms/step - loss: 5.5525e-06 - accuracy: 1.0000 - val_loss: 4.5189 - val_accuracy: 0.5638\n",
            "Epoch 72/100\n",
            "6/6 [==============================] - 0s 71ms/step - loss: 5.4323e-06 - accuracy: 1.0000 - val_loss: 4.5268 - val_accuracy: 0.5638\n",
            "Epoch 73/100\n",
            "6/6 [==============================] - 0s 72ms/step - loss: 5.3157e-06 - accuracy: 1.0000 - val_loss: 4.5348 - val_accuracy: 0.5638\n",
            "Epoch 74/100\n",
            "6/6 [==============================] - 0s 44ms/step - loss: 5.1997e-06 - accuracy: 1.0000 - val_loss: 4.5426 - val_accuracy: 0.5638\n",
            "Epoch 75/100\n",
            "6/6 [==============================] - 0s 72ms/step - loss: 5.0894e-06 - accuracy: 1.0000 - val_loss: 4.5503 - val_accuracy: 0.5638\n",
            "Epoch 76/100\n",
            "6/6 [==============================] - 1s 98ms/step - loss: 4.9856e-06 - accuracy: 1.0000 - val_loss: 4.5580 - val_accuracy: 0.5638\n",
            "Epoch 77/100\n",
            "6/6 [==============================] - 0s 53ms/step - loss: 4.8808e-06 - accuracy: 1.0000 - val_loss: 4.5657 - val_accuracy: 0.5638\n",
            "Epoch 78/100\n",
            "6/6 [==============================] - 0s 30ms/step - loss: 4.7776e-06 - accuracy: 1.0000 - val_loss: 4.5733 - val_accuracy: 0.5638\n",
            "Epoch 79/100\n",
            "6/6 [==============================] - 0s 65ms/step - loss: 4.6783e-06 - accuracy: 1.0000 - val_loss: 4.5809 - val_accuracy: 0.5638\n",
            "Epoch 80/100\n",
            "6/6 [==============================] - 0s 47ms/step - loss: 4.5825e-06 - accuracy: 1.0000 - val_loss: 4.5884 - val_accuracy: 0.5638\n",
            "Epoch 81/100\n",
            "6/6 [==============================] - 0s 48ms/step - loss: 4.4937e-06 - accuracy: 1.0000 - val_loss: 4.5959 - val_accuracy: 0.5638\n",
            "Epoch 82/100\n",
            "6/6 [==============================] - 0s 28ms/step - loss: 4.4034e-06 - accuracy: 1.0000 - val_loss: 4.6031 - val_accuracy: 0.5638\n",
            "Epoch 83/100\n",
            "6/6 [==============================] - 0s 47ms/step - loss: 4.3213e-06 - accuracy: 1.0000 - val_loss: 4.6104 - val_accuracy: 0.5638\n",
            "Epoch 84/100\n",
            "6/6 [==============================] - 0s 28ms/step - loss: 4.2306e-06 - accuracy: 1.0000 - val_loss: 4.6176 - val_accuracy: 0.5638\n",
            "Epoch 85/100\n",
            "6/6 [==============================] - 0s 47ms/step - loss: 4.1521e-06 - accuracy: 1.0000 - val_loss: 4.6248 - val_accuracy: 0.5638\n",
            "Epoch 86/100\n",
            "6/6 [==============================] - 0s 48ms/step - loss: 4.0688e-06 - accuracy: 1.0000 - val_loss: 4.6319 - val_accuracy: 0.5745\n",
            "Epoch 87/100\n",
            "6/6 [==============================] - 0s 27ms/step - loss: 3.9929e-06 - accuracy: 1.0000 - val_loss: 4.6390 - val_accuracy: 0.5745\n",
            "Epoch 88/100\n",
            "6/6 [==============================] - 0s 49ms/step - loss: 3.9166e-06 - accuracy: 1.0000 - val_loss: 4.6461 - val_accuracy: 0.5745\n",
            "Epoch 89/100\n",
            "6/6 [==============================] - 0s 53ms/step - loss: 3.8438e-06 - accuracy: 1.0000 - val_loss: 4.6530 - val_accuracy: 0.5745\n",
            "Epoch 90/100\n",
            "6/6 [==============================] - 0s 89ms/step - loss: 3.7705e-06 - accuracy: 1.0000 - val_loss: 4.6600 - val_accuracy: 0.5745\n",
            "Epoch 91/100\n",
            "6/6 [==============================] - 0s 51ms/step - loss: 3.7006e-06 - accuracy: 1.0000 - val_loss: 4.6668 - val_accuracy: 0.5745\n",
            "Epoch 92/100\n",
            "6/6 [==============================] - 0s 45ms/step - loss: 3.6356e-06 - accuracy: 1.0000 - val_loss: 4.6736 - val_accuracy: 0.5745\n",
            "Epoch 93/100\n",
            "6/6 [==============================] - 0s 30ms/step - loss: 3.5676e-06 - accuracy: 1.0000 - val_loss: 4.6804 - val_accuracy: 0.5745\n",
            "Epoch 94/100\n",
            "6/6 [==============================] - 0s 67ms/step - loss: 3.5045e-06 - accuracy: 1.0000 - val_loss: 4.6871 - val_accuracy: 0.5745\n",
            "Epoch 95/100\n",
            "6/6 [==============================] - 0s 67ms/step - loss: 3.4420e-06 - accuracy: 1.0000 - val_loss: 4.6937 - val_accuracy: 0.5745\n",
            "Epoch 96/100\n",
            "6/6 [==============================] - 0s 47ms/step - loss: 3.3850e-06 - accuracy: 1.0000 - val_loss: 4.7002 - val_accuracy: 0.5745\n",
            "Epoch 97/100\n",
            "6/6 [==============================] - 0s 27ms/step - loss: 3.3212e-06 - accuracy: 1.0000 - val_loss: 4.7069 - val_accuracy: 0.5745\n",
            "Epoch 98/100\n",
            "6/6 [==============================] - 0s 28ms/step - loss: 3.2629e-06 - accuracy: 1.0000 - val_loss: 4.7134 - val_accuracy: 0.5745\n",
            "Epoch 99/100\n",
            "6/6 [==============================] - 0s 69ms/step - loss: 3.2090e-06 - accuracy: 1.0000 - val_loss: 4.7198 - val_accuracy: 0.5745\n",
            "Epoch 100/100\n",
            "6/6 [==============================] - 0s 47ms/step - loss: 3.1491e-06 - accuracy: 1.0000 - val_loss: 4.7263 - val_accuracy: 0.5745\n",
            "16/16 [==============================] - 1s 12ms/step\n",
            "F1 Score for Dev Dataset: 0.5569\n"
          ]
        }
      ]
    },
    {
      "cell_type": "markdown",
      "source": [
        "# 3.14\tXGBoost Classifier:"
      ],
      "metadata": {
        "id": "BIlk6vxy5cJ_"
      }
    },
    {
      "cell_type": "code",
      "source": [
        "import xgboost as xgb\n",
        "from sklearn.model_selection import GridSearchCV\n",
        "from sklearn.metrics import f1_score\n",
        "import warnings\n",
        "\n",
        "# Define a function to train and evaluate an XGBoost classifier\n",
        "def train_and_evaluate_xgboost(X_train, y_train, X_test, y_test, dataset_name):\n",
        "    print(f\"Dataset: {dataset_name}\")\n",
        "\n",
        "    # Create a TF-IDF vectorizer with a specified maximum number of features\n",
        "    tfidf_vectorizer = TfidfVectorizer(max_features=5000)\n",
        "\n",
        "    # Transform the training and test text data into TF-IDF feature vectors\n",
        "    X_train_tfidf = tfidf_vectorizer.fit_transform(X_train)\n",
        "    X_test_tfidf = tfidf_vectorizer.transform(X_test)\n",
        "\n",
        "    # Use a warning filter to ignore FutureWarnings from XGBoost during grid search\n",
        "    #The purpose of this code is to manage warnings selectively by filtering out and suppressing FutureWarning messages raised by the XGBoost library.\n",
        "    #This allows the code inside this context block to execute without displaying or outputting these particular warnings to the console or logs.\n",
        "    with warnings.catch_warnings():\n",
        "        warnings.filterwarnings(\"ignore\", category=FutureWarning)\n",
        "\n",
        "        # Define a grid of hyperparameters for the XGBoost classifier\n",
        "        param_grid = {\n",
        "            'learning_rate': [0.01, 0.1, 0.2], #'learning_rate': The grid includes small values like 0.01, higher values like 0.1,\n",
        "                                              #and a moderately higher value of 0.2 to explore the impact of different learning rates on the model's performance.\n",
        "            'max_depth': [3, 4, 5], #max_depth': The grid contains shallow trees with depths of 3 and 4, and a slightly deeper tree with a depth of 5 to analyze the effect of tree depth on model performance\n",
        "            'n_estimators': [50, 100, 200] #'n_estimators': The grid spans different numbers of estimators: 50, 100, and 200, to assess how the number of trees affects the model's predictive capability.\n",
        "        }\n",
        "\n",
        "        # Create a grid search with cross-validation to find the best hyperparameters\n",
        "        grid_search = GridSearchCV(xgb.XGBClassifier(random_state=42), param_grid, cv=5, scoring='f1_macro') #cv=5 means the data will be split into 5 folds or partitions.\n",
        "                                                                                                             #The model will train on 4 folds and validate on the remaining fold in each iteration.\n",
        "\n",
        "        # Fit the grid search to the training data to find the best model\n",
        "        grid_search.fit(X_train_tfidf, y_train)\n",
        "\n",
        "        # Get the best model from the grid search\n",
        "        best_model = grid_search.best_estimator_\n",
        "\n",
        "        # Make predictions on the test data using the best model\n",
        "        y_pred = best_model.predict(X_test_tfidf)\n",
        "\n",
        "        # Calculate and print the F1 score for the test predictions\n",
        "        f1 = f1_score(y_test, y_pred, average='macro')\n",
        "\n",
        "        print(f\"F1 Score for {dataset_name}: {f1:.4f}\")\n",
        "\n",
        "# Call the function for each dataset\n",
        "train_and_evaluate_xgboost(train_data_few_shot['sentence1'], train_data_few_shot['label'], X_test, y_test, 'Few-Shot Dataset')\n",
        "train_and_evaluate_xgboost(train_data_zero_shot['sentence1'], train_data_zero_shot['label'], X_test, y_test, 'Zero-Shot Dataset')\n",
        "train_and_evaluate_xgboost(train_data_one_shot['sentence1'], train_data_one_shot['label'], X_test, y_test, 'One-Shot Dataset')\n",
        "train_and_evaluate_xgboost(dev_data['sentence1'], dev_data['label'], X_test, y_test, 'Dev Dataset')\n"
      ],
      "metadata": {
        "id": "9xYQ69HA5fIf",
        "colab": {
          "base_uri": "https://localhost:8080/"
        },
        "outputId": "1705275b-3f23-414f-a193-b65ea098f731"
      },
      "execution_count": null,
      "outputs": [
        {
          "output_type": "stream",
          "name": "stdout",
          "text": [
            "Dataset: Few-Shot Dataset\n",
            "F1 Score for Few-Shot Dataset: 0.6917\n",
            "Dataset: Zero-Shot Dataset\n",
            "F1 Score for Zero-Shot Dataset: 0.4318\n",
            "Dataset: One-Shot Dataset\n",
            "F1 Score for One-Shot Dataset: 0.4863\n",
            "Dataset: Dev Dataset\n",
            "F1 Score for Dev Dataset: 0.5168\n"
          ]
        }
      ]
    },
    {
      "cell_type": "markdown",
      "source": [
        "# 3.15\tBERT-Based Model for Text Classification:\n"
      ],
      "metadata": {
        "id": "Ej08SMoqnvWL"
      }
    },
    {
      "cell_type": "markdown",
      "source": [
        "**A. Few shot Dataset:**"
      ],
      "metadata": {
        "id": "H9sCwRIUcwmr"
      }
    },
    {
      "cell_type": "code",
      "source": [
        "import torch\n",
        "import numpy as np\n",
        "from transformers import BertTokenizer, BertForSequenceClassification, AdamW #AdamW is an optimization algorithm derived from Adam (Adaptive Moment Estimation),\n",
        "                                                                              #a popular and efficient optimization algorithm\n",
        "from sklearn.metrics import accuracy_score, f1_score\n",
        "\n",
        "# Function to train and evaluate a BERT-based classifier\n",
        "def train_and_evaluate_bert(X_train, y_train, X_test, y_test, dataset_name):\n",
        "    print(f\"Dataset: {dataset_name}\")\n",
        "\n",
        "    # Set device to GPU if available, otherwise use CPU\n",
        "    device = torch.device(\"cuda\" if torch.cuda.is_available() else \"cpu\")\n",
        "\n",
        "    # Load a pre-trained BERT model and tokenizer\n",
        "    model_name = 'bert-base-uncased'\n",
        "    tokenizer = BertTokenizer.from_pretrained(model_name)\n",
        "    model = BertForSequenceClassification.from_pretrained(model_name, num_labels=len(np.unique(y_train)))\n",
        "    model.to(device)  # Move model to GPU\n",
        "#---------------------------------------------------------------------------------------------------------------------\n",
        "    # Tokenize the text data and convert it to PyTorch\n",
        "    #Truncation is the process of shortening sequences to a specified maximum length.\n",
        "    #When truncation=True:\n",
        "    #If a sequence (e.g., a sentence) is longer than the specified max_length, it gets truncated or cut to fit the length limit.\n",
        "    #Padding is the process of adding tokens to sequences that are shorter than a specified maximum length.\n",
        "    #When padding=True:\n",
        "    #Sequences that are shorter than the specified max_length are padded with tokens to match the length of the longest sequence in the dataset.\n",
        "    #return_tensors='pt' (returning PyTorch tensors):\n",
        "    #This parameter specifies the format in which the tokenized data should be returned.\n",
        "    #return_tensors='pt' indicates that the tokenized data should be returned as PyTorch tensors.\n",
        "    X_train_tokens = tokenizer(X_train.tolist(), truncation=True, padding=True, return_tensors='pt').to(device) #to(device): Assuming device is a PyTorch device (e.g., torch.device('cuda') for GPU or\n",
        "                                                                                                                #torch.device('cpu') for CPU),\n",
        "                                                                                                                #.to(device) moves the resulting tensors to the specified device\n",
        "    X_test_tokens = tokenizer(X_test.tolist(), truncation=True, padding=True, return_tensors='pt').to(device)\n",
        "#---------------------------------------------------------------------------------------------------------------------\n",
        "\n",
        "    # Convert labels to PyTorch tensors\n",
        "    #PyTorch tensors are multi-dimensional arrays or matrices, similar to NumPy arrays,\n",
        "    #but specifically designed for deep learning and numerical computations within the PyTorch library.\n",
        "    #Tensors are the fundamental data structures used to represent data in PyTorch\n",
        "    y_train_tensor = torch.tensor(y_train.values).to(device)\n",
        "    y_test_tensor = torch.tensor(y_test.values).to(device)\n",
        "\n",
        "    # Define training parameters\n",
        "    batch_size = 16 #Smaller batch sizes (like 16) provide more frequent weight updates, potentially leading to faster convergence and better generalization\n",
        "    learning_rate = 2e-5 #Lower learning rates (like 2e-5) are suitable for fine-tuning pre-trained models or when the dataset is similar to the pre-trained data.\n",
        "                          #They provide more cautious updates to prevent catastrophic forgetting of pre-learned features.\n",
        "    num_epochs = 100 #For larger datasets or complex models, training might require more epochs to allow the model to learn complex patterns effectively.\n",
        "                     #Too few epochs might result in underfitting, while too many epochs might lead to overfitting the training dat\n",
        "\n",
        "    # Create a DataLoader for training and testing data\n",
        "    train_data = torch.utils.data.TensorDataset(X_train_tokens.input_ids, X_train_tokens.attention_mask, y_train_tensor)\n",
        "    train_loader = torch.utils.data.DataLoader(train_data, batch_size=batch_size)\n",
        "\n",
        "    print(train_data)\n",
        "\n",
        "    test_data = torch.utils.data.TensorDataset(X_test_tokens.input_ids, X_test_tokens.attention_mask, y_test_tensor)\n",
        "    test_loader = torch.utils.data.DataLoader(test_data, batch_size=batch_size)\n",
        "\n",
        "    # Create an optimizer and a loss function\n",
        "    optimizer = AdamW(model.parameters(), lr=learning_rate) #model.parameters() provides the parameters (weights and biases) of the neural network model to be optimized.\n",
        "    criterion = torch.nn.CrossEntropyLoss() #CrossEntropyLoss is commonly used in classification tasks, especially for multi-class classification,\n",
        "                                            #the model predicts probability distributions over multiple classes.\n",
        "\n",
        "    # Training loop\n",
        "    #a training loop for fine-tuning a pre-trained model like BERT on a specific dataset using PyTorch\n",
        "    for epoch in range(num_epochs):\n",
        "        model.train()\n",
        "        total_loss = 0.0\n",
        "        for batch in train_loader:\n",
        "            input_ids, attention_mask, labels = batch #Unpacks the batch into input_ids (tokenized input), attention_mask (mask for padded tokens), and labels (target labels).\n",
        "            input_ids, attention_mask, labels = input_ids.to(device), attention_mask.to(device), labels.to(device)#Moves the data to the specified device (CPU or GPU) for computation\n",
        "            optimizer.zero_grad() #Clears the gradients of the optimizer (AdamW) before computing gradients for the current batch\n",
        "            outputs = model(input_ids, attention_mask=attention_mask, labels=labels)#Forward pass through the model with input data\n",
        "            loss = outputs.loss #Extracts the loss value from the model's output\n",
        "            total_loss += loss.item() #Accumulates the loss value for the current batch to calculate the epoch's average loss.\n",
        "            loss.backward() #Backpropagates the loss to calculate gradients\n",
        "            optimizer.step()#Updates model parameters using the calculated gradients and optimizer algorithm (AdamW)\n",
        "\n",
        "        print(f\"Epoch {epoch+1}, Average Loss: {total_loss/len(train_loader)}\")\n",
        "\n",
        "    # Evaluation\n",
        "    model.eval()\n",
        "    y_pred = []\n",
        "    with torch.no_grad():#Temporarily disables gradient calculations to reduce memory consumption during inference.\n",
        "        for batch in test_loader:\n",
        "            input_ids, attention_mask, labels = batch\n",
        "            input_ids, attention_mask = input_ids.to(device), attention_mask.to(device)\n",
        "            outputs = model(input_ids, attention_mask=attention_mask)\n",
        "            logits = outputs.logits #Obtains the logits (raw output scores) from the model for each class.\n",
        "            predicted_labels = logits.argmax(dim=1).tolist() #Determines the predicted class label for each sample b\n",
        "                                                            #taking the index with the maximum logit score along dimension 1 (assuming a classification task)\n",
        "                                                            #and converts it to a Python list.\n",
        "            y_pred.extend(predicted_labels) #Extends the y_pred list with the predicted labels for this batch.\n",
        "\n",
        "    # Convert predicted labels to NumPy array\n",
        "    y_pred = np.array(y_pred)\n",
        "\n",
        "    # Calculate and print accuracy\n",
        "    accuracy = accuracy_score(y_test, y_pred)\n",
        "    print(f\"Accuracy for {dataset_name}: {accuracy:.4f}\")\n",
        "\n",
        "    # Calculate and print the macro F1 score\n",
        "    f1 = f1_score(y_test, y_pred, average='macro')\n",
        "    print(f\"F1 Score for {dataset_name}: {f1:.4f}\")\n",
        "\n",
        "# Assuming train_data_few_shot is already defined\n",
        "# Train and evaluate the BERT-based classifier for different datasets\n",
        "train_and_evaluate_bert(train_data_few_shot['sentence1'], train_data_few_shot['label'], X_test, y_test, 'Few-Shot Dataset')\n"
      ],
      "metadata": {
        "colab": {
          "base_uri": "https://localhost:8080/"
        },
        "id": "3QLiB046ntPU",
        "outputId": "19d00c29-ff10-4ebb-cdbe-97a559179644"
      },
      "execution_count": null,
      "outputs": [
        {
          "output_type": "stream",
          "name": "stdout",
          "text": [
            "Dataset: Few-Shot Dataset\n"
          ]
        },
        {
          "output_type": "stream",
          "name": "stderr",
          "text": [
            "Some weights of BertForSequenceClassification were not initialized from the model checkpoint at bert-base-uncased and are newly initialized: ['classifier.bias', 'classifier.weight']\n",
            "You should probably TRAIN this model on a down-stream task to be able to use it for predictions and inference.\n"
          ]
        },
        {
          "output_type": "stream",
          "name": "stdout",
          "text": [
            "<torch.utils.data.dataset.TensorDataset object at 0x788bf93cc0a0>\n",
            "Epoch 1, Average Loss: 0.6366594152318107\n",
            "Epoch 2, Average Loss: 0.5961417108774185\n",
            "Epoch 3, Average Loss: 0.5237312449349297\n",
            "Epoch 4, Average Loss: 0.3920294998420609\n",
            "Epoch 5, Average Loss: 0.28847764763567185\n",
            "Epoch 6, Average Loss: 0.26101040343443555\n",
            "Epoch 7, Average Loss: 0.2606706637889147\n",
            "Epoch 8, Average Loss: 0.14169490513288313\n",
            "Epoch 9, Average Loss: 0.07471762333686154\n",
            "Epoch 10, Average Loss: 0.030961822252720594\n",
            "Epoch 11, Average Loss: 0.020197550740299955\n",
            "Epoch 12, Average Loss: 0.014451943622488115\n",
            "Epoch 13, Average Loss: 0.010448933566092618\n",
            "Epoch 14, Average Loss: 0.008051075196514526\n",
            "Epoch 15, Average Loss: 0.0064120152059735525\n",
            "Epoch 16, Average Loss: 0.005298829100663877\n",
            "Epoch 17, Average Loss: 0.0045210652945873635\n",
            "Epoch 18, Average Loss: 0.003723702374069641\n",
            "Epoch 19, Average Loss: 0.003554010239895433\n",
            "Epoch 20, Average Loss: 0.003035236395792001\n",
            "Epoch 21, Average Loss: 0.002679222334538483\n",
            "Epoch 22, Average Loss: 0.002432259970292863\n",
            "Epoch 23, Average Loss: 0.00210600196927165\n",
            "Epoch 24, Average Loss: 0.0043610050828040885\n",
            "Epoch 25, Average Loss: 0.0031867871487823627\n",
            "Epoch 26, Average Loss: 0.0019315398692722535\n",
            "Epoch 27, Average Loss: 0.0014137089246004405\n",
            "Epoch 28, Average Loss: 0.0012660988722927868\n",
            "Epoch 29, Average Loss: 0.001256487785010702\n",
            "Epoch 30, Average Loss: 0.0010684012215481037\n",
            "Epoch 31, Average Loss: 0.0010041430521394229\n",
            "Epoch 32, Average Loss: 0.000958837017404019\n",
            "Epoch 33, Average Loss: 0.004538419430092391\n",
            "Epoch 34, Average Loss: 0.0011719855602778909\n",
            "Epoch 35, Average Loss: 0.0009348388735411896\n",
            "Epoch 36, Average Loss: 0.0008098115682110398\n",
            "Epoch 37, Average Loss: 0.0008269674726761878\n",
            "Epoch 38, Average Loss: 0.0007577913590163613\n",
            "Epoch 39, Average Loss: 0.0008172517167016243\n",
            "Epoch 40, Average Loss: 0.0006456479588652857\n",
            "Epoch 41, Average Loss: 0.0006815435190219432\n",
            "Epoch 42, Average Loss: 0.0006503253502564298\n",
            "Epoch 43, Average Loss: 0.030749783911030844\n",
            "Epoch 44, Average Loss: 0.0012071988344865127\n",
            "Epoch 45, Average Loss: 0.0007896157524858912\n",
            "Epoch 46, Average Loss: 0.0007533292421915879\n",
            "Epoch 47, Average Loss: 0.000692449545668852\n",
            "Epoch 48, Average Loss: 0.0006445557664847001\n",
            "Epoch 49, Average Loss: 0.0019112989539280534\n",
            "Epoch 50, Average Loss: 0.04682049220880597\n",
            "Epoch 51, Average Loss: 0.024343030769766\n",
            "Epoch 52, Average Loss: 0.012182541967680057\n",
            "Epoch 53, Average Loss: 0.03537063408293761\n",
            "Epoch 54, Average Loss: 0.036909290162536\n",
            "Epoch 55, Average Loss: 0.006275875974097289\n",
            "Epoch 56, Average Loss: 0.003400267685517772\n",
            "Epoch 57, Average Loss: 0.0007343467894113726\n",
            "Epoch 58, Average Loss: 0.0006435090213522522\n",
            "Epoch 59, Average Loss: 0.0006973517592996359\n",
            "Epoch 60, Average Loss: 0.0006983837229199708\n",
            "Epoch 61, Average Loss: 0.0004944574724908711\n",
            "Epoch 62, Average Loss: 0.0005615596132378818\n",
            "Epoch 63, Average Loss: 0.00044715039095737867\n",
            "Epoch 64, Average Loss: 0.00043480043758689944\n",
            "Epoch 65, Average Loss: 0.00041697258469260606\n",
            "Epoch 66, Average Loss: 0.0003787160458159633\n",
            "Epoch 67, Average Loss: 0.0003837501103084327\n",
            "Epoch 68, Average Loss: 0.0003410294989912978\n",
            "Epoch 69, Average Loss: 0.00032467728306073695\n",
            "Epoch 70, Average Loss: 0.0003103080436833099\n",
            "Epoch 71, Average Loss: 0.00031999288088021177\n",
            "Epoch 72, Average Loss: 0.0003101580902390803\n",
            "Epoch 73, Average Loss: 0.0002852607891933682\n",
            "Epoch 74, Average Loss: 0.0002822234342198095\n",
            "Epoch 75, Average Loss: 0.0002718934127996262\n",
            "Epoch 76, Average Loss: 0.0002499684560461901\n",
            "Epoch 77, Average Loss: 0.00025755138873743516\n",
            "Epoch 78, Average Loss: 0.0002469858615465152\n",
            "Epoch 79, Average Loss: 0.00023116758368107386\n",
            "Epoch 80, Average Loss: 0.0002325648133086765\n",
            "Epoch 81, Average Loss: 0.00023341744721013433\n",
            "Epoch 82, Average Loss: 0.000227075469511975\n",
            "Epoch 83, Average Loss: 0.0002077069228916015\n",
            "Epoch 84, Average Loss: 0.0002094798352724562\n",
            "Epoch 85, Average Loss: 0.00020384711953940697\n",
            "Epoch 86, Average Loss: 0.0002021636173594743\n",
            "Epoch 87, Average Loss: 0.00019375335088827543\n",
            "Epoch 88, Average Loss: 0.00020308237678060928\n",
            "Epoch 89, Average Loss: 0.003960276094100361\n",
            "Epoch 90, Average Loss: 0.025035531871253625\n",
            "Epoch 91, Average Loss: 0.06999795357518855\n",
            "Epoch 92, Average Loss: 0.03663858358696517\n",
            "Epoch 93, Average Loss: 0.005700374937279978\n",
            "Epoch 94, Average Loss: 0.0008934123017954536\n",
            "Epoch 95, Average Loss: 0.00034050517408306606\n",
            "Epoch 96, Average Loss: 0.0003342190951419373\n",
            "Epoch 97, Average Loss: 0.0003550042577747566\n",
            "Epoch 98, Average Loss: 0.0002976289922824233\n",
            "Epoch 99, Average Loss: 0.00025004107899601676\n",
            "Epoch 100, Average Loss: 0.00022185270871785987\n",
            "Accuracy for Few-Shot Dataset: 0.8344\n",
            "F1 Score for Few-Shot Dataset: 0.7980\n"
          ]
        }
      ]
    },
    {
      "cell_type": "markdown",
      "source": [
        "**B. Zero shot Dataset:**"
      ],
      "metadata": {
        "id": "cly4fOaGdAsm"
      }
    },
    {
      "cell_type": "code",
      "source": [
        "import torch\n",
        "import numpy as np\n",
        "from transformers import BertTokenizer, BertForSequenceClassification, AdamW\n",
        "from sklearn.metrics import accuracy_score, f1_score\n",
        "\n",
        "# Function to train and evaluate a BERT-based classifier\n",
        "def train_and_evaluate_bert(X_train, y_train, X_test, y_test, dataset_name):\n",
        "    print(f\"Dataset: {dataset_name}\")\n",
        "\n",
        "    # Set device to GPU if available, otherwise use CPU\n",
        "    device = torch.device(\"cuda\" if torch.cuda.is_available() else \"cpu\")\n",
        "\n",
        "    # Load a pre-trained BERT model and tokenizer\n",
        "    model_name = 'bert-base-uncased'\n",
        "    tokenizer = BertTokenizer.from_pretrained(model_name)\n",
        "    model = BertForSequenceClassification.from_pretrained(model_name, num_labels=len(np.unique(y_train)))\n",
        "    model.to(device)  # Move model to GPU\n",
        "\n",
        "    # Tokenize the text data and convert it to PyTorch tensors\n",
        "    X_train_tokens = tokenizer(X_train.tolist(), truncation=True, padding=True, return_tensors='pt').to(device)\n",
        "    X_test_tokens = tokenizer(X_test.tolist(), truncation=True, padding=True, return_tensors='pt').to(device)\n",
        "\n",
        "    # Convert labels to PyTorch tensors\n",
        "    y_train_tensor = torch.tensor(y_train.values).to(device)\n",
        "    y_test_tensor = torch.tensor(y_test.values).to(device)\n",
        "\n",
        "    # Define training parameters\n",
        "    batch_size = 16\n",
        "    learning_rate = 2e-5\n",
        "    num_epochs = 100\n",
        "\n",
        "    # Create a DataLoader for training and testing data\n",
        "    train_data = torch.utils.data.TensorDataset(X_train_tokens.input_ids, X_train_tokens.attention_mask, y_train_tensor)\n",
        "    train_loader = torch.utils.data.DataLoader(train_data, batch_size=batch_size)\n",
        "\n",
        "    test_data = torch.utils.data.TensorDataset(X_test_tokens.input_ids, X_test_tokens.attention_mask, y_test_tensor)\n",
        "    test_loader = torch.utils.data.DataLoader(test_data, batch_size=batch_size)\n",
        "\n",
        "    # Create an optimizer and a loss function\n",
        "    optimizer = AdamW(model.parameters(), lr=learning_rate)\n",
        "    criterion = torch.nn.CrossEntropyLoss()\n",
        "\n",
        "    # Training loop\n",
        "    for epoch in range(num_epochs):\n",
        "        model.train()\n",
        "        total_loss = 0.0\n",
        "        for batch in train_loader:\n",
        "            input_ids, attention_mask, labels = batch\n",
        "            input_ids, attention_mask, labels = input_ids.to(device), attention_mask.to(device), labels.to(device)\n",
        "            optimizer.zero_grad()\n",
        "            outputs = model(input_ids, attention_mask=attention_mask, labels=labels)\n",
        "            loss = outputs.loss\n",
        "            total_loss += loss.item()\n",
        "            loss.backward()\n",
        "            optimizer.step()\n",
        "\n",
        "        print(f\"Epoch {epoch+1}, Average Loss: {total_loss/len(train_loader)}\")\n",
        "\n",
        "    # Evaluation\n",
        "    model.eval()\n",
        "    y_pred = []\n",
        "    with torch.no_grad():\n",
        "        for batch in test_loader:\n",
        "            input_ids, attention_mask, labels = batch\n",
        "            input_ids, attention_mask = input_ids.to(device), attention_mask.to(device)\n",
        "            outputs = model(input_ids, attention_mask=attention_mask)\n",
        "            logits = outputs.logits\n",
        "            predicted_labels = logits.argmax(dim=1).tolist()\n",
        "            y_pred.extend(predicted_labels)\n",
        "\n",
        "    # Convert predicted labels to NumPy array\n",
        "    y_pred = np.array(y_pred)\n",
        "\n",
        "    # Calculate and print accuracy\n",
        "    accuracy = accuracy_score(y_test, y_pred)\n",
        "    print(f\"Accuracy for {dataset_name}: {accuracy:.4f}\")\n",
        "\n",
        "    # Calculate and print the macro F1 score\n",
        "    f1 = f1_score(y_test, y_pred, average='macro')\n",
        "    print(f\"F1 Score for {dataset_name}: {f1:.4f}\")\n",
        "\n",
        "# Assuming train_data_few_shot is already defined\n",
        "# Train and evaluate the BERT-based classifier for different datasets\n",
        "train_and_evaluate_bert(train_data_zero_shot['sentence1'], train_data_zero_shot['label'], X_test, y_test, 'Zero-Shot Dataset')\n"
      ],
      "metadata": {
        "colab": {
          "base_uri": "https://localhost:8080/"
        },
        "id": "V19ERM33itAW",
        "outputId": "a27bf82e-03da-400d-c535-4105157be375"
      },
      "execution_count": null,
      "outputs": [
        {
          "output_type": "stream",
          "name": "stdout",
          "text": [
            "Dataset: Zero-Shot Dataset\n"
          ]
        },
        {
          "output_type": "stream",
          "name": "stderr",
          "text": [
            "Some weights of BertForSequenceClassification were not initialized from the model checkpoint at bert-base-uncased and are newly initialized: ['classifier.bias', 'classifier.weight']\n",
            "You should probably TRAIN this model on a down-stream task to be able to use it for predictions and inference.\n",
            "/usr/local/lib/python3.10/dist-packages/transformers/optimization.py:411: FutureWarning: This implementation of AdamW is deprecated and will be removed in a future version. Use the PyTorch implementation torch.optim.AdamW instead, or set `no_deprecation_warning=True` to disable this warning\n",
            "  warnings.warn(\n"
          ]
        },
        {
          "output_type": "stream",
          "name": "stdout",
          "text": [
            "Epoch 1, Average Loss: 0.686097080532748\n",
            "Epoch 2, Average Loss: 0.6158814940135926\n",
            "Epoch 3, Average Loss: 0.5054620847894022\n",
            "Epoch 4, Average Loss: 0.3529610009147571\n",
            "Epoch 5, Average Loss: 0.20515708826804677\n",
            "Epoch 6, Average Loss: 0.13266522071073547\n",
            "Epoch 7, Average Loss: 0.07955757239296173\n",
            "Epoch 8, Average Loss: 0.056086367134412285\n",
            "Epoch 9, Average Loss: 0.04565608800979904\n",
            "Epoch 10, Average Loss: 0.020265773164562864\n",
            "Epoch 11, Average Loss: 0.026767480333756585\n",
            "Epoch 12, Average Loss: 0.014693300042171568\n",
            "Epoch 13, Average Loss: 0.021670564353161562\n",
            "Epoch 14, Average Loss: 0.013812358161325951\n",
            "Epoch 15, Average Loss: 0.012036861754005748\n",
            "Epoch 16, Average Loss: 0.004837722657332331\n",
            "Epoch 17, Average Loss: 0.01370441688036058\n",
            "Epoch 18, Average Loss: 0.0060111597117261575\n",
            "Epoch 19, Average Loss: 0.0015763713166821757\n",
            "Epoch 20, Average Loss: 0.00019587584914076544\n",
            "Epoch 21, Average Loss: 0.016450782317301325\n",
            "Epoch 22, Average Loss: 0.014860238941274964\n",
            "Epoch 23, Average Loss: 0.006965367604747231\n",
            "Epoch 24, Average Loss: 0.007030311059749623\n",
            "Epoch 25, Average Loss: 0.0008517613184896897\n",
            "Epoch 26, Average Loss: 0.0005786964002254535\n",
            "Epoch 27, Average Loss: 0.004567510292435355\n",
            "Epoch 28, Average Loss: 0.014198908917915806\n",
            "Epoch 29, Average Loss: 0.016242422371690806\n",
            "Epoch 30, Average Loss: 0.004180536787631494\n",
            "Epoch 31, Average Loss: 0.010140537080447896\n",
            "Epoch 32, Average Loss: 0.005852913726917345\n",
            "Epoch 33, Average Loss: 0.0012443185979953762\n",
            "Epoch 34, Average Loss: 0.0003540551591028746\n",
            "Epoch 35, Average Loss: 0.0001802290473558689\n",
            "Epoch 36, Average Loss: 9.038478594028184e-05\n",
            "Epoch 37, Average Loss: 4.0127832615046195e-05\n",
            "Epoch 38, Average Loss: 3.4845820874369776e-05\n",
            "Epoch 39, Average Loss: 5.1999731532795034e-05\n",
            "Epoch 40, Average Loss: 2.5379371742509156e-05\n",
            "Epoch 41, Average Loss: 2.2719287266262163e-05\n",
            "Epoch 42, Average Loss: 0.011564544264340034\n",
            "Epoch 43, Average Loss: 0.01734964891340951\n",
            "Epoch 44, Average Loss: 0.013551529405346558\n",
            "Epoch 45, Average Loss: 0.004982314031849455\n",
            "Epoch 46, Average Loss: 0.005635114041472032\n",
            "Epoch 47, Average Loss: 0.0008500859786846166\n",
            "Epoch 48, Average Loss: 0.0001069761366090041\n",
            "Epoch 49, Average Loss: 5.934629084199864e-05\n",
            "Epoch 50, Average Loss: 4.483175663293738e-05\n",
            "Epoch 51, Average Loss: 0.0017210398164199713\n",
            "Epoch 52, Average Loss: 0.021961268547075773\n",
            "Epoch 53, Average Loss: 0.005022869627037625\n",
            "Epoch 54, Average Loss: 0.0021188314248530124\n",
            "Epoch 55, Average Loss: 0.00010041781155660619\n",
            "Epoch 56, Average Loss: 0.002090044112256132\n",
            "Epoch 57, Average Loss: 0.007146338164165382\n",
            "Epoch 58, Average Loss: 0.0009357562393968413\n",
            "Epoch 59, Average Loss: 6.082766640247428e-05\n",
            "Epoch 60, Average Loss: 0.00014441454693671683\n",
            "Epoch 61, Average Loss: 0.023761309327570555\n",
            "Epoch 62, Average Loss: 0.015615043805225399\n",
            "Epoch 63, Average Loss: 0.003781793048941696\n",
            "Epoch 64, Average Loss: 0.00025864844848491397\n",
            "Epoch 65, Average Loss: 0.0011387773847323283\n",
            "Epoch 66, Average Loss: 9.970393001332504e-05\n",
            "Epoch 67, Average Loss: 8.357232895132956e-05\n",
            "Epoch 68, Average Loss: 0.018400797560826295\n",
            "Epoch 69, Average Loss: 0.010542366473530889\n",
            "Epoch 70, Average Loss: 0.0017072840817910708\n",
            "Epoch 71, Average Loss: 0.0022269891587711754\n",
            "Epoch 72, Average Loss: 0.0003487589038006543\n",
            "Epoch 73, Average Loss: 0.00039840681994554383\n",
            "Epoch 74, Average Loss: 0.009080962134773402\n",
            "Epoch 75, Average Loss: 0.0002898025853098191\n",
            "Epoch 76, Average Loss: 0.00032351254970727983\n",
            "Epoch 77, Average Loss: 7.179717798722917e-05\n",
            "Epoch 78, Average Loss: 0.0001378593526361818\n",
            "Epoch 79, Average Loss: 0.0011479145080714331\n",
            "Epoch 80, Average Loss: 0.007037778720683281\n",
            "Epoch 81, Average Loss: 0.004028842554335965\n",
            "Epoch 82, Average Loss: 0.0045073961931533495\n",
            "Epoch 83, Average Loss: 0.003843296899031674\n",
            "Epoch 84, Average Loss: 0.00017926025638049535\n",
            "Epoch 85, Average Loss: 4.546793618723873e-05\n",
            "Epoch 86, Average Loss: 3.35935573397924e-05\n",
            "Epoch 87, Average Loss: 3.665317997012188e-05\n",
            "Epoch 88, Average Loss: 0.00010199115162269943\n",
            "Epoch 89, Average Loss: 0.0007218098170500736\n",
            "Epoch 90, Average Loss: 1.755383379112083e-05\n",
            "Epoch 91, Average Loss: 2.217705764888496e-05\n",
            "Epoch 92, Average Loss: 0.01891913576183085\n",
            "Epoch 93, Average Loss: 0.007189335937325198\n",
            "Epoch 94, Average Loss: 0.001890844720946916\n",
            "Epoch 95, Average Loss: 0.00018261465577150095\n",
            "Epoch 96, Average Loss: 8.819192157716316e-05\n",
            "Epoch 97, Average Loss: 4.347157996037892e-05\n",
            "Epoch 98, Average Loss: 3.1946083315513257e-05\n",
            "Epoch 99, Average Loss: 2.556677787442123e-05\n",
            "Epoch 100, Average Loss: 4.023855685248306e-05\n",
            "Accuracy for Zero-Shot Dataset: 0.7205\n",
            "F1 Score for Zero-Shot Dataset: 0.7104\n"
          ]
        }
      ]
    },
    {
      "cell_type": "markdown",
      "source": [
        "**C. One shot Dataset:**"
      ],
      "metadata": {
        "id": "EO-laWyLdF5o"
      }
    },
    {
      "cell_type": "code",
      "source": [
        "import torch\n",
        "import numpy as np\n",
        "from transformers import BertTokenizer, BertForSequenceClassification, AdamW\n",
        "from sklearn.metrics import accuracy_score, f1_score\n",
        "\n",
        "# Function to train and evaluate a BERT-based classifier\n",
        "def train_and_evaluate_bert(X_train, y_train, X_test, y_test, dataset_name):\n",
        "    print(f\"Dataset: {dataset_name}\")\n",
        "\n",
        "    # Set device to GPU if available, otherwise use CPU\n",
        "    device = torch.device(\"cuda\" if torch.cuda.is_available() else \"cpu\")\n",
        "\n",
        "    # Load a pre-trained BERT model and tokenizer\n",
        "    model_name = 'bert-base-uncased'\n",
        "    tokenizer = BertTokenizer.from_pretrained(model_name)\n",
        "    model = BertForSequenceClassification.from_pretrained(model_name, num_labels=len(np.unique(y_train)))\n",
        "    model.to(device)  # Move model to GPU\n",
        "\n",
        "    # Tokenize the text data and convert it to PyTorch tensors\n",
        "    X_train_tokens = tokenizer(X_train.tolist(), truncation=True, padding=True, return_tensors='pt').to(device)\n",
        "    X_test_tokens = tokenizer(X_test.tolist(), truncation=True, padding=True, return_tensors='pt').to(device)\n",
        "\n",
        "    # Convert labels to PyTorch tensors\n",
        "    y_train_tensor = torch.tensor(y_train.values).to(device)\n",
        "    y_test_tensor = torch.tensor(y_test.values).to(device)\n",
        "\n",
        "    # Define training parameters\n",
        "    batch_size = 16\n",
        "    learning_rate = 2e-5\n",
        "    num_epochs = 100\n",
        "\n",
        "    # Create a DataLoader for training and testing data\n",
        "    train_data = torch.utils.data.TensorDataset(X_train_tokens.input_ids, X_train_tokens.attention_mask, y_train_tensor)\n",
        "    train_loader = torch.utils.data.DataLoader(train_data, batch_size=batch_size)\n",
        "\n",
        "    test_data = torch.utils.data.TensorDataset(X_test_tokens.input_ids, X_test_tokens.attention_mask, y_test_tensor)\n",
        "    test_loader = torch.utils.data.DataLoader(test_data, batch_size=batch_size)\n",
        "\n",
        "    # Create an optimizer and a loss function\n",
        "    optimizer = AdamW(model.parameters(), lr=learning_rate)\n",
        "    criterion = torch.nn.CrossEntropyLoss()\n",
        "\n",
        "    # Training loop\n",
        "    for epoch in range(num_epochs):\n",
        "        model.train()\n",
        "        total_loss = 0.0\n",
        "        for batch in train_loader:\n",
        "            input_ids, attention_mask, labels = batch\n",
        "            input_ids, attention_mask, labels = input_ids.to(device), attention_mask.to(device), labels.to(device)\n",
        "            optimizer.zero_grad()\n",
        "            outputs = model(input_ids, attention_mask=attention_mask, labels=labels)\n",
        "            loss = outputs.loss\n",
        "            total_loss += loss.item()\n",
        "            loss.backward()\n",
        "            optimizer.step()\n",
        "\n",
        "        print(f\"Epoch {epoch+1}, Average Loss: {total_loss/len(train_loader)}\")\n",
        "\n",
        "    # Evaluation\n",
        "    model.eval()\n",
        "    y_pred = []\n",
        "    with torch.no_grad():\n",
        "        for batch in test_loader:\n",
        "            input_ids, attention_mask, labels = batch\n",
        "            input_ids, attention_mask = input_ids.to(device), attention_mask.to(device)\n",
        "            outputs = model(input_ids, attention_mask=attention_mask)\n",
        "            logits = outputs.logits\n",
        "            predicted_labels = logits.argmax(dim=1).tolist()\n",
        "            y_pred.extend(predicted_labels)\n",
        "\n",
        "    # Convert predicted labels to NumPy array\n",
        "    y_pred = np.array(y_pred)\n",
        "\n",
        "    # Calculate and print accuracy\n",
        "    accuracy = accuracy_score(y_test, y_pred)\n",
        "    print(f\"Accuracy for {dataset_name}: {accuracy:.4f}\")\n",
        "\n",
        "    # Calculate and print the macro F1 score\n",
        "    f1 = f1_score(y_test, y_pred, average='macro')\n",
        "    print(f\"F1 Score for {dataset_name}: {f1:.4f}\")\n",
        "\n",
        "# Assuming train_data_few_shot is already defined\n",
        "# Train and evaluate the BERT-based classifier for different datasets\n",
        "train_and_evaluate_bert(train_data_few_shot['sentence1'], train_data_few_shot['label'], X_test, y_test, 'One-Shot Dataset')\n"
      ],
      "metadata": {
        "colab": {
          "base_uri": "https://localhost:8080/"
        },
        "id": "np1_FuhrjMyW",
        "outputId": "acafb2d5-eda4-4e1a-e4fb-f3d51d5d6866"
      },
      "execution_count": null,
      "outputs": [
        {
          "output_type": "stream",
          "name": "stdout",
          "text": [
            "Dataset: One-Shot Dataset\n"
          ]
        },
        {
          "output_type": "stream",
          "name": "stderr",
          "text": [
            "Some weights of BertForSequenceClassification were not initialized from the model checkpoint at bert-base-uncased and are newly initialized: ['classifier.weight', 'classifier.bias']\n",
            "You should probably TRAIN this model on a down-stream task to be able to use it for predictions and inference.\n",
            "/usr/local/lib/python3.10/dist-packages/transformers/optimization.py:411: FutureWarning: This implementation of AdamW is deprecated and will be removed in a future version. Use the PyTorch implementation torch.optim.AdamW instead, or set `no_deprecation_warning=True` to disable this warning\n",
            "  warnings.warn(\n"
          ]
        },
        {
          "output_type": "stream",
          "name": "stdout",
          "text": [
            "Epoch 1, Average Loss: 0.6328453570604324\n",
            "Epoch 2, Average Loss: 0.597942077451282\n",
            "Epoch 3, Average Loss: 0.5622759444846047\n",
            "Epoch 4, Average Loss: 0.42431794272528756\n",
            "Epoch 5, Average Loss: 0.24456767820649677\n",
            "Epoch 6, Average Loss: 0.13724742643535137\n",
            "Epoch 7, Average Loss: 0.08218201560278733\n",
            "Epoch 8, Average Loss: 0.04180324181086487\n",
            "Epoch 9, Average Loss: 0.02477765812849005\n",
            "Epoch 10, Average Loss: 0.023603458164466753\n",
            "Epoch 11, Average Loss: 0.04126312535825289\n",
            "Epoch 12, Average Loss: 0.20996855763304564\n",
            "Epoch 13, Average Loss: 0.17663319843510786\n",
            "Epoch 14, Average Loss: 0.024005267303436995\n",
            "Epoch 15, Average Loss: 0.010277750979488095\n",
            "Epoch 16, Average Loss: 0.007901911791931424\n",
            "Epoch 17, Average Loss: 0.006265848409384489\n",
            "Epoch 18, Average Loss: 0.005313243988590936\n",
            "Epoch 19, Average Loss: 0.005449677080226441\n",
            "Epoch 20, Average Loss: 0.0037528235245392555\n",
            "Epoch 21, Average Loss: 0.0033179624394203224\n",
            "Epoch 22, Average Loss: 0.003150453402971228\n",
            "Epoch 23, Average Loss: 0.0026769883051100704\n",
            "Epoch 24, Average Loss: 0.002415267647140556\n",
            "Epoch 25, Average Loss: 0.0020760106918815938\n",
            "Epoch 26, Average Loss: 0.0019076805458300644\n",
            "Epoch 27, Average Loss: 0.0016569987961298062\n",
            "Epoch 28, Average Loss: 0.0015479836664679977\n",
            "Epoch 29, Average Loss: 0.0014877457126405919\n",
            "Epoch 30, Average Loss: 0.0013895808563878138\n",
            "Epoch 31, Average Loss: 0.001347790229677533\n",
            "Epoch 32, Average Loss: 0.0017864767093366634\n",
            "Epoch 33, Average Loss: 0.0014626599667179915\n",
            "Epoch 34, Average Loss: 0.002448067722272956\n",
            "Epoch 35, Average Loss: 0.0010621442052070051\n",
            "Epoch 36, Average Loss: 0.0010281756727231874\n",
            "Epoch 37, Average Loss: 0.0009902084711939096\n",
            "Epoch 38, Average Loss: 0.0009699775643336276\n",
            "Epoch 39, Average Loss: 0.0008806005741159121\n",
            "Epoch 40, Average Loss: 0.00082784577130547\n",
            "Epoch 41, Average Loss: 0.0008003917739390292\n",
            "Epoch 42, Average Loss: 0.0007566387389993502\n",
            "Epoch 43, Average Loss: 0.0007040589148851319\n",
            "Epoch 44, Average Loss: 0.0006902498619941374\n",
            "Epoch 45, Average Loss: 0.000673834742176243\n",
            "Epoch 46, Average Loss: 0.0006231651188702219\n",
            "Epoch 47, Average Loss: 0.0006127297399669058\n",
            "Epoch 48, Average Loss: 0.000595150948760824\n",
            "Epoch 49, Average Loss: 0.0005567846043656269\n",
            "Epoch 50, Average Loss: 0.0005388010758906603\n",
            "Epoch 51, Average Loss: 0.0005283303859566028\n",
            "Epoch 52, Average Loss: 0.0005961047475769495\n",
            "Epoch 53, Average Loss: 0.0004905366481074856\n",
            "Epoch 54, Average Loss: 0.00047094980093081377\n",
            "Epoch 55, Average Loss: 0.0004711197899369937\n",
            "Epoch 56, Average Loss: 0.000444966245494369\n",
            "Epoch 57, Average Loss: 0.00043286795294584916\n",
            "Epoch 58, Average Loss: 0.0004378273394346858\n",
            "Epoch 59, Average Loss: 0.00040474539370431256\n",
            "Epoch 60, Average Loss: 0.0003947446190674479\n",
            "Epoch 61, Average Loss: 0.000384709435618586\n",
            "Epoch 62, Average Loss: 0.00036528000540177646\n",
            "Epoch 63, Average Loss: 0.0003594157347429751\n",
            "Epoch 64, Average Loss: 0.0003461266185493312\n",
            "Epoch 65, Average Loss: 0.0003408246832097777\n",
            "Epoch 66, Average Loss: 0.00033477751033691067\n",
            "Epoch 67, Average Loss: 0.0003256229053173835\n",
            "Epoch 68, Average Loss: 0.000306091286701202\n",
            "Epoch 69, Average Loss: 0.00029768740124483075\n",
            "Epoch 70, Average Loss: 0.0002878134578673376\n",
            "Epoch 71, Average Loss: 0.0002759523639623593\n",
            "Epoch 72, Average Loss: 0.00027776500549710664\n",
            "Epoch 73, Average Loss: 0.00027310366406001977\n",
            "Epoch 74, Average Loss: 0.0002730030812219613\n",
            "Epoch 75, Average Loss: 0.00025467423499018577\n",
            "Epoch 76, Average Loss: 0.0002510897449812748\n",
            "Epoch 77, Average Loss: 0.0002399529168744468\n",
            "Epoch 78, Average Loss: 0.0002499649967325644\n",
            "Epoch 79, Average Loss: 0.00023570091030301733\n",
            "Epoch 80, Average Loss: 0.0002322244238004916\n",
            "Epoch 81, Average Loss: 0.00022681466847037277\n",
            "Epoch 82, Average Loss: 0.00022027386229537014\n",
            "Epoch 83, Average Loss: 0.00021540611325892515\n",
            "Epoch 84, Average Loss: 0.00021927334455540404\n",
            "Epoch 85, Average Loss: 0.00020130422085963396\n",
            "Epoch 86, Average Loss: 0.000201661142151958\n",
            "Epoch 87, Average Loss: 0.00019265991108517887\n",
            "Epoch 88, Average Loss: 0.0001895719477842148\n",
            "Epoch 89, Average Loss: 0.0001917171903187409\n",
            "Epoch 90, Average Loss: 0.00018214637303673144\n",
            "Epoch 91, Average Loss: 0.0001765958780500417\n",
            "Epoch 92, Average Loss: 0.0001788581761906648\n",
            "Epoch 93, Average Loss: 0.00017865063515879834\n",
            "Epoch 94, Average Loss: 0.00016626182049448189\n",
            "Epoch 95, Average Loss: 0.0001603820378982669\n",
            "Epoch 96, Average Loss: 0.00016373744923233366\n",
            "Epoch 97, Average Loss: 0.00016622888102170287\n",
            "Epoch 98, Average Loss: 0.0001572813590529323\n",
            "Epoch 99, Average Loss: 0.0001557829366194912\n",
            "Epoch 100, Average Loss: 0.00015171845168677263\n",
            "Accuracy for One-Shot Dataset: 0.8137\n",
            "F1 Score for One-Shot Dataset: 0.7676\n"
          ]
        }
      ]
    },
    {
      "cell_type": "markdown",
      "source": [
        "**D. Dev Dataset:**"
      ],
      "metadata": {
        "id": "VMipq2HadTpO"
      }
    },
    {
      "cell_type": "code",
      "source": [
        "import torch\n",
        "import numpy as np\n",
        "from transformers import BertTokenizer, BertForSequenceClassification, AdamW\n",
        "from sklearn.metrics import accuracy_score, f1_score\n",
        "\n",
        "# Function to train and evaluate a BERT-based classifier\n",
        "def train_and_evaluate_bert(X_train, y_train, X_test, y_test, dataset_name):\n",
        "    print(f\"Dataset: {dataset_name}\")\n",
        "\n",
        "    # Set device to GPU if available, otherwise use CPU\n",
        "    device = torch.device(\"cuda\" if torch.cuda.is_available() else \"cpu\")\n",
        "\n",
        "    # Load a pre-trained BERT model and tokenizer\n",
        "    model_name = 'bert-base-uncased'\n",
        "    tokenizer = BertTokenizer.from_pretrained(model_name)\n",
        "    model = BertForSequenceClassification.from_pretrained(model_name, num_labels=len(np.unique(y_train)))\n",
        "    model.to(device)  # Move model to GPU\n",
        "\n",
        "    # Tokenize the text data and convert it to PyTorch tensors\n",
        "    X_train_tokens = tokenizer(X_train.tolist(), truncation=True, padding=True, return_tensors='pt').to(device)\n",
        "    X_test_tokens = tokenizer(X_test.tolist(), truncation=True, padding=True, return_tensors='pt').to(device)\n",
        "\n",
        "    # Convert labels to PyTorch tensors\n",
        "    y_train_tensor = torch.tensor(y_train.values).to(device)\n",
        "    y_test_tensor = torch.tensor(y_test.values).to(device)\n",
        "\n",
        "    # Define training parameters\n",
        "    batch_size = 16\n",
        "    learning_rate = 2e-5\n",
        "    num_epochs = 100\n",
        "\n",
        "    # Create a DataLoader for training and testing data\n",
        "    train_data = torch.utils.data.TensorDataset(X_train_tokens.input_ids, X_train_tokens.attention_mask, y_train_tensor)\n",
        "    train_loader = torch.utils.data.DataLoader(train_data, batch_size=batch_size)\n",
        "\n",
        "    test_data = torch.utils.data.TensorDataset(X_test_tokens.input_ids, X_test_tokens.attention_mask, y_test_tensor)\n",
        "    test_loader = torch.utils.data.DataLoader(test_data, batch_size=batch_size)\n",
        "\n",
        "    # Create an optimizer and a loss function\n",
        "    optimizer = AdamW(model.parameters(), lr=learning_rate)\n",
        "    criterion = torch.nn.CrossEntropyLoss()\n",
        "\n",
        "    # Training loop\n",
        "    for epoch in range(num_epochs):\n",
        "        model.train()\n",
        "        total_loss = 0.0\n",
        "        for batch in train_loader:\n",
        "            input_ids, attention_mask, labels = batch\n",
        "            input_ids, attention_mask, labels = input_ids.to(device), attention_mask.to(device), labels.to(device)\n",
        "            optimizer.zero_grad()\n",
        "            outputs = model(input_ids, attention_mask=attention_mask, labels=labels)\n",
        "            loss = outputs.loss\n",
        "            total_loss += loss.item()\n",
        "            loss.backward()\n",
        "            optimizer.step()\n",
        "\n",
        "        print(f\"Epoch {epoch+1}, Average Loss: {total_loss/len(train_loader)}\")\n",
        "\n",
        "    # Evaluation\n",
        "    model.eval()\n",
        "    y_pred = []\n",
        "    with torch.no_grad():\n",
        "        for batch in test_loader:\n",
        "            input_ids, attention_mask, labels = batch\n",
        "            input_ids, attention_mask = input_ids.to(device), attention_mask.to(device)\n",
        "            outputs = model(input_ids, attention_mask=attention_mask)\n",
        "            logits = outputs.logits\n",
        "            predicted_labels = logits.argmax(dim=1).tolist()\n",
        "            y_pred.extend(predicted_labels)\n",
        "\n",
        "    # Convert predicted labels to NumPy array\n",
        "    y_pred = np.array(y_pred)\n",
        "\n",
        "    # Calculate and print accuracy\n",
        "    accuracy = accuracy_score(y_test, y_pred)\n",
        "    print(f\"Accuracy for {dataset_name}: {accuracy:.4f}\")\n",
        "\n",
        "    # Calculate and print the macro F1 score\n",
        "    f1 = f1_score(y_test, y_pred, average='macro')\n",
        "    print(f\"F1 Score for {dataset_name}: {f1:.4f}\")\n",
        "\n",
        "# Assuming train_data_few_shot is already defined\n",
        "# Train and evaluate the BERT-based classifier for different datasets\n",
        "train_and_evaluate_bert(train_data_few_shot['sentence1'], train_data_few_shot['label'], X_test, y_test, 'Dev Dataset')\n"
      ],
      "metadata": {
        "colab": {
          "base_uri": "https://localhost:8080/"
        },
        "id": "Dprrg3yQjhK9",
        "outputId": "f1028d8c-8a89-4d9e-c208-7c5d66d304e0"
      },
      "execution_count": null,
      "outputs": [
        {
          "output_type": "stream",
          "name": "stdout",
          "text": [
            "Dataset: Dev Dataset\n"
          ]
        },
        {
          "output_type": "stream",
          "name": "stderr",
          "text": [
            "Some weights of BertForSequenceClassification were not initialized from the model checkpoint at bert-base-uncased and are newly initialized: ['classifier.weight', 'classifier.bias']\n",
            "You should probably TRAIN this model on a down-stream task to be able to use it for predictions and inference.\n",
            "/usr/local/lib/python3.10/dist-packages/transformers/optimization.py:411: FutureWarning: This implementation of AdamW is deprecated and will be removed in a future version. Use the PyTorch implementation torch.optim.AdamW instead, or set `no_deprecation_warning=True` to disable this warning\n",
            "  warnings.warn(\n"
          ]
        },
        {
          "output_type": "stream",
          "name": "stdout",
          "text": [
            "Epoch 1, Average Loss: 0.6464797705411911\n",
            "Epoch 2, Average Loss: 0.5979316582282385\n",
            "Epoch 3, Average Loss: 0.5099645372894075\n",
            "Epoch 4, Average Loss: 0.4046128781305419\n",
            "Epoch 5, Average Loss: 0.3064183567961057\n",
            "Epoch 6, Average Loss: 0.309830198271407\n",
            "Epoch 7, Average Loss: 0.24788880203333166\n",
            "Epoch 8, Average Loss: 0.13475588688419926\n",
            "Epoch 9, Average Loss: 0.049842268280271024\n",
            "Epoch 10, Average Loss: 0.024157729879435565\n",
            "Epoch 11, Average Loss: 0.017220686862452164\n",
            "Epoch 12, Average Loss: 0.012122968496340845\n",
            "Epoch 13, Average Loss: 0.009165210080229573\n",
            "Epoch 14, Average Loss: 0.0076003719586879015\n",
            "Epoch 15, Average Loss: 0.00609697740421527\n",
            "Epoch 16, Average Loss: 0.00565466190326131\n",
            "Epoch 17, Average Loss: 0.004650575522747304\n",
            "Epoch 18, Average Loss: 0.003837348505233725\n",
            "Epoch 19, Average Loss: 0.003340373882868638\n",
            "Epoch 20, Average Loss: 0.0029485616703621214\n",
            "Epoch 21, Average Loss: 0.0026884557640490434\n",
            "Epoch 22, Average Loss: 0.0024176687584258616\n",
            "Epoch 23, Average Loss: 0.002318137894488043\n",
            "Epoch 24, Average Loss: 0.0019869777865500916\n",
            "Epoch 25, Average Loss: 0.0018221981525938544\n",
            "Epoch 26, Average Loss: 0.0017242856944600742\n",
            "Epoch 27, Average Loss: 0.001559517682633466\n",
            "Epoch 28, Average Loss: 0.001500171981105167\n",
            "Epoch 29, Average Loss: 0.0013778553596542527\n",
            "Epoch 30, Average Loss: 0.0012775077807923986\n",
            "Epoch 31, Average Loss: 0.0012183135097277248\n",
            "Epoch 32, Average Loss: 0.0010848974052350968\n",
            "Epoch 33, Average Loss: 0.0010381286750392367\n",
            "Epoch 34, Average Loss: 0.001020605759953873\n",
            "Epoch 35, Average Loss: 0.0009377526164624012\n",
            "Epoch 36, Average Loss: 0.0008732742765763154\n",
            "Epoch 37, Average Loss: 0.0008500335324141714\n",
            "Epoch 38, Average Loss: 0.0007949292743837254\n",
            "Epoch 39, Average Loss: 0.000768628042553448\n",
            "Epoch 40, Average Loss: 0.0007400192811878191\n",
            "Epoch 41, Average Loss: 0.0006977073013937721\n",
            "Epoch 42, Average Loss: 0.0006779204462266838\n",
            "Epoch 43, Average Loss: 0.0006118564326445468\n",
            "Epoch 44, Average Loss: 0.0005760800559073687\n",
            "Epoch 45, Average Loss: 0.0005726145027438179\n",
            "Epoch 46, Average Loss: 0.0005344397698839506\n",
            "Epoch 47, Average Loss: 0.000536402836183293\n",
            "Epoch 48, Average Loss: 0.0005870586012153783\n",
            "Epoch 49, Average Loss: 0.0004604439859071539\n",
            "Epoch 50, Average Loss: 0.00045016240457900695\n",
            "Epoch 51, Average Loss: 0.00042949237427415536\n",
            "Epoch 52, Average Loss: 0.00042298775709544617\n",
            "Epoch 53, Average Loss: 0.0003979334142059088\n",
            "Epoch 54, Average Loss: 0.000378306704482788\n",
            "Epoch 55, Average Loss: 0.0003519068721086822\n",
            "Epoch 56, Average Loss: 0.0003444518741970468\n",
            "Epoch 57, Average Loss: 0.00032831967271502234\n",
            "Epoch 58, Average Loss: 0.0003298753064074036\n",
            "Epoch 59, Average Loss: 0.000317261344106454\n",
            "Epoch 60, Average Loss: 0.0003158858518064436\n",
            "Epoch 61, Average Loss: 0.00030774901339706656\n",
            "Epoch 62, Average Loss: 0.00028852419038432546\n",
            "Epoch 63, Average Loss: 0.00027758784643891785\n",
            "Epoch 64, Average Loss: 0.0002809594330352007\n",
            "Epoch 65, Average Loss: 0.00026482998429047357\n",
            "Epoch 66, Average Loss: 0.00025790000897056114\n",
            "Epoch 67, Average Loss: 0.0002593338625350346\n",
            "Epoch 68, Average Loss: 0.00023280919089706408\n",
            "Epoch 69, Average Loss: 0.0002380513720304912\n",
            "Epoch 70, Average Loss: 0.0002247009664036644\n",
            "Epoch 71, Average Loss: 0.00022447591780089878\n",
            "Epoch 72, Average Loss: 0.00021166096929745335\n",
            "Epoch 73, Average Loss: 0.0002163708874528917\n",
            "Epoch 74, Average Loss: 0.0002074827894426158\n",
            "Epoch 75, Average Loss: 0.00020816396297757619\n",
            "Epoch 76, Average Loss: 0.00020319531904533505\n",
            "Epoch 77, Average Loss: 0.00018414996803686436\n",
            "Epoch 78, Average Loss: 0.00018716842492317988\n",
            "Epoch 79, Average Loss: 0.00018111197520435476\n",
            "Epoch 80, Average Loss: 0.00017688992779262157\n",
            "Epoch 81, Average Loss: 0.00017131306796929694\n",
            "Epoch 82, Average Loss: 0.000166429292827767\n",
            "Epoch 83, Average Loss: 0.0001586826482606638\n",
            "Epoch 84, Average Loss: 0.0001627992169233039\n",
            "Epoch 85, Average Loss: 0.00015644717617154433\n",
            "Epoch 86, Average Loss: 0.00015193061456860354\n",
            "Epoch 87, Average Loss: 0.0001496369239046342\n",
            "Epoch 88, Average Loss: 0.00014764081707754586\n",
            "Epoch 89, Average Loss: 0.00014466800954930173\n",
            "Epoch 90, Average Loss: 0.00014050084468585232\n",
            "Epoch 91, Average Loss: 0.0001402212963310174\n",
            "Epoch 92, Average Loss: 0.00013282508815690462\n",
            "Epoch 93, Average Loss: 0.00013218149130504267\n",
            "Epoch 94, Average Loss: 0.00013039141413173638\n",
            "Epoch 95, Average Loss: 0.00013029974312909567\n",
            "Epoch 96, Average Loss: 0.0001281473810700441\n",
            "Epoch 97, Average Loss: 0.00012589175417411348\n",
            "Epoch 98, Average Loss: 0.0001264533109658967\n",
            "Epoch 99, Average Loss: 0.00011962027120817866\n",
            "Epoch 100, Average Loss: 0.00011911995210943537\n",
            "Accuracy for Dev Dataset: 0.8302\n",
            "F1 Score for Dev Dataset: 0.7980\n"
          ]
        }
      ]
    },
    {
      "cell_type": "markdown",
      "source": [
        "# 3.16\tRoberta"
      ],
      "metadata": {
        "id": "VO7Li2SV5Ocy"
      }
    },
    {
      "cell_type": "code",
      "source": [
        "from transformers import RobertaTokenizer, RobertaForSequenceClassification\n",
        "\n",
        "# Download and save the tokenizer and model files\n",
        "tokenizer = RobertaTokenizer.from_pretrained('roberta-base') #RobertaTokenizer: This is a class provided by the Hugging Face transformers library tailored to tokenize text for RoBERTa models.\n",
        "                                                             #from_pretrained('roberta-base'): Initializes the tokenizer with a pre-trained RoBERTa model named 'roberta-base'\n",
        "model = RobertaForSequenceClassification.from_pretrained('roberta-base') #RobertaForSequenceClassification: This is a class provided by the Hugging Face transformers library specifically tailored\n",
        "                                                                         #for sequence classification tasks\n",
        "                                                                         #from_pretrained('roberta-base'): Initializes the model with a pre-trained RoBERTa model named 'roberta-base'\n",
        "\n",
        "# Save the tokenizer and model locally for future use\n",
        "tokenizer.save_pretrained('roberta-base')\n",
        "model.save_pretrained('roberta-base')"
      ],
      "metadata": {
        "id": "vhpzI1pH5P0h",
        "colab": {
          "base_uri": "https://localhost:8080/",
          "height": 232,
          "referenced_widgets": [
            "87ce30c0b97b447896f4ceb42a9659c9",
            "5a9eac9510ec4b2e871766ee17099187",
            "3cfe790c769b42cea4cb510c22b46059",
            "1bb995b3c31d40e1acd158a81e50e7ea",
            "0024423394804f73a7da3042cd08ff69",
            "364918b62fed45b3943192d07a520be5",
            "63ee6b34d48f4e8d913aaf0f3e77914d",
            "c59b43855a2047f99d94a4620c102fc4",
            "79ef813a958a4912803eda104d429c61",
            "d1330f1b808547b4b1b715e379cd83e9",
            "ed443e61e7c04d9195a76f5514e7e13f",
            "7c948a6d9830437c98eddafe14bf8dcd",
            "52ed644e6f794c46b2c104abe7576c04",
            "87baa5dbb02a450e8ac9a5a827e57b15",
            "3ef3a56b073d4a14b9438e621b8737ef",
            "555e4cfe78584977a998b02fff6366f7",
            "67dc9f546235466d934f2818bc8daa23",
            "b301dd1734094f9a8e9919fc45f6c4e9",
            "84d0adb74856468dade4127143f0e2e1",
            "b40bae87718f492e9c4839ccd77f8f1b",
            "8f8de28ae6b14c62a2aa86119b57e926",
            "95f861c6160a4b65b4015d4016700301",
            "5be23f5cb9134b8c85ab96753f036b79",
            "64681fdfba794b3ca205d58bdac946db",
            "fcae2b43e69745a39708d3051b5a9c26",
            "33a85376823741de86737f52478d9c5e",
            "eaf0107c77644ee68de22689bd6c7be4",
            "c23cd9fc6bd140f5b3e1b6cc53447198",
            "281964e3f3f14f3b8cb2febdfa776592",
            "1e8009a564da48149d13aa00a6ba37d5",
            "d02bbf1562884160ae62e6e83751baa6",
            "dcd07cea22b945c5ab7eefb12bf442e5",
            "7e3e1ad7d6734a0486bc0f27f5154bdf",
            "8a945d83929f454a99946fd6ad00edd2",
            "7847aa610c5642de8abb38fd54c5ba00",
            "9c3b19f0ea9a4f1c845752b58ad97197",
            "58e8a31038554e1a844880e76ede7cad",
            "38cdcfd61b1c4165992af19bbeabebc4",
            "557595d71e3f4229b60b8b7dc8304931",
            "9aa2a04a1d824b4ca0bf2c69c23fe524",
            "1430ca38e5a64c63ad22374af2e8b298",
            "c4acc078ae4748f38de54dc73726a27f",
            "3712604ffdf64bd7aa85d02eb7c55ee8",
            "96b36d2e590943669be1dd6b3a8a0976",
            "30a94164c693447fb97cf061b68354fc",
            "d294b2b4432f40949973c24add256d57",
            "2ee0e3f0991e434e9d0d348923542526",
            "315c1d13bd9949e4904f8ffce6e38da1",
            "c14c7cc3c8a54fae8ff414c616739c90",
            "8cf06b5817a04555bc56849a343e8294",
            "33f6688f11334135b1e6f203dc3601dc",
            "bb8fb14552e6457ca1a099af02b28538",
            "301370efe40c46c7b89cf778856b1434",
            "29963b260e6c4e14b0483a4f0484d62e",
            "51be46b45b9b46fba7666087b76788e2"
          ]
        },
        "outputId": "fb71378b-34fe-485a-b515-13db3ff370ad"
      },
      "execution_count": null,
      "outputs": [
        {
          "output_type": "display_data",
          "data": {
            "text/plain": [
              "vocab.json:   0%|          | 0.00/899k [00:00<?, ?B/s]"
            ],
            "application/vnd.jupyter.widget-view+json": {
              "version_major": 2,
              "version_minor": 0,
              "model_id": "87ce30c0b97b447896f4ceb42a9659c9"
            }
          },
          "metadata": {}
        },
        {
          "output_type": "display_data",
          "data": {
            "text/plain": [
              "merges.txt:   0%|          | 0.00/456k [00:00<?, ?B/s]"
            ],
            "application/vnd.jupyter.widget-view+json": {
              "version_major": 2,
              "version_minor": 0,
              "model_id": "7c948a6d9830437c98eddafe14bf8dcd"
            }
          },
          "metadata": {}
        },
        {
          "output_type": "display_data",
          "data": {
            "text/plain": [
              "tokenizer.json:   0%|          | 0.00/1.36M [00:00<?, ?B/s]"
            ],
            "application/vnd.jupyter.widget-view+json": {
              "version_major": 2,
              "version_minor": 0,
              "model_id": "5be23f5cb9134b8c85ab96753f036b79"
            }
          },
          "metadata": {}
        },
        {
          "output_type": "display_data",
          "data": {
            "text/plain": [
              "config.json:   0%|          | 0.00/481 [00:00<?, ?B/s]"
            ],
            "application/vnd.jupyter.widget-view+json": {
              "version_major": 2,
              "version_minor": 0,
              "model_id": "8a945d83929f454a99946fd6ad00edd2"
            }
          },
          "metadata": {}
        },
        {
          "output_type": "display_data",
          "data": {
            "text/plain": [
              "model.safetensors:   0%|          | 0.00/499M [00:00<?, ?B/s]"
            ],
            "application/vnd.jupyter.widget-view+json": {
              "version_major": 2,
              "version_minor": 0,
              "model_id": "30a94164c693447fb97cf061b68354fc"
            }
          },
          "metadata": {}
        },
        {
          "output_type": "stream",
          "name": "stderr",
          "text": [
            "Some weights of RobertaForSequenceClassification were not initialized from the model checkpoint at roberta-base and are newly initialized: ['classifier.dense.bias', 'classifier.dense.weight', 'classifier.out_proj.weight', 'classifier.out_proj.bias']\n",
            "You should probably TRAIN this model on a down-stream task to be able to use it for predictions and inference.\n"
          ]
        }
      ]
    },
    {
      "cell_type": "markdown",
      "source": [
        "**A. Few shot**"
      ],
      "metadata": {
        "id": "ySw1REcJeDZt"
      }
    },
    {
      "cell_type": "code",
      "source": [
        "import pandas as pd\n",
        "import numpy as np\n",
        "from sklearn.feature_extraction.text import TfidfVectorizer\n",
        "from sklearn.metrics import f1_score\n",
        "from sklearn.model_selection import train_test_split\n",
        "from sklearn.preprocessing import LabelEncoder\n",
        "import torch\n",
        "import torch.nn as nn\n",
        "import torch.optim as optim\n",
        "from torch.utils.data import DataLoader, TensorDataset\n",
        "from tqdm import tqdm\n",
        "from transformers import RobertaTokenizer, RobertaForSequenceClassification, AdamW\n",
        "\n",
        "train_data = pd.read_csv('preprocessed_no_stopwords_train_few_shot.csv')\n",
        "test_data = pd.read_csv('preprocessed_no_stopwords_test.csv')\n",
        "\n",
        "# Preprocessing\n",
        "X_train = train_data['sentence1']\n",
        "y_train = train_data['label']\n",
        "X_test = test_data['sentence1']\n",
        "y_test = test_data['label']\n",
        "\n",
        "#------------------------------------------------------------------------------------------\n",
        "# Tokenize text using RoBERTa tokenizer\n",
        "tokenizer = RobertaTokenizer.from_pretrained('roberta-base')\n",
        "model = RobertaForSequenceClassification.from_pretrained('roberta-base')\n",
        "\n",
        "#TRUNCATION: In certain cases, input text sequences might exceed the specified max_length and need to be truncated to fit the model's maximum input length\n",
        "#PADDING: Input text sequences that are shorter than the specified max_length need to be padded to match the model's maximum input length. Padding ensures uniform length across ALLsequences\n",
        "#return_tensors='pt'): Specifies that the tokenized outputs should be returned as PyTorch tensors ('pt'). This format is suitable for direct input into PyTorch-based models\n",
        "X_train_encoded = tokenizer(X_train.tolist(), truncation=True, padding=True, max_length=128, return_tensors='pt') #X_train.tolist(): X_train seems to be a list-like object containing text data\n",
        "                                                                                                                  #(sentences or documents). .tolist()\n",
        "                                                                                                                  #used to convert the data into a Python list if it's in a different format.\n",
        "X_test_encoded = tokenizer(X_test.tolist(), truncation=True, padding=True, max_length=128, return_tensors='pt')\n",
        "#------------------------------------------------------------------------------------------\n",
        "\n",
        "\n",
        "# Encode labels\n",
        "label_encoder = LabelEncoder() #used for encoding categorical target labels into numerical format, which is necessary for various ML algorithms that require numerical inputs for training.\n",
        "y_train_encoded = label_encoder.fit_transform(y_train)\n",
        "y_test_encoded = label_encoder.transform(y_test)\n",
        "\n",
        "# Convert to PyTorch tensors\n",
        "X_train_tensor = torch.tensor(X_train_encoded['input_ids'], dtype=torch.long)#dtype=torch.long refers to the data type LongTensor.\n",
        "                                                                             #This particular data type is used to represent integer data in 64-bit format within PyTorch tensors\n",
        "X_test_tensor = torch.tensor(X_test_encoded['input_ids'], dtype=torch.long)\n",
        "y_train_tensor = torch.tensor(y_train_encoded, dtype=torch.long)\n",
        "y_test_tensor = torch.tensor(y_test_encoded, dtype=torch.long)\n",
        "\n",
        "# Create DataLoader for batching\n",
        "train_dataset = TensorDataset(X_train_tensor, y_train_tensor)\n",
        "train_loader = DataLoader(train_dataset, batch_size=64, shuffle=True) #Indicates that the DataLoader will shuffle the data at the beginning of each epoch before creating batches\n",
        "\n",
        "# Define RoBERTa model for sequence classification\n",
        "model = RobertaForSequenceClassification.from_pretrained('roberta-base', num_labels=len(label_encoder.classes_))\n",
        "model.to('cuda' if torch.cuda.is_available() else 'cpu')\n",
        "\n",
        "# Define optimizer and loss function\n",
        "optimizer = AdamW(model.parameters(), lr=2e-5)\n",
        "criterion = nn.CrossEntropyLoss()\n",
        "\n",
        "#------------------------------------------------------------------------------------------\n",
        "# Training loop\n",
        "num_epochs = 100\n",
        "for epoch in range(num_epochs):\n",
        "    model.train()\n",
        "    total_loss = 0.0\n",
        "    for inputs, labels in tqdm(train_loader, desc=f\"Epoch {epoch + 1}\"): #Iterates through batches of data obtained from the train_loader.\n",
        "                                                                         #tqdm is used here to create a progress bar to monitor the progress of the training epochs.\n",
        "                                                                         #This part of the code uses an f-string to dynamically set the description for each iteration of the progress bar.\n",
        "                                                                         #epoch + 1 is used to display the current epoch number.\n",
        "        optimizer.zero_grad() #Clears the gradients of the optimizer before computing gradients for the current batch.\n",
        "        outputs = model(inputs.to(model.device), labels=labels.to(model.device)) #Performs a forward pass of the model using the input data (inputs) and their corresponding labels (labels).\n",
        "                                                                                 #It's important to move the data to the appropriate device (model.device),\n",
        "                                                                                 #which typically refers to GPU if available, for computations.\n",
        "        loss = outputs.loss #Obtains the loss value from the model's output\n",
        "        total_loss += loss.item() #Accumulates the loss value for the current batch\n",
        "        loss.backward() #Backpropagates the loss to calculate gradients\n",
        "        optimizer.step() #Updates model parameters using the calculated gradients and the optimizer's update rule.\n",
        "    avg_train_loss = total_loss / len(train_loader)\n",
        "    print(f\"Epoch {epoch + 1} - Average training loss: {avg_train_loss:.4f}\")\n",
        "#------------------------------------------------------------------------------------------\n",
        "\n",
        "# Evaluation\n",
        "model.eval()\n",
        "y_pred = []\n",
        "with torch.no_grad(): #PyTorch temporarily disables gradient calculation, which reduces memory usage and speeds up computations\n",
        "    for inputs in tqdm(torch.split(X_test_tensor, 64), desc=\"Evaluating\"): #splits the test tensor (X_test_tensor) into batches of size 64 for evaluation.\n",
        "                                                                           #It iterates through these batches.\n",
        "                                                                           #tqdm is used to create a progress bar with the descriptn \"Evaluating\" to track the prgress of the eval process.\n",
        "        outputs = model(inputs.to(model.device)) #Performs inference using the trained model on the test data batches (inputs) moved to the appropriate device (CPU or GPU).\n",
        "        logits = outputs.logits #Extracts the logits (raw scores) from the model's output.\n",
        "\n",
        "        #Computes predictions by taking the index of the maximum logit along dimension 1 (assuming a classification task).\n",
        "        #.cpu().numpy() converts the predictions from a PyTorch tensor to a NumPy array on the CPU.\n",
        "        preds = torch.argmax(logits, dim=1).cpu().numpy()\n",
        "        y_pred.extend(preds)#Extends a list (y_pred) with the predicted labels obtained from each batch.\n",
        "\n",
        "# Calculate F1 score\n",
        "f1 = f1_score(y_test_encoded, y_pred, average='macro')\n",
        "print(f\"F1 Score: {f1:.4f}\")"
      ],
      "metadata": {
        "id": "H_gmm6o55Ry9",
        "colab": {
          "base_uri": "https://localhost:8080/"
        },
        "outputId": "845fb735-02cc-4d47-e24f-34b67e0fd7c4"
      },
      "execution_count": null,
      "outputs": [
        {
          "output_type": "stream",
          "name": "stderr",
          "text": [
            "Some weights of RobertaForSequenceClassification were not initialized from the model checkpoint at roberta-base and are newly initialized: ['classifier.dense.bias', 'classifier.out_proj.bias', 'classifier.out_proj.weight', 'classifier.dense.weight']\n",
            "You should probably TRAIN this model on a down-stream task to be able to use it for predictions and inference.\n",
            "<ipython-input-43-3ec312b3f331>:35: UserWarning: To copy construct from a tensor, it is recommended to use sourceTensor.clone().detach() or sourceTensor.clone().detach().requires_grad_(True), rather than torch.tensor(sourceTensor).\n",
            "  X_train_tensor = torch.tensor(X_train_encoded['input_ids'], dtype=torch.long)\n",
            "<ipython-input-43-3ec312b3f331>:36: UserWarning: To copy construct from a tensor, it is recommended to use sourceTensor.clone().detach() or sourceTensor.clone().detach().requires_grad_(True), rather than torch.tensor(sourceTensor).\n",
            "  X_test_tensor = torch.tensor(X_test_encoded['input_ids'], dtype=torch.long)\n",
            "Some weights of RobertaForSequenceClassification were not initialized from the model checkpoint at roberta-base and are newly initialized: ['classifier.dense.bias', 'classifier.out_proj.bias', 'classifier.out_proj.weight', 'classifier.dense.weight']\n",
            "You should probably TRAIN this model on a down-stream task to be able to use it for predictions and inference.\n",
            "/usr/local/lib/python3.10/dist-packages/transformers/optimization.py:411: FutureWarning: This implementation of AdamW is deprecated and will be removed in a future version. Use the PyTorch implementation torch.optim.AdamW instead, or set `no_deprecation_warning=True` to disable this warning\n",
            "  warnings.warn(\n",
            "Epoch 1: 100%|██████████| 5/5 [00:01<00:00,  4.72it/s]\n"
          ]
        },
        {
          "output_type": "stream",
          "name": "stdout",
          "text": [
            "Epoch 1 - Average training loss: 0.6632\n"
          ]
        },
        {
          "output_type": "stream",
          "name": "stderr",
          "text": [
            "Epoch 2: 100%|██████████| 5/5 [00:01<00:00,  4.76it/s]\n"
          ]
        },
        {
          "output_type": "stream",
          "name": "stdout",
          "text": [
            "Epoch 2 - Average training loss: 0.6673\n"
          ]
        },
        {
          "output_type": "stream",
          "name": "stderr",
          "text": [
            "Epoch 3: 100%|██████████| 5/5 [00:01<00:00,  4.75it/s]\n"
          ]
        },
        {
          "output_type": "stream",
          "name": "stdout",
          "text": [
            "Epoch 3 - Average training loss: 0.6571\n"
          ]
        },
        {
          "output_type": "stream",
          "name": "stderr",
          "text": [
            "Epoch 4: 100%|██████████| 5/5 [00:01<00:00,  4.75it/s]\n"
          ]
        },
        {
          "output_type": "stream",
          "name": "stdout",
          "text": [
            "Epoch 4 - Average training loss: 0.6696\n"
          ]
        },
        {
          "output_type": "stream",
          "name": "stderr",
          "text": [
            "Epoch 5: 100%|██████████| 5/5 [00:01<00:00,  4.74it/s]\n"
          ]
        },
        {
          "output_type": "stream",
          "name": "stdout",
          "text": [
            "Epoch 5 - Average training loss: 0.6511\n"
          ]
        },
        {
          "output_type": "stream",
          "name": "stderr",
          "text": [
            "Epoch 6: 100%|██████████| 5/5 [00:01<00:00,  4.75it/s]\n"
          ]
        },
        {
          "output_type": "stream",
          "name": "stdout",
          "text": [
            "Epoch 6 - Average training loss: 0.6423\n"
          ]
        },
        {
          "output_type": "stream",
          "name": "stderr",
          "text": [
            "Epoch 7: 100%|██████████| 5/5 [00:01<00:00,  4.74it/s]\n"
          ]
        },
        {
          "output_type": "stream",
          "name": "stdout",
          "text": [
            "Epoch 7 - Average training loss: 0.6302\n"
          ]
        },
        {
          "output_type": "stream",
          "name": "stderr",
          "text": [
            "Epoch 8: 100%|██████████| 5/5 [00:01<00:00,  4.73it/s]\n"
          ]
        },
        {
          "output_type": "stream",
          "name": "stdout",
          "text": [
            "Epoch 8 - Average training loss: 0.6434\n"
          ]
        },
        {
          "output_type": "stream",
          "name": "stderr",
          "text": [
            "Epoch 9: 100%|██████████| 5/5 [00:01<00:00,  4.74it/s]\n"
          ]
        },
        {
          "output_type": "stream",
          "name": "stdout",
          "text": [
            "Epoch 9 - Average training loss: 0.6324\n"
          ]
        },
        {
          "output_type": "stream",
          "name": "stderr",
          "text": [
            "Epoch 10: 100%|██████████| 5/5 [00:01<00:00,  4.72it/s]\n"
          ]
        },
        {
          "output_type": "stream",
          "name": "stdout",
          "text": [
            "Epoch 10 - Average training loss: 0.6200\n"
          ]
        },
        {
          "output_type": "stream",
          "name": "stderr",
          "text": [
            "Epoch 11: 100%|██████████| 5/5 [00:01<00:00,  4.73it/s]\n"
          ]
        },
        {
          "output_type": "stream",
          "name": "stdout",
          "text": [
            "Epoch 11 - Average training loss: 0.5742\n"
          ]
        },
        {
          "output_type": "stream",
          "name": "stderr",
          "text": [
            "Epoch 12: 100%|██████████| 5/5 [00:01<00:00,  4.72it/s]\n"
          ]
        },
        {
          "output_type": "stream",
          "name": "stdout",
          "text": [
            "Epoch 12 - Average training loss: 0.6411\n"
          ]
        },
        {
          "output_type": "stream",
          "name": "stderr",
          "text": [
            "Epoch 13: 100%|██████████| 5/5 [00:01<00:00,  4.74it/s]\n"
          ]
        },
        {
          "output_type": "stream",
          "name": "stdout",
          "text": [
            "Epoch 13 - Average training loss: 0.5851\n"
          ]
        },
        {
          "output_type": "stream",
          "name": "stderr",
          "text": [
            "Epoch 14: 100%|██████████| 5/5 [00:01<00:00,  4.73it/s]\n"
          ]
        },
        {
          "output_type": "stream",
          "name": "stdout",
          "text": [
            "Epoch 14 - Average training loss: 0.5258\n"
          ]
        },
        {
          "output_type": "stream",
          "name": "stderr",
          "text": [
            "Epoch 15: 100%|██████████| 5/5 [00:01<00:00,  4.72it/s]\n"
          ]
        },
        {
          "output_type": "stream",
          "name": "stdout",
          "text": [
            "Epoch 15 - Average training loss: 0.4952\n"
          ]
        },
        {
          "output_type": "stream",
          "name": "stderr",
          "text": [
            "Epoch 16: 100%|██████████| 5/5 [00:01<00:00,  4.72it/s]\n"
          ]
        },
        {
          "output_type": "stream",
          "name": "stdout",
          "text": [
            "Epoch 16 - Average training loss: 0.3975\n"
          ]
        },
        {
          "output_type": "stream",
          "name": "stderr",
          "text": [
            "Epoch 17: 100%|██████████| 5/5 [00:01<00:00,  4.74it/s]\n"
          ]
        },
        {
          "output_type": "stream",
          "name": "stdout",
          "text": [
            "Epoch 17 - Average training loss: 0.2819\n"
          ]
        },
        {
          "output_type": "stream",
          "name": "stderr",
          "text": [
            "Epoch 18: 100%|██████████| 5/5 [00:01<00:00,  4.73it/s]\n"
          ]
        },
        {
          "output_type": "stream",
          "name": "stdout",
          "text": [
            "Epoch 18 - Average training loss: 0.2158\n"
          ]
        },
        {
          "output_type": "stream",
          "name": "stderr",
          "text": [
            "Epoch 19: 100%|██████████| 5/5 [00:01<00:00,  4.72it/s]\n"
          ]
        },
        {
          "output_type": "stream",
          "name": "stdout",
          "text": [
            "Epoch 19 - Average training loss: 0.3932\n"
          ]
        },
        {
          "output_type": "stream",
          "name": "stderr",
          "text": [
            "Epoch 20: 100%|██████████| 5/5 [00:01<00:00,  4.72it/s]\n"
          ]
        },
        {
          "output_type": "stream",
          "name": "stdout",
          "text": [
            "Epoch 20 - Average training loss: 0.2260\n"
          ]
        },
        {
          "output_type": "stream",
          "name": "stderr",
          "text": [
            "Epoch 21: 100%|██████████| 5/5 [00:01<00:00,  4.73it/s]\n"
          ]
        },
        {
          "output_type": "stream",
          "name": "stdout",
          "text": [
            "Epoch 21 - Average training loss: 0.1902\n"
          ]
        },
        {
          "output_type": "stream",
          "name": "stderr",
          "text": [
            "Epoch 22: 100%|██████████| 5/5 [00:01<00:00,  4.73it/s]\n"
          ]
        },
        {
          "output_type": "stream",
          "name": "stdout",
          "text": [
            "Epoch 22 - Average training loss: 0.1411\n"
          ]
        },
        {
          "output_type": "stream",
          "name": "stderr",
          "text": [
            "Epoch 23: 100%|██████████| 5/5 [00:01<00:00,  4.71it/s]\n"
          ]
        },
        {
          "output_type": "stream",
          "name": "stdout",
          "text": [
            "Epoch 23 - Average training loss: 0.1254\n"
          ]
        },
        {
          "output_type": "stream",
          "name": "stderr",
          "text": [
            "Epoch 24: 100%|██████████| 5/5 [00:01<00:00,  4.71it/s]\n"
          ]
        },
        {
          "output_type": "stream",
          "name": "stdout",
          "text": [
            "Epoch 24 - Average training loss: 0.1455\n"
          ]
        },
        {
          "output_type": "stream",
          "name": "stderr",
          "text": [
            "Epoch 25: 100%|██████████| 5/5 [00:01<00:00,  4.70it/s]\n"
          ]
        },
        {
          "output_type": "stream",
          "name": "stdout",
          "text": [
            "Epoch 25 - Average training loss: 0.0884\n"
          ]
        },
        {
          "output_type": "stream",
          "name": "stderr",
          "text": [
            "Epoch 26: 100%|██████████| 5/5 [00:01<00:00,  4.73it/s]\n"
          ]
        },
        {
          "output_type": "stream",
          "name": "stdout",
          "text": [
            "Epoch 26 - Average training loss: 0.0300\n"
          ]
        },
        {
          "output_type": "stream",
          "name": "stderr",
          "text": [
            "Epoch 27: 100%|██████████| 5/5 [00:01<00:00,  4.71it/s]\n"
          ]
        },
        {
          "output_type": "stream",
          "name": "stdout",
          "text": [
            "Epoch 27 - Average training loss: 0.0307\n"
          ]
        },
        {
          "output_type": "stream",
          "name": "stderr",
          "text": [
            "Epoch 28: 100%|██████████| 5/5 [00:01<00:00,  4.71it/s]\n"
          ]
        },
        {
          "output_type": "stream",
          "name": "stdout",
          "text": [
            "Epoch 28 - Average training loss: 0.0252\n"
          ]
        },
        {
          "output_type": "stream",
          "name": "stderr",
          "text": [
            "Epoch 29: 100%|██████████| 5/5 [00:01<00:00,  4.72it/s]\n"
          ]
        },
        {
          "output_type": "stream",
          "name": "stdout",
          "text": [
            "Epoch 29 - Average training loss: 0.0211\n"
          ]
        },
        {
          "output_type": "stream",
          "name": "stderr",
          "text": [
            "Epoch 30: 100%|██████████| 5/5 [00:01<00:00,  4.71it/s]\n"
          ]
        },
        {
          "output_type": "stream",
          "name": "stdout",
          "text": [
            "Epoch 30 - Average training loss: 0.0060\n"
          ]
        },
        {
          "output_type": "stream",
          "name": "stderr",
          "text": [
            "Epoch 31: 100%|██████████| 5/5 [00:01<00:00,  4.71it/s]\n"
          ]
        },
        {
          "output_type": "stream",
          "name": "stdout",
          "text": [
            "Epoch 31 - Average training loss: 0.0070\n"
          ]
        },
        {
          "output_type": "stream",
          "name": "stderr",
          "text": [
            "Epoch 32: 100%|██████████| 5/5 [00:01<00:00,  4.72it/s]\n"
          ]
        },
        {
          "output_type": "stream",
          "name": "stdout",
          "text": [
            "Epoch 32 - Average training loss: 0.0043\n"
          ]
        },
        {
          "output_type": "stream",
          "name": "stderr",
          "text": [
            "Epoch 33: 100%|██████████| 5/5 [00:01<00:00,  4.73it/s]\n"
          ]
        },
        {
          "output_type": "stream",
          "name": "stdout",
          "text": [
            "Epoch 33 - Average training loss: 0.0042\n"
          ]
        },
        {
          "output_type": "stream",
          "name": "stderr",
          "text": [
            "Epoch 34: 100%|██████████| 5/5 [00:01<00:00,  4.71it/s]\n"
          ]
        },
        {
          "output_type": "stream",
          "name": "stdout",
          "text": [
            "Epoch 34 - Average training loss: 0.0031\n"
          ]
        },
        {
          "output_type": "stream",
          "name": "stderr",
          "text": [
            "Epoch 35: 100%|██████████| 5/5 [00:01<00:00,  4.70it/s]\n"
          ]
        },
        {
          "output_type": "stream",
          "name": "stdout",
          "text": [
            "Epoch 35 - Average training loss: 0.0029\n"
          ]
        },
        {
          "output_type": "stream",
          "name": "stderr",
          "text": [
            "Epoch 36: 100%|██████████| 5/5 [00:01<00:00,  4.72it/s]\n"
          ]
        },
        {
          "output_type": "stream",
          "name": "stdout",
          "text": [
            "Epoch 36 - Average training loss: 0.0024\n"
          ]
        },
        {
          "output_type": "stream",
          "name": "stderr",
          "text": [
            "Epoch 37: 100%|██████████| 5/5 [00:01<00:00,  4.71it/s]\n"
          ]
        },
        {
          "output_type": "stream",
          "name": "stdout",
          "text": [
            "Epoch 37 - Average training loss: 0.0023\n"
          ]
        },
        {
          "output_type": "stream",
          "name": "stderr",
          "text": [
            "Epoch 38: 100%|██████████| 5/5 [00:01<00:00,  4.71it/s]\n"
          ]
        },
        {
          "output_type": "stream",
          "name": "stdout",
          "text": [
            "Epoch 38 - Average training loss: 0.0038\n"
          ]
        },
        {
          "output_type": "stream",
          "name": "stderr",
          "text": [
            "Epoch 39: 100%|██████████| 5/5 [00:01<00:00,  4.72it/s]\n"
          ]
        },
        {
          "output_type": "stream",
          "name": "stdout",
          "text": [
            "Epoch 39 - Average training loss: 0.0019\n"
          ]
        },
        {
          "output_type": "stream",
          "name": "stderr",
          "text": [
            "Epoch 40: 100%|██████████| 5/5 [00:01<00:00,  4.70it/s]\n"
          ]
        },
        {
          "output_type": "stream",
          "name": "stdout",
          "text": [
            "Epoch 40 - Average training loss: 0.0026\n"
          ]
        },
        {
          "output_type": "stream",
          "name": "stderr",
          "text": [
            "Epoch 41: 100%|██████████| 5/5 [00:01<00:00,  4.72it/s]\n"
          ]
        },
        {
          "output_type": "stream",
          "name": "stdout",
          "text": [
            "Epoch 41 - Average training loss: 0.0016\n"
          ]
        },
        {
          "output_type": "stream",
          "name": "stderr",
          "text": [
            "Epoch 42: 100%|██████████| 5/5 [00:01<00:00,  4.72it/s]\n"
          ]
        },
        {
          "output_type": "stream",
          "name": "stdout",
          "text": [
            "Epoch 42 - Average training loss: 0.0015\n"
          ]
        },
        {
          "output_type": "stream",
          "name": "stderr",
          "text": [
            "Epoch 43: 100%|██████████| 5/5 [00:01<00:00,  4.72it/s]\n"
          ]
        },
        {
          "output_type": "stream",
          "name": "stdout",
          "text": [
            "Epoch 43 - Average training loss: 0.0015\n"
          ]
        },
        {
          "output_type": "stream",
          "name": "stderr",
          "text": [
            "Epoch 44: 100%|██████████| 5/5 [00:01<00:00,  4.72it/s]\n"
          ]
        },
        {
          "output_type": "stream",
          "name": "stdout",
          "text": [
            "Epoch 44 - Average training loss: 0.0016\n"
          ]
        },
        {
          "output_type": "stream",
          "name": "stderr",
          "text": [
            "Epoch 45: 100%|██████████| 5/5 [00:01<00:00,  4.71it/s]\n"
          ]
        },
        {
          "output_type": "stream",
          "name": "stdout",
          "text": [
            "Epoch 45 - Average training loss: 0.0014\n"
          ]
        },
        {
          "output_type": "stream",
          "name": "stderr",
          "text": [
            "Epoch 46: 100%|██████████| 5/5 [00:01<00:00,  4.72it/s]\n"
          ]
        },
        {
          "output_type": "stream",
          "name": "stdout",
          "text": [
            "Epoch 46 - Average training loss: 0.0014\n"
          ]
        },
        {
          "output_type": "stream",
          "name": "stderr",
          "text": [
            "Epoch 47: 100%|██████████| 5/5 [00:01<00:00,  4.72it/s]\n"
          ]
        },
        {
          "output_type": "stream",
          "name": "stdout",
          "text": [
            "Epoch 47 - Average training loss: 0.0020\n"
          ]
        },
        {
          "output_type": "stream",
          "name": "stderr",
          "text": [
            "Epoch 48: 100%|██████████| 5/5 [00:01<00:00,  4.71it/s]\n"
          ]
        },
        {
          "output_type": "stream",
          "name": "stdout",
          "text": [
            "Epoch 48 - Average training loss: 0.0014\n"
          ]
        },
        {
          "output_type": "stream",
          "name": "stderr",
          "text": [
            "Epoch 49: 100%|██████████| 5/5 [00:01<00:00,  4.72it/s]\n"
          ]
        },
        {
          "output_type": "stream",
          "name": "stdout",
          "text": [
            "Epoch 49 - Average training loss: 0.0038\n"
          ]
        },
        {
          "output_type": "stream",
          "name": "stderr",
          "text": [
            "Epoch 50: 100%|██████████| 5/5 [00:01<00:00,  4.70it/s]\n"
          ]
        },
        {
          "output_type": "stream",
          "name": "stdout",
          "text": [
            "Epoch 50 - Average training loss: 0.0058\n"
          ]
        },
        {
          "output_type": "stream",
          "name": "stderr",
          "text": [
            "Epoch 51: 100%|██████████| 5/5 [00:01<00:00,  4.72it/s]\n"
          ]
        },
        {
          "output_type": "stream",
          "name": "stdout",
          "text": [
            "Epoch 51 - Average training loss: 0.0108\n"
          ]
        },
        {
          "output_type": "stream",
          "name": "stderr",
          "text": [
            "Epoch 52: 100%|██████████| 5/5 [00:01<00:00,  4.71it/s]\n"
          ]
        },
        {
          "output_type": "stream",
          "name": "stdout",
          "text": [
            "Epoch 52 - Average training loss: 0.0038\n"
          ]
        },
        {
          "output_type": "stream",
          "name": "stderr",
          "text": [
            "Epoch 53: 100%|██████████| 5/5 [00:01<00:00,  4.70it/s]\n"
          ]
        },
        {
          "output_type": "stream",
          "name": "stdout",
          "text": [
            "Epoch 53 - Average training loss: 0.0015\n"
          ]
        },
        {
          "output_type": "stream",
          "name": "stderr",
          "text": [
            "Epoch 54: 100%|██████████| 5/5 [00:01<00:00,  4.71it/s]\n"
          ]
        },
        {
          "output_type": "stream",
          "name": "stdout",
          "text": [
            "Epoch 54 - Average training loss: 0.0054\n"
          ]
        },
        {
          "output_type": "stream",
          "name": "stderr",
          "text": [
            "Epoch 55: 100%|██████████| 5/5 [00:01<00:00,  4.72it/s]\n"
          ]
        },
        {
          "output_type": "stream",
          "name": "stdout",
          "text": [
            "Epoch 55 - Average training loss: 0.0153\n"
          ]
        },
        {
          "output_type": "stream",
          "name": "stderr",
          "text": [
            "Epoch 56: 100%|██████████| 5/5 [00:01<00:00,  4.70it/s]\n"
          ]
        },
        {
          "output_type": "stream",
          "name": "stdout",
          "text": [
            "Epoch 56 - Average training loss: 0.0040\n"
          ]
        },
        {
          "output_type": "stream",
          "name": "stderr",
          "text": [
            "Epoch 57: 100%|██████████| 5/5 [00:01<00:00,  4.71it/s]\n"
          ]
        },
        {
          "output_type": "stream",
          "name": "stdout",
          "text": [
            "Epoch 57 - Average training loss: 0.0322\n"
          ]
        },
        {
          "output_type": "stream",
          "name": "stderr",
          "text": [
            "Epoch 58: 100%|██████████| 5/5 [00:01<00:00,  4.71it/s]\n"
          ]
        },
        {
          "output_type": "stream",
          "name": "stdout",
          "text": [
            "Epoch 58 - Average training loss: 0.0036\n"
          ]
        },
        {
          "output_type": "stream",
          "name": "stderr",
          "text": [
            "Epoch 59: 100%|██████████| 5/5 [00:01<00:00,  4.70it/s]\n"
          ]
        },
        {
          "output_type": "stream",
          "name": "stdout",
          "text": [
            "Epoch 59 - Average training loss: 0.0020\n"
          ]
        },
        {
          "output_type": "stream",
          "name": "stderr",
          "text": [
            "Epoch 60: 100%|██████████| 5/5 [00:01<00:00,  4.70it/s]\n"
          ]
        },
        {
          "output_type": "stream",
          "name": "stdout",
          "text": [
            "Epoch 60 - Average training loss: 0.0012\n"
          ]
        },
        {
          "output_type": "stream",
          "name": "stderr",
          "text": [
            "Epoch 61: 100%|██████████| 5/5 [00:01<00:00,  4.70it/s]\n"
          ]
        },
        {
          "output_type": "stream",
          "name": "stdout",
          "text": [
            "Epoch 61 - Average training loss: 0.0015\n"
          ]
        },
        {
          "output_type": "stream",
          "name": "stderr",
          "text": [
            "Epoch 62: 100%|██████████| 5/5 [00:01<00:00,  4.70it/s]\n"
          ]
        },
        {
          "output_type": "stream",
          "name": "stdout",
          "text": [
            "Epoch 62 - Average training loss: 0.0014\n"
          ]
        },
        {
          "output_type": "stream",
          "name": "stderr",
          "text": [
            "Epoch 63: 100%|██████████| 5/5 [00:01<00:00,  4.70it/s]\n"
          ]
        },
        {
          "output_type": "stream",
          "name": "stdout",
          "text": [
            "Epoch 63 - Average training loss: 0.0012\n"
          ]
        },
        {
          "output_type": "stream",
          "name": "stderr",
          "text": [
            "Epoch 64: 100%|██████████| 5/5 [00:01<00:00,  4.72it/s]\n"
          ]
        },
        {
          "output_type": "stream",
          "name": "stdout",
          "text": [
            "Epoch 64 - Average training loss: 0.0009\n"
          ]
        },
        {
          "output_type": "stream",
          "name": "stderr",
          "text": [
            "Epoch 65: 100%|██████████| 5/5 [00:01<00:00,  4.70it/s]\n"
          ]
        },
        {
          "output_type": "stream",
          "name": "stdout",
          "text": [
            "Epoch 65 - Average training loss: 0.0009\n"
          ]
        },
        {
          "output_type": "stream",
          "name": "stderr",
          "text": [
            "Epoch 66: 100%|██████████| 5/5 [00:01<00:00,  4.70it/s]\n"
          ]
        },
        {
          "output_type": "stream",
          "name": "stdout",
          "text": [
            "Epoch 66 - Average training loss: 0.0008\n"
          ]
        },
        {
          "output_type": "stream",
          "name": "stderr",
          "text": [
            "Epoch 67: 100%|██████████| 5/5 [00:01<00:00,  4.70it/s]\n"
          ]
        },
        {
          "output_type": "stream",
          "name": "stdout",
          "text": [
            "Epoch 67 - Average training loss: 0.0010\n"
          ]
        },
        {
          "output_type": "stream",
          "name": "stderr",
          "text": [
            "Epoch 68: 100%|██████████| 5/5 [00:01<00:00,  4.71it/s]\n"
          ]
        },
        {
          "output_type": "stream",
          "name": "stdout",
          "text": [
            "Epoch 68 - Average training loss: 0.0007\n"
          ]
        },
        {
          "output_type": "stream",
          "name": "stderr",
          "text": [
            "Epoch 69: 100%|██████████| 5/5 [00:01<00:00,  4.71it/s]\n"
          ]
        },
        {
          "output_type": "stream",
          "name": "stdout",
          "text": [
            "Epoch 69 - Average training loss: 0.0009\n"
          ]
        },
        {
          "output_type": "stream",
          "name": "stderr",
          "text": [
            "Epoch 70: 100%|██████████| 5/5 [00:01<00:00,  4.70it/s]\n"
          ]
        },
        {
          "output_type": "stream",
          "name": "stdout",
          "text": [
            "Epoch 70 - Average training loss: 0.0007\n"
          ]
        },
        {
          "output_type": "stream",
          "name": "stderr",
          "text": [
            "Epoch 71: 100%|██████████| 5/5 [00:01<00:00,  4.71it/s]\n"
          ]
        },
        {
          "output_type": "stream",
          "name": "stdout",
          "text": [
            "Epoch 71 - Average training loss: 0.0007\n"
          ]
        },
        {
          "output_type": "stream",
          "name": "stderr",
          "text": [
            "Epoch 72: 100%|██████████| 5/5 [00:01<00:00,  4.69it/s]\n"
          ]
        },
        {
          "output_type": "stream",
          "name": "stdout",
          "text": [
            "Epoch 72 - Average training loss: 0.0008\n"
          ]
        },
        {
          "output_type": "stream",
          "name": "stderr",
          "text": [
            "Epoch 73: 100%|██████████| 5/5 [00:01<00:00,  4.70it/s]\n"
          ]
        },
        {
          "output_type": "stream",
          "name": "stdout",
          "text": [
            "Epoch 73 - Average training loss: 0.0006\n"
          ]
        },
        {
          "output_type": "stream",
          "name": "stderr",
          "text": [
            "Epoch 74: 100%|██████████| 5/5 [00:01<00:00,  4.70it/s]\n"
          ]
        },
        {
          "output_type": "stream",
          "name": "stdout",
          "text": [
            "Epoch 74 - Average training loss: 0.0006\n"
          ]
        },
        {
          "output_type": "stream",
          "name": "stderr",
          "text": [
            "Epoch 75: 100%|██████████| 5/5 [00:01<00:00,  4.70it/s]\n"
          ]
        },
        {
          "output_type": "stream",
          "name": "stdout",
          "text": [
            "Epoch 75 - Average training loss: 0.0007\n"
          ]
        },
        {
          "output_type": "stream",
          "name": "stderr",
          "text": [
            "Epoch 76: 100%|██████████| 5/5 [00:01<00:00,  4.72it/s]\n"
          ]
        },
        {
          "output_type": "stream",
          "name": "stdout",
          "text": [
            "Epoch 76 - Average training loss: 0.0006\n"
          ]
        },
        {
          "output_type": "stream",
          "name": "stderr",
          "text": [
            "Epoch 77: 100%|██████████| 5/5 [00:01<00:00,  4.71it/s]\n"
          ]
        },
        {
          "output_type": "stream",
          "name": "stdout",
          "text": [
            "Epoch 77 - Average training loss: 0.0006\n"
          ]
        },
        {
          "output_type": "stream",
          "name": "stderr",
          "text": [
            "Epoch 78: 100%|██████████| 5/5 [00:01<00:00,  4.69it/s]\n"
          ]
        },
        {
          "output_type": "stream",
          "name": "stdout",
          "text": [
            "Epoch 78 - Average training loss: 0.0006\n"
          ]
        },
        {
          "output_type": "stream",
          "name": "stderr",
          "text": [
            "Epoch 79: 100%|██████████| 5/5 [00:01<00:00,  4.70it/s]\n"
          ]
        },
        {
          "output_type": "stream",
          "name": "stdout",
          "text": [
            "Epoch 79 - Average training loss: 0.0005\n"
          ]
        },
        {
          "output_type": "stream",
          "name": "stderr",
          "text": [
            "Epoch 80: 100%|██████████| 5/5 [00:01<00:00,  4.71it/s]\n"
          ]
        },
        {
          "output_type": "stream",
          "name": "stdout",
          "text": [
            "Epoch 80 - Average training loss: 0.0006\n"
          ]
        },
        {
          "output_type": "stream",
          "name": "stderr",
          "text": [
            "Epoch 81: 100%|██████████| 5/5 [00:01<00:00,  4.70it/s]\n"
          ]
        },
        {
          "output_type": "stream",
          "name": "stdout",
          "text": [
            "Epoch 81 - Average training loss: 0.0005\n"
          ]
        },
        {
          "output_type": "stream",
          "name": "stderr",
          "text": [
            "Epoch 82: 100%|██████████| 5/5 [00:01<00:00,  4.68it/s]\n"
          ]
        },
        {
          "output_type": "stream",
          "name": "stdout",
          "text": [
            "Epoch 82 - Average training loss: 0.0006\n"
          ]
        },
        {
          "output_type": "stream",
          "name": "stderr",
          "text": [
            "Epoch 83: 100%|██████████| 5/5 [00:01<00:00,  4.70it/s]\n"
          ]
        },
        {
          "output_type": "stream",
          "name": "stdout",
          "text": [
            "Epoch 83 - Average training loss: 0.0005\n"
          ]
        },
        {
          "output_type": "stream",
          "name": "stderr",
          "text": [
            "Epoch 84: 100%|██████████| 5/5 [00:01<00:00,  4.70it/s]\n"
          ]
        },
        {
          "output_type": "stream",
          "name": "stdout",
          "text": [
            "Epoch 84 - Average training loss: 0.0005\n"
          ]
        },
        {
          "output_type": "stream",
          "name": "stderr",
          "text": [
            "Epoch 85: 100%|██████████| 5/5 [00:01<00:00,  4.67it/s]\n"
          ]
        },
        {
          "output_type": "stream",
          "name": "stdout",
          "text": [
            "Epoch 85 - Average training loss: 0.0005\n"
          ]
        },
        {
          "output_type": "stream",
          "name": "stderr",
          "text": [
            "Epoch 86: 100%|██████████| 5/5 [00:01<00:00,  4.68it/s]\n"
          ]
        },
        {
          "output_type": "stream",
          "name": "stdout",
          "text": [
            "Epoch 86 - Average training loss: 0.0005\n"
          ]
        },
        {
          "output_type": "stream",
          "name": "stderr",
          "text": [
            "Epoch 87: 100%|██████████| 5/5 [00:01<00:00,  4.70it/s]\n"
          ]
        },
        {
          "output_type": "stream",
          "name": "stdout",
          "text": [
            "Epoch 87 - Average training loss: 0.0004\n"
          ]
        },
        {
          "output_type": "stream",
          "name": "stderr",
          "text": [
            "Epoch 88: 100%|██████████| 5/5 [00:01<00:00,  4.69it/s]\n"
          ]
        },
        {
          "output_type": "stream",
          "name": "stdout",
          "text": [
            "Epoch 88 - Average training loss: 0.0005\n"
          ]
        },
        {
          "output_type": "stream",
          "name": "stderr",
          "text": [
            "Epoch 89: 100%|██████████| 5/5 [00:01<00:00,  4.71it/s]\n"
          ]
        },
        {
          "output_type": "stream",
          "name": "stdout",
          "text": [
            "Epoch 89 - Average training loss: 0.0004\n"
          ]
        },
        {
          "output_type": "stream",
          "name": "stderr",
          "text": [
            "Epoch 90: 100%|██████████| 5/5 [00:01<00:00,  4.69it/s]\n"
          ]
        },
        {
          "output_type": "stream",
          "name": "stdout",
          "text": [
            "Epoch 90 - Average training loss: 0.0004\n"
          ]
        },
        {
          "output_type": "stream",
          "name": "stderr",
          "text": [
            "Epoch 91: 100%|██████████| 5/5 [00:01<00:00,  4.69it/s]\n"
          ]
        },
        {
          "output_type": "stream",
          "name": "stdout",
          "text": [
            "Epoch 91 - Average training loss: 0.0004\n"
          ]
        },
        {
          "output_type": "stream",
          "name": "stderr",
          "text": [
            "Epoch 92: 100%|██████████| 5/5 [00:01<00:00,  4.68it/s]\n"
          ]
        },
        {
          "output_type": "stream",
          "name": "stdout",
          "text": [
            "Epoch 92 - Average training loss: 0.0004\n"
          ]
        },
        {
          "output_type": "stream",
          "name": "stderr",
          "text": [
            "Epoch 93: 100%|██████████| 5/5 [00:01<00:00,  4.69it/s]\n"
          ]
        },
        {
          "output_type": "stream",
          "name": "stdout",
          "text": [
            "Epoch 93 - Average training loss: 0.0004\n"
          ]
        },
        {
          "output_type": "stream",
          "name": "stderr",
          "text": [
            "Epoch 94: 100%|██████████| 5/5 [00:01<00:00,  4.69it/s]\n"
          ]
        },
        {
          "output_type": "stream",
          "name": "stdout",
          "text": [
            "Epoch 94 - Average training loss: 0.0004\n"
          ]
        },
        {
          "output_type": "stream",
          "name": "stderr",
          "text": [
            "Epoch 95: 100%|██████████| 5/5 [00:01<00:00,  4.70it/s]\n"
          ]
        },
        {
          "output_type": "stream",
          "name": "stdout",
          "text": [
            "Epoch 95 - Average training loss: 0.0005\n"
          ]
        },
        {
          "output_type": "stream",
          "name": "stderr",
          "text": [
            "Epoch 96: 100%|██████████| 5/5 [00:01<00:00,  4.68it/s]\n"
          ]
        },
        {
          "output_type": "stream",
          "name": "stdout",
          "text": [
            "Epoch 96 - Average training loss: 0.0004\n"
          ]
        },
        {
          "output_type": "stream",
          "name": "stderr",
          "text": [
            "Epoch 97: 100%|██████████| 5/5 [00:01<00:00,  4.68it/s]\n"
          ]
        },
        {
          "output_type": "stream",
          "name": "stdout",
          "text": [
            "Epoch 97 - Average training loss: 0.0004\n"
          ]
        },
        {
          "output_type": "stream",
          "name": "stderr",
          "text": [
            "Epoch 98: 100%|██████████| 5/5 [00:01<00:00,  4.70it/s]\n"
          ]
        },
        {
          "output_type": "stream",
          "name": "stdout",
          "text": [
            "Epoch 98 - Average training loss: 0.0004\n"
          ]
        },
        {
          "output_type": "stream",
          "name": "stderr",
          "text": [
            "Epoch 99: 100%|██████████| 5/5 [00:01<00:00,  4.69it/s]\n"
          ]
        },
        {
          "output_type": "stream",
          "name": "stdout",
          "text": [
            "Epoch 99 - Average training loss: 0.0004\n"
          ]
        },
        {
          "output_type": "stream",
          "name": "stderr",
          "text": [
            "Epoch 100: 100%|██████████| 5/5 [00:01<00:00,  4.69it/s]\n"
          ]
        },
        {
          "output_type": "stream",
          "name": "stdout",
          "text": [
            "Epoch 100 - Average training loss: 0.0004\n"
          ]
        },
        {
          "output_type": "stream",
          "name": "stderr",
          "text": [
            "Evaluating: 100%|██████████| 8/8 [00:00<00:00, 19.27it/s]\n"
          ]
        },
        {
          "output_type": "stream",
          "name": "stdout",
          "text": [
            "F1 Score: 0.6895\n"
          ]
        }
      ]
    },
    {
      "cell_type": "markdown",
      "source": [
        "**B. One shot**"
      ],
      "metadata": {
        "id": "teY3yZCyeLA9"
      }
    },
    {
      "cell_type": "code",
      "source": [
        "import pandas as pd\n",
        "import numpy as np\n",
        "from sklearn.feature_extraction.text import TfidfVectorizer\n",
        "from sklearn.metrics import f1_score\n",
        "from sklearn.model_selection import train_test_split\n",
        "from sklearn.preprocessing import LabelEncoder\n",
        "import torch\n",
        "import torch.nn as nn\n",
        "import torch.optim as optim\n",
        "from torch.utils.data import DataLoader, TensorDataset\n",
        "from tqdm import tqdm\n",
        "from transformers import RobertaTokenizer, RobertaForSequenceClassification, AdamW\n",
        "\n",
        "train_data = pd.read_csv('preprocessed_no_stopwords_train_one_shot.csv')\n",
        "test_data = pd.read_csv('preprocessed_no_stopwords_test.csv')\n",
        "\n",
        "# Preprocessing\n",
        "X_train = train_data['sentence1']\n",
        "y_train = train_data['label']\n",
        "X_test = test_data['sentence1']\n",
        "y_test = test_data['label']\n",
        "\n",
        "# Tokenize text using RoBERTa tokenizer\n",
        "tokenizer = RobertaTokenizer.from_pretrained('roberta-base')\n",
        "model = RobertaForSequenceClassification.from_pretrained('roberta-base')\n",
        "X_train_encoded = tokenizer(X_train.tolist(), truncation=True, padding=True, max_length=128, return_tensors='pt')\n",
        "X_test_encoded = tokenizer(X_test.tolist(), truncation=True, padding=True, max_length=128, return_tensors='pt')\n",
        "\n",
        "# Encode labels\n",
        "label_encoder = LabelEncoder() #This is done to transform Categorical data of string type in the data set into numerical values which the model can understand.\n",
        "y_train_encoded = label_encoder.fit_transform(y_train)\n",
        "y_test_encoded = label_encoder.transform(y_test)\n",
        "\n",
        "# Convert to PyTorch tensors\n",
        "X_train_tensor = torch.tensor(X_train_encoded['input_ids'], dtype=torch.long)\n",
        "X_test_tensor = torch.tensor(X_test_encoded['input_ids'], dtype=torch.long)\n",
        "y_train_tensor = torch.tensor(y_train_encoded, dtype=torch.long)\n",
        "y_test_tensor = torch.tensor(y_test_encoded, dtype=torch.long)\n",
        "\n",
        "# Create DataLoader for batching\n",
        "train_dataset = TensorDataset(X_train_tensor, y_train_tensor)\n",
        "train_loader = DataLoader(train_dataset, batch_size=64, shuffle=True)\n",
        "\n",
        "# Define RoBERTa model for sequence classification\n",
        "model = RobertaForSequenceClassification.from_pretrained('roberta-base', num_labels=len(label_encoder.classes_))\n",
        "model.to('cuda' if torch.cuda.is_available() else 'cpu')\n",
        "\n",
        "# Define optimizer and loss function\n",
        "optimizer = AdamW(model.parameters(), lr=2e-5)\n",
        "criterion = nn.CrossEntropyLoss()\n",
        "\n",
        "# Training loop\n",
        "num_epochs = 100\n",
        "for epoch in range(num_epochs):\n",
        "    model.train()\n",
        "    total_loss = 0.0\n",
        "    for inputs, labels in tqdm(train_loader, desc=f\"Epoch {epoch + 1}\"):\n",
        "        optimizer.zero_grad()\n",
        "        outputs = model(inputs.to(model.device), labels=labels.to(model.device))\n",
        "        loss = outputs.loss\n",
        "        total_loss += loss.item()\n",
        "        loss.backward()\n",
        "        optimizer.step()\n",
        "    avg_train_loss = total_loss / len(train_loader)\n",
        "    print(f\"Epoch {epoch + 1} - Average training loss: {avg_train_loss:.4f}\")\n",
        "\n",
        "# Evaluation\n",
        "model.eval()\n",
        "y_pred = []\n",
        "with torch.no_grad():\n",
        "    for inputs in tqdm(torch.split(X_test_tensor, 64), desc=\"Evaluating\"):\n",
        "        outputs = model(inputs.to(model.device))\n",
        "        logits = outputs.logits\n",
        "        preds = torch.argmax(logits, dim=1).cpu().numpy()\n",
        "        y_pred.extend(preds)\n",
        "\n",
        "# Calculate F1 score\n",
        "f1 = f1_score(y_test_encoded, y_pred, average='macro')\n",
        "print(f\"F1 Score: {f1:.4f}\")"
      ],
      "metadata": {
        "colab": {
          "base_uri": "https://localhost:8080/"
        },
        "id": "G7Io7ejvAE77",
        "outputId": "67b1a66c-64d5-48e5-ac45-f1f0816995c6"
      },
      "execution_count": null,
      "outputs": [
        {
          "output_type": "stream",
          "name": "stderr",
          "text": [
            "Some weights of RobertaForSequenceClassification were not initialized from the model checkpoint at roberta-base and are newly initialized: ['classifier.dense.bias', 'classifier.out_proj.bias', 'classifier.out_proj.weight', 'classifier.dense.weight']\n",
            "You should probably TRAIN this model on a down-stream task to be able to use it for predictions and inference.\n",
            "<ipython-input-44-3bd161565a11>:35: UserWarning: To copy construct from a tensor, it is recommended to use sourceTensor.clone().detach() or sourceTensor.clone().detach().requires_grad_(True), rather than torch.tensor(sourceTensor).\n",
            "  X_train_tensor = torch.tensor(X_train_encoded['input_ids'], dtype=torch.long)\n",
            "<ipython-input-44-3bd161565a11>:36: UserWarning: To copy construct from a tensor, it is recommended to use sourceTensor.clone().detach() or sourceTensor.clone().detach().requires_grad_(True), rather than torch.tensor(sourceTensor).\n",
            "  X_test_tensor = torch.tensor(X_test_encoded['input_ids'], dtype=torch.long)\n",
            "Some weights of RobertaForSequenceClassification were not initialized from the model checkpoint at roberta-base and are newly initialized: ['classifier.dense.bias', 'classifier.out_proj.bias', 'classifier.out_proj.weight', 'classifier.dense.weight']\n",
            "You should probably TRAIN this model on a down-stream task to be able to use it for predictions and inference.\n",
            "/usr/local/lib/python3.10/dist-packages/transformers/optimization.py:411: FutureWarning: This implementation of AdamW is deprecated and will be removed in a future version. Use the PyTorch implementation torch.optim.AdamW instead, or set `no_deprecation_warning=True` to disable this warning\n",
            "  warnings.warn(\n",
            "Epoch 1: 100%|██████████| 2/2 [00:00<00:00,  5.71it/s]\n"
          ]
        },
        {
          "output_type": "stream",
          "name": "stdout",
          "text": [
            "Epoch 1 - Average training loss: 0.6842\n"
          ]
        },
        {
          "output_type": "stream",
          "name": "stderr",
          "text": [
            "Epoch 2: 100%|██████████| 2/2 [00:00<00:00,  5.87it/s]\n"
          ]
        },
        {
          "output_type": "stream",
          "name": "stdout",
          "text": [
            "Epoch 2 - Average training loss: 0.6629\n"
          ]
        },
        {
          "output_type": "stream",
          "name": "stderr",
          "text": [
            "Epoch 3: 100%|██████████| 2/2 [00:00<00:00,  5.89it/s]\n"
          ]
        },
        {
          "output_type": "stream",
          "name": "stdout",
          "text": [
            "Epoch 3 - Average training loss: 0.6255\n"
          ]
        },
        {
          "output_type": "stream",
          "name": "stderr",
          "text": [
            "Epoch 4: 100%|██████████| 2/2 [00:00<00:00,  5.88it/s]\n"
          ]
        },
        {
          "output_type": "stream",
          "name": "stdout",
          "text": [
            "Epoch 4 - Average training loss: 0.6268\n"
          ]
        },
        {
          "output_type": "stream",
          "name": "stderr",
          "text": [
            "Epoch 5: 100%|██████████| 2/2 [00:00<00:00,  5.86it/s]\n"
          ]
        },
        {
          "output_type": "stream",
          "name": "stdout",
          "text": [
            "Epoch 5 - Average training loss: 0.6486\n"
          ]
        },
        {
          "output_type": "stream",
          "name": "stderr",
          "text": [
            "Epoch 6: 100%|██████████| 2/2 [00:00<00:00,  5.90it/s]\n"
          ]
        },
        {
          "output_type": "stream",
          "name": "stdout",
          "text": [
            "Epoch 6 - Average training loss: 0.6473\n"
          ]
        },
        {
          "output_type": "stream",
          "name": "stderr",
          "text": [
            "Epoch 7: 100%|██████████| 2/2 [00:00<00:00,  5.89it/s]\n"
          ]
        },
        {
          "output_type": "stream",
          "name": "stdout",
          "text": [
            "Epoch 7 - Average training loss: 0.6515\n"
          ]
        },
        {
          "output_type": "stream",
          "name": "stderr",
          "text": [
            "Epoch 8: 100%|██████████| 2/2 [00:00<00:00,  5.91it/s]\n"
          ]
        },
        {
          "output_type": "stream",
          "name": "stdout",
          "text": [
            "Epoch 8 - Average training loss: 0.6306\n"
          ]
        },
        {
          "output_type": "stream",
          "name": "stderr",
          "text": [
            "Epoch 9: 100%|██████████| 2/2 [00:00<00:00,  5.87it/s]\n"
          ]
        },
        {
          "output_type": "stream",
          "name": "stdout",
          "text": [
            "Epoch 9 - Average training loss: 0.6713\n"
          ]
        },
        {
          "output_type": "stream",
          "name": "stderr",
          "text": [
            "Epoch 10: 100%|██████████| 2/2 [00:00<00:00,  5.89it/s]\n"
          ]
        },
        {
          "output_type": "stream",
          "name": "stdout",
          "text": [
            "Epoch 10 - Average training loss: 0.6418\n"
          ]
        },
        {
          "output_type": "stream",
          "name": "stderr",
          "text": [
            "Epoch 11: 100%|██████████| 2/2 [00:00<00:00,  5.85it/s]\n"
          ]
        },
        {
          "output_type": "stream",
          "name": "stdout",
          "text": [
            "Epoch 11 - Average training loss: 0.7079\n"
          ]
        },
        {
          "output_type": "stream",
          "name": "stderr",
          "text": [
            "Epoch 12: 100%|██████████| 2/2 [00:00<00:00,  5.88it/s]\n"
          ]
        },
        {
          "output_type": "stream",
          "name": "stdout",
          "text": [
            "Epoch 12 - Average training loss: 0.6617\n"
          ]
        },
        {
          "output_type": "stream",
          "name": "stderr",
          "text": [
            "Epoch 13: 100%|██████████| 2/2 [00:00<00:00,  5.88it/s]\n"
          ]
        },
        {
          "output_type": "stream",
          "name": "stdout",
          "text": [
            "Epoch 13 - Average training loss: 0.6644\n"
          ]
        },
        {
          "output_type": "stream",
          "name": "stderr",
          "text": [
            "Epoch 14: 100%|██████████| 2/2 [00:00<00:00,  5.89it/s]\n"
          ]
        },
        {
          "output_type": "stream",
          "name": "stdout",
          "text": [
            "Epoch 14 - Average training loss: 0.6768\n"
          ]
        },
        {
          "output_type": "stream",
          "name": "stderr",
          "text": [
            "Epoch 15: 100%|██████████| 2/2 [00:00<00:00,  5.87it/s]\n"
          ]
        },
        {
          "output_type": "stream",
          "name": "stdout",
          "text": [
            "Epoch 15 - Average training loss: 0.6587\n"
          ]
        },
        {
          "output_type": "stream",
          "name": "stderr",
          "text": [
            "Epoch 16: 100%|██████████| 2/2 [00:00<00:00,  5.86it/s]\n"
          ]
        },
        {
          "output_type": "stream",
          "name": "stdout",
          "text": [
            "Epoch 16 - Average training loss: 0.6345\n"
          ]
        },
        {
          "output_type": "stream",
          "name": "stderr",
          "text": [
            "Epoch 17: 100%|██████████| 2/2 [00:00<00:00,  5.87it/s]\n"
          ]
        },
        {
          "output_type": "stream",
          "name": "stdout",
          "text": [
            "Epoch 17 - Average training loss: 0.6225\n"
          ]
        },
        {
          "output_type": "stream",
          "name": "stderr",
          "text": [
            "Epoch 18: 100%|██████████| 2/2 [00:00<00:00,  5.88it/s]\n"
          ]
        },
        {
          "output_type": "stream",
          "name": "stdout",
          "text": [
            "Epoch 18 - Average training loss: 0.5951\n"
          ]
        },
        {
          "output_type": "stream",
          "name": "stderr",
          "text": [
            "Epoch 19: 100%|██████████| 2/2 [00:00<00:00,  5.84it/s]\n"
          ]
        },
        {
          "output_type": "stream",
          "name": "stdout",
          "text": [
            "Epoch 19 - Average training loss: 0.6461\n"
          ]
        },
        {
          "output_type": "stream",
          "name": "stderr",
          "text": [
            "Epoch 20: 100%|██████████| 2/2 [00:00<00:00,  5.84it/s]\n"
          ]
        },
        {
          "output_type": "stream",
          "name": "stdout",
          "text": [
            "Epoch 20 - Average training loss: 0.5563\n"
          ]
        },
        {
          "output_type": "stream",
          "name": "stderr",
          "text": [
            "Epoch 21: 100%|██████████| 2/2 [00:00<00:00,  5.86it/s]\n"
          ]
        },
        {
          "output_type": "stream",
          "name": "stdout",
          "text": [
            "Epoch 21 - Average training loss: 0.4911\n"
          ]
        },
        {
          "output_type": "stream",
          "name": "stderr",
          "text": [
            "Epoch 22: 100%|██████████| 2/2 [00:00<00:00,  5.90it/s]\n"
          ]
        },
        {
          "output_type": "stream",
          "name": "stdout",
          "text": [
            "Epoch 22 - Average training loss: 0.5766\n"
          ]
        },
        {
          "output_type": "stream",
          "name": "stderr",
          "text": [
            "Epoch 23: 100%|██████████| 2/2 [00:00<00:00,  5.89it/s]\n"
          ]
        },
        {
          "output_type": "stream",
          "name": "stdout",
          "text": [
            "Epoch 23 - Average training loss: 0.5574\n"
          ]
        },
        {
          "output_type": "stream",
          "name": "stderr",
          "text": [
            "Epoch 24: 100%|██████████| 2/2 [00:00<00:00,  5.81it/s]\n"
          ]
        },
        {
          "output_type": "stream",
          "name": "stdout",
          "text": [
            "Epoch 24 - Average training loss: 0.5511\n"
          ]
        },
        {
          "output_type": "stream",
          "name": "stderr",
          "text": [
            "Epoch 25: 100%|██████████| 2/2 [00:00<00:00,  5.90it/s]\n"
          ]
        },
        {
          "output_type": "stream",
          "name": "stdout",
          "text": [
            "Epoch 25 - Average training loss: 0.4580\n"
          ]
        },
        {
          "output_type": "stream",
          "name": "stderr",
          "text": [
            "Epoch 26: 100%|██████████| 2/2 [00:00<00:00,  5.89it/s]\n"
          ]
        },
        {
          "output_type": "stream",
          "name": "stdout",
          "text": [
            "Epoch 26 - Average training loss: 0.3802\n"
          ]
        },
        {
          "output_type": "stream",
          "name": "stderr",
          "text": [
            "Epoch 27: 100%|██████████| 2/2 [00:00<00:00,  5.87it/s]\n"
          ]
        },
        {
          "output_type": "stream",
          "name": "stdout",
          "text": [
            "Epoch 27 - Average training loss: 0.2954\n"
          ]
        },
        {
          "output_type": "stream",
          "name": "stderr",
          "text": [
            "Epoch 28: 100%|██████████| 2/2 [00:00<00:00,  5.86it/s]\n"
          ]
        },
        {
          "output_type": "stream",
          "name": "stdout",
          "text": [
            "Epoch 28 - Average training loss: 0.2118\n"
          ]
        },
        {
          "output_type": "stream",
          "name": "stderr",
          "text": [
            "Epoch 29: 100%|██████████| 2/2 [00:00<00:00,  5.91it/s]\n"
          ]
        },
        {
          "output_type": "stream",
          "name": "stdout",
          "text": [
            "Epoch 29 - Average training loss: 0.5358\n"
          ]
        },
        {
          "output_type": "stream",
          "name": "stderr",
          "text": [
            "Epoch 30: 100%|██████████| 2/2 [00:00<00:00,  5.89it/s]\n"
          ]
        },
        {
          "output_type": "stream",
          "name": "stdout",
          "text": [
            "Epoch 30 - Average training loss: 0.2856\n"
          ]
        },
        {
          "output_type": "stream",
          "name": "stderr",
          "text": [
            "Epoch 31: 100%|██████████| 2/2 [00:00<00:00,  5.89it/s]\n"
          ]
        },
        {
          "output_type": "stream",
          "name": "stdout",
          "text": [
            "Epoch 31 - Average training loss: 0.2020\n"
          ]
        },
        {
          "output_type": "stream",
          "name": "stderr",
          "text": [
            "Epoch 32: 100%|██████████| 2/2 [00:00<00:00,  5.83it/s]\n"
          ]
        },
        {
          "output_type": "stream",
          "name": "stdout",
          "text": [
            "Epoch 32 - Average training loss: 0.2985\n"
          ]
        },
        {
          "output_type": "stream",
          "name": "stderr",
          "text": [
            "Epoch 33: 100%|██████████| 2/2 [00:00<00:00,  5.83it/s]\n"
          ]
        },
        {
          "output_type": "stream",
          "name": "stdout",
          "text": [
            "Epoch 33 - Average training loss: 0.1591\n"
          ]
        },
        {
          "output_type": "stream",
          "name": "stderr",
          "text": [
            "Epoch 34: 100%|██████████| 2/2 [00:00<00:00,  5.84it/s]\n"
          ]
        },
        {
          "output_type": "stream",
          "name": "stdout",
          "text": [
            "Epoch 34 - Average training loss: 0.2741\n"
          ]
        },
        {
          "output_type": "stream",
          "name": "stderr",
          "text": [
            "Epoch 35: 100%|██████████| 2/2 [00:00<00:00,  5.83it/s]\n"
          ]
        },
        {
          "output_type": "stream",
          "name": "stdout",
          "text": [
            "Epoch 35 - Average training loss: 0.0919\n"
          ]
        },
        {
          "output_type": "stream",
          "name": "stderr",
          "text": [
            "Epoch 36: 100%|██████████| 2/2 [00:00<00:00,  5.82it/s]\n"
          ]
        },
        {
          "output_type": "stream",
          "name": "stdout",
          "text": [
            "Epoch 36 - Average training loss: 0.2474\n"
          ]
        },
        {
          "output_type": "stream",
          "name": "stderr",
          "text": [
            "Epoch 37: 100%|██████████| 2/2 [00:00<00:00,  5.85it/s]\n"
          ]
        },
        {
          "output_type": "stream",
          "name": "stdout",
          "text": [
            "Epoch 37 - Average training loss: 0.0948\n"
          ]
        },
        {
          "output_type": "stream",
          "name": "stderr",
          "text": [
            "Epoch 38: 100%|██████████| 2/2 [00:00<00:00,  5.84it/s]\n"
          ]
        },
        {
          "output_type": "stream",
          "name": "stdout",
          "text": [
            "Epoch 38 - Average training loss: 0.0786\n"
          ]
        },
        {
          "output_type": "stream",
          "name": "stderr",
          "text": [
            "Epoch 39: 100%|██████████| 2/2 [00:00<00:00,  5.82it/s]\n"
          ]
        },
        {
          "output_type": "stream",
          "name": "stdout",
          "text": [
            "Epoch 39 - Average training loss: 0.1712\n"
          ]
        },
        {
          "output_type": "stream",
          "name": "stderr",
          "text": [
            "Epoch 40: 100%|██████████| 2/2 [00:00<00:00,  5.87it/s]\n"
          ]
        },
        {
          "output_type": "stream",
          "name": "stdout",
          "text": [
            "Epoch 40 - Average training loss: 0.0736\n"
          ]
        },
        {
          "output_type": "stream",
          "name": "stderr",
          "text": [
            "Epoch 41: 100%|██████████| 2/2 [00:00<00:00,  5.88it/s]\n"
          ]
        },
        {
          "output_type": "stream",
          "name": "stdout",
          "text": [
            "Epoch 41 - Average training loss: 0.0586\n"
          ]
        },
        {
          "output_type": "stream",
          "name": "stderr",
          "text": [
            "Epoch 42: 100%|██████████| 2/2 [00:00<00:00,  5.82it/s]\n"
          ]
        },
        {
          "output_type": "stream",
          "name": "stdout",
          "text": [
            "Epoch 42 - Average training loss: 0.0169\n"
          ]
        },
        {
          "output_type": "stream",
          "name": "stderr",
          "text": [
            "Epoch 43: 100%|██████████| 2/2 [00:00<00:00,  5.67it/s]\n"
          ]
        },
        {
          "output_type": "stream",
          "name": "stdout",
          "text": [
            "Epoch 43 - Average training loss: 0.0142\n"
          ]
        },
        {
          "output_type": "stream",
          "name": "stderr",
          "text": [
            "Epoch 44: 100%|██████████| 2/2 [00:00<00:00,  5.54it/s]\n"
          ]
        },
        {
          "output_type": "stream",
          "name": "stdout",
          "text": [
            "Epoch 44 - Average training loss: 0.0095\n"
          ]
        },
        {
          "output_type": "stream",
          "name": "stderr",
          "text": [
            "Epoch 45: 100%|██████████| 2/2 [00:00<00:00,  5.64it/s]\n"
          ]
        },
        {
          "output_type": "stream",
          "name": "stdout",
          "text": [
            "Epoch 45 - Average training loss: 0.0793\n"
          ]
        },
        {
          "output_type": "stream",
          "name": "stderr",
          "text": [
            "Epoch 46: 100%|██████████| 2/2 [00:00<00:00,  5.57it/s]\n"
          ]
        },
        {
          "output_type": "stream",
          "name": "stdout",
          "text": [
            "Epoch 46 - Average training loss: 0.0486\n"
          ]
        },
        {
          "output_type": "stream",
          "name": "stderr",
          "text": [
            "Epoch 47: 100%|██████████| 2/2 [00:00<00:00,  5.58it/s]\n"
          ]
        },
        {
          "output_type": "stream",
          "name": "stdout",
          "text": [
            "Epoch 47 - Average training loss: 0.0535\n"
          ]
        },
        {
          "output_type": "stream",
          "name": "stderr",
          "text": [
            "Epoch 48: 100%|██████████| 2/2 [00:00<00:00,  5.84it/s]\n"
          ]
        },
        {
          "output_type": "stream",
          "name": "stdout",
          "text": [
            "Epoch 48 - Average training loss: 0.0190\n"
          ]
        },
        {
          "output_type": "stream",
          "name": "stderr",
          "text": [
            "Epoch 49: 100%|██████████| 2/2 [00:00<00:00,  5.78it/s]\n"
          ]
        },
        {
          "output_type": "stream",
          "name": "stdout",
          "text": [
            "Epoch 49 - Average training loss: 0.0240\n"
          ]
        },
        {
          "output_type": "stream",
          "name": "stderr",
          "text": [
            "Epoch 50: 100%|██████████| 2/2 [00:00<00:00,  5.86it/s]\n"
          ]
        },
        {
          "output_type": "stream",
          "name": "stdout",
          "text": [
            "Epoch 50 - Average training loss: 0.0160\n"
          ]
        },
        {
          "output_type": "stream",
          "name": "stderr",
          "text": [
            "Epoch 51: 100%|██████████| 2/2 [00:00<00:00,  5.87it/s]\n"
          ]
        },
        {
          "output_type": "stream",
          "name": "stdout",
          "text": [
            "Epoch 51 - Average training loss: 0.0058\n"
          ]
        },
        {
          "output_type": "stream",
          "name": "stderr",
          "text": [
            "Epoch 52: 100%|██████████| 2/2 [00:00<00:00,  5.82it/s]\n"
          ]
        },
        {
          "output_type": "stream",
          "name": "stdout",
          "text": [
            "Epoch 52 - Average training loss: 0.0063\n"
          ]
        },
        {
          "output_type": "stream",
          "name": "stderr",
          "text": [
            "Epoch 53: 100%|██████████| 2/2 [00:00<00:00,  5.86it/s]\n"
          ]
        },
        {
          "output_type": "stream",
          "name": "stdout",
          "text": [
            "Epoch 53 - Average training loss: 0.0046\n"
          ]
        },
        {
          "output_type": "stream",
          "name": "stderr",
          "text": [
            "Epoch 54: 100%|██████████| 2/2 [00:00<00:00,  5.76it/s]\n"
          ]
        },
        {
          "output_type": "stream",
          "name": "stdout",
          "text": [
            "Epoch 54 - Average training loss: 0.0097\n"
          ]
        },
        {
          "output_type": "stream",
          "name": "stderr",
          "text": [
            "Epoch 55: 100%|██████████| 2/2 [00:00<00:00,  5.88it/s]\n"
          ]
        },
        {
          "output_type": "stream",
          "name": "stdout",
          "text": [
            "Epoch 55 - Average training loss: 0.0044\n"
          ]
        },
        {
          "output_type": "stream",
          "name": "stderr",
          "text": [
            "Epoch 56: 100%|██████████| 2/2 [00:00<00:00,  5.81it/s]\n"
          ]
        },
        {
          "output_type": "stream",
          "name": "stdout",
          "text": [
            "Epoch 56 - Average training loss: 0.0083\n"
          ]
        },
        {
          "output_type": "stream",
          "name": "stderr",
          "text": [
            "Epoch 57: 100%|██████████| 2/2 [00:00<00:00,  5.92it/s]\n"
          ]
        },
        {
          "output_type": "stream",
          "name": "stdout",
          "text": [
            "Epoch 57 - Average training loss: 0.0071\n"
          ]
        },
        {
          "output_type": "stream",
          "name": "stderr",
          "text": [
            "Epoch 58: 100%|██████████| 2/2 [00:00<00:00,  5.89it/s]\n"
          ]
        },
        {
          "output_type": "stream",
          "name": "stdout",
          "text": [
            "Epoch 58 - Average training loss: 0.0034\n"
          ]
        },
        {
          "output_type": "stream",
          "name": "stderr",
          "text": [
            "Epoch 59: 100%|██████████| 2/2 [00:00<00:00,  5.83it/s]\n"
          ]
        },
        {
          "output_type": "stream",
          "name": "stdout",
          "text": [
            "Epoch 59 - Average training loss: 0.0029\n"
          ]
        },
        {
          "output_type": "stream",
          "name": "stderr",
          "text": [
            "Epoch 60: 100%|██████████| 2/2 [00:00<00:00,  5.90it/s]\n"
          ]
        },
        {
          "output_type": "stream",
          "name": "stdout",
          "text": [
            "Epoch 60 - Average training loss: 0.0027\n"
          ]
        },
        {
          "output_type": "stream",
          "name": "stderr",
          "text": [
            "Epoch 61: 100%|██████████| 2/2 [00:00<00:00,  5.85it/s]\n"
          ]
        },
        {
          "output_type": "stream",
          "name": "stdout",
          "text": [
            "Epoch 61 - Average training loss: 0.0029\n"
          ]
        },
        {
          "output_type": "stream",
          "name": "stderr",
          "text": [
            "Epoch 62: 100%|██████████| 2/2 [00:00<00:00,  5.88it/s]\n"
          ]
        },
        {
          "output_type": "stream",
          "name": "stdout",
          "text": [
            "Epoch 62 - Average training loss: 0.0074\n"
          ]
        },
        {
          "output_type": "stream",
          "name": "stderr",
          "text": [
            "Epoch 63: 100%|██████████| 2/2 [00:00<00:00,  5.89it/s]\n"
          ]
        },
        {
          "output_type": "stream",
          "name": "stdout",
          "text": [
            "Epoch 63 - Average training loss: 0.0024\n"
          ]
        },
        {
          "output_type": "stream",
          "name": "stderr",
          "text": [
            "Epoch 64: 100%|██████████| 2/2 [00:00<00:00,  5.90it/s]\n"
          ]
        },
        {
          "output_type": "stream",
          "name": "stdout",
          "text": [
            "Epoch 64 - Average training loss: 0.0023\n"
          ]
        },
        {
          "output_type": "stream",
          "name": "stderr",
          "text": [
            "Epoch 65: 100%|██████████| 2/2 [00:00<00:00,  5.85it/s]\n"
          ]
        },
        {
          "output_type": "stream",
          "name": "stdout",
          "text": [
            "Epoch 65 - Average training loss: 0.0032\n"
          ]
        },
        {
          "output_type": "stream",
          "name": "stderr",
          "text": [
            "Epoch 66: 100%|██████████| 2/2 [00:00<00:00,  5.84it/s]\n"
          ]
        },
        {
          "output_type": "stream",
          "name": "stdout",
          "text": [
            "Epoch 66 - Average training loss: 0.0020\n"
          ]
        },
        {
          "output_type": "stream",
          "name": "stderr",
          "text": [
            "Epoch 67: 100%|██████████| 2/2 [00:00<00:00,  5.83it/s]\n"
          ]
        },
        {
          "output_type": "stream",
          "name": "stdout",
          "text": [
            "Epoch 67 - Average training loss: 0.0019\n"
          ]
        },
        {
          "output_type": "stream",
          "name": "stderr",
          "text": [
            "Epoch 68: 100%|██████████| 2/2 [00:00<00:00,  5.85it/s]\n"
          ]
        },
        {
          "output_type": "stream",
          "name": "stdout",
          "text": [
            "Epoch 68 - Average training loss: 0.0018\n"
          ]
        },
        {
          "output_type": "stream",
          "name": "stderr",
          "text": [
            "Epoch 69: 100%|██████████| 2/2 [00:00<00:00,  5.78it/s]\n"
          ]
        },
        {
          "output_type": "stream",
          "name": "stdout",
          "text": [
            "Epoch 69 - Average training loss: 0.0018\n"
          ]
        },
        {
          "output_type": "stream",
          "name": "stderr",
          "text": [
            "Epoch 70: 100%|██████████| 2/2 [00:00<00:00,  5.81it/s]\n"
          ]
        },
        {
          "output_type": "stream",
          "name": "stdout",
          "text": [
            "Epoch 70 - Average training loss: 0.0018\n"
          ]
        },
        {
          "output_type": "stream",
          "name": "stderr",
          "text": [
            "Epoch 71: 100%|██████████| 2/2 [00:00<00:00,  5.81it/s]\n"
          ]
        },
        {
          "output_type": "stream",
          "name": "stdout",
          "text": [
            "Epoch 71 - Average training loss: 0.0099\n"
          ]
        },
        {
          "output_type": "stream",
          "name": "stderr",
          "text": [
            "Epoch 72: 100%|██████████| 2/2 [00:00<00:00,  5.86it/s]\n"
          ]
        },
        {
          "output_type": "stream",
          "name": "stdout",
          "text": [
            "Epoch 72 - Average training loss: 0.0017\n"
          ]
        },
        {
          "output_type": "stream",
          "name": "stderr",
          "text": [
            "Epoch 73: 100%|██████████| 2/2 [00:00<00:00,  5.81it/s]\n"
          ]
        },
        {
          "output_type": "stream",
          "name": "stdout",
          "text": [
            "Epoch 73 - Average training loss: 0.1478\n"
          ]
        },
        {
          "output_type": "stream",
          "name": "stderr",
          "text": [
            "Epoch 74: 100%|██████████| 2/2 [00:00<00:00,  5.85it/s]\n"
          ]
        },
        {
          "output_type": "stream",
          "name": "stdout",
          "text": [
            "Epoch 74 - Average training loss: 0.0517\n"
          ]
        },
        {
          "output_type": "stream",
          "name": "stderr",
          "text": [
            "Epoch 75: 100%|██████████| 2/2 [00:00<00:00,  5.84it/s]\n"
          ]
        },
        {
          "output_type": "stream",
          "name": "stdout",
          "text": [
            "Epoch 75 - Average training loss: 0.0021\n"
          ]
        },
        {
          "output_type": "stream",
          "name": "stderr",
          "text": [
            "Epoch 76: 100%|██████████| 2/2 [00:00<00:00,  5.88it/s]\n"
          ]
        },
        {
          "output_type": "stream",
          "name": "stdout",
          "text": [
            "Epoch 76 - Average training loss: 0.0028\n"
          ]
        },
        {
          "output_type": "stream",
          "name": "stderr",
          "text": [
            "Epoch 77: 100%|██████████| 2/2 [00:00<00:00,  5.81it/s]\n"
          ]
        },
        {
          "output_type": "stream",
          "name": "stdout",
          "text": [
            "Epoch 77 - Average training loss: 0.0071\n"
          ]
        },
        {
          "output_type": "stream",
          "name": "stderr",
          "text": [
            "Epoch 78: 100%|██████████| 2/2 [00:00<00:00,  5.87it/s]\n"
          ]
        },
        {
          "output_type": "stream",
          "name": "stdout",
          "text": [
            "Epoch 78 - Average training loss: 0.0745\n"
          ]
        },
        {
          "output_type": "stream",
          "name": "stderr",
          "text": [
            "Epoch 79: 100%|██████████| 2/2 [00:00<00:00,  5.91it/s]\n"
          ]
        },
        {
          "output_type": "stream",
          "name": "stdout",
          "text": [
            "Epoch 79 - Average training loss: 0.0054\n"
          ]
        },
        {
          "output_type": "stream",
          "name": "stderr",
          "text": [
            "Epoch 80: 100%|██████████| 2/2 [00:00<00:00,  5.80it/s]\n"
          ]
        },
        {
          "output_type": "stream",
          "name": "stdout",
          "text": [
            "Epoch 80 - Average training loss: 0.0238\n"
          ]
        },
        {
          "output_type": "stream",
          "name": "stderr",
          "text": [
            "Epoch 81: 100%|██████████| 2/2 [00:00<00:00,  5.82it/s]\n"
          ]
        },
        {
          "output_type": "stream",
          "name": "stdout",
          "text": [
            "Epoch 81 - Average training loss: 0.0351\n"
          ]
        },
        {
          "output_type": "stream",
          "name": "stderr",
          "text": [
            "Epoch 82: 100%|██████████| 2/2 [00:00<00:00,  5.85it/s]\n"
          ]
        },
        {
          "output_type": "stream",
          "name": "stdout",
          "text": [
            "Epoch 82 - Average training loss: 0.0158\n"
          ]
        },
        {
          "output_type": "stream",
          "name": "stderr",
          "text": [
            "Epoch 83: 100%|██████████| 2/2 [00:00<00:00,  5.87it/s]\n"
          ]
        },
        {
          "output_type": "stream",
          "name": "stdout",
          "text": [
            "Epoch 83 - Average training loss: 0.0018\n"
          ]
        },
        {
          "output_type": "stream",
          "name": "stderr",
          "text": [
            "Epoch 84: 100%|██████████| 2/2 [00:00<00:00,  5.84it/s]\n"
          ]
        },
        {
          "output_type": "stream",
          "name": "stdout",
          "text": [
            "Epoch 84 - Average training loss: 0.0022\n"
          ]
        },
        {
          "output_type": "stream",
          "name": "stderr",
          "text": [
            "Epoch 85: 100%|██████████| 2/2 [00:00<00:00,  5.84it/s]\n"
          ]
        },
        {
          "output_type": "stream",
          "name": "stdout",
          "text": [
            "Epoch 85 - Average training loss: 0.0920\n"
          ]
        },
        {
          "output_type": "stream",
          "name": "stderr",
          "text": [
            "Epoch 86: 100%|██████████| 2/2 [00:00<00:00,  5.83it/s]\n"
          ]
        },
        {
          "output_type": "stream",
          "name": "stdout",
          "text": [
            "Epoch 86 - Average training loss: 0.0017\n"
          ]
        },
        {
          "output_type": "stream",
          "name": "stderr",
          "text": [
            "Epoch 87: 100%|██████████| 2/2 [00:00<00:00,  5.85it/s]\n"
          ]
        },
        {
          "output_type": "stream",
          "name": "stdout",
          "text": [
            "Epoch 87 - Average training loss: 0.0131\n"
          ]
        },
        {
          "output_type": "stream",
          "name": "stderr",
          "text": [
            "Epoch 88: 100%|██████████| 2/2 [00:00<00:00,  5.84it/s]\n"
          ]
        },
        {
          "output_type": "stream",
          "name": "stdout",
          "text": [
            "Epoch 88 - Average training loss: 0.0634\n"
          ]
        },
        {
          "output_type": "stream",
          "name": "stderr",
          "text": [
            "Epoch 89: 100%|██████████| 2/2 [00:00<00:00,  5.84it/s]\n"
          ]
        },
        {
          "output_type": "stream",
          "name": "stdout",
          "text": [
            "Epoch 89 - Average training loss: 0.0030\n"
          ]
        },
        {
          "output_type": "stream",
          "name": "stderr",
          "text": [
            "Epoch 90: 100%|██████████| 2/2 [00:00<00:00,  5.86it/s]\n"
          ]
        },
        {
          "output_type": "stream",
          "name": "stdout",
          "text": [
            "Epoch 90 - Average training loss: 0.0015\n"
          ]
        },
        {
          "output_type": "stream",
          "name": "stderr",
          "text": [
            "Epoch 91: 100%|██████████| 2/2 [00:00<00:00,  5.84it/s]\n"
          ]
        },
        {
          "output_type": "stream",
          "name": "stdout",
          "text": [
            "Epoch 91 - Average training loss: 0.0356\n"
          ]
        },
        {
          "output_type": "stream",
          "name": "stderr",
          "text": [
            "Epoch 92: 100%|██████████| 2/2 [00:00<00:00,  5.87it/s]\n"
          ]
        },
        {
          "output_type": "stream",
          "name": "stdout",
          "text": [
            "Epoch 92 - Average training loss: 0.0037\n"
          ]
        },
        {
          "output_type": "stream",
          "name": "stderr",
          "text": [
            "Epoch 93: 100%|██████████| 2/2 [00:00<00:00,  5.83it/s]\n"
          ]
        },
        {
          "output_type": "stream",
          "name": "stdout",
          "text": [
            "Epoch 93 - Average training loss: 0.0017\n"
          ]
        },
        {
          "output_type": "stream",
          "name": "stderr",
          "text": [
            "Epoch 94: 100%|██████████| 2/2 [00:00<00:00,  5.86it/s]\n"
          ]
        },
        {
          "output_type": "stream",
          "name": "stdout",
          "text": [
            "Epoch 94 - Average training loss: 0.0019\n"
          ]
        },
        {
          "output_type": "stream",
          "name": "stderr",
          "text": [
            "Epoch 95: 100%|██████████| 2/2 [00:00<00:00,  5.86it/s]\n"
          ]
        },
        {
          "output_type": "stream",
          "name": "stdout",
          "text": [
            "Epoch 95 - Average training loss: 0.0024\n"
          ]
        },
        {
          "output_type": "stream",
          "name": "stderr",
          "text": [
            "Epoch 96: 100%|██████████| 2/2 [00:00<00:00,  5.86it/s]\n"
          ]
        },
        {
          "output_type": "stream",
          "name": "stdout",
          "text": [
            "Epoch 96 - Average training loss: 0.0016\n"
          ]
        },
        {
          "output_type": "stream",
          "name": "stderr",
          "text": [
            "Epoch 97: 100%|██████████| 2/2 [00:00<00:00,  5.84it/s]\n"
          ]
        },
        {
          "output_type": "stream",
          "name": "stdout",
          "text": [
            "Epoch 97 - Average training loss: 0.0016\n"
          ]
        },
        {
          "output_type": "stream",
          "name": "stderr",
          "text": [
            "Epoch 98: 100%|██████████| 2/2 [00:00<00:00,  5.84it/s]\n"
          ]
        },
        {
          "output_type": "stream",
          "name": "stdout",
          "text": [
            "Epoch 98 - Average training loss: 0.0016\n"
          ]
        },
        {
          "output_type": "stream",
          "name": "stderr",
          "text": [
            "Epoch 99: 100%|██████████| 2/2 [00:00<00:00,  5.82it/s]\n"
          ]
        },
        {
          "output_type": "stream",
          "name": "stdout",
          "text": [
            "Epoch 99 - Average training loss: 0.0014\n"
          ]
        },
        {
          "output_type": "stream",
          "name": "stderr",
          "text": [
            "Epoch 100: 100%|██████████| 2/2 [00:00<00:00,  5.85it/s]\n"
          ]
        },
        {
          "output_type": "stream",
          "name": "stdout",
          "text": [
            "Epoch 100 - Average training loss: 0.0016\n"
          ]
        },
        {
          "output_type": "stream",
          "name": "stderr",
          "text": [
            "Evaluating: 100%|██████████| 8/8 [00:00<00:00, 19.44it/s]"
          ]
        },
        {
          "output_type": "stream",
          "name": "stdout",
          "text": [
            "F1 Score: 0.6385\n"
          ]
        },
        {
          "output_type": "stream",
          "name": "stderr",
          "text": [
            "\n"
          ]
        }
      ]
    },
    {
      "cell_type": "markdown",
      "source": [
        "**C. Zero shot**"
      ],
      "metadata": {
        "id": "XcCFVhgzePOT"
      }
    },
    {
      "cell_type": "code",
      "source": [
        "import pandas as pd\n",
        "import numpy as np\n",
        "from sklearn.feature_extraction.text import TfidfVectorizer\n",
        "from sklearn.metrics import f1_score\n",
        "from sklearn.model_selection import train_test_split\n",
        "from sklearn.preprocessing import LabelEncoder\n",
        "import torch\n",
        "import torch.nn as nn\n",
        "import torch.optim as optim\n",
        "from torch.utils.data import DataLoader, TensorDataset\n",
        "from tqdm import tqdm\n",
        "from transformers import RobertaTokenizer, RobertaForSequenceClassification, AdamW\n",
        "\n",
        "train_data = pd.read_csv('preprocessed_no_stopwords_train_zero_shot.csv')\n",
        "test_data = pd.read_csv('preprocessed_no_stopwords_test.csv')\n",
        "\n",
        "# Preprocessing\n",
        "X_train = train_data['sentence1']\n",
        "y_train = train_data['label']\n",
        "X_test = test_data['sentence1']\n",
        "y_test = test_data['label']\n",
        "\n",
        "# Tokenize text using RoBERTa tokenizer\n",
        "tokenizer = RobertaTokenizer.from_pretrained('roberta-base')\n",
        "model = RobertaForSequenceClassification.from_pretrained('roberta-base')\n",
        "X_train_encoded = tokenizer(X_train.tolist(), truncation=True, padding=True, max_length=128, return_tensors='pt')\n",
        "X_test_encoded = tokenizer(X_test.tolist(), truncation=True, padding=True, max_length=128, return_tensors='pt')\n",
        "\n",
        "# Encode labels\n",
        "label_encoder = LabelEncoder() #This is done to transform Categorical data of string type in the data set into numerical values which the model can understand.\n",
        "y_train_encoded = label_encoder.fit_transform(y_train)\n",
        "y_test_encoded = label_encoder.transform(y_test)\n",
        "\n",
        "# Convert to PyTorch tensors\n",
        "X_train_tensor = torch.tensor(X_train_encoded['input_ids'], dtype=torch.long)\n",
        "X_test_tensor = torch.tensor(X_test_encoded['input_ids'], dtype=torch.long)\n",
        "y_train_tensor = torch.tensor(y_train_encoded, dtype=torch.long)\n",
        "y_test_tensor = torch.tensor(y_test_encoded, dtype=torch.long)\n",
        "\n",
        "# Create DataLoader for batching\n",
        "train_dataset = TensorDataset(X_train_tensor, y_train_tensor)\n",
        "train_loader = DataLoader(train_dataset, batch_size=64, shuffle=True)\n",
        "\n",
        "# Define RoBERTa model for sequence classification\n",
        "model = RobertaForSequenceClassification.from_pretrained('roberta-base', num_labels=len(label_encoder.classes_))\n",
        "model.to('cuda' if torch.cuda.is_available() else 'cpu')\n",
        "\n",
        "# Define optimizer and loss function\n",
        "optimizer = AdamW(model.parameters(), lr=2e-5)\n",
        "criterion = nn.CrossEntropyLoss()\n",
        "\n",
        "# Training loop\n",
        "num_epochs = 100\n",
        "for epoch in range(num_epochs):\n",
        "    model.train()\n",
        "    total_loss = 0.0\n",
        "    for inputs, labels in tqdm(train_loader, desc=f\"Epoch {epoch + 1}\"):\n",
        "        optimizer.zero_grad()\n",
        "        outputs = model(inputs.to(model.device), labels=labels.to(model.device))\n",
        "        loss = outputs.loss\n",
        "        total_loss += loss.item()\n",
        "        loss.backward()\n",
        "        optimizer.step()\n",
        "    avg_train_loss = total_loss / len(train_loader)\n",
        "    print(f\"Epoch {epoch + 1} - Average training loss: {avg_train_loss:.4f}\")\n",
        "\n",
        "# Evaluation\n",
        "model.eval()\n",
        "y_pred = []\n",
        "with torch.no_grad():\n",
        "    for inputs in tqdm(torch.split(X_test_tensor, 64), desc=\"Evaluating\"):\n",
        "        outputs = model(inputs.to(model.device))\n",
        "        logits = outputs.logits\n",
        "        preds = torch.argmax(logits, dim=1).cpu().numpy()\n",
        "        y_pred.extend(preds)\n",
        "\n",
        "# Calculate F1 score\n",
        "f1 = f1_score(y_test_encoded, y_pred, average='macro')\n",
        "print(f\"F1 Score: {f1:.4f}\")"
      ],
      "metadata": {
        "colab": {
          "base_uri": "https://localhost:8080/"
        },
        "id": "LXZxMriPAHU4",
        "outputId": "f01055a5-50a4-4747-ed3f-f155197e0f5b"
      },
      "execution_count": null,
      "outputs": [
        {
          "output_type": "stream",
          "name": "stderr",
          "text": [
            "Some weights of RobertaForSequenceClassification were not initialized from the model checkpoint at roberta-base and are newly initialized: ['classifier.dense.bias', 'classifier.out_proj.bias', 'classifier.out_proj.weight', 'classifier.dense.weight']\n",
            "You should probably TRAIN this model on a down-stream task to be able to use it for predictions and inference.\n",
            "<ipython-input-45-87078fba9365>:35: UserWarning: To copy construct from a tensor, it is recommended to use sourceTensor.clone().detach() or sourceTensor.clone().detach().requires_grad_(True), rather than torch.tensor(sourceTensor).\n",
            "  X_train_tensor = torch.tensor(X_train_encoded['input_ids'], dtype=torch.long)\n",
            "<ipython-input-45-87078fba9365>:36: UserWarning: To copy construct from a tensor, it is recommended to use sourceTensor.clone().detach() or sourceTensor.clone().detach().requires_grad_(True), rather than torch.tensor(sourceTensor).\n",
            "  X_test_tensor = torch.tensor(X_test_encoded['input_ids'], dtype=torch.long)\n",
            "Some weights of RobertaForSequenceClassification were not initialized from the model checkpoint at roberta-base and are newly initialized: ['classifier.dense.bias', 'classifier.out_proj.bias', 'classifier.out_proj.weight', 'classifier.dense.weight']\n",
            "You should probably TRAIN this model on a down-stream task to be able to use it for predictions and inference.\n",
            "/usr/local/lib/python3.10/dist-packages/transformers/optimization.py:411: FutureWarning: This implementation of AdamW is deprecated and will be removed in a future version. Use the PyTorch implementation torch.optim.AdamW instead, or set `no_deprecation_warning=True` to disable this warning\n",
            "  warnings.warn(\n",
            "Epoch 1: 100%|██████████| 52/52 [00:17<00:00,  2.91it/s]\n"
          ]
        },
        {
          "output_type": "stream",
          "name": "stdout",
          "text": [
            "Epoch 1 - Average training loss: 0.6922\n"
          ]
        },
        {
          "output_type": "stream",
          "name": "stderr",
          "text": [
            "Epoch 2: 100%|██████████| 52/52 [00:17<00:00,  2.90it/s]\n"
          ]
        },
        {
          "output_type": "stream",
          "name": "stdout",
          "text": [
            "Epoch 2 - Average training loss: 0.6510\n"
          ]
        },
        {
          "output_type": "stream",
          "name": "stderr",
          "text": [
            "Epoch 3: 100%|██████████| 52/52 [00:17<00:00,  2.90it/s]\n"
          ]
        },
        {
          "output_type": "stream",
          "name": "stdout",
          "text": [
            "Epoch 3 - Average training loss: 0.5308\n"
          ]
        },
        {
          "output_type": "stream",
          "name": "stderr",
          "text": [
            "Epoch 4: 100%|██████████| 52/52 [00:17<00:00,  2.90it/s]\n"
          ]
        },
        {
          "output_type": "stream",
          "name": "stdout",
          "text": [
            "Epoch 4 - Average training loss: 0.4457\n"
          ]
        },
        {
          "output_type": "stream",
          "name": "stderr",
          "text": [
            "Epoch 5: 100%|██████████| 52/52 [00:17<00:00,  2.90it/s]\n"
          ]
        },
        {
          "output_type": "stream",
          "name": "stdout",
          "text": [
            "Epoch 5 - Average training loss: 0.3669\n"
          ]
        },
        {
          "output_type": "stream",
          "name": "stderr",
          "text": [
            "Epoch 6: 100%|██████████| 52/52 [00:17<00:00,  2.90it/s]\n"
          ]
        },
        {
          "output_type": "stream",
          "name": "stdout",
          "text": [
            "Epoch 6 - Average training loss: 0.3107\n"
          ]
        },
        {
          "output_type": "stream",
          "name": "stderr",
          "text": [
            "Epoch 7: 100%|██████████| 52/52 [00:17<00:00,  2.90it/s]\n"
          ]
        },
        {
          "output_type": "stream",
          "name": "stdout",
          "text": [
            "Epoch 7 - Average training loss: 0.2611\n"
          ]
        },
        {
          "output_type": "stream",
          "name": "stderr",
          "text": [
            "Epoch 8: 100%|██████████| 52/52 [00:17<00:00,  2.90it/s]\n"
          ]
        },
        {
          "output_type": "stream",
          "name": "stdout",
          "text": [
            "Epoch 8 - Average training loss: 0.2011\n"
          ]
        },
        {
          "output_type": "stream",
          "name": "stderr",
          "text": [
            "Epoch 9: 100%|██████████| 52/52 [00:17<00:00,  2.90it/s]\n"
          ]
        },
        {
          "output_type": "stream",
          "name": "stdout",
          "text": [
            "Epoch 9 - Average training loss: 0.1725\n"
          ]
        },
        {
          "output_type": "stream",
          "name": "stderr",
          "text": [
            "Epoch 10: 100%|██████████| 52/52 [00:17<00:00,  2.90it/s]\n"
          ]
        },
        {
          "output_type": "stream",
          "name": "stdout",
          "text": [
            "Epoch 10 - Average training loss: 0.1433\n"
          ]
        },
        {
          "output_type": "stream",
          "name": "stderr",
          "text": [
            "Epoch 11: 100%|██████████| 52/52 [00:17<00:00,  2.90it/s]\n"
          ]
        },
        {
          "output_type": "stream",
          "name": "stdout",
          "text": [
            "Epoch 11 - Average training loss: 0.1169\n"
          ]
        },
        {
          "output_type": "stream",
          "name": "stderr",
          "text": [
            "Epoch 12: 100%|██████████| 52/52 [00:17<00:00,  2.90it/s]\n"
          ]
        },
        {
          "output_type": "stream",
          "name": "stdout",
          "text": [
            "Epoch 12 - Average training loss: 0.1053\n"
          ]
        },
        {
          "output_type": "stream",
          "name": "stderr",
          "text": [
            "Epoch 13: 100%|██████████| 52/52 [00:17<00:00,  2.89it/s]\n"
          ]
        },
        {
          "output_type": "stream",
          "name": "stdout",
          "text": [
            "Epoch 13 - Average training loss: 0.1059\n"
          ]
        },
        {
          "output_type": "stream",
          "name": "stderr",
          "text": [
            "Epoch 14: 100%|██████████| 52/52 [00:17<00:00,  2.90it/s]\n"
          ]
        },
        {
          "output_type": "stream",
          "name": "stdout",
          "text": [
            "Epoch 14 - Average training loss: 0.0705\n"
          ]
        },
        {
          "output_type": "stream",
          "name": "stderr",
          "text": [
            "Epoch 15: 100%|██████████| 52/52 [00:17<00:00,  2.89it/s]\n"
          ]
        },
        {
          "output_type": "stream",
          "name": "stdout",
          "text": [
            "Epoch 15 - Average training loss: 0.0610\n"
          ]
        },
        {
          "output_type": "stream",
          "name": "stderr",
          "text": [
            "Epoch 16: 100%|██████████| 52/52 [00:17<00:00,  2.89it/s]\n"
          ]
        },
        {
          "output_type": "stream",
          "name": "stdout",
          "text": [
            "Epoch 16 - Average training loss: 0.0400\n"
          ]
        },
        {
          "output_type": "stream",
          "name": "stderr",
          "text": [
            "Epoch 17: 100%|██████████| 52/52 [00:17<00:00,  2.90it/s]\n"
          ]
        },
        {
          "output_type": "stream",
          "name": "stdout",
          "text": [
            "Epoch 17 - Average training loss: 0.0364\n"
          ]
        },
        {
          "output_type": "stream",
          "name": "stderr",
          "text": [
            "Epoch 18: 100%|██████████| 52/52 [00:17<00:00,  2.89it/s]\n"
          ]
        },
        {
          "output_type": "stream",
          "name": "stdout",
          "text": [
            "Epoch 18 - Average training loss: 0.0360\n"
          ]
        },
        {
          "output_type": "stream",
          "name": "stderr",
          "text": [
            "Epoch 19: 100%|██████████| 52/52 [00:17<00:00,  2.90it/s]\n"
          ]
        },
        {
          "output_type": "stream",
          "name": "stdout",
          "text": [
            "Epoch 19 - Average training loss: 0.0392\n"
          ]
        },
        {
          "output_type": "stream",
          "name": "stderr",
          "text": [
            "Epoch 20: 100%|██████████| 52/52 [00:17<00:00,  2.90it/s]\n"
          ]
        },
        {
          "output_type": "stream",
          "name": "stdout",
          "text": [
            "Epoch 20 - Average training loss: 0.0223\n"
          ]
        },
        {
          "output_type": "stream",
          "name": "stderr",
          "text": [
            "Epoch 21: 100%|██████████| 52/52 [00:17<00:00,  2.89it/s]\n"
          ]
        },
        {
          "output_type": "stream",
          "name": "stdout",
          "text": [
            "Epoch 21 - Average training loss: 0.0348\n"
          ]
        },
        {
          "output_type": "stream",
          "name": "stderr",
          "text": [
            "Epoch 22: 100%|██████████| 52/52 [00:17<00:00,  2.90it/s]\n"
          ]
        },
        {
          "output_type": "stream",
          "name": "stdout",
          "text": [
            "Epoch 22 - Average training loss: 0.0263\n"
          ]
        },
        {
          "output_type": "stream",
          "name": "stderr",
          "text": [
            "Epoch 23: 100%|██████████| 52/52 [00:17<00:00,  2.90it/s]\n"
          ]
        },
        {
          "output_type": "stream",
          "name": "stdout",
          "text": [
            "Epoch 23 - Average training loss: 0.0253\n"
          ]
        },
        {
          "output_type": "stream",
          "name": "stderr",
          "text": [
            "Epoch 24: 100%|██████████| 52/52 [00:17<00:00,  2.90it/s]\n"
          ]
        },
        {
          "output_type": "stream",
          "name": "stdout",
          "text": [
            "Epoch 24 - Average training loss: 0.0146\n"
          ]
        },
        {
          "output_type": "stream",
          "name": "stderr",
          "text": [
            "Epoch 25: 100%|██████████| 52/52 [00:17<00:00,  2.90it/s]\n"
          ]
        },
        {
          "output_type": "stream",
          "name": "stdout",
          "text": [
            "Epoch 25 - Average training loss: 0.0136\n"
          ]
        },
        {
          "output_type": "stream",
          "name": "stderr",
          "text": [
            "Epoch 26: 100%|██████████| 52/52 [00:17<00:00,  2.90it/s]\n"
          ]
        },
        {
          "output_type": "stream",
          "name": "stdout",
          "text": [
            "Epoch 26 - Average training loss: 0.0243\n"
          ]
        },
        {
          "output_type": "stream",
          "name": "stderr",
          "text": [
            "Epoch 27: 100%|██████████| 52/52 [00:17<00:00,  2.90it/s]\n"
          ]
        },
        {
          "output_type": "stream",
          "name": "stdout",
          "text": [
            "Epoch 27 - Average training loss: 0.0176\n"
          ]
        },
        {
          "output_type": "stream",
          "name": "stderr",
          "text": [
            "Epoch 28: 100%|██████████| 52/52 [00:17<00:00,  2.90it/s]\n"
          ]
        },
        {
          "output_type": "stream",
          "name": "stdout",
          "text": [
            "Epoch 28 - Average training loss: 0.0171\n"
          ]
        },
        {
          "output_type": "stream",
          "name": "stderr",
          "text": [
            "Epoch 29: 100%|██████████| 52/52 [00:17<00:00,  2.90it/s]\n"
          ]
        },
        {
          "output_type": "stream",
          "name": "stdout",
          "text": [
            "Epoch 29 - Average training loss: 0.0501\n"
          ]
        },
        {
          "output_type": "stream",
          "name": "stderr",
          "text": [
            "Epoch 30: 100%|██████████| 52/52 [00:17<00:00,  2.90it/s]\n"
          ]
        },
        {
          "output_type": "stream",
          "name": "stdout",
          "text": [
            "Epoch 30 - Average training loss: 0.0188\n"
          ]
        },
        {
          "output_type": "stream",
          "name": "stderr",
          "text": [
            "Epoch 31: 100%|██████████| 52/52 [00:17<00:00,  2.90it/s]\n"
          ]
        },
        {
          "output_type": "stream",
          "name": "stdout",
          "text": [
            "Epoch 31 - Average training loss: 0.0070\n"
          ]
        },
        {
          "output_type": "stream",
          "name": "stderr",
          "text": [
            "Epoch 32: 100%|██████████| 52/52 [00:17<00:00,  2.90it/s]\n"
          ]
        },
        {
          "output_type": "stream",
          "name": "stdout",
          "text": [
            "Epoch 32 - Average training loss: 0.0044\n"
          ]
        },
        {
          "output_type": "stream",
          "name": "stderr",
          "text": [
            "Epoch 33: 100%|██████████| 52/52 [00:17<00:00,  2.90it/s]\n"
          ]
        },
        {
          "output_type": "stream",
          "name": "stdout",
          "text": [
            "Epoch 33 - Average training loss: 0.0223\n"
          ]
        },
        {
          "output_type": "stream",
          "name": "stderr",
          "text": [
            "Epoch 34: 100%|██████████| 52/52 [00:17<00:00,  2.90it/s]\n"
          ]
        },
        {
          "output_type": "stream",
          "name": "stdout",
          "text": [
            "Epoch 34 - Average training loss: 0.0124\n"
          ]
        },
        {
          "output_type": "stream",
          "name": "stderr",
          "text": [
            "Epoch 35: 100%|██████████| 52/52 [00:17<00:00,  2.90it/s]\n"
          ]
        },
        {
          "output_type": "stream",
          "name": "stdout",
          "text": [
            "Epoch 35 - Average training loss: 0.0335\n"
          ]
        },
        {
          "output_type": "stream",
          "name": "stderr",
          "text": [
            "Epoch 36: 100%|██████████| 52/52 [00:17<00:00,  2.90it/s]\n"
          ]
        },
        {
          "output_type": "stream",
          "name": "stdout",
          "text": [
            "Epoch 36 - Average training loss: 0.0125\n"
          ]
        },
        {
          "output_type": "stream",
          "name": "stderr",
          "text": [
            "Epoch 37: 100%|██████████| 52/52 [00:17<00:00,  2.90it/s]\n"
          ]
        },
        {
          "output_type": "stream",
          "name": "stdout",
          "text": [
            "Epoch 37 - Average training loss: 0.0055\n"
          ]
        },
        {
          "output_type": "stream",
          "name": "stderr",
          "text": [
            "Epoch 38: 100%|██████████| 52/52 [00:17<00:00,  2.90it/s]\n"
          ]
        },
        {
          "output_type": "stream",
          "name": "stdout",
          "text": [
            "Epoch 38 - Average training loss: 0.0044\n"
          ]
        },
        {
          "output_type": "stream",
          "name": "stderr",
          "text": [
            "Epoch 39: 100%|██████████| 52/52 [00:17<00:00,  2.90it/s]\n"
          ]
        },
        {
          "output_type": "stream",
          "name": "stdout",
          "text": [
            "Epoch 39 - Average training loss: 0.0074\n"
          ]
        },
        {
          "output_type": "stream",
          "name": "stderr",
          "text": [
            "Epoch 40: 100%|██████████| 52/52 [00:17<00:00,  2.90it/s]\n"
          ]
        },
        {
          "output_type": "stream",
          "name": "stdout",
          "text": [
            "Epoch 40 - Average training loss: 0.0098\n"
          ]
        },
        {
          "output_type": "stream",
          "name": "stderr",
          "text": [
            "Epoch 41: 100%|██████████| 52/52 [00:17<00:00,  2.90it/s]\n"
          ]
        },
        {
          "output_type": "stream",
          "name": "stdout",
          "text": [
            "Epoch 41 - Average training loss: 0.0091\n"
          ]
        },
        {
          "output_type": "stream",
          "name": "stderr",
          "text": [
            "Epoch 42: 100%|██████████| 52/52 [00:17<00:00,  2.90it/s]\n"
          ]
        },
        {
          "output_type": "stream",
          "name": "stdout",
          "text": [
            "Epoch 42 - Average training loss: 0.0135\n"
          ]
        },
        {
          "output_type": "stream",
          "name": "stderr",
          "text": [
            "Epoch 43: 100%|██████████| 52/52 [00:17<00:00,  2.90it/s]\n"
          ]
        },
        {
          "output_type": "stream",
          "name": "stdout",
          "text": [
            "Epoch 43 - Average training loss: 0.0018\n"
          ]
        },
        {
          "output_type": "stream",
          "name": "stderr",
          "text": [
            "Epoch 44: 100%|██████████| 52/52 [00:17<00:00,  2.90it/s]\n"
          ]
        },
        {
          "output_type": "stream",
          "name": "stdout",
          "text": [
            "Epoch 44 - Average training loss: 0.0239\n"
          ]
        },
        {
          "output_type": "stream",
          "name": "stderr",
          "text": [
            "Epoch 45: 100%|██████████| 52/52 [00:17<00:00,  2.90it/s]\n"
          ]
        },
        {
          "output_type": "stream",
          "name": "stdout",
          "text": [
            "Epoch 45 - Average training loss: 0.0114\n"
          ]
        },
        {
          "output_type": "stream",
          "name": "stderr",
          "text": [
            "Epoch 46: 100%|██████████| 52/52 [00:17<00:00,  2.90it/s]\n"
          ]
        },
        {
          "output_type": "stream",
          "name": "stdout",
          "text": [
            "Epoch 46 - Average training loss: 0.0035\n"
          ]
        },
        {
          "output_type": "stream",
          "name": "stderr",
          "text": [
            "Epoch 47: 100%|██████████| 52/52 [00:17<00:00,  2.90it/s]\n"
          ]
        },
        {
          "output_type": "stream",
          "name": "stdout",
          "text": [
            "Epoch 47 - Average training loss: 0.0096\n"
          ]
        },
        {
          "output_type": "stream",
          "name": "stderr",
          "text": [
            "Epoch 48: 100%|██████████| 52/52 [00:17<00:00,  2.90it/s]\n"
          ]
        },
        {
          "output_type": "stream",
          "name": "stdout",
          "text": [
            "Epoch 48 - Average training loss: 0.0185\n"
          ]
        },
        {
          "output_type": "stream",
          "name": "stderr",
          "text": [
            "Epoch 49: 100%|██████████| 52/52 [00:17<00:00,  2.90it/s]\n"
          ]
        },
        {
          "output_type": "stream",
          "name": "stdout",
          "text": [
            "Epoch 49 - Average training loss: 0.0037\n"
          ]
        },
        {
          "output_type": "stream",
          "name": "stderr",
          "text": [
            "Epoch 50: 100%|██████████| 52/52 [00:17<00:00,  2.90it/s]\n"
          ]
        },
        {
          "output_type": "stream",
          "name": "stdout",
          "text": [
            "Epoch 50 - Average training loss: 0.0019\n"
          ]
        },
        {
          "output_type": "stream",
          "name": "stderr",
          "text": [
            "Epoch 51: 100%|██████████| 52/52 [00:17<00:00,  2.90it/s]\n"
          ]
        },
        {
          "output_type": "stream",
          "name": "stdout",
          "text": [
            "Epoch 51 - Average training loss: 0.0005\n"
          ]
        },
        {
          "output_type": "stream",
          "name": "stderr",
          "text": [
            "Epoch 52: 100%|██████████| 52/52 [00:17<00:00,  2.90it/s]\n"
          ]
        },
        {
          "output_type": "stream",
          "name": "stdout",
          "text": [
            "Epoch 52 - Average training loss: 0.0049\n"
          ]
        },
        {
          "output_type": "stream",
          "name": "stderr",
          "text": [
            "Epoch 53: 100%|██████████| 52/52 [00:17<00:00,  2.90it/s]\n"
          ]
        },
        {
          "output_type": "stream",
          "name": "stdout",
          "text": [
            "Epoch 53 - Average training loss: 0.0321\n"
          ]
        },
        {
          "output_type": "stream",
          "name": "stderr",
          "text": [
            "Epoch 54: 100%|██████████| 52/52 [00:17<00:00,  2.90it/s]\n"
          ]
        },
        {
          "output_type": "stream",
          "name": "stdout",
          "text": [
            "Epoch 54 - Average training loss: 0.0217\n"
          ]
        },
        {
          "output_type": "stream",
          "name": "stderr",
          "text": [
            "Epoch 55: 100%|██████████| 52/52 [00:17<00:00,  2.90it/s]\n"
          ]
        },
        {
          "output_type": "stream",
          "name": "stdout",
          "text": [
            "Epoch 55 - Average training loss: 0.0090\n"
          ]
        },
        {
          "output_type": "stream",
          "name": "stderr",
          "text": [
            "Epoch 56: 100%|██████████| 52/52 [00:17<00:00,  2.90it/s]\n"
          ]
        },
        {
          "output_type": "stream",
          "name": "stdout",
          "text": [
            "Epoch 56 - Average training loss: 0.0089\n"
          ]
        },
        {
          "output_type": "stream",
          "name": "stderr",
          "text": [
            "Epoch 57: 100%|██████████| 52/52 [00:17<00:00,  2.90it/s]\n"
          ]
        },
        {
          "output_type": "stream",
          "name": "stdout",
          "text": [
            "Epoch 57 - Average training loss: 0.0104\n"
          ]
        },
        {
          "output_type": "stream",
          "name": "stderr",
          "text": [
            "Epoch 58: 100%|██████████| 52/52 [00:17<00:00,  2.90it/s]\n"
          ]
        },
        {
          "output_type": "stream",
          "name": "stdout",
          "text": [
            "Epoch 58 - Average training loss: 0.0042\n"
          ]
        },
        {
          "output_type": "stream",
          "name": "stderr",
          "text": [
            "Epoch 59: 100%|██████████| 52/52 [00:17<00:00,  2.90it/s]\n"
          ]
        },
        {
          "output_type": "stream",
          "name": "stdout",
          "text": [
            "Epoch 59 - Average training loss: 0.0088\n"
          ]
        },
        {
          "output_type": "stream",
          "name": "stderr",
          "text": [
            "Epoch 60: 100%|██████████| 52/52 [00:17<00:00,  2.90it/s]\n"
          ]
        },
        {
          "output_type": "stream",
          "name": "stdout",
          "text": [
            "Epoch 60 - Average training loss: 0.0030\n"
          ]
        },
        {
          "output_type": "stream",
          "name": "stderr",
          "text": [
            "Epoch 61: 100%|██████████| 52/52 [00:17<00:00,  2.90it/s]\n"
          ]
        },
        {
          "output_type": "stream",
          "name": "stdout",
          "text": [
            "Epoch 61 - Average training loss: 0.0006\n"
          ]
        },
        {
          "output_type": "stream",
          "name": "stderr",
          "text": [
            "Epoch 62: 100%|██████████| 52/52 [00:17<00:00,  2.90it/s]\n"
          ]
        },
        {
          "output_type": "stream",
          "name": "stdout",
          "text": [
            "Epoch 62 - Average training loss: 0.0077\n"
          ]
        },
        {
          "output_type": "stream",
          "name": "stderr",
          "text": [
            "Epoch 63: 100%|██████████| 52/52 [00:17<00:00,  2.90it/s]\n"
          ]
        },
        {
          "output_type": "stream",
          "name": "stdout",
          "text": [
            "Epoch 63 - Average training loss: 0.0047\n"
          ]
        },
        {
          "output_type": "stream",
          "name": "stderr",
          "text": [
            "Epoch 64: 100%|██████████| 52/52 [00:17<00:00,  2.90it/s]\n"
          ]
        },
        {
          "output_type": "stream",
          "name": "stdout",
          "text": [
            "Epoch 64 - Average training loss: 0.0004\n"
          ]
        },
        {
          "output_type": "stream",
          "name": "stderr",
          "text": [
            "Epoch 65: 100%|██████████| 52/52 [00:17<00:00,  2.90it/s]\n"
          ]
        },
        {
          "output_type": "stream",
          "name": "stdout",
          "text": [
            "Epoch 65 - Average training loss: 0.0020\n"
          ]
        },
        {
          "output_type": "stream",
          "name": "stderr",
          "text": [
            "Epoch 66: 100%|██████████| 52/52 [00:17<00:00,  2.90it/s]\n"
          ]
        },
        {
          "output_type": "stream",
          "name": "stdout",
          "text": [
            "Epoch 66 - Average training loss: 0.0183\n"
          ]
        },
        {
          "output_type": "stream",
          "name": "stderr",
          "text": [
            "Epoch 67: 100%|██████████| 52/52 [00:17<00:00,  2.90it/s]\n"
          ]
        },
        {
          "output_type": "stream",
          "name": "stdout",
          "text": [
            "Epoch 67 - Average training loss: 0.0062\n"
          ]
        },
        {
          "output_type": "stream",
          "name": "stderr",
          "text": [
            "Epoch 68: 100%|██████████| 52/52 [00:17<00:00,  2.90it/s]\n"
          ]
        },
        {
          "output_type": "stream",
          "name": "stdout",
          "text": [
            "Epoch 68 - Average training loss: 0.0222\n"
          ]
        },
        {
          "output_type": "stream",
          "name": "stderr",
          "text": [
            "Epoch 69: 100%|██████████| 52/52 [00:17<00:00,  2.90it/s]\n"
          ]
        },
        {
          "output_type": "stream",
          "name": "stdout",
          "text": [
            "Epoch 69 - Average training loss: 0.0257\n"
          ]
        },
        {
          "output_type": "stream",
          "name": "stderr",
          "text": [
            "Epoch 70: 100%|██████████| 52/52 [00:17<00:00,  2.89it/s]\n"
          ]
        },
        {
          "output_type": "stream",
          "name": "stdout",
          "text": [
            "Epoch 70 - Average training loss: 0.0243\n"
          ]
        },
        {
          "output_type": "stream",
          "name": "stderr",
          "text": [
            "Epoch 71: 100%|██████████| 52/52 [00:17<00:00,  2.90it/s]\n"
          ]
        },
        {
          "output_type": "stream",
          "name": "stdout",
          "text": [
            "Epoch 71 - Average training loss: 0.0413\n"
          ]
        },
        {
          "output_type": "stream",
          "name": "stderr",
          "text": [
            "Epoch 72: 100%|██████████| 52/52 [00:17<00:00,  2.89it/s]\n"
          ]
        },
        {
          "output_type": "stream",
          "name": "stdout",
          "text": [
            "Epoch 72 - Average training loss: 0.0767\n"
          ]
        },
        {
          "output_type": "stream",
          "name": "stderr",
          "text": [
            "Epoch 73: 100%|██████████| 52/52 [00:17<00:00,  2.89it/s]\n"
          ]
        },
        {
          "output_type": "stream",
          "name": "stdout",
          "text": [
            "Epoch 73 - Average training loss: 0.0417\n"
          ]
        },
        {
          "output_type": "stream",
          "name": "stderr",
          "text": [
            "Epoch 74: 100%|██████████| 52/52 [00:17<00:00,  2.90it/s]\n"
          ]
        },
        {
          "output_type": "stream",
          "name": "stdout",
          "text": [
            "Epoch 74 - Average training loss: 0.0193\n"
          ]
        },
        {
          "output_type": "stream",
          "name": "stderr",
          "text": [
            "Epoch 75: 100%|██████████| 52/52 [00:17<00:00,  2.90it/s]\n"
          ]
        },
        {
          "output_type": "stream",
          "name": "stdout",
          "text": [
            "Epoch 75 - Average training loss: 0.0272\n"
          ]
        },
        {
          "output_type": "stream",
          "name": "stderr",
          "text": [
            "Epoch 76: 100%|██████████| 52/52 [00:17<00:00,  2.90it/s]\n"
          ]
        },
        {
          "output_type": "stream",
          "name": "stdout",
          "text": [
            "Epoch 76 - Average training loss: 0.0140\n"
          ]
        },
        {
          "output_type": "stream",
          "name": "stderr",
          "text": [
            "Epoch 77: 100%|██████████| 52/52 [00:17<00:00,  2.91it/s]\n"
          ]
        },
        {
          "output_type": "stream",
          "name": "stdout",
          "text": [
            "Epoch 77 - Average training loss: 0.0449\n"
          ]
        },
        {
          "output_type": "stream",
          "name": "stderr",
          "text": [
            "Epoch 78: 100%|██████████| 52/52 [00:17<00:00,  2.91it/s]\n"
          ]
        },
        {
          "output_type": "stream",
          "name": "stdout",
          "text": [
            "Epoch 78 - Average training loss: 0.0400\n"
          ]
        },
        {
          "output_type": "stream",
          "name": "stderr",
          "text": [
            "Epoch 79: 100%|██████████| 52/52 [00:17<00:00,  2.91it/s]\n"
          ]
        },
        {
          "output_type": "stream",
          "name": "stdout",
          "text": [
            "Epoch 79 - Average training loss: 0.0177\n"
          ]
        },
        {
          "output_type": "stream",
          "name": "stderr",
          "text": [
            "Epoch 80: 100%|██████████| 52/52 [00:17<00:00,  2.91it/s]\n"
          ]
        },
        {
          "output_type": "stream",
          "name": "stdout",
          "text": [
            "Epoch 80 - Average training loss: 0.0040\n"
          ]
        },
        {
          "output_type": "stream",
          "name": "stderr",
          "text": [
            "Epoch 81: 100%|██████████| 52/52 [00:17<00:00,  2.91it/s]\n"
          ]
        },
        {
          "output_type": "stream",
          "name": "stdout",
          "text": [
            "Epoch 81 - Average training loss: 0.0011\n"
          ]
        },
        {
          "output_type": "stream",
          "name": "stderr",
          "text": [
            "Epoch 82: 100%|██████████| 52/52 [00:17<00:00,  2.91it/s]\n"
          ]
        },
        {
          "output_type": "stream",
          "name": "stdout",
          "text": [
            "Epoch 82 - Average training loss: 0.0023\n"
          ]
        },
        {
          "output_type": "stream",
          "name": "stderr",
          "text": [
            "Epoch 83: 100%|██████████| 52/52 [00:17<00:00,  2.91it/s]\n"
          ]
        },
        {
          "output_type": "stream",
          "name": "stdout",
          "text": [
            "Epoch 83 - Average training loss: 0.0036\n"
          ]
        },
        {
          "output_type": "stream",
          "name": "stderr",
          "text": [
            "Epoch 84: 100%|██████████| 52/52 [00:17<00:00,  2.91it/s]\n"
          ]
        },
        {
          "output_type": "stream",
          "name": "stdout",
          "text": [
            "Epoch 84 - Average training loss: 0.0115\n"
          ]
        },
        {
          "output_type": "stream",
          "name": "stderr",
          "text": [
            "Epoch 85: 100%|██████████| 52/52 [00:17<00:00,  2.91it/s]\n"
          ]
        },
        {
          "output_type": "stream",
          "name": "stdout",
          "text": [
            "Epoch 85 - Average training loss: 0.0044\n"
          ]
        },
        {
          "output_type": "stream",
          "name": "stderr",
          "text": [
            "Epoch 86: 100%|██████████| 52/52 [00:17<00:00,  2.91it/s]\n"
          ]
        },
        {
          "output_type": "stream",
          "name": "stdout",
          "text": [
            "Epoch 86 - Average training loss: 0.0040\n"
          ]
        },
        {
          "output_type": "stream",
          "name": "stderr",
          "text": [
            "Epoch 87: 100%|██████████| 52/52 [00:17<00:00,  2.91it/s]\n"
          ]
        },
        {
          "output_type": "stream",
          "name": "stdout",
          "text": [
            "Epoch 87 - Average training loss: 0.0015\n"
          ]
        },
        {
          "output_type": "stream",
          "name": "stderr",
          "text": [
            "Epoch 88: 100%|██████████| 52/52 [00:17<00:00,  2.91it/s]\n"
          ]
        },
        {
          "output_type": "stream",
          "name": "stdout",
          "text": [
            "Epoch 88 - Average training loss: 0.0025\n"
          ]
        },
        {
          "output_type": "stream",
          "name": "stderr",
          "text": [
            "Epoch 89: 100%|██████████| 52/52 [00:17<00:00,  2.91it/s]\n"
          ]
        },
        {
          "output_type": "stream",
          "name": "stdout",
          "text": [
            "Epoch 89 - Average training loss: 0.0127\n"
          ]
        },
        {
          "output_type": "stream",
          "name": "stderr",
          "text": [
            "Epoch 90: 100%|██████████| 52/52 [00:17<00:00,  2.91it/s]\n"
          ]
        },
        {
          "output_type": "stream",
          "name": "stdout",
          "text": [
            "Epoch 90 - Average training loss: 0.0068\n"
          ]
        },
        {
          "output_type": "stream",
          "name": "stderr",
          "text": [
            "Epoch 91: 100%|██████████| 52/52 [00:17<00:00,  2.91it/s]\n"
          ]
        },
        {
          "output_type": "stream",
          "name": "stdout",
          "text": [
            "Epoch 91 - Average training loss: 0.0015\n"
          ]
        },
        {
          "output_type": "stream",
          "name": "stderr",
          "text": [
            "Epoch 92: 100%|██████████| 52/52 [00:17<00:00,  2.91it/s]\n"
          ]
        },
        {
          "output_type": "stream",
          "name": "stdout",
          "text": [
            "Epoch 92 - Average training loss: 0.0018\n"
          ]
        },
        {
          "output_type": "stream",
          "name": "stderr",
          "text": [
            "Epoch 93: 100%|██████████| 52/52 [00:17<00:00,  2.91it/s]\n"
          ]
        },
        {
          "output_type": "stream",
          "name": "stdout",
          "text": [
            "Epoch 93 - Average training loss: 0.0109\n"
          ]
        },
        {
          "output_type": "stream",
          "name": "stderr",
          "text": [
            "Epoch 94: 100%|██████████| 52/52 [00:17<00:00,  2.91it/s]\n"
          ]
        },
        {
          "output_type": "stream",
          "name": "stdout",
          "text": [
            "Epoch 94 - Average training loss: 0.0183\n"
          ]
        },
        {
          "output_type": "stream",
          "name": "stderr",
          "text": [
            "Epoch 95: 100%|██████████| 52/52 [00:17<00:00,  2.90it/s]\n"
          ]
        },
        {
          "output_type": "stream",
          "name": "stdout",
          "text": [
            "Epoch 95 - Average training loss: 0.0024\n"
          ]
        },
        {
          "output_type": "stream",
          "name": "stderr",
          "text": [
            "Epoch 96: 100%|██████████| 52/52 [00:17<00:00,  2.91it/s]\n"
          ]
        },
        {
          "output_type": "stream",
          "name": "stdout",
          "text": [
            "Epoch 96 - Average training loss: 0.0054\n"
          ]
        },
        {
          "output_type": "stream",
          "name": "stderr",
          "text": [
            "Epoch 97: 100%|██████████| 52/52 [00:17<00:00,  2.91it/s]\n"
          ]
        },
        {
          "output_type": "stream",
          "name": "stdout",
          "text": [
            "Epoch 97 - Average training loss: 0.0120\n"
          ]
        },
        {
          "output_type": "stream",
          "name": "stderr",
          "text": [
            "Epoch 98: 100%|██████████| 52/52 [00:17<00:00,  2.91it/s]\n"
          ]
        },
        {
          "output_type": "stream",
          "name": "stdout",
          "text": [
            "Epoch 98 - Average training loss: 0.0341\n"
          ]
        },
        {
          "output_type": "stream",
          "name": "stderr",
          "text": [
            "Epoch 99: 100%|██████████| 52/52 [00:17<00:00,  2.91it/s]\n"
          ]
        },
        {
          "output_type": "stream",
          "name": "stdout",
          "text": [
            "Epoch 99 - Average training loss: 0.0099\n"
          ]
        },
        {
          "output_type": "stream",
          "name": "stderr",
          "text": [
            "Epoch 100: 100%|██████████| 52/52 [00:17<00:00,  2.91it/s]\n"
          ]
        },
        {
          "output_type": "stream",
          "name": "stdout",
          "text": [
            "Epoch 100 - Average training loss: 0.0044\n"
          ]
        },
        {
          "output_type": "stream",
          "name": "stderr",
          "text": [
            "Evaluating: 100%|██████████| 8/8 [00:00<00:00, 19.12it/s]"
          ]
        },
        {
          "output_type": "stream",
          "name": "stdout",
          "text": [
            "F1 Score: 0.6729\n"
          ]
        },
        {
          "output_type": "stream",
          "name": "stderr",
          "text": [
            "\n"
          ]
        }
      ]
    },
    {
      "cell_type": "markdown",
      "source": [
        "**D. Dev**"
      ],
      "metadata": {
        "id": "mPnBefipeT9W"
      }
    },
    {
      "cell_type": "code",
      "source": [
        "import pandas as pd\n",
        "import numpy as np\n",
        "from sklearn.feature_extraction.text import TfidfVectorizer\n",
        "from sklearn.metrics import f1_score\n",
        "from sklearn.model_selection import train_test_split\n",
        "from sklearn.preprocessing import LabelEncoder\n",
        "import torch\n",
        "import torch.nn as nn\n",
        "import torch.optim as optim\n",
        "from torch.utils.data import DataLoader, TensorDataset\n",
        "from tqdm import tqdm\n",
        "from transformers import RobertaTokenizer, RobertaForSequenceClassification, AdamW\n",
        "\n",
        "train_data = pd.read_csv('preprocessed_no_stopwords_dev.csv')\n",
        "test_data = pd.read_csv('preprocessed_no_stopwords_test.csv')\n",
        "\n",
        "# Preprocessing\n",
        "X_train = train_data['sentence1']\n",
        "y_train = train_data['label']\n",
        "X_test = test_data['sentence1']\n",
        "y_test = test_data['label']\n",
        "\n",
        "# Tokenize text using RoBERTa tokenizer\n",
        "tokenizer = RobertaTokenizer.from_pretrained('roberta-base')\n",
        "model = RobertaForSequenceClassification.from_pretrained('roberta-base')\n",
        "X_train_encoded = tokenizer(X_train.tolist(), truncation=True, padding=True, max_length=128, return_tensors='pt')\n",
        "X_test_encoded = tokenizer(X_test.tolist(), truncation=True, padding=True, max_length=128, return_tensors='pt')\n",
        "\n",
        "# Encode labels\n",
        "label_encoder = LabelEncoder() #This is done to transform Categorical data of string type in the data set into numerical values which the model can understand.\n",
        "y_train_encoded = label_encoder.fit_transform(y_train)\n",
        "y_test_encoded = label_encoder.transform(y_test)\n",
        "\n",
        "# Convert to PyTorch tensors\n",
        "X_train_tensor = torch.tensor(X_train_encoded['input_ids'], dtype=torch.long)\n",
        "X_test_tensor = torch.tensor(X_test_encoded['input_ids'], dtype=torch.long)\n",
        "y_train_tensor = torch.tensor(y_train_encoded, dtype=torch.long)\n",
        "y_test_tensor = torch.tensor(y_test_encoded, dtype=torch.long)\n",
        "\n",
        "# Create DataLoader for batching\n",
        "train_dataset = TensorDataset(X_train_tensor, y_train_tensor)\n",
        "train_loader = DataLoader(train_dataset, batch_size=64, shuffle=True)\n",
        "\n",
        "# Define RoBERTa model for sequence classification\n",
        "model = RobertaForSequenceClassification.from_pretrained('roberta-base', num_labels=len(label_encoder.classes_))\n",
        "model.to('cuda' if torch.cuda.is_available() else 'cpu')\n",
        "\n",
        "# Define optimizer and loss function\n",
        "optimizer = AdamW(model.parameters(), lr=2e-5)\n",
        "criterion = nn.CrossEntropyLoss()\n",
        "\n",
        "# Training loop\n",
        "num_epochs = 100\n",
        "for epoch in range(num_epochs):\n",
        "    model.train()\n",
        "    total_loss = 0.0\n",
        "    for inputs, labels in tqdm(train_loader, desc=f\"Epoch {epoch + 1}\"):\n",
        "        optimizer.zero_grad()\n",
        "        outputs = model(inputs.to(model.device), labels=labels.to(model.device))\n",
        "        loss = outputs.loss\n",
        "        total_loss += loss.item()\n",
        "        loss.backward()\n",
        "        optimizer.step()\n",
        "    avg_train_loss = total_loss / len(train_loader)\n",
        "    print(f\"Epoch {epoch + 1} - Average training loss: {avg_train_loss:.4f}\")\n",
        "\n",
        "# Evaluation\n",
        "model.eval()\n",
        "y_pred = []\n",
        "with torch.no_grad():\n",
        "    for inputs in tqdm(torch.split(X_test_tensor, 64), desc=\"Evaluating\"):\n",
        "        outputs = model(inputs.to(model.device))\n",
        "        logits = outputs.logits\n",
        "        preds = torch.argmax(logits, dim=1).cpu().numpy()\n",
        "        y_pred.extend(preds)\n",
        "\n",
        "# Calculate F1 score\n",
        "f1 = f1_score(y_test_encoded, y_pred, average='macro')\n",
        "print(f\"F1 Score: {f1:.4f}\")"
      ],
      "metadata": {
        "colab": {
          "base_uri": "https://localhost:8080/"
        },
        "id": "M9s4FjrfAJvz",
        "outputId": "547f8c1f-af55-4f01-b201-a16b7579efd3"
      },
      "execution_count": null,
      "outputs": [
        {
          "output_type": "stream",
          "name": "stderr",
          "text": [
            "Some weights of RobertaForSequenceClassification were not initialized from the model checkpoint at roberta-base and are newly initialized: ['classifier.dense.bias', 'classifier.out_proj.bias', 'classifier.out_proj.weight', 'classifier.dense.weight']\n",
            "You should probably TRAIN this model on a down-stream task to be able to use it for predictions and inference.\n",
            "<ipython-input-46-f53ce9e30cc2>:35: UserWarning: To copy construct from a tensor, it is recommended to use sourceTensor.clone().detach() or sourceTensor.clone().detach().requires_grad_(True), rather than torch.tensor(sourceTensor).\n",
            "  X_train_tensor = torch.tensor(X_train_encoded['input_ids'], dtype=torch.long)\n",
            "<ipython-input-46-f53ce9e30cc2>:36: UserWarning: To copy construct from a tensor, it is recommended to use sourceTensor.clone().detach() or sourceTensor.clone().detach().requires_grad_(True), rather than torch.tensor(sourceTensor).\n",
            "  X_test_tensor = torch.tensor(X_test_encoded['input_ids'], dtype=torch.long)\n",
            "Some weights of RobertaForSequenceClassification were not initialized from the model checkpoint at roberta-base and are newly initialized: ['classifier.dense.bias', 'classifier.out_proj.bias', 'classifier.out_proj.weight', 'classifier.dense.weight']\n",
            "You should probably TRAIN this model on a down-stream task to be able to use it for predictions and inference.\n",
            "/usr/local/lib/python3.10/dist-packages/transformers/optimization.py:411: FutureWarning: This implementation of AdamW is deprecated and will be removed in a future version. Use the PyTorch implementation torch.optim.AdamW instead, or set `no_deprecation_warning=True` to disable this warning\n",
            "  warnings.warn(\n",
            "Epoch 1: 100%|██████████| 8/8 [00:01<00:00,  4.03it/s]\n"
          ]
        },
        {
          "output_type": "stream",
          "name": "stdout",
          "text": [
            "Epoch 1 - Average training loss: 0.6763\n"
          ]
        },
        {
          "output_type": "stream",
          "name": "stderr",
          "text": [
            "Epoch 2: 100%|██████████| 8/8 [00:01<00:00,  4.07it/s]\n"
          ]
        },
        {
          "output_type": "stream",
          "name": "stdout",
          "text": [
            "Epoch 2 - Average training loss: 0.6805\n"
          ]
        },
        {
          "output_type": "stream",
          "name": "stderr",
          "text": [
            "Epoch 3: 100%|██████████| 8/8 [00:01<00:00,  4.07it/s]\n"
          ]
        },
        {
          "output_type": "stream",
          "name": "stdout",
          "text": [
            "Epoch 3 - Average training loss: 0.6621\n"
          ]
        },
        {
          "output_type": "stream",
          "name": "stderr",
          "text": [
            "Epoch 4: 100%|██████████| 8/8 [00:01<00:00,  4.07it/s]\n"
          ]
        },
        {
          "output_type": "stream",
          "name": "stdout",
          "text": [
            "Epoch 4 - Average training loss: 0.6403\n"
          ]
        },
        {
          "output_type": "stream",
          "name": "stderr",
          "text": [
            "Epoch 5: 100%|██████████| 8/8 [00:01<00:00,  4.07it/s]\n"
          ]
        },
        {
          "output_type": "stream",
          "name": "stdout",
          "text": [
            "Epoch 5 - Average training loss: 0.6065\n"
          ]
        },
        {
          "output_type": "stream",
          "name": "stderr",
          "text": [
            "Epoch 6: 100%|██████████| 8/8 [00:01<00:00,  4.06it/s]\n"
          ]
        },
        {
          "output_type": "stream",
          "name": "stdout",
          "text": [
            "Epoch 6 - Average training loss: 0.5989\n"
          ]
        },
        {
          "output_type": "stream",
          "name": "stderr",
          "text": [
            "Epoch 7: 100%|██████████| 8/8 [00:01<00:00,  4.07it/s]\n"
          ]
        },
        {
          "output_type": "stream",
          "name": "stdout",
          "text": [
            "Epoch 7 - Average training loss: 0.6861\n"
          ]
        },
        {
          "output_type": "stream",
          "name": "stderr",
          "text": [
            "Epoch 8: 100%|██████████| 8/8 [00:01<00:00,  4.06it/s]\n"
          ]
        },
        {
          "output_type": "stream",
          "name": "stdout",
          "text": [
            "Epoch 8 - Average training loss: 0.6457\n"
          ]
        },
        {
          "output_type": "stream",
          "name": "stderr",
          "text": [
            "Epoch 9: 100%|██████████| 8/8 [00:01<00:00,  4.07it/s]\n"
          ]
        },
        {
          "output_type": "stream",
          "name": "stdout",
          "text": [
            "Epoch 9 - Average training loss: 0.6061\n"
          ]
        },
        {
          "output_type": "stream",
          "name": "stderr",
          "text": [
            "Epoch 10: 100%|██████████| 8/8 [00:01<00:00,  4.06it/s]\n"
          ]
        },
        {
          "output_type": "stream",
          "name": "stdout",
          "text": [
            "Epoch 10 - Average training loss: 0.6335\n"
          ]
        },
        {
          "output_type": "stream",
          "name": "stderr",
          "text": [
            "Epoch 11: 100%|██████████| 8/8 [00:01<00:00,  4.06it/s]\n"
          ]
        },
        {
          "output_type": "stream",
          "name": "stdout",
          "text": [
            "Epoch 11 - Average training loss: 0.5558\n"
          ]
        },
        {
          "output_type": "stream",
          "name": "stderr",
          "text": [
            "Epoch 12: 100%|██████████| 8/8 [00:01<00:00,  4.06it/s]\n"
          ]
        },
        {
          "output_type": "stream",
          "name": "stdout",
          "text": [
            "Epoch 12 - Average training loss: 0.5305\n"
          ]
        },
        {
          "output_type": "stream",
          "name": "stderr",
          "text": [
            "Epoch 13: 100%|██████████| 8/8 [00:01<00:00,  4.06it/s]\n"
          ]
        },
        {
          "output_type": "stream",
          "name": "stdout",
          "text": [
            "Epoch 13 - Average training loss: 0.4970\n"
          ]
        },
        {
          "output_type": "stream",
          "name": "stderr",
          "text": [
            "Epoch 14: 100%|██████████| 8/8 [00:01<00:00,  4.06it/s]\n"
          ]
        },
        {
          "output_type": "stream",
          "name": "stdout",
          "text": [
            "Epoch 14 - Average training loss: 0.4283\n"
          ]
        },
        {
          "output_type": "stream",
          "name": "stderr",
          "text": [
            "Epoch 15: 100%|██████████| 8/8 [00:01<00:00,  4.06it/s]\n"
          ]
        },
        {
          "output_type": "stream",
          "name": "stdout",
          "text": [
            "Epoch 15 - Average training loss: 0.3894\n"
          ]
        },
        {
          "output_type": "stream",
          "name": "stderr",
          "text": [
            "Epoch 16: 100%|██████████| 8/8 [00:01<00:00,  4.06it/s]\n"
          ]
        },
        {
          "output_type": "stream",
          "name": "stdout",
          "text": [
            "Epoch 16 - Average training loss: 0.3652\n"
          ]
        },
        {
          "output_type": "stream",
          "name": "stderr",
          "text": [
            "Epoch 17: 100%|██████████| 8/8 [00:01<00:00,  4.06it/s]\n"
          ]
        },
        {
          "output_type": "stream",
          "name": "stdout",
          "text": [
            "Epoch 17 - Average training loss: 0.2478\n"
          ]
        },
        {
          "output_type": "stream",
          "name": "stderr",
          "text": [
            "Epoch 18: 100%|██████████| 8/8 [00:01<00:00,  4.06it/s]\n"
          ]
        },
        {
          "output_type": "stream",
          "name": "stdout",
          "text": [
            "Epoch 18 - Average training loss: 0.3038\n"
          ]
        },
        {
          "output_type": "stream",
          "name": "stderr",
          "text": [
            "Epoch 19: 100%|██████████| 8/8 [00:01<00:00,  4.06it/s]\n"
          ]
        },
        {
          "output_type": "stream",
          "name": "stdout",
          "text": [
            "Epoch 19 - Average training loss: 0.2122\n"
          ]
        },
        {
          "output_type": "stream",
          "name": "stderr",
          "text": [
            "Epoch 20: 100%|██████████| 8/8 [00:01<00:00,  4.06it/s]\n"
          ]
        },
        {
          "output_type": "stream",
          "name": "stdout",
          "text": [
            "Epoch 20 - Average training loss: 0.1856\n"
          ]
        },
        {
          "output_type": "stream",
          "name": "stderr",
          "text": [
            "Epoch 21: 100%|██████████| 8/8 [00:01<00:00,  4.06it/s]\n"
          ]
        },
        {
          "output_type": "stream",
          "name": "stdout",
          "text": [
            "Epoch 21 - Average training loss: 0.1339\n"
          ]
        },
        {
          "output_type": "stream",
          "name": "stderr",
          "text": [
            "Epoch 22: 100%|██████████| 8/8 [00:01<00:00,  4.06it/s]\n"
          ]
        },
        {
          "output_type": "stream",
          "name": "stdout",
          "text": [
            "Epoch 22 - Average training loss: 0.1232\n"
          ]
        },
        {
          "output_type": "stream",
          "name": "stderr",
          "text": [
            "Epoch 23: 100%|██████████| 8/8 [00:01<00:00,  4.05it/s]\n"
          ]
        },
        {
          "output_type": "stream",
          "name": "stdout",
          "text": [
            "Epoch 23 - Average training loss: 0.1036\n"
          ]
        },
        {
          "output_type": "stream",
          "name": "stderr",
          "text": [
            "Epoch 24: 100%|██████████| 8/8 [00:01<00:00,  4.06it/s]\n"
          ]
        },
        {
          "output_type": "stream",
          "name": "stdout",
          "text": [
            "Epoch 24 - Average training loss: 0.0853\n"
          ]
        },
        {
          "output_type": "stream",
          "name": "stderr",
          "text": [
            "Epoch 25: 100%|██████████| 8/8 [00:01<00:00,  4.06it/s]\n"
          ]
        },
        {
          "output_type": "stream",
          "name": "stdout",
          "text": [
            "Epoch 25 - Average training loss: 0.1708\n"
          ]
        },
        {
          "output_type": "stream",
          "name": "stderr",
          "text": [
            "Epoch 26: 100%|██████████| 8/8 [00:01<00:00,  4.07it/s]\n"
          ]
        },
        {
          "output_type": "stream",
          "name": "stdout",
          "text": [
            "Epoch 26 - Average training loss: 0.0803\n"
          ]
        },
        {
          "output_type": "stream",
          "name": "stderr",
          "text": [
            "Epoch 27: 100%|██████████| 8/8 [00:01<00:00,  4.05it/s]\n"
          ]
        },
        {
          "output_type": "stream",
          "name": "stdout",
          "text": [
            "Epoch 27 - Average training loss: 0.0325\n"
          ]
        },
        {
          "output_type": "stream",
          "name": "stderr",
          "text": [
            "Epoch 28: 100%|██████████| 8/8 [00:01<00:00,  4.06it/s]\n"
          ]
        },
        {
          "output_type": "stream",
          "name": "stdout",
          "text": [
            "Epoch 28 - Average training loss: 0.0606\n"
          ]
        },
        {
          "output_type": "stream",
          "name": "stderr",
          "text": [
            "Epoch 29: 100%|██████████| 8/8 [00:01<00:00,  4.04it/s]\n"
          ]
        },
        {
          "output_type": "stream",
          "name": "stdout",
          "text": [
            "Epoch 29 - Average training loss: 0.0677\n"
          ]
        },
        {
          "output_type": "stream",
          "name": "stderr",
          "text": [
            "Epoch 30: 100%|██████████| 8/8 [00:01<00:00,  4.06it/s]\n"
          ]
        },
        {
          "output_type": "stream",
          "name": "stdout",
          "text": [
            "Epoch 30 - Average training loss: 0.0566\n"
          ]
        },
        {
          "output_type": "stream",
          "name": "stderr",
          "text": [
            "Epoch 31: 100%|██████████| 8/8 [00:01<00:00,  4.06it/s]\n"
          ]
        },
        {
          "output_type": "stream",
          "name": "stdout",
          "text": [
            "Epoch 31 - Average training loss: 0.1134\n"
          ]
        },
        {
          "output_type": "stream",
          "name": "stderr",
          "text": [
            "Epoch 32: 100%|██████████| 8/8 [00:01<00:00,  4.06it/s]\n"
          ]
        },
        {
          "output_type": "stream",
          "name": "stdout",
          "text": [
            "Epoch 32 - Average training loss: 0.1062\n"
          ]
        },
        {
          "output_type": "stream",
          "name": "stderr",
          "text": [
            "Epoch 33: 100%|██████████| 8/8 [00:01<00:00,  4.06it/s]\n"
          ]
        },
        {
          "output_type": "stream",
          "name": "stdout",
          "text": [
            "Epoch 33 - Average training loss: 0.0668\n"
          ]
        },
        {
          "output_type": "stream",
          "name": "stderr",
          "text": [
            "Epoch 34: 100%|██████████| 8/8 [00:01<00:00,  4.06it/s]\n"
          ]
        },
        {
          "output_type": "stream",
          "name": "stdout",
          "text": [
            "Epoch 34 - Average training loss: 0.0330\n"
          ]
        },
        {
          "output_type": "stream",
          "name": "stderr",
          "text": [
            "Epoch 35: 100%|██████████| 8/8 [00:01<00:00,  4.05it/s]\n"
          ]
        },
        {
          "output_type": "stream",
          "name": "stdout",
          "text": [
            "Epoch 35 - Average training loss: 0.0431\n"
          ]
        },
        {
          "output_type": "stream",
          "name": "stderr",
          "text": [
            "Epoch 36: 100%|██████████| 8/8 [00:01<00:00,  4.06it/s]\n"
          ]
        },
        {
          "output_type": "stream",
          "name": "stdout",
          "text": [
            "Epoch 36 - Average training loss: 0.0465\n"
          ]
        },
        {
          "output_type": "stream",
          "name": "stderr",
          "text": [
            "Epoch 37: 100%|██████████| 8/8 [00:01<00:00,  4.06it/s]\n"
          ]
        },
        {
          "output_type": "stream",
          "name": "stdout",
          "text": [
            "Epoch 37 - Average training loss: 0.0308\n"
          ]
        },
        {
          "output_type": "stream",
          "name": "stderr",
          "text": [
            "Epoch 38: 100%|██████████| 8/8 [00:01<00:00,  4.06it/s]\n"
          ]
        },
        {
          "output_type": "stream",
          "name": "stdout",
          "text": [
            "Epoch 38 - Average training loss: 0.0183\n"
          ]
        },
        {
          "output_type": "stream",
          "name": "stderr",
          "text": [
            "Epoch 39: 100%|██████████| 8/8 [00:01<00:00,  4.06it/s]\n"
          ]
        },
        {
          "output_type": "stream",
          "name": "stdout",
          "text": [
            "Epoch 39 - Average training loss: 0.0134\n"
          ]
        },
        {
          "output_type": "stream",
          "name": "stderr",
          "text": [
            "Epoch 40: 100%|██████████| 8/8 [00:01<00:00,  4.06it/s]\n"
          ]
        },
        {
          "output_type": "stream",
          "name": "stdout",
          "text": [
            "Epoch 40 - Average training loss: 0.0053\n"
          ]
        },
        {
          "output_type": "stream",
          "name": "stderr",
          "text": [
            "Epoch 41: 100%|██████████| 8/8 [00:01<00:00,  4.06it/s]\n"
          ]
        },
        {
          "output_type": "stream",
          "name": "stdout",
          "text": [
            "Epoch 41 - Average training loss: 0.0119\n"
          ]
        },
        {
          "output_type": "stream",
          "name": "stderr",
          "text": [
            "Epoch 42: 100%|██████████| 8/8 [00:01<00:00,  4.05it/s]\n"
          ]
        },
        {
          "output_type": "stream",
          "name": "stdout",
          "text": [
            "Epoch 42 - Average training loss: 0.0452\n"
          ]
        },
        {
          "output_type": "stream",
          "name": "stderr",
          "text": [
            "Epoch 43: 100%|██████████| 8/8 [00:01<00:00,  4.06it/s]\n"
          ]
        },
        {
          "output_type": "stream",
          "name": "stdout",
          "text": [
            "Epoch 43 - Average training loss: 0.0086\n"
          ]
        },
        {
          "output_type": "stream",
          "name": "stderr",
          "text": [
            "Epoch 44: 100%|██████████| 8/8 [00:01<00:00,  4.06it/s]\n"
          ]
        },
        {
          "output_type": "stream",
          "name": "stdout",
          "text": [
            "Epoch 44 - Average training loss: 0.0258\n"
          ]
        },
        {
          "output_type": "stream",
          "name": "stderr",
          "text": [
            "Epoch 45: 100%|██████████| 8/8 [00:01<00:00,  4.06it/s]\n"
          ]
        },
        {
          "output_type": "stream",
          "name": "stdout",
          "text": [
            "Epoch 45 - Average training loss: 0.0314\n"
          ]
        },
        {
          "output_type": "stream",
          "name": "stderr",
          "text": [
            "Epoch 46: 100%|██████████| 8/8 [00:01<00:00,  4.06it/s]\n"
          ]
        },
        {
          "output_type": "stream",
          "name": "stdout",
          "text": [
            "Epoch 46 - Average training loss: 0.0213\n"
          ]
        },
        {
          "output_type": "stream",
          "name": "stderr",
          "text": [
            "Epoch 47: 100%|██████████| 8/8 [00:01<00:00,  4.05it/s]\n"
          ]
        },
        {
          "output_type": "stream",
          "name": "stdout",
          "text": [
            "Epoch 47 - Average training loss: 0.0119\n"
          ]
        },
        {
          "output_type": "stream",
          "name": "stderr",
          "text": [
            "Epoch 48: 100%|██████████| 8/8 [00:01<00:00,  4.05it/s]\n"
          ]
        },
        {
          "output_type": "stream",
          "name": "stdout",
          "text": [
            "Epoch 48 - Average training loss: 0.0191\n"
          ]
        },
        {
          "output_type": "stream",
          "name": "stderr",
          "text": [
            "Epoch 49: 100%|██████████| 8/8 [00:01<00:00,  4.06it/s]\n"
          ]
        },
        {
          "output_type": "stream",
          "name": "stdout",
          "text": [
            "Epoch 49 - Average training loss: 0.0036\n"
          ]
        },
        {
          "output_type": "stream",
          "name": "stderr",
          "text": [
            "Epoch 50: 100%|██████████| 8/8 [00:01<00:00,  4.06it/s]\n"
          ]
        },
        {
          "output_type": "stream",
          "name": "stdout",
          "text": [
            "Epoch 50 - Average training loss: 0.0031\n"
          ]
        },
        {
          "output_type": "stream",
          "name": "stderr",
          "text": [
            "Epoch 51: 100%|██████████| 8/8 [00:01<00:00,  4.06it/s]\n"
          ]
        },
        {
          "output_type": "stream",
          "name": "stdout",
          "text": [
            "Epoch 51 - Average training loss: 0.0018\n"
          ]
        },
        {
          "output_type": "stream",
          "name": "stderr",
          "text": [
            "Epoch 52: 100%|██████████| 8/8 [00:01<00:00,  4.06it/s]\n"
          ]
        },
        {
          "output_type": "stream",
          "name": "stdout",
          "text": [
            "Epoch 52 - Average training loss: 0.0039\n"
          ]
        },
        {
          "output_type": "stream",
          "name": "stderr",
          "text": [
            "Epoch 53: 100%|██████████| 8/8 [00:01<00:00,  4.05it/s]\n"
          ]
        },
        {
          "output_type": "stream",
          "name": "stdout",
          "text": [
            "Epoch 53 - Average training loss: 0.0035\n"
          ]
        },
        {
          "output_type": "stream",
          "name": "stderr",
          "text": [
            "Epoch 54: 100%|██████████| 8/8 [00:01<00:00,  4.06it/s]\n"
          ]
        },
        {
          "output_type": "stream",
          "name": "stdout",
          "text": [
            "Epoch 54 - Average training loss: 0.0010\n"
          ]
        },
        {
          "output_type": "stream",
          "name": "stderr",
          "text": [
            "Epoch 55: 100%|██████████| 8/8 [00:01<00:00,  4.06it/s]\n"
          ]
        },
        {
          "output_type": "stream",
          "name": "stdout",
          "text": [
            "Epoch 55 - Average training loss: 0.0052\n"
          ]
        },
        {
          "output_type": "stream",
          "name": "stderr",
          "text": [
            "Epoch 56: 100%|██████████| 8/8 [00:01<00:00,  4.06it/s]\n"
          ]
        },
        {
          "output_type": "stream",
          "name": "stdout",
          "text": [
            "Epoch 56 - Average training loss: 0.0037\n"
          ]
        },
        {
          "output_type": "stream",
          "name": "stderr",
          "text": [
            "Epoch 57: 100%|██████████| 8/8 [00:01<00:00,  4.06it/s]\n"
          ]
        },
        {
          "output_type": "stream",
          "name": "stdout",
          "text": [
            "Epoch 57 - Average training loss: 0.0029\n"
          ]
        },
        {
          "output_type": "stream",
          "name": "stderr",
          "text": [
            "Epoch 58: 100%|██████████| 8/8 [00:01<00:00,  4.06it/s]\n"
          ]
        },
        {
          "output_type": "stream",
          "name": "stdout",
          "text": [
            "Epoch 58 - Average training loss: 0.0174\n"
          ]
        },
        {
          "output_type": "stream",
          "name": "stderr",
          "text": [
            "Epoch 59: 100%|██████████| 8/8 [00:01<00:00,  4.05it/s]\n"
          ]
        },
        {
          "output_type": "stream",
          "name": "stdout",
          "text": [
            "Epoch 59 - Average training loss: 0.0099\n"
          ]
        },
        {
          "output_type": "stream",
          "name": "stderr",
          "text": [
            "Epoch 60: 100%|██████████| 8/8 [00:01<00:00,  4.05it/s]\n"
          ]
        },
        {
          "output_type": "stream",
          "name": "stdout",
          "text": [
            "Epoch 60 - Average training loss: 0.0119\n"
          ]
        },
        {
          "output_type": "stream",
          "name": "stderr",
          "text": [
            "Epoch 61: 100%|██████████| 8/8 [00:01<00:00,  4.06it/s]\n"
          ]
        },
        {
          "output_type": "stream",
          "name": "stdout",
          "text": [
            "Epoch 61 - Average training loss: 0.0050\n"
          ]
        },
        {
          "output_type": "stream",
          "name": "stderr",
          "text": [
            "Epoch 62: 100%|██████████| 8/8 [00:01<00:00,  4.05it/s]\n"
          ]
        },
        {
          "output_type": "stream",
          "name": "stdout",
          "text": [
            "Epoch 62 - Average training loss: 0.0143\n"
          ]
        },
        {
          "output_type": "stream",
          "name": "stderr",
          "text": [
            "Epoch 63: 100%|██████████| 8/8 [00:01<00:00,  4.05it/s]\n"
          ]
        },
        {
          "output_type": "stream",
          "name": "stdout",
          "text": [
            "Epoch 63 - Average training loss: 0.0875\n"
          ]
        },
        {
          "output_type": "stream",
          "name": "stderr",
          "text": [
            "Epoch 64: 100%|██████████| 8/8 [00:01<00:00,  4.06it/s]\n"
          ]
        },
        {
          "output_type": "stream",
          "name": "stdout",
          "text": [
            "Epoch 64 - Average training loss: 0.0400\n"
          ]
        },
        {
          "output_type": "stream",
          "name": "stderr",
          "text": [
            "Epoch 65: 100%|██████████| 8/8 [00:01<00:00,  4.05it/s]\n"
          ]
        },
        {
          "output_type": "stream",
          "name": "stdout",
          "text": [
            "Epoch 65 - Average training loss: 0.0077\n"
          ]
        },
        {
          "output_type": "stream",
          "name": "stderr",
          "text": [
            "Epoch 66: 100%|██████████| 8/8 [00:01<00:00,  4.05it/s]\n"
          ]
        },
        {
          "output_type": "stream",
          "name": "stdout",
          "text": [
            "Epoch 66 - Average training loss: 0.0082\n"
          ]
        },
        {
          "output_type": "stream",
          "name": "stderr",
          "text": [
            "Epoch 67: 100%|██████████| 8/8 [00:01<00:00,  4.06it/s]\n"
          ]
        },
        {
          "output_type": "stream",
          "name": "stdout",
          "text": [
            "Epoch 67 - Average training loss: 0.0012\n"
          ]
        },
        {
          "output_type": "stream",
          "name": "stderr",
          "text": [
            "Epoch 68: 100%|██████████| 8/8 [00:01<00:00,  4.05it/s]\n"
          ]
        },
        {
          "output_type": "stream",
          "name": "stdout",
          "text": [
            "Epoch 68 - Average training loss: 0.0030\n"
          ]
        },
        {
          "output_type": "stream",
          "name": "stderr",
          "text": [
            "Epoch 69: 100%|██████████| 8/8 [00:01<00:00,  4.05it/s]\n"
          ]
        },
        {
          "output_type": "stream",
          "name": "stdout",
          "text": [
            "Epoch 69 - Average training loss: 0.0004\n"
          ]
        },
        {
          "output_type": "stream",
          "name": "stderr",
          "text": [
            "Epoch 70: 100%|██████████| 8/8 [00:01<00:00,  4.05it/s]\n"
          ]
        },
        {
          "output_type": "stream",
          "name": "stdout",
          "text": [
            "Epoch 70 - Average training loss: 0.0005\n"
          ]
        },
        {
          "output_type": "stream",
          "name": "stderr",
          "text": [
            "Epoch 71: 100%|██████████| 8/8 [00:01<00:00,  4.05it/s]\n"
          ]
        },
        {
          "output_type": "stream",
          "name": "stdout",
          "text": [
            "Epoch 71 - Average training loss: 0.0019\n"
          ]
        },
        {
          "output_type": "stream",
          "name": "stderr",
          "text": [
            "Epoch 72: 100%|██████████| 8/8 [00:01<00:00,  4.05it/s]\n"
          ]
        },
        {
          "output_type": "stream",
          "name": "stdout",
          "text": [
            "Epoch 72 - Average training loss: 0.0005\n"
          ]
        },
        {
          "output_type": "stream",
          "name": "stderr",
          "text": [
            "Epoch 73: 100%|██████████| 8/8 [00:01<00:00,  4.06it/s]\n"
          ]
        },
        {
          "output_type": "stream",
          "name": "stdout",
          "text": [
            "Epoch 73 - Average training loss: 0.0010\n"
          ]
        },
        {
          "output_type": "stream",
          "name": "stderr",
          "text": [
            "Epoch 74: 100%|██████████| 8/8 [00:01<00:00,  4.05it/s]\n"
          ]
        },
        {
          "output_type": "stream",
          "name": "stdout",
          "text": [
            "Epoch 74 - Average training loss: 0.0004\n"
          ]
        },
        {
          "output_type": "stream",
          "name": "stderr",
          "text": [
            "Epoch 75: 100%|██████████| 8/8 [00:01<00:00,  4.05it/s]\n"
          ]
        },
        {
          "output_type": "stream",
          "name": "stdout",
          "text": [
            "Epoch 75 - Average training loss: 0.0031\n"
          ]
        },
        {
          "output_type": "stream",
          "name": "stderr",
          "text": [
            "Epoch 76: 100%|██████████| 8/8 [00:01<00:00,  4.06it/s]\n"
          ]
        },
        {
          "output_type": "stream",
          "name": "stdout",
          "text": [
            "Epoch 76 - Average training loss: 0.0026\n"
          ]
        },
        {
          "output_type": "stream",
          "name": "stderr",
          "text": [
            "Epoch 77: 100%|██████████| 8/8 [00:01<00:00,  4.04it/s]\n"
          ]
        },
        {
          "output_type": "stream",
          "name": "stdout",
          "text": [
            "Epoch 77 - Average training loss: 0.0003\n"
          ]
        },
        {
          "output_type": "stream",
          "name": "stderr",
          "text": [
            "Epoch 78: 100%|██████████| 8/8 [00:01<00:00,  4.05it/s]\n"
          ]
        },
        {
          "output_type": "stream",
          "name": "stdout",
          "text": [
            "Epoch 78 - Average training loss: 0.0245\n"
          ]
        },
        {
          "output_type": "stream",
          "name": "stderr",
          "text": [
            "Epoch 79: 100%|██████████| 8/8 [00:01<00:00,  4.05it/s]\n"
          ]
        },
        {
          "output_type": "stream",
          "name": "stdout",
          "text": [
            "Epoch 79 - Average training loss: 0.0480\n"
          ]
        },
        {
          "output_type": "stream",
          "name": "stderr",
          "text": [
            "Epoch 80: 100%|██████████| 8/8 [00:01<00:00,  4.05it/s]\n"
          ]
        },
        {
          "output_type": "stream",
          "name": "stdout",
          "text": [
            "Epoch 80 - Average training loss: 0.1180\n"
          ]
        },
        {
          "output_type": "stream",
          "name": "stderr",
          "text": [
            "Epoch 81: 100%|██████████| 8/8 [00:01<00:00,  4.05it/s]\n"
          ]
        },
        {
          "output_type": "stream",
          "name": "stdout",
          "text": [
            "Epoch 81 - Average training loss: 0.0077\n"
          ]
        },
        {
          "output_type": "stream",
          "name": "stderr",
          "text": [
            "Epoch 82: 100%|██████████| 8/8 [00:01<00:00,  4.05it/s]\n"
          ]
        },
        {
          "output_type": "stream",
          "name": "stdout",
          "text": [
            "Epoch 82 - Average training loss: 0.0264\n"
          ]
        },
        {
          "output_type": "stream",
          "name": "stderr",
          "text": [
            "Epoch 83: 100%|██████████| 8/8 [00:01<00:00,  4.04it/s]\n"
          ]
        },
        {
          "output_type": "stream",
          "name": "stdout",
          "text": [
            "Epoch 83 - Average training loss: 0.1072\n"
          ]
        },
        {
          "output_type": "stream",
          "name": "stderr",
          "text": [
            "Epoch 84: 100%|██████████| 8/8 [00:01<00:00,  4.04it/s]\n"
          ]
        },
        {
          "output_type": "stream",
          "name": "stdout",
          "text": [
            "Epoch 84 - Average training loss: 0.0579\n"
          ]
        },
        {
          "output_type": "stream",
          "name": "stderr",
          "text": [
            "Epoch 85: 100%|██████████| 8/8 [00:01<00:00,  4.05it/s]\n"
          ]
        },
        {
          "output_type": "stream",
          "name": "stdout",
          "text": [
            "Epoch 85 - Average training loss: 0.0436\n"
          ]
        },
        {
          "output_type": "stream",
          "name": "stderr",
          "text": [
            "Epoch 86: 100%|██████████| 8/8 [00:01<00:00,  4.05it/s]\n"
          ]
        },
        {
          "output_type": "stream",
          "name": "stdout",
          "text": [
            "Epoch 86 - Average training loss: 0.0052\n"
          ]
        },
        {
          "output_type": "stream",
          "name": "stderr",
          "text": [
            "Epoch 87: 100%|██████████| 8/8 [00:01<00:00,  4.04it/s]\n"
          ]
        },
        {
          "output_type": "stream",
          "name": "stdout",
          "text": [
            "Epoch 87 - Average training loss: 0.0068\n"
          ]
        },
        {
          "output_type": "stream",
          "name": "stderr",
          "text": [
            "Epoch 88: 100%|██████████| 8/8 [00:01<00:00,  4.05it/s]\n"
          ]
        },
        {
          "output_type": "stream",
          "name": "stdout",
          "text": [
            "Epoch 88 - Average training loss: 0.0010\n"
          ]
        },
        {
          "output_type": "stream",
          "name": "stderr",
          "text": [
            "Epoch 89: 100%|██████████| 8/8 [00:01<00:00,  4.04it/s]\n"
          ]
        },
        {
          "output_type": "stream",
          "name": "stdout",
          "text": [
            "Epoch 89 - Average training loss: 0.0010\n"
          ]
        },
        {
          "output_type": "stream",
          "name": "stderr",
          "text": [
            "Epoch 90: 100%|██████████| 8/8 [00:01<00:00,  4.05it/s]\n"
          ]
        },
        {
          "output_type": "stream",
          "name": "stdout",
          "text": [
            "Epoch 90 - Average training loss: 0.0007\n"
          ]
        },
        {
          "output_type": "stream",
          "name": "stderr",
          "text": [
            "Epoch 91: 100%|██████████| 8/8 [00:01<00:00,  4.05it/s]\n"
          ]
        },
        {
          "output_type": "stream",
          "name": "stdout",
          "text": [
            "Epoch 91 - Average training loss: 0.0004\n"
          ]
        },
        {
          "output_type": "stream",
          "name": "stderr",
          "text": [
            "Epoch 92: 100%|██████████| 8/8 [00:01<00:00,  4.04it/s]\n"
          ]
        },
        {
          "output_type": "stream",
          "name": "stdout",
          "text": [
            "Epoch 92 - Average training loss: 0.0004\n"
          ]
        },
        {
          "output_type": "stream",
          "name": "stderr",
          "text": [
            "Epoch 93: 100%|██████████| 8/8 [00:01<00:00,  4.05it/s]\n"
          ]
        },
        {
          "output_type": "stream",
          "name": "stdout",
          "text": [
            "Epoch 93 - Average training loss: 0.0009\n"
          ]
        },
        {
          "output_type": "stream",
          "name": "stderr",
          "text": [
            "Epoch 94: 100%|██████████| 8/8 [00:01<00:00,  4.04it/s]\n"
          ]
        },
        {
          "output_type": "stream",
          "name": "stdout",
          "text": [
            "Epoch 94 - Average training loss: 0.0010\n"
          ]
        },
        {
          "output_type": "stream",
          "name": "stderr",
          "text": [
            "Epoch 95: 100%|██████████| 8/8 [00:01<00:00,  4.04it/s]\n"
          ]
        },
        {
          "output_type": "stream",
          "name": "stdout",
          "text": [
            "Epoch 95 - Average training loss: 0.0006\n"
          ]
        },
        {
          "output_type": "stream",
          "name": "stderr",
          "text": [
            "Epoch 96: 100%|██████████| 8/8 [00:01<00:00,  4.04it/s]\n"
          ]
        },
        {
          "output_type": "stream",
          "name": "stdout",
          "text": [
            "Epoch 96 - Average training loss: 0.0003\n"
          ]
        },
        {
          "output_type": "stream",
          "name": "stderr",
          "text": [
            "Epoch 97: 100%|██████████| 8/8 [00:01<00:00,  4.04it/s]\n"
          ]
        },
        {
          "output_type": "stream",
          "name": "stdout",
          "text": [
            "Epoch 97 - Average training loss: 0.0010\n"
          ]
        },
        {
          "output_type": "stream",
          "name": "stderr",
          "text": [
            "Epoch 98: 100%|██████████| 8/8 [00:01<00:00,  4.04it/s]\n"
          ]
        },
        {
          "output_type": "stream",
          "name": "stdout",
          "text": [
            "Epoch 98 - Average training loss: 0.0003\n"
          ]
        },
        {
          "output_type": "stream",
          "name": "stderr",
          "text": [
            "Epoch 99: 100%|██████████| 8/8 [00:01<00:00,  4.05it/s]\n"
          ]
        },
        {
          "output_type": "stream",
          "name": "stdout",
          "text": [
            "Epoch 99 - Average training loss: 0.0002\n"
          ]
        },
        {
          "output_type": "stream",
          "name": "stderr",
          "text": [
            "Epoch 100: 100%|██████████| 8/8 [00:01<00:00,  4.05it/s]\n"
          ]
        },
        {
          "output_type": "stream",
          "name": "stdout",
          "text": [
            "Epoch 100 - Average training loss: 0.0002\n"
          ]
        },
        {
          "output_type": "stream",
          "name": "stderr",
          "text": [
            "Evaluating: 100%|██████████| 8/8 [00:00<00:00, 19.09it/s]"
          ]
        },
        {
          "output_type": "stream",
          "name": "stdout",
          "text": [
            "F1 Score: 0.5870\n"
          ]
        },
        {
          "output_type": "stream",
          "name": "stderr",
          "text": [
            "\n"
          ]
        }
      ]
    }
  ]
}